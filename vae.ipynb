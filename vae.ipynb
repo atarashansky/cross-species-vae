{
 "cells": [
  {
   "cell_type": "code",
   "execution_count": 1,
   "id": "d13e241c-1226-4608-9dea-09fdce39ccd9",
   "metadata": {},
   "outputs": [
    {
     "name": "stderr",
     "output_type": "stream",
     "text": [
      "/opt/jupyter-envs/generate-cross-species/atar-vscode/conda/lib/python3.11/site-packages/tqdm/auto.py:22: TqdmWarning: IProgress not found. Please update jupyter and ipywidgets. See https://ipywidgets.readthedocs.io/en/stable/user_install.html\n",
      "  from .autonotebook import tqdm as notebook_tqdm\n"
     ]
    }
   ],
   "source": [
    "import pytorch_lightning as pl\n",
    "from pytorch_lightning.callbacks import ModelCheckpoint, EarlyStopping\n",
    "from pytorch_lightning.loggers import CSVLogger\n",
    "import torch\n",
    "import scipy as sp\n",
    "import json\n",
    "import numpy as np\n",
    "from glob import glob\n",
    "import anndata\n",
    "import pandas as pd \n",
    "from src.vae import CrossSpeciesVAE\n",
    "from src.callbacks import StageAwareEarlyStopping\n",
    "# from src.backup import CrossSpeciesVAE\n",
    "from src.data import CrossSpeciesDataModule\n",
    "import pickle\n",
    "from sklearn.metrics import adjusted_mutual_info_score\n",
    "import scanpy as sc\n",
    "import matplotlib.pyplot as plt\n",
    "import umap\n",
    "\n",
    "fn1 = '../samap/example_data/planarian.h5ad'\n",
    "fn2 = '../samap/example_data/schistosome.h5ad'\n",
    "fn3 = '../samap/example_data/hydra.h5ad'\n",
    "\n",
    "eggnogs = '../samap/example_data/eggnog/*'\n",
    "\n",
    "adata1 = anndata.read_h5ad(fn1)\n",
    "adata2 = anndata.read_h5ad(fn2)\n",
    "adata3 = anndata.read_h5ad(fn3)\n",
    "adata3.var_names = pd.Index([i.split('_')[-1] for i in adata3.var_names])"
   ]
  },
  {
   "cell_type": "raw",
   "id": "d7828ec1-cc40-4367-8861-e89cee907612",
   "metadata": {},
   "source": [
    "# First collect and process EggNOG data as before\n",
    "dfs = []\n",
    "for f in glob(eggnogs):\n",
    "    dfs.append(pd.read_csv(f,sep='\\t',header=None,skiprows=1))\n",
    "df = pd.concat(dfs,axis=0)\n",
    "\n",
    "# Create species-specific gene to OG mappings\n",
    "species_gene_ogs = {\n",
    "    \"planarian\": {},\n",
    "    \"schisto\": {},\n",
    "    \"hydra\": {}\n",
    "}\n",
    "\n",
    "# Map genes to species using your AnnData objects\n",
    "species_genes = {\n",
    "    \"planarian\": set(adata1.var_names),\n",
    "    \"schisto\": set(adata2.var_names),\n",
    "    \"hydra\": set(adata3.var_names)\n",
    "}\n",
    "\n",
    "species_ids = {k: i for i,k in enumerate(species_genes)}\n",
    "# Create OG mappings for each species\n",
    "ogs = set()\n",
    "for i in df[18].values:\n",
    "    for j in i.split(','):\n",
    "        ogs.add(j)\n",
    "ogs = list(ogs)\n",
    "\n",
    "# Create gene to OG mapping for each species\n",
    "for species_name, genes in species_genes.items():\n",
    "    species_df = df[df.iloc[:,0].isin(genes)]\n",
    "    ogs_per_gene = [i.split(',') for i in species_df[18].values]\n",
    "    genes = species_df.iloc[:,0].values\n",
    "    species_gene_ogs[species_name] = dict(zip(genes, ogs_per_gene))\n",
    "\n",
    "\n",
    "# Create edges for each species pair\n",
    "onehots = {}\n",
    "gene_ids = {}\n",
    "for src_species, src_id in species_ids.items():\n",
    "\n",
    "    # Create gene-OG matrices for both species\n",
    "    src_genes = list(species_gene_ogs[src_species].keys())\n",
    "\n",
    "    indexer = pd.Series(index=ogs, data=range(len(ogs)))\n",
    "\n",
    "    # Source species matrix\n",
    "    x_src, y_src, z_src = [], [], []\n",
    "    for i, g in enumerate(src_genes):\n",
    "        if g in species_gene_ogs[src_species]:\n",
    "            v = indexer[species_gene_ogs[src_species][g]].values\n",
    "            x_src.extend([i]*len(v))\n",
    "            y_src.extend(v)\n",
    "            z_src.extend(np.ones_like(v))\n",
    "\n",
    "\n",
    "    # Create sparse matrices\n",
    "    src_matrix = sp.sparse.coo_matrix(\n",
    "        (z_src, (x_src, y_src)),\n",
    "        shape=(len(src_genes), len(ogs))\n",
    "    )\n",
    "    onehots[src_id] = src_matrix\n",
    "    gene_ids[src_id] = src_genes\n",
    "\n",
    "from sklearn.decomposition import TruncatedSVD\n",
    "\n",
    "pcs = {k: TruncatedSVD(n_components=1024).fit_transform(v) for k,v in onehots.items()}\n",
    "pickle.dump((pcs, gene_ids), open('species_tsvd_gene_embeddings.pkl','wb'))"
   ]
  },
  {
   "cell_type": "raw",
   "id": "45c4d15c-a26d-40eb-8d01-e622b829b0e7",
   "metadata": {},
   "source": [
    "# First collect and process EggNOG data as before\n",
    "dfs = []\n",
    "for f in glob(eggnogs):\n",
    "    dfs.append(pd.read_csv(f,sep='\\t',header=None,skiprows=1))\n",
    "df = pd.concat(dfs,axis=0)\n",
    "\n",
    "# Create species-specific gene to OG mappings\n",
    "species_gene_ogs = {\n",
    "    \"planarian\": {},\n",
    "    \"schisto\": {},\n",
    "    \"hydra\": {}\n",
    "}\n",
    "\n",
    "# Map genes to species using your AnnData objects\n",
    "species_genes = {\n",
    "    \"planarian\": set(adata1.var_names),\n",
    "    \"schisto\": set(adata2.var_names),\n",
    "    \"hydra\": set(adata3.var_names)\n",
    "}\n",
    "\n",
    "# Create OG mappings for each species\n",
    "ogs = set()\n",
    "for i in df[18].values:\n",
    "    for j in i.split(','):\n",
    "        ogs.add(j)\n",
    "ogs = list(ogs)\n",
    "\n",
    "# Create gene to OG mapping for each species\n",
    "for species_name, genes in species_genes.items():\n",
    "    species_df = df[df.iloc[:,0].isin(genes)]\n",
    "    ogs_per_gene = [i.split(',') for i in species_df[18].values]\n",
    "    genes = species_df.iloc[:,0].values\n",
    "    species_gene_ogs[species_name] = dict(zip(genes, ogs_per_gene))\n",
    "\n",
    "# Create nested dictionary for homology edges and scores\n",
    "homology_edges = {}\n",
    "homology_scores = {}\n",
    "\n",
    "# Initialize nested dictionaries\n",
    "species_ids = {name: idx for idx, name in enumerate(species_genes.keys())}\n",
    "for src_id in species_ids.values():\n",
    "    homology_edges[src_id] = {}\n",
    "    homology_scores[src_id] = {}\n",
    "\n",
    "# Create edges for each species pair\n",
    "for src_species, src_id in species_ids.items():\n",
    "    for dst_species, dst_id in species_ids.items():\n",
    "        if src_species == dst_species:\n",
    "            continue\n",
    "            \n",
    "        # Create gene-OG matrices for both species\n",
    "        src_genes = list(species_gene_ogs[src_species].keys())\n",
    "        dst_genes = list(species_gene_ogs[dst_species].keys())\n",
    "        \n",
    "        indexer = pd.Series(index=ogs, data=range(len(ogs)))\n",
    "        \n",
    "        # Source species matrix\n",
    "        x_src, y_src, z_src = [], [], []\n",
    "        for i, g in enumerate(src_genes):\n",
    "            if g in species_gene_ogs[src_species]:\n",
    "                v = indexer[species_gene_ogs[src_species][g]].values\n",
    "                x_src.extend([i]*len(v))\n",
    "                y_src.extend(v)\n",
    "                z_src.extend(np.ones_like(v))\n",
    "        \n",
    "        # Destination species matrix\n",
    "        x_dst, y_dst, z_dst = [], [], []\n",
    "        for i, g in enumerate(dst_genes):\n",
    "            if g in species_gene_ogs[dst_species]:\n",
    "                v = indexer[species_gene_ogs[dst_species][g]].values\n",
    "                x_dst.extend([i]*len(v))\n",
    "                y_dst.extend(v)\n",
    "                z_dst.extend(np.ones_like(v))\n",
    "        \n",
    "        # Create sparse matrices\n",
    "        src_matrix = sp.sparse.coo_matrix(\n",
    "            (z_src, (x_src, y_src)),\n",
    "            shape=(len(src_genes), len(ogs))\n",
    "        )\n",
    "        dst_matrix = sp.sparse.coo_matrix(\n",
    "            (z_dst, (x_dst, y_dst)),\n",
    "            shape=(len(dst_genes), len(ogs))\n",
    "        )\n",
    "        \n",
    "        # Compute similarity graph\n",
    "        similarity = src_matrix.dot(dst_matrix.T)\n",
    "        \n",
    "        # Get edges and scores\n",
    "        src_idx, dst_idx = similarity.nonzero()\n",
    "        scores = similarity.data\n",
    "        \n",
    "        # Filter by minimum score\n",
    "        filt = scores > 0\n",
    "        edges = torch.tensor(np.vstack((src_idx, dst_idx)).T)[filt]\n",
    "        edge_scores = torch.tensor(scores)[filt]\n",
    "        \n",
    "        # Store in nested dictionaries\n",
    "        homology_edges[src_id][dst_id] = edges\n",
    "        homology_scores[src_id][dst_id] = edge_scores"
   ]
  },
  {
   "cell_type": "code",
   "execution_count": 2,
   "id": "4b4ea1ff-3a51-440a-8a38-f52460f49596",
   "metadata": {},
   "outputs": [
    {
     "name": "stderr",
     "output_type": "stream",
     "text": [
      "Using 16bit Automatic Mixed Precision (AMP)\n",
      "GPU available: True (cuda), used: True\n",
      "TPU available: False, using: 0 TPU cores\n",
      "HPU available: False, using: 0 HPUs\n"
     ]
    }
   ],
   "source": [
    "_, gene_ids = pickle.load(open('species_tsvd_gene_embeddings.pkl','rb'))\n",
    "# gene_embeddings={k: torch.tensor(v) for k,v in gene_embeddings.items()}\n",
    "homology_edges, homology_scores = pickle.load(open('species_homology_info.pkl','rb'))\n",
    "\n",
    "adata1 = adata1[:,gene_ids[0]].copy()\n",
    "adata2 = adata2[:,gene_ids[1]].copy()\n",
    "adata3 = adata3[:,gene_ids[2]].copy()\n",
    "\n",
    "batch_size = 256\n",
    "species_data = {\n",
    "    \"planarian\": adata1,\n",
    "    \"schisto\": adata2,\n",
    "    \"hydra\": adata3,\n",
    "}\n",
    "\n",
    "data_module = CrossSpeciesDataModule(\n",
    "    species_data = species_data,\n",
    "    batch_size=batch_size,\n",
    "    num_workers=0,\n",
    "    val_split=0.1,\n",
    "    test_split=0.1,\n",
    "    seed=0\n",
    ")\n",
    "data_module.setup()\n",
    "\n",
    "species_vocab_sizes = data_module.species_vocab_sizes\n",
    "\n",
    "# Initialize the model using data module properties\n",
    "model = CrossSpeciesVAE(\n",
    "    species_vocab_sizes=species_vocab_sizes,\n",
    "    homology_edges=homology_edges,\n",
    "    homology_scores=homology_scores,\n",
    "    n_latent=128,\n",
    "    hidden_dims=[128],\n",
    "    dropout_rate=0.2,\n",
    "    base_learning_rate=1e-3,\n",
    "    batch_size=batch_size,\n",
    "    base_batch_size=32,\n",
    "    min_learning_rate=1e-5,\n",
    "    warmup_epochs=1.0,\n",
    "    init_beta=1e-3,\n",
    "    final_beta=1,\n",
    "    gradient_clip_val=1.0,\n",
    "    gradient_clip_algorithm=\"norm\",\n",
    "    # loss weights\n",
    "    recon_weight=1.0,\n",
    "    homology_weight=1.0,\n",
    ")\n",
    "\n",
    "early_stopping = StageAwareEarlyStopping(\n",
    "    monitor='val_recon',\n",
    "    min_delta=0.0,\n",
    "    patience=10,\n",
    "    verbose=True,\n",
    "    mode='min'\n",
    ")\n",
    "\n",
    "# Initialize the trainer\n",
    "trainer = pl.Trainer(\n",
    "    accelerator=\"gpu\",\n",
    "    devices=1,\n",
    "    max_epochs=100,\n",
    "    precision='16-mixed',\n",
    "    gradient_clip_val=model.gradient_clip_val,\n",
    "    gradient_clip_algorithm=\"norm\",\n",
    "    log_every_n_steps=10,\n",
    "    deterministic=True,\n",
    "    callbacks=[ModelCheckpoint(\n",
    "        dirpath=\"checkpoints\",\n",
    "        filename=\"crossspecies_vae-{epoch:02d}\",\n",
    "        every_n_epochs=5,\n",
    "        save_top_k=1,\n",
    "        monitor=\"val_homology\",\n",
    "        mode=\"min\"\n",
    "    ), early_stopping],\n",
    "    accumulate_grad_batches=1,\n",
    "    enable_progress_bar=False,\n",
    "    fast_dev_run=False,\n",
    "    logger=CSVLogger(\n",
    "        save_dir=\"logs\",\n",
    "        name=\"metrics\",\n",
    "        flush_logs_every_n_steps=10\n",
    "    )    \n",
    ")"
   ]
  },
  {
   "cell_type": "code",
   "execution_count": null,
   "id": "e6a12adb-2622-42fb-b281-0cd321fce969",
   "metadata": {},
   "outputs": [],
   "source": [
    "trainer.fit(model, data_module)"
   ]
  },
  {
   "cell_type": "code",
   "execution_count": null,
   "id": "485835cd-3b69-42d5-a00e-84eb96550f0a",
   "metadata": {},
   "outputs": [],
   "source": [
    "# Load the latest version\n",
    "version = max([int(d.split('_')[-1]) for d in glob('logs/metrics/version_*')])\n",
    "df = pd.read_csv(f'logs/metrics/version_{version}/metrics.csv')\n",
    "\n",
    "\n",
    "for loss_type in [\"recon\", \"kl\", \"homology\"]:\n",
    "    # Get specific metrics\n",
    "    train_loss = df[f'train_{loss_type}'][df[f'train_{loss_type}'] != 0.0]\n",
    "    train_step = df['step'][df[f'train_{loss_type}'] != 0.0]\n",
    "    f1 = ~train_loss.isna()\n",
    "    val_loss =  df[f'val_{loss_type}'][df[f'val_{loss_type}'] != 0.0]\n",
    "    val_step = df['step'][df[f'val_{loss_type}'] != 0.0]    \n",
    "    f2 = ~val_loss.isna()\n",
    "\n",
    "    # Plot\n",
    "    import matplotlib.pyplot as plt\n",
    "    plt.figure(figsize=(6, 3))\n",
    "    plt.plot(train_step[f1], train_loss[f1], label='Training Loss')\n",
    "    plt.plot(val_step[f2], val_loss[f2], label='Validation Loss')\n",
    "\n",
    "    plt.xlabel('Step')\n",
    "    plt.ylabel('Loss')\n",
    "    plt.title(loss_type)\n",
    "    plt.legend()\n",
    "\n",
    "    \n",
    "best_model_path = trainer.callbacks[-1].best_model_path\n",
    "print(\"Best model path:\", best_model_path)\n",
    "# # Load the checkpoint\n",
    "# checkpoint = torch.load(best_model_path)\n",
    "\n",
    "# # Create a new model with the same hyperparameters and homology information\n",
    "# model = CrossSpeciesVAE(\n",
    "#     homology_edges=homology_edges,  # Need to pass these again\n",
    "#     **checkpoint['hyper_parameters']  # This loads all other hyperparameters\n",
    "# )\n",
    "\n",
    "# # Load the state dict\n",
    "# model.load_state_dict(checkpoint['state_dict'])\n",
    "\n",
    "# Saving\n",
    "save_dict = {\n",
    "    'state_dict': model.state_dict(),\n",
    "    'hyper_parameters': model.hparams,\n",
    "    'epoch': 99,\n",
    "}\n",
    "torch.save(save_dict, f'manual_checkpoint_epoch_{99}.pt')"
   ]
  },
  {
   "cell_type": "code",
   "execution_count": null,
   "id": "319332b2-3c5c-4b62-a2c8-2a4813037f64",
   "metadata": {},
   "outputs": [],
   "source": [
    "\n",
    "output, s = model.get_latent_embeddings(species_data)\n",
    "s=s.cpu().numpy()\n",
    "\n",
    "plt.figure();\n",
    "dt_full = umap.UMAP(n_components=2).fit_transform(output.cpu().numpy())\n",
    "plt.scatter(dt_full[:,0],dt_full[:,1], c = s,s=5, cmap='rainbow'); plt.colorbar()\n",
    "\n",
    "for i, adata, key in zip([0, 1, 2], [adata1, adata2, adata3], ['cluster', 'cluster_t', 'Cluster']):\n",
    "    dt = umap.UMAP(n_components=2).fit_transform(output[s==i])\n",
    "\n",
    "    adata.obsm['emb'] = dt\n",
    "    sc.pp.neighbors(adata, use_rep='emb')\n",
    "    sc.tl.leiden(adata, flavor=\"igraph\", n_iterations=2, resolution=2)\n",
    "    print(adjusted_mutual_info_score(adata.obs[key], adata.obs['leiden']))\n",
    "    \n",
    "    plt.figure();\n",
    "    plt.scatter(dt[:,0],dt[:,1], c = adata.obs[key].cat.codes,s=5, cmap='rainbow'); plt.colorbar()\n",
    "    "
   ]
  },
  {
   "cell_type": "code",
   "execution_count": null,
   "id": "99298a22-00e5-4c59-8723-fcdca67384b1",
   "metadata": {},
   "outputs": [],
   "source": [
    "from scipy.stats import spearmanr\n",
    "\n",
    "for i, adata in enumerate([adata1, adata2, adata3]):\n",
    "    x = model.encoders[str(i)].gene_importance(torch.tensor(adata.X.toarray()).to('cuda')).detach().cpu().numpy()\n",
    "    mu = x.mean(0)\n",
    "    mu[mu==0]=1\n",
    "    a = x.var(0)/mu\n",
    "    b = adata.var['weights'].values\n",
    "\n",
    "    # plt.figure(); plt.scatter(a,b,s=1);\n",
    "    # plt.figure(); plt.scatter(x.var(0),adata.X.toarray().var(0),s=1);    \n",
    "    print(i)\n",
    "    print('pearson',np.corrcoef(a,b)[0,1])\n",
    "    print('spearman',spearmanr(a,b).statistic)\n"
   ]
  },
  {
   "cell_type": "code",
   "execution_count": null,
   "id": "6c3bc853-a5df-4844-93da-5c4ba9a60f66",
   "metadata": {},
   "outputs": [],
   "source": [
    "def sigmoid(z):\n",
    "    return 1/(1 + np.exp(-z))\n",
    "\n",
    "x=[]\n",
    "y=[]\n",
    "for i in range(len(set(s))):\n",
    "    for j in range(i+1,len(set(s))):\n",
    "        x.extend(homology_scores[i][j]/homology_scores[i][j].max())\n",
    "        x.extend(homology_scores[j][i]/homology_scores[j][i].max())        \n",
    "        y.extend(list(sigmoid(model.homology_scores[str(i)][str(j)].detach().cpu().numpy())))\n",
    "        y.extend(list(sigmoid(model.homology_scores[str(j)][str(i)].detach().cpu().numpy())))\n",
    "x=np.array(x)\n",
    "y=np.array(y)\n",
    "plt.figure(); plt.scatter(x,y,s=0.5);"
   ]
  },
  {
   "cell_type": "markdown",
   "id": "462ba1c9-dfc0-4536-b4d1-3df2d8cf3a11",
   "metadata": {},
   "source": [
    "# SCVI"
   ]
  },
  {
   "cell_type": "code",
   "execution_count": 14,
   "id": "3dfe511a-7aaa-4e06-889f-c91d611252f7",
   "metadata": {},
   "outputs": [
    {
     "name": "stderr",
     "output_type": "stream",
     "text": [
      "/tmp/ipykernel_504339/3934040060.py:4: FutureWarning: You are using `torch.load` with `weights_only=False` (the current default value), which uses the default pickle module implicitly. It is possible to construct malicious pickle data which will execute arbitrary code during unpickling (See https://github.com/pytorch/pytorch/blob/main/SECURITY.md#untrusted-models for more details). In a future release, the default value for `weights_only` will be flipped to `True`. This limits the functions that could be executed during unpickling. Arbitrary objects will no longer be allowed to be loaded via this mode unless they are explicitly allowlisted by the user via `torch.serialization.add_safe_globals`. We recommend you start setting `weights_only=True` for any use case where you don't have full control of the loaded file. Please open an issue on GitHub for any issues related to this experimental feature.\n",
      "  checkpoint = torch.load('manual_checkpoint_epoch_99.pt')\n",
      "Using 16bit Automatic Mixed Precision (AMP)\n",
      "GPU available: True (cuda), used: True\n",
      "TPU available: False, using: 0 TPU cores\n",
      "HPU available: False, using: 0 HPUs\n"
     ]
    }
   ],
   "source": [
    "from src.scvi import SCVINetwork\n",
    "\n",
    "# Loading\n",
    "checkpoint = torch.load('manual_checkpoint_epoch_99.pt')\n",
    "model = CrossSpeciesVAE(\n",
    "    homology_edges=homology_edges,\n",
    "    homology_scores=homology_scores,\n",
    "    **checkpoint['hyper_parameters']\n",
    ")\n",
    "model.load_state_dict(checkpoint['state_dict'])\n",
    "model.eval();  # if using for inference\n",
    "\n",
    "early_stopping = EarlyStopping(\n",
    "    monitor='val_loss',\n",
    "    min_delta=0.0,\n",
    "    patience=10,\n",
    "    verbose=True,\n",
    "    mode='min'\n",
    ")\n",
    "\n",
    "trainer = pl.Trainer(\n",
    "    accelerator=\"gpu\",\n",
    "    devices=1,\n",
    "    max_epochs=100,\n",
    "    precision='16-mixed',\n",
    "    gradient_clip_val=model.gradient_clip_val,\n",
    "    gradient_clip_algorithm=\"norm\",\n",
    "    log_every_n_steps=10,\n",
    "    deterministic=True,\n",
    "    callbacks=[ModelCheckpoint(\n",
    "        dirpath=\"checkpoints\",\n",
    "        filename=\"crossspecies_vae-{epoch:02d}\",\n",
    "        every_n_epochs=5,\n",
    "        save_top_k=1,\n",
    "        monitor=\"val_loss\",\n",
    "        mode=\"min\"\n",
    "    ), early_stopping],\n",
    "    accumulate_grad_batches=1,\n",
    "    enable_progress_bar=True,\n",
    "    fast_dev_run=False,\n",
    "    logger=CSVLogger(\n",
    "        save_dir=\"logs\",\n",
    "        name=\"metrics\",\n",
    "        flush_logs_every_n_steps=10\n",
    "    )    \n",
    ")\n",
    "\n",
    "scvi = SCVINetwork(\n",
    "    cross_species_vae=model,\n",
    "    n_hidden = 128,\n",
    "    n_latent = 64,\n",
    "    n_layers = 1,\n",
    "    dropout_rate = 0.2,\n",
    "    learning_rate = 1e-4,\n",
    "    min_learning_rate = 1e-6,\n",
    "    warmup_epochs = 1.0,\n",
    "    init_beta = 1e-3,  \n",
    "    final_beta = 0.1,\n",
    "    gradient_clip_val = 1.0,\n",
    "    gradient_clip_algorithm = \"norm\",    \n",
    ")"
   ]
  },
  {
   "cell_type": "code",
   "execution_count": 15,
   "id": "9ea97b4a-0a87-4111-82db-45d9be55fa36",
   "metadata": {},
   "outputs": [
    {
     "name": "stderr",
     "output_type": "stream",
     "text": [
      "/opt/jupyter-envs/generate-cross-species/atar-vscode/conda/lib/python3.11/site-packages/pytorch_lightning/callbacks/model_checkpoint.py:654: Checkpoint directory /opt/jupyter-envs/generate-cross-species/atar-vscode/work/cross-species-vae/checkpoints exists and is not empty.\n",
      "LOCAL_RANK: 0 - CUDA_VISIBLE_DEVICES: [0]\n",
      "\n",
      "  | Name              | Type                 | Params | Mode \n",
      "-------------------------------------------------------------------\n",
      "0 | cross_species_vae | CrossSpeciesVAE      | 26.1 M | eval \n",
      "1 | gene_importance   | GeneImportanceModule | 10.0 M | train\n",
      "2 | encoder           | DeepInjectionEncoder | 5.0 M  | train\n",
      "3 | decoder           | DeepInjectionDecoder | 5.0 M  | train\n",
      "  | other params      | n/a                  | 38.5 K | n/a  \n",
      "-------------------------------------------------------------------\n",
      "20.0 M    Trainable params\n",
      "26.1 M    Non-trainable params\n",
      "46.1 M    Total params\n",
      "184.311   Total estimated model params size (MB)\n",
      "28        Modules in train mode\n",
      "93        Modules in eval mode\n"
     ]
    },
    {
     "name": "stdout",
     "output_type": "stream",
     "text": [
      "                                                                           "
     ]
    },
    {
     "name": "stderr",
     "output_type": "stream",
     "text": [
      "/opt/jupyter-envs/generate-cross-species/atar-vscode/conda/lib/python3.11/site-packages/pytorch_lightning/trainer/connectors/data_connector.py:424: The 'val_dataloader' does not have many workers which may be a bottleneck. Consider increasing the value of the `num_workers` argument` to `num_workers=127` in the `DataLoader` to improve performance.\n",
      "/opt/jupyter-envs/generate-cross-species/atar-vscode/conda/lib/python3.11/site-packages/pytorch_lightning/utilities/data.py:122: Your `IterableDataset` has `__len__` defined. In combination with multi-process data loading (when num_workers > 1), `__len__` could be inaccurate if each worker is not configured independently to avoid having duplicate data.\n",
      "/opt/jupyter-envs/generate-cross-species/atar-vscode/conda/lib/python3.11/site-packages/pytorch_lightning/trainer/connectors/data_connector.py:424: The 'train_dataloader' does not have many workers which may be a bottleneck. Consider increasing the value of the `num_workers` argument` to `num_workers=127` in the `DataLoader` to improve performance.\n"
     ]
    },
    {
     "name": "stdout",
     "output_type": "stream",
     "text": [
      "Epoch 0: 100%|██████████| 12/12 [00:00<00:00, 35.39it/s, v_num=239]\n",
      "Validation: |          | 0/? [00:00<?, ?it/s]\u001b[A\n",
      "Validation:   0%|          | 0/3 [00:00<?, ?it/s]\u001b[A\n",
      "Validation DataLoader 0:   0%|          | 0/3 [00:00<?, ?it/s]\u001b[A\n",
      "Validation DataLoader 0:  33%|███▎      | 1/3 [00:00<00:00, 106.44it/s]\u001b[A\n",
      "Validation DataLoader 0:  67%|██████▋   | 2/3 [00:00<00:00, 67.24it/s] \u001b[A\n",
      "Validation DataLoader 0: 100%|██████████| 3/3 [00:00<00:00, 59.73it/s]\u001b[A\n",
      "Epoch 0: 100%|██████████| 12/12 [00:00<00:00, 29.25it/s, v_num=239]   \u001b[A"
     ]
    },
    {
     "name": "stderr",
     "output_type": "stream",
     "text": [
      "Metric val_loss improved. New best score: 0.909\n"
     ]
    },
    {
     "name": "stdout",
     "output_type": "stream",
     "text": [
      "Epoch 1: 100%|██████████| 12/12 [00:00<00:00, 35.53it/s, v_num=239]\n",
      "Validation: |          | 0/? [00:00<?, ?it/s]\u001b[A\n",
      "Validation:   0%|          | 0/3 [00:00<?, ?it/s]\u001b[A\n",
      "Validation DataLoader 0:   0%|          | 0/3 [00:00<?, ?it/s]\u001b[A\n",
      "Validation DataLoader 0:  33%|███▎      | 1/3 [00:00<00:00, 109.97it/s]\u001b[A\n",
      "Validation DataLoader 0:  67%|██████▋   | 2/3 [00:00<00:00, 67.29it/s] \u001b[A\n",
      "Validation DataLoader 0: 100%|██████████| 3/3 [00:00<00:00, 59.75it/s]\u001b[A\n",
      "Epoch 1: 100%|██████████| 12/12 [00:00<00:00, 29.36it/s, v_num=239]   \u001b[A"
     ]
    },
    {
     "name": "stderr",
     "output_type": "stream",
     "text": [
      "Metric val_loss improved by 0.020 >= min_delta = 0.0. New best score: 0.889\n"
     ]
    },
    {
     "name": "stdout",
     "output_type": "stream",
     "text": [
      "Epoch 2: 100%|██████████| 12/12 [00:00<00:00, 35.68it/s, v_num=239]\n",
      "Validation: |          | 0/? [00:00<?, ?it/s]\u001b[A\n",
      "Validation:   0%|          | 0/3 [00:00<?, ?it/s]\u001b[A\n",
      "Validation DataLoader 0:   0%|          | 0/3 [00:00<?, ?it/s]\u001b[A\n",
      "Validation DataLoader 0:  33%|███▎      | 1/3 [00:00<00:00, 106.37it/s]\u001b[A\n",
      "Validation DataLoader 0:  67%|██████▋   | 2/3 [00:00<00:00, 66.94it/s] \u001b[A\n",
      "Validation DataLoader 0: 100%|██████████| 3/3 [00:00<00:00, 59.48it/s]\u001b[A\n",
      "Epoch 2: 100%|██████████| 12/12 [00:00<00:00, 29.44it/s, v_num=239]   \u001b[A"
     ]
    },
    {
     "name": "stderr",
     "output_type": "stream",
     "text": [
      "Metric val_loss improved by 0.030 >= min_delta = 0.0. New best score: 0.859\n"
     ]
    },
    {
     "name": "stdout",
     "output_type": "stream",
     "text": [
      "Epoch 3: 100%|██████████| 12/12 [00:00<00:00, 34.27it/s, v_num=239]\n",
      "Validation: |          | 0/? [00:00<?, ?it/s]\u001b[A\n",
      "Validation:   0%|          | 0/3 [00:00<?, ?it/s]\u001b[A\n",
      "Validation DataLoader 0:   0%|          | 0/3 [00:00<?, ?it/s]\u001b[A\n",
      "Validation DataLoader 0:  33%|███▎      | 1/3 [00:00<00:00, 107.89it/s]\u001b[A\n",
      "Validation DataLoader 0:  67%|██████▋   | 2/3 [00:00<00:00, 66.48it/s] \u001b[A\n",
      "Validation DataLoader 0: 100%|██████████| 3/3 [00:00<00:00, 58.37it/s]\u001b[A\n",
      "Epoch 3: 100%|██████████| 12/12 [00:00<00:00, 28.40it/s, v_num=239]   \u001b[A"
     ]
    },
    {
     "name": "stderr",
     "output_type": "stream",
     "text": [
      "Metric val_loss improved by 0.027 >= min_delta = 0.0. New best score: 0.832\n"
     ]
    },
    {
     "name": "stdout",
     "output_type": "stream",
     "text": [
      "Epoch 4: 100%|██████████| 12/12 [00:00<00:00, 35.88it/s, v_num=239]\n",
      "Validation: |          | 0/? [00:00<?, ?it/s]\u001b[A\n",
      "Validation:   0%|          | 0/3 [00:00<?, ?it/s]\u001b[A\n",
      "Validation DataLoader 0:   0%|          | 0/3 [00:00<?, ?it/s]\u001b[A\n",
      "Validation DataLoader 0:  33%|███▎      | 1/3 [00:00<00:00, 109.27it/s]\u001b[A\n",
      "Validation DataLoader 0:  67%|██████▋   | 2/3 [00:00<00:00, 67.02it/s] \u001b[A\n",
      "Validation DataLoader 0: 100%|██████████| 3/3 [00:00<00:00, 59.67it/s]\u001b[A\n",
      "Epoch 4: 100%|██████████| 12/12 [00:00<00:00, 29.40it/s, v_num=239]   \u001b[A"
     ]
    },
    {
     "name": "stderr",
     "output_type": "stream",
     "text": [
      "Metric val_loss improved by 0.021 >= min_delta = 0.0. New best score: 0.811\n"
     ]
    },
    {
     "name": "stdout",
     "output_type": "stream",
     "text": [
      "Epoch 5: 100%|██████████| 12/12 [00:00<00:00, 35.47it/s, v_num=239]\n",
      "Validation: |          | 0/? [00:00<?, ?it/s]\u001b[A\n",
      "Validation:   0%|          | 0/3 [00:00<?, ?it/s]\u001b[A\n",
      "Validation DataLoader 0:   0%|          | 0/3 [00:00<?, ?it/s]\u001b[A\n",
      "Validation DataLoader 0:  33%|███▎      | 1/3 [00:00<00:00, 109.16it/s]\u001b[A\n",
      "Validation DataLoader 0:  67%|██████▋   | 2/3 [00:00<00:00, 65.66it/s] \u001b[A\n",
      "Validation DataLoader 0: 100%|██████████| 3/3 [00:00<00:00, 58.78it/s]\u001b[A\n",
      "Epoch 5: 100%|██████████| 12/12 [00:00<00:00, 29.27it/s, v_num=239]   \u001b[A"
     ]
    },
    {
     "name": "stderr",
     "output_type": "stream",
     "text": [
      "Metric val_loss improved by 0.063 >= min_delta = 0.0. New best score: 0.748\n"
     ]
    },
    {
     "name": "stdout",
     "output_type": "stream",
     "text": [
      "Epoch 6: 100%|██████████| 12/12 [00:00<00:00, 35.75it/s, v_num=239]\n",
      "Validation: |          | 0/? [00:00<?, ?it/s]\u001b[A\n",
      "Validation:   0%|          | 0/3 [00:00<?, ?it/s]\u001b[A\n",
      "Validation DataLoader 0:   0%|          | 0/3 [00:00<?, ?it/s]\u001b[A\n",
      "Validation DataLoader 0:  33%|███▎      | 1/3 [00:00<00:00, 107.18it/s]\u001b[A\n",
      "Validation DataLoader 0:  67%|██████▋   | 2/3 [00:00<00:00, 66.46it/s] \u001b[A\n",
      "Validation DataLoader 0: 100%|██████████| 3/3 [00:00<00:00, 59.16it/s]\u001b[A\n",
      "Epoch 6: 100%|██████████| 12/12 [00:00<00:00, 29.45it/s, v_num=239]   \u001b[A"
     ]
    },
    {
     "name": "stderr",
     "output_type": "stream",
     "text": [
      "Metric val_loss improved by 0.031 >= min_delta = 0.0. New best score: 0.717\n"
     ]
    },
    {
     "name": "stdout",
     "output_type": "stream",
     "text": [
      "Epoch 7: 100%|██████████| 12/12 [00:00<00:00, 36.01it/s, v_num=239]\n",
      "Validation: |          | 0/? [00:00<?, ?it/s]\u001b[A\n",
      "Validation:   0%|          | 0/3 [00:00<?, ?it/s]\u001b[A\n",
      "Validation DataLoader 0:   0%|          | 0/3 [00:00<?, ?it/s]\u001b[A\n",
      "Validation DataLoader 0:  33%|███▎      | 1/3 [00:00<00:00, 109.87it/s]\u001b[A\n",
      "Validation DataLoader 0:  67%|██████▋   | 2/3 [00:00<00:00, 67.67it/s] \u001b[A\n",
      "Validation DataLoader 0: 100%|██████████| 3/3 [00:00<00:00, 59.62it/s]\u001b[A\n",
      "Epoch 7: 100%|██████████| 12/12 [00:00<00:00, 29.65it/s, v_num=239]   \u001b[A"
     ]
    },
    {
     "name": "stderr",
     "output_type": "stream",
     "text": [
      "Metric val_loss improved by 0.037 >= min_delta = 0.0. New best score: 0.680\n"
     ]
    },
    {
     "name": "stdout",
     "output_type": "stream",
     "text": [
      "Epoch 8: 100%|██████████| 12/12 [00:00<00:00, 36.08it/s, v_num=239]\n",
      "Validation: |          | 0/? [00:00<?, ?it/s]\u001b[A\n",
      "Validation:   0%|          | 0/3 [00:00<?, ?it/s]\u001b[A\n",
      "Validation DataLoader 0:   0%|          | 0/3 [00:00<?, ?it/s]\u001b[A\n",
      "Validation DataLoader 0:  33%|███▎      | 1/3 [00:00<00:00, 104.87it/s]\u001b[A\n",
      "Validation DataLoader 0:  67%|██████▋   | 2/3 [00:00<00:00, 63.27it/s] \u001b[A\n",
      "Validation DataLoader 0: 100%|██████████| 3/3 [00:00<00:00, 56.12it/s]\u001b[A\n",
      "Epoch 8: 100%|██████████| 12/12 [00:00<00:00, 29.51it/s, v_num=239]   \u001b[A"
     ]
    },
    {
     "name": "stderr",
     "output_type": "stream",
     "text": [
      "Metric val_loss improved by 0.026 >= min_delta = 0.0. New best score: 0.654\n"
     ]
    },
    {
     "name": "stdout",
     "output_type": "stream",
     "text": [
      "Epoch 9: 100%|██████████| 12/12 [00:00<00:00, 34.58it/s, v_num=239]\n",
      "Validation: |          | 0/? [00:00<?, ?it/s]\u001b[A\n",
      "Validation:   0%|          | 0/3 [00:00<?, ?it/s]\u001b[A\n",
      "Validation DataLoader 0:   0%|          | 0/3 [00:00<?, ?it/s]\u001b[A\n",
      "Validation DataLoader 0:  33%|███▎      | 1/3 [00:00<00:00, 110.18it/s]\u001b[A\n",
      "Validation DataLoader 0:  67%|██████▋   | 2/3 [00:00<00:00, 66.54it/s] \u001b[A\n",
      "Validation DataLoader 0: 100%|██████████| 3/3 [00:00<00:00, 58.98it/s]\u001b[A\n",
      "Epoch 9: 100%|██████████| 12/12 [00:00<00:00, 28.49it/s, v_num=239]   \u001b[A"
     ]
    },
    {
     "name": "stderr",
     "output_type": "stream",
     "text": [
      "Metric val_loss improved by 0.049 >= min_delta = 0.0. New best score: 0.605\n"
     ]
    },
    {
     "name": "stdout",
     "output_type": "stream",
     "text": [
      "Epoch 10: 100%|██████████| 12/12 [00:00<00:00, 34.64it/s, v_num=239]\n",
      "Validation: |          | 0/? [00:00<?, ?it/s]\u001b[A\n",
      "Validation:   0%|          | 0/3 [00:00<?, ?it/s]\u001b[A\n",
      "Validation DataLoader 0:   0%|          | 0/3 [00:00<?, ?it/s]\u001b[A\n",
      "Validation DataLoader 0:  33%|███▎      | 1/3 [00:00<00:00, 108.30it/s]\u001b[A\n",
      "Validation DataLoader 0:  67%|██████▋   | 2/3 [00:00<00:00, 67.14it/s] \u001b[A\n",
      "Validation DataLoader 0: 100%|██████████| 3/3 [00:00<00:00, 59.23it/s]\u001b[A\n",
      "Epoch 10: 100%|██████████| 12/12 [00:00<00:00, 28.74it/s, v_num=239]  \u001b[A"
     ]
    },
    {
     "name": "stderr",
     "output_type": "stream",
     "text": [
      "Metric val_loss improved by 0.013 >= min_delta = 0.0. New best score: 0.592\n"
     ]
    },
    {
     "name": "stdout",
     "output_type": "stream",
     "text": [
      "Epoch 11: 100%|██████████| 12/12 [00:00<00:00, 35.59it/s, v_num=239]\n",
      "Validation: |          | 0/? [00:00<?, ?it/s]\u001b[A\n",
      "Validation:   0%|          | 0/3 [00:00<?, ?it/s]\u001b[A\n",
      "Validation DataLoader 0:   0%|          | 0/3 [00:00<?, ?it/s]\u001b[A\n",
      "Validation DataLoader 0:  33%|███▎      | 1/3 [00:00<00:00, 109.86it/s]\u001b[A\n",
      "Validation DataLoader 0:  67%|██████▋   | 2/3 [00:00<00:00, 66.68it/s] \u001b[A\n",
      "Validation DataLoader 0: 100%|██████████| 3/3 [00:00<00:00, 59.06it/s]\u001b[A\n",
      "Epoch 11: 100%|██████████| 12/12 [00:00<00:00, 29.37it/s, v_num=239]  \u001b[A"
     ]
    },
    {
     "name": "stderr",
     "output_type": "stream",
     "text": [
      "Metric val_loss improved by 0.026 >= min_delta = 0.0. New best score: 0.566\n"
     ]
    },
    {
     "name": "stdout",
     "output_type": "stream",
     "text": [
      "Epoch 12: 100%|██████████| 12/12 [00:00<00:00, 35.80it/s, v_num=239]\n",
      "Validation: |          | 0/? [00:00<?, ?it/s]\u001b[A\n",
      "Validation:   0%|          | 0/3 [00:00<?, ?it/s]\u001b[A\n",
      "Validation DataLoader 0:   0%|          | 0/3 [00:00<?, ?it/s]\u001b[A\n",
      "Validation DataLoader 0:  33%|███▎      | 1/3 [00:00<00:00, 110.31it/s]\u001b[A\n",
      "Validation DataLoader 0:  67%|██████▋   | 2/3 [00:00<00:00, 67.38it/s] \u001b[A\n",
      "Validation DataLoader 0: 100%|██████████| 3/3 [00:00<00:00, 59.70it/s]\u001b[A\n",
      "Epoch 12: 100%|██████████| 12/12 [00:00<00:00, 29.56it/s, v_num=239]  \u001b[A"
     ]
    },
    {
     "name": "stderr",
     "output_type": "stream",
     "text": [
      "Metric val_loss improved by 0.009 >= min_delta = 0.0. New best score: 0.557\n"
     ]
    },
    {
     "name": "stdout",
     "output_type": "stream",
     "text": [
      "Epoch 13: 100%|██████████| 12/12 [00:00<00:00, 35.94it/s, v_num=239]\n",
      "Validation: |          | 0/? [00:00<?, ?it/s]\u001b[A\n",
      "Validation:   0%|          | 0/3 [00:00<?, ?it/s]\u001b[A\n",
      "Validation DataLoader 0:   0%|          | 0/3 [00:00<?, ?it/s]\u001b[A\n",
      "Validation DataLoader 0:  33%|███▎      | 1/3 [00:00<00:00, 109.20it/s]\u001b[A\n",
      "Validation DataLoader 0:  67%|██████▋   | 2/3 [00:00<00:00, 67.69it/s] \u001b[A\n",
      "Validation DataLoader 0: 100%|██████████| 3/3 [00:00<00:00, 59.67it/s]\u001b[A\n",
      "Epoch 13: 100%|██████████| 12/12 [00:00<00:00, 29.60it/s, v_num=239]  \u001b[A"
     ]
    },
    {
     "name": "stderr",
     "output_type": "stream",
     "text": [
      "Metric val_loss improved by 0.031 >= min_delta = 0.0. New best score: 0.526\n"
     ]
    },
    {
     "name": "stdout",
     "output_type": "stream",
     "text": [
      "Epoch 14: 100%|██████████| 12/12 [00:00<00:00, 35.77it/s, v_num=239]\n",
      "Validation: |          | 0/? [00:00<?, ?it/s]\u001b[A\n",
      "Validation:   0%|          | 0/3 [00:00<?, ?it/s]\u001b[A\n",
      "Validation DataLoader 0:   0%|          | 0/3 [00:00<?, ?it/s]\u001b[A\n",
      "Validation DataLoader 0:  33%|███▎      | 1/3 [00:00<00:00, 110.38it/s]\u001b[A\n",
      "Validation DataLoader 0:  67%|██████▋   | 2/3 [00:00<00:00, 67.75it/s] \u001b[A\n",
      "Validation DataLoader 0: 100%|██████████| 3/3 [00:00<00:00, 59.73it/s]\u001b[A\n",
      "Epoch 14: 100%|██████████| 12/12 [00:00<00:00, 29.34it/s, v_num=239]  \u001b[A"
     ]
    },
    {
     "name": "stderr",
     "output_type": "stream",
     "text": [
      "Metric val_loss improved by 0.019 >= min_delta = 0.0. New best score: 0.507\n"
     ]
    },
    {
     "name": "stdout",
     "output_type": "stream",
     "text": [
      "Epoch 15: 100%|██████████| 12/12 [00:00<00:00, 35.82it/s, v_num=239]\n",
      "Validation: |          | 0/? [00:00<?, ?it/s]\u001b[A\n",
      "Validation:   0%|          | 0/3 [00:00<?, ?it/s]\u001b[A\n",
      "Validation DataLoader 0:   0%|          | 0/3 [00:00<?, ?it/s]\u001b[A\n",
      "Validation DataLoader 0:  33%|███▎      | 1/3 [00:00<00:00, 111.09it/s]\u001b[A\n",
      "Validation DataLoader 0:  67%|██████▋   | 2/3 [00:00<00:00, 67.24it/s] \u001b[A\n",
      "Validation DataLoader 0: 100%|██████████| 3/3 [00:00<00:00, 59.77it/s]\u001b[A\n",
      "Epoch 15: 100%|██████████| 12/12 [00:00<00:00, 29.57it/s, v_num=239]  \u001b[A"
     ]
    },
    {
     "name": "stderr",
     "output_type": "stream",
     "text": [
      "Metric val_loss improved by 0.008 >= min_delta = 0.0. New best score: 0.499\n"
     ]
    },
    {
     "name": "stdout",
     "output_type": "stream",
     "text": [
      "Epoch 16: 100%|██████████| 12/12 [00:00<00:00, 36.09it/s, v_num=239]\n",
      "Validation: |          | 0/? [00:00<?, ?it/s]\u001b[A\n",
      "Validation:   0%|          | 0/3 [00:00<?, ?it/s]\u001b[A\n",
      "Validation DataLoader 0:   0%|          | 0/3 [00:00<?, ?it/s]\u001b[A\n",
      "Validation DataLoader 0:  33%|███▎      | 1/3 [00:00<00:00, 109.81it/s]\u001b[A\n",
      "Validation DataLoader 0:  67%|██████▋   | 2/3 [00:00<00:00, 67.71it/s] \u001b[A\n",
      "Validation DataLoader 0: 100%|██████████| 3/3 [00:00<00:00, 59.82it/s]\u001b[A\n",
      "Epoch 16: 100%|██████████| 12/12 [00:00<00:00, 29.74it/s, v_num=239]  \u001b[A"
     ]
    },
    {
     "name": "stderr",
     "output_type": "stream",
     "text": [
      "Metric val_loss improved by 0.024 >= min_delta = 0.0. New best score: 0.475\n"
     ]
    },
    {
     "name": "stdout",
     "output_type": "stream",
     "text": [
      "Epoch 17: 100%|██████████| 12/12 [00:00<00:00, 36.09it/s, v_num=239]\n",
      "Validation: |          | 0/? [00:00<?, ?it/s]\u001b[A\n",
      "Validation:   0%|          | 0/3 [00:00<?, ?it/s]\u001b[A\n",
      "Validation DataLoader 0:   0%|          | 0/3 [00:00<?, ?it/s]\u001b[A\n",
      "Validation DataLoader 0:  33%|███▎      | 1/3 [00:00<00:00, 108.86it/s]\u001b[A\n",
      "Validation DataLoader 0:  67%|██████▋   | 2/3 [00:00<00:00, 67.27it/s] \u001b[A\n",
      "Validation DataLoader 0: 100%|██████████| 3/3 [00:00<00:00, 59.42it/s]\u001b[A\n",
      "Epoch 17: 100%|██████████| 12/12 [00:00<00:00, 29.74it/s, v_num=239]  \u001b[A"
     ]
    },
    {
     "name": "stderr",
     "output_type": "stream",
     "text": [
      "Metric val_loss improved by 0.018 >= min_delta = 0.0. New best score: 0.456\n"
     ]
    },
    {
     "name": "stdout",
     "output_type": "stream",
     "text": [
      "Epoch 18: 100%|██████████| 12/12 [00:00<00:00, 36.05it/s, v_num=239]\n",
      "Validation: |          | 0/? [00:00<?, ?it/s]\u001b[A\n",
      "Validation:   0%|          | 0/3 [00:00<?, ?it/s]\u001b[A\n",
      "Validation DataLoader 0:   0%|          | 0/3 [00:00<?, ?it/s]\u001b[A\n",
      "Validation DataLoader 0:  33%|███▎      | 1/3 [00:00<00:00, 111.08it/s]\u001b[A\n",
      "Validation DataLoader 0:  67%|██████▋   | 2/3 [00:00<00:00, 67.16it/s] \u001b[A\n",
      "Validation DataLoader 0: 100%|██████████| 3/3 [00:00<00:00, 59.59it/s]\u001b[A\n",
      "Epoch 18: 100%|██████████| 12/12 [00:00<00:00, 29.65it/s, v_num=239]  \u001b[A"
     ]
    },
    {
     "name": "stderr",
     "output_type": "stream",
     "text": [
      "Metric val_loss improved by 0.009 >= min_delta = 0.0. New best score: 0.447\n"
     ]
    },
    {
     "name": "stdout",
     "output_type": "stream",
     "text": [
      "Epoch 19: 100%|██████████| 12/12 [00:00<00:00, 35.77it/s, v_num=239]\n",
      "Validation: |          | 0/? [00:00<?, ?it/s]\u001b[A\n",
      "Validation:   0%|          | 0/3 [00:00<?, ?it/s]\u001b[A\n",
      "Validation DataLoader 0:   0%|          | 0/3 [00:00<?, ?it/s]\u001b[A\n",
      "Validation DataLoader 0:  33%|███▎      | 1/3 [00:00<00:00, 109.56it/s]\u001b[A\n",
      "Validation DataLoader 0:  67%|██████▋   | 2/3 [00:00<00:00, 67.02it/s] \u001b[A\n",
      "Validation DataLoader 0: 100%|██████████| 3/3 [00:00<00:00, 59.64it/s]\u001b[A\n",
      "Epoch 19: 100%|██████████| 12/12 [00:00<00:00, 29.34it/s, v_num=239]  \u001b[A"
     ]
    },
    {
     "name": "stderr",
     "output_type": "stream",
     "text": [
      "Metric val_loss improved by 0.004 >= min_delta = 0.0. New best score: 0.443\n"
     ]
    },
    {
     "name": "stdout",
     "output_type": "stream",
     "text": [
      "Epoch 20: 100%|██████████| 12/12 [00:00<00:00, 35.70it/s, v_num=239]\n",
      "Validation: |          | 0/? [00:00<?, ?it/s]\u001b[A\n",
      "Validation:   0%|          | 0/3 [00:00<?, ?it/s]\u001b[A\n",
      "Validation DataLoader 0:   0%|          | 0/3 [00:00<?, ?it/s]\u001b[A\n",
      "Validation DataLoader 0:  33%|███▎      | 1/3 [00:00<00:00, 109.51it/s]\u001b[A\n",
      "Validation DataLoader 0:  67%|██████▋   | 2/3 [00:00<00:00, 66.63it/s] \u001b[A\n",
      "Validation DataLoader 0: 100%|██████████| 3/3 [00:00<00:00, 58.58it/s]\u001b[A\n",
      "Epoch 20: 100%|██████████| 12/12 [00:00<00:00, 29.43it/s, v_num=239]  \u001b[A"
     ]
    },
    {
     "name": "stderr",
     "output_type": "stream",
     "text": [
      "Metric val_loss improved by 0.012 >= min_delta = 0.0. New best score: 0.431\n"
     ]
    },
    {
     "name": "stdout",
     "output_type": "stream",
     "text": [
      "Epoch 21: 100%|██████████| 12/12 [00:00<00:00, 36.12it/s, v_num=239]\n",
      "Validation: |          | 0/? [00:00<?, ?it/s]\u001b[A\n",
      "Validation:   0%|          | 0/3 [00:00<?, ?it/s]\u001b[A\n",
      "Validation DataLoader 0:   0%|          | 0/3 [00:00<?, ?it/s]\u001b[A\n",
      "Validation DataLoader 0:  33%|███▎      | 1/3 [00:00<00:00, 109.28it/s]\u001b[A\n",
      "Validation DataLoader 0:  67%|██████▋   | 2/3 [00:00<00:00, 67.34it/s] \u001b[A\n",
      "Validation DataLoader 0: 100%|██████████| 3/3 [00:00<00:00, 59.35it/s]\u001b[A\n",
      "Epoch 21: 100%|██████████| 12/12 [00:00<00:00, 29.77it/s, v_num=239]  \u001b[A"
     ]
    },
    {
     "name": "stderr",
     "output_type": "stream",
     "text": [
      "Metric val_loss improved by 0.012 >= min_delta = 0.0. New best score: 0.420\n"
     ]
    },
    {
     "name": "stdout",
     "output_type": "stream",
     "text": [
      "Epoch 22: 100%|██████████| 12/12 [00:00<00:00, 36.09it/s, v_num=239]\n",
      "Validation: |          | 0/? [00:00<?, ?it/s]\u001b[A\n",
      "Validation:   0%|          | 0/3 [00:00<?, ?it/s]\u001b[A\n",
      "Validation DataLoader 0:   0%|          | 0/3 [00:00<?, ?it/s]\u001b[A\n",
      "Validation DataLoader 0:  33%|███▎      | 1/3 [00:00<00:00, 110.07it/s]\u001b[A\n",
      "Validation DataLoader 0:  67%|██████▋   | 2/3 [00:00<00:00, 67.22it/s] \u001b[A\n",
      "Validation DataLoader 0: 100%|██████████| 3/3 [00:00<00:00, 59.47it/s]\u001b[A\n",
      "Epoch 22: 100%|██████████| 12/12 [00:00<00:00, 29.76it/s, v_num=239]  \u001b[A"
     ]
    },
    {
     "name": "stderr",
     "output_type": "stream",
     "text": [
      "Metric val_loss improved by 0.010 >= min_delta = 0.0. New best score: 0.410\n"
     ]
    },
    {
     "name": "stdout",
     "output_type": "stream",
     "text": [
      "Epoch 23: 100%|██████████| 12/12 [00:00<00:00, 36.10it/s, v_num=239]\n",
      "Validation: |          | 0/? [00:00<?, ?it/s]\u001b[A\n",
      "Validation:   0%|          | 0/3 [00:00<?, ?it/s]\u001b[A\n",
      "Validation DataLoader 0:   0%|          | 0/3 [00:00<?, ?it/s]\u001b[A\n",
      "Validation DataLoader 0:  33%|███▎      | 1/3 [00:00<00:00, 110.87it/s]\u001b[A\n",
      "Validation DataLoader 0:  67%|██████▋   | 2/3 [00:00<00:00, 67.41it/s] \u001b[A\n",
      "Validation DataLoader 0: 100%|██████████| 3/3 [00:00<00:00, 59.81it/s]\u001b[A\n",
      "Epoch 23: 100%|██████████| 12/12 [00:00<00:00, 29.78it/s, v_num=239]  \u001b[A"
     ]
    },
    {
     "name": "stderr",
     "output_type": "stream",
     "text": [
      "Metric val_loss improved by 0.004 >= min_delta = 0.0. New best score: 0.406\n"
     ]
    },
    {
     "name": "stdout",
     "output_type": "stream",
     "text": [
      "Epoch 24: 100%|██████████| 12/12 [00:00<00:00, 36.12it/s, v_num=239]\n",
      "Validation: |          | 0/? [00:00<?, ?it/s]\u001b[A\n",
      "Validation:   0%|          | 0/3 [00:00<?, ?it/s]\u001b[A\n",
      "Validation DataLoader 0:   0%|          | 0/3 [00:00<?, ?it/s]\u001b[A\n",
      "Validation DataLoader 0:  33%|███▎      | 1/3 [00:00<00:00, 107.60it/s]\u001b[A\n",
      "Validation DataLoader 0:  67%|██████▋   | 2/3 [00:00<00:00, 64.16it/s] \u001b[A\n",
      "Validation DataLoader 0: 100%|██████████| 3/3 [00:00<00:00, 56.72it/s]\u001b[A\n",
      "Epoch 24: 100%|██████████| 12/12 [00:00<00:00, 29.36it/s, v_num=239]  \u001b[A"
     ]
    },
    {
     "name": "stderr",
     "output_type": "stream",
     "text": [
      "Metric val_loss improved by 0.008 >= min_delta = 0.0. New best score: 0.398\n"
     ]
    },
    {
     "name": "stdout",
     "output_type": "stream",
     "text": [
      "Epoch 25: 100%|██████████| 12/12 [00:00<00:00, 35.54it/s, v_num=239]\n",
      "Validation: |          | 0/? [00:00<?, ?it/s]\u001b[A\n",
      "Validation:   0%|          | 0/3 [00:00<?, ?it/s]\u001b[A\n",
      "Validation DataLoader 0:   0%|          | 0/3 [00:00<?, ?it/s]\u001b[A\n",
      "Validation DataLoader 0:  33%|███▎      | 1/3 [00:00<00:00, 108.30it/s]\u001b[A\n",
      "Validation DataLoader 0:  67%|██████▋   | 2/3 [00:00<00:00, 66.52it/s] \u001b[A\n",
      "Validation DataLoader 0: 100%|██████████| 3/3 [00:00<00:00, 58.94it/s]\u001b[A\n",
      "Epoch 25: 100%|██████████| 12/12 [00:00<00:00, 29.32it/s, v_num=239]  \u001b[A"
     ]
    },
    {
     "name": "stderr",
     "output_type": "stream",
     "text": [
      "Metric val_loss improved by 0.010 >= min_delta = 0.0. New best score: 0.389\n"
     ]
    },
    {
     "name": "stdout",
     "output_type": "stream",
     "text": [
      "Epoch 26: 100%|██████████| 12/12 [00:00<00:00, 35.38it/s, v_num=239]\n",
      "Validation: |          | 0/? [00:00<?, ?it/s]\u001b[A\n",
      "Validation:   0%|          | 0/3 [00:00<?, ?it/s]\u001b[A\n",
      "Validation DataLoader 0:   0%|          | 0/3 [00:00<?, ?it/s]\u001b[A\n",
      "Validation DataLoader 0:  33%|███▎      | 1/3 [00:00<00:00, 110.30it/s]\u001b[A\n",
      "Validation DataLoader 0:  67%|██████▋   | 2/3 [00:00<00:00, 67.17it/s] \u001b[A\n",
      "Validation DataLoader 0: 100%|██████████| 3/3 [00:00<00:00, 59.64it/s]\u001b[A\n",
      "Epoch 26: 100%|██████████| 12/12 [00:00<00:00, 29.25it/s, v_num=239]  \u001b[A"
     ]
    },
    {
     "name": "stderr",
     "output_type": "stream",
     "text": [
      "Metric val_loss improved by 0.010 >= min_delta = 0.0. New best score: 0.379\n"
     ]
    },
    {
     "name": "stdout",
     "output_type": "stream",
     "text": [
      "Epoch 27: 100%|██████████| 12/12 [00:00<00:00, 35.45it/s, v_num=239]\n",
      "Validation: |          | 0/? [00:00<?, ?it/s]\u001b[A\n",
      "Validation:   0%|          | 0/3 [00:00<?, ?it/s]\u001b[A\n",
      "Validation DataLoader 0:   0%|          | 0/3 [00:00<?, ?it/s]\u001b[A\n",
      "Validation DataLoader 0:  33%|███▎      | 1/3 [00:00<00:00, 109.66it/s]\u001b[A\n",
      "Validation DataLoader 0:  67%|██████▋   | 2/3 [00:00<00:00, 67.68it/s] \u001b[A\n",
      "Validation DataLoader 0: 100%|██████████| 3/3 [00:00<00:00, 59.82it/s]\u001b[A\n",
      "Epoch 28: 100%|██████████| 12/12 [00:00<00:00, 35.93it/s, v_num=239]  \u001b[A\n",
      "Validation: |          | 0/? [00:00<?, ?it/s]\u001b[A\n",
      "Validation:   0%|          | 0/3 [00:00<?, ?it/s]\u001b[A\n",
      "Validation DataLoader 0:   0%|          | 0/3 [00:00<?, ?it/s]\u001b[A\n",
      "Validation DataLoader 0:  33%|███▎      | 1/3 [00:00<00:00, 109.46it/s]\u001b[A\n",
      "Validation DataLoader 0:  67%|██████▋   | 2/3 [00:00<00:00, 67.24it/s] \u001b[A\n",
      "Validation DataLoader 0: 100%|██████████| 3/3 [00:00<00:00, 59.22it/s]\u001b[A\n",
      "Epoch 28: 100%|██████████| 12/12 [00:00<00:00, 29.56it/s, v_num=239]  \u001b[A"
     ]
    },
    {
     "name": "stderr",
     "output_type": "stream",
     "text": [
      "Metric val_loss improved by 0.013 >= min_delta = 0.0. New best score: 0.366\n"
     ]
    },
    {
     "name": "stdout",
     "output_type": "stream",
     "text": [
      "Epoch 29: 100%|██████████| 12/12 [00:00<00:00, 35.19it/s, v_num=239]\n",
      "Validation: |          | 0/? [00:00<?, ?it/s]\u001b[A\n",
      "Validation:   0%|          | 0/3 [00:00<?, ?it/s]\u001b[A\n",
      "Validation DataLoader 0:   0%|          | 0/3 [00:00<?, ?it/s]\u001b[A\n",
      "Validation DataLoader 0:  33%|███▎      | 1/3 [00:00<00:00, 109.63it/s]\u001b[A\n",
      "Validation DataLoader 0:  67%|██████▋   | 2/3 [00:00<00:00, 67.46it/s] \u001b[A\n",
      "Validation DataLoader 0: 100%|██████████| 3/3 [00:00<00:00, 59.23it/s]\u001b[A\n",
      "Epoch 30: 100%|██████████| 12/12 [00:00<00:00, 35.29it/s, v_num=239]  \u001b[A\n",
      "Validation: |          | 0/? [00:00<?, ?it/s]\u001b[A\n",
      "Validation:   0%|          | 0/3 [00:00<?, ?it/s]\u001b[A\n",
      "Validation DataLoader 0:   0%|          | 0/3 [00:00<?, ?it/s]\u001b[A\n",
      "Validation DataLoader 0:  33%|███▎      | 1/3 [00:00<00:00, 108.63it/s]\u001b[A\n",
      "Validation DataLoader 0:  67%|██████▋   | 2/3 [00:00<00:00, 66.65it/s] \u001b[A\n",
      "Validation DataLoader 0: 100%|██████████| 3/3 [00:00<00:00, 59.34it/s]\u001b[A\n",
      "Epoch 31: 100%|██████████| 12/12 [00:00<00:00, 35.46it/s, v_num=239]  \u001b[A\n",
      "Validation: |          | 0/? [00:00<?, ?it/s]\u001b[A\n",
      "Validation:   0%|          | 0/3 [00:00<?, ?it/s]\u001b[A\n",
      "Validation DataLoader 0:   0%|          | 0/3 [00:00<?, ?it/s]\u001b[A\n",
      "Validation DataLoader 0:  33%|███▎      | 1/3 [00:00<00:00, 109.29it/s]\u001b[A\n",
      "Validation DataLoader 0:  67%|██████▋   | 2/3 [00:00<00:00, 67.13it/s] \u001b[A\n",
      "Validation DataLoader 0: 100%|██████████| 3/3 [00:00<00:00, 59.68it/s]\u001b[A\n",
      "Epoch 31: 100%|██████████| 12/12 [00:00<00:00, 29.33it/s, v_num=239]  \u001b[A"
     ]
    },
    {
     "name": "stderr",
     "output_type": "stream",
     "text": [
      "Metric val_loss improved by 0.003 >= min_delta = 0.0. New best score: 0.364\n"
     ]
    },
    {
     "name": "stdout",
     "output_type": "stream",
     "text": [
      "Epoch 32: 100%|██████████| 12/12 [00:00<00:00, 35.53it/s, v_num=239]\n",
      "Validation: |          | 0/? [00:00<?, ?it/s]\u001b[A\n",
      "Validation:   0%|          | 0/3 [00:00<?, ?it/s]\u001b[A\n",
      "Validation DataLoader 0:   0%|          | 0/3 [00:00<?, ?it/s]\u001b[A\n",
      "Validation DataLoader 0:  33%|███▎      | 1/3 [00:00<00:00, 110.47it/s]\u001b[A\n",
      "Validation DataLoader 0:  67%|██████▋   | 2/3 [00:00<00:00, 67.10it/s] \u001b[A\n",
      "Validation DataLoader 0: 100%|██████████| 3/3 [00:00<00:00, 59.47it/s]\u001b[A\n",
      "Epoch 32: 100%|██████████| 12/12 [00:00<00:00, 29.35it/s, v_num=239]  \u001b[A"
     ]
    },
    {
     "name": "stderr",
     "output_type": "stream",
     "text": [
      "Metric val_loss improved by 0.010 >= min_delta = 0.0. New best score: 0.354\n"
     ]
    },
    {
     "name": "stdout",
     "output_type": "stream",
     "text": [
      "Epoch 33: 100%|██████████| 12/12 [00:00<00:00, 36.06it/s, v_num=239]\n",
      "Validation: |          | 0/? [00:00<?, ?it/s]\u001b[A\n",
      "Validation:   0%|          | 0/3 [00:00<?, ?it/s]\u001b[A\n",
      "Validation DataLoader 0:   0%|          | 0/3 [00:00<?, ?it/s]\u001b[A\n",
      "Validation DataLoader 0:  33%|███▎      | 1/3 [00:00<00:00, 108.82it/s]\u001b[A\n",
      "Validation DataLoader 0:  67%|██████▋   | 2/3 [00:00<00:00, 66.68it/s] \u001b[A\n",
      "Validation DataLoader 0: 100%|██████████| 3/3 [00:00<00:00, 59.17it/s]\u001b[A\n",
      "Epoch 34: 100%|██████████| 12/12 [00:00<00:00, 36.01it/s, v_num=239]  \u001b[A\n",
      "Validation: |          | 0/? [00:00<?, ?it/s]\u001b[A\n",
      "Validation:   0%|          | 0/3 [00:00<?, ?it/s]\u001b[A\n",
      "Validation DataLoader 0:   0%|          | 0/3 [00:00<?, ?it/s]\u001b[A\n",
      "Validation DataLoader 0:  33%|███▎      | 1/3 [00:00<00:00, 110.74it/s]\u001b[A\n",
      "Validation DataLoader 0:  67%|██████▋   | 2/3 [00:00<00:00, 66.99it/s] \u001b[A\n",
      "Validation DataLoader 0: 100%|██████████| 3/3 [00:00<00:00, 59.23it/s]\u001b[A\n",
      "Epoch 34: 100%|██████████| 12/12 [00:00<00:00, 29.49it/s, v_num=239]  \u001b[A"
     ]
    },
    {
     "name": "stderr",
     "output_type": "stream",
     "text": [
      "Metric val_loss improved by 0.007 >= min_delta = 0.0. New best score: 0.347\n"
     ]
    },
    {
     "name": "stdout",
     "output_type": "stream",
     "text": [
      "Epoch 35: 100%|██████████| 12/12 [00:00<00:00, 35.83it/s, v_num=239]\n",
      "Validation: |          | 0/? [00:00<?, ?it/s]\u001b[A\n",
      "Validation:   0%|          | 0/3 [00:00<?, ?it/s]\u001b[A\n",
      "Validation DataLoader 0:   0%|          | 0/3 [00:00<?, ?it/s]\u001b[A\n",
      "Validation DataLoader 0:  33%|███▎      | 1/3 [00:00<00:00, 109.91it/s]\u001b[A\n",
      "Validation DataLoader 0:  67%|██████▋   | 2/3 [00:00<00:00, 66.89it/s] \u001b[A\n",
      "Validation DataLoader 0: 100%|██████████| 3/3 [00:00<00:00, 59.48it/s]\u001b[A\n",
      "Epoch 35: 100%|██████████| 12/12 [00:00<00:00, 29.56it/s, v_num=239]  \u001b[A"
     ]
    },
    {
     "name": "stderr",
     "output_type": "stream",
     "text": [
      "Metric val_loss improved by 0.003 >= min_delta = 0.0. New best score: 0.345\n"
     ]
    },
    {
     "name": "stdout",
     "output_type": "stream",
     "text": [
      "Epoch 36: 100%|██████████| 12/12 [00:00<00:00, 36.06it/s, v_num=239]\n",
      "Validation: |          | 0/? [00:00<?, ?it/s]\u001b[A\n",
      "Validation:   0%|          | 0/3 [00:00<?, ?it/s]\u001b[A\n",
      "Validation DataLoader 0:   0%|          | 0/3 [00:00<?, ?it/s]\u001b[A\n",
      "Validation DataLoader 0:  33%|███▎      | 1/3 [00:00<00:00, 110.27it/s]\u001b[A\n",
      "Validation DataLoader 0:  67%|██████▋   | 2/3 [00:00<00:00, 67.31it/s] \u001b[A\n",
      "Validation DataLoader 0: 100%|██████████| 3/3 [00:00<00:00, 59.63it/s]\u001b[A\n",
      "Epoch 37: 100%|██████████| 12/12 [00:00<00:00, 35.72it/s, v_num=239]  \u001b[A\n",
      "Validation: |          | 0/? [00:00<?, ?it/s]\u001b[A\n",
      "Validation:   0%|          | 0/3 [00:00<?, ?it/s]\u001b[A\n",
      "Validation DataLoader 0:   0%|          | 0/3 [00:00<?, ?it/s]\u001b[A\n",
      "Validation DataLoader 0:  33%|███▎      | 1/3 [00:00<00:00, 110.50it/s]\u001b[A\n",
      "Validation DataLoader 0:  67%|██████▋   | 2/3 [00:00<00:00, 66.70it/s] \u001b[A\n",
      "Validation DataLoader 0: 100%|██████████| 3/3 [00:00<00:00, 59.14it/s]\u001b[A\n",
      "Epoch 38: 100%|██████████| 12/12 [00:00<00:00, 35.97it/s, v_num=239]  \u001b[A\n",
      "Validation: |          | 0/? [00:00<?, ?it/s]\u001b[A\n",
      "Validation:   0%|          | 0/3 [00:00<?, ?it/s]\u001b[A\n",
      "Validation DataLoader 0:   0%|          | 0/3 [00:00<?, ?it/s]\u001b[A\n",
      "Validation DataLoader 0:  33%|███▎      | 1/3 [00:00<00:00, 109.80it/s]\u001b[A\n",
      "Validation DataLoader 0:  67%|██████▋   | 2/3 [00:00<00:00, 66.84it/s] \u001b[A\n",
      "Validation DataLoader 0: 100%|██████████| 3/3 [00:00<00:00, 59.38it/s]\u001b[A\n",
      "Epoch 39: 100%|██████████| 12/12 [00:00<00:00, 35.98it/s, v_num=239]  \u001b[A\n",
      "Validation: |          | 0/? [00:00<?, ?it/s]\u001b[A\n",
      "Validation:   0%|          | 0/3 [00:00<?, ?it/s]\u001b[A\n",
      "Validation DataLoader 0:   0%|          | 0/3 [00:00<?, ?it/s]\u001b[A\n",
      "Validation DataLoader 0:  33%|███▎      | 1/3 [00:00<00:00, 110.13it/s]\u001b[A\n",
      "Validation DataLoader 0:  67%|██████▋   | 2/3 [00:00<00:00, 67.22it/s] \u001b[A\n",
      "Validation DataLoader 0: 100%|██████████| 3/3 [00:00<00:00, 59.60it/s]\u001b[A\n",
      "Epoch 39: 100%|██████████| 12/12 [00:00<00:00, 29.49it/s, v_num=239]  \u001b[A"
     ]
    },
    {
     "name": "stderr",
     "output_type": "stream",
     "text": [
      "Metric val_loss improved by 0.006 >= min_delta = 0.0. New best score: 0.339\n"
     ]
    },
    {
     "name": "stdout",
     "output_type": "stream",
     "text": [
      "Epoch 40: 100%|██████████| 12/12 [00:00<00:00, 35.37it/s, v_num=239]\n",
      "Validation: |          | 0/? [00:00<?, ?it/s]\u001b[A\n",
      "Validation:   0%|          | 0/3 [00:00<?, ?it/s]\u001b[A\n",
      "Validation DataLoader 0:   0%|          | 0/3 [00:00<?, ?it/s]\u001b[A\n",
      "Validation DataLoader 0:  33%|███▎      | 1/3 [00:00<00:00, 109.89it/s]\u001b[A\n",
      "Validation DataLoader 0:  67%|██████▋   | 2/3 [00:00<00:00, 66.84it/s] \u001b[A\n",
      "Validation DataLoader 0: 100%|██████████| 3/3 [00:00<00:00, 59.05it/s]\u001b[A\n",
      "Epoch 40: 100%|██████████| 12/12 [00:00<00:00, 29.22it/s, v_num=239]  \u001b[A"
     ]
    },
    {
     "name": "stderr",
     "output_type": "stream",
     "text": [
      "Metric val_loss improved by 0.002 >= min_delta = 0.0. New best score: 0.336\n"
     ]
    },
    {
     "name": "stdout",
     "output_type": "stream",
     "text": [
      "Epoch 41: 100%|██████████| 12/12 [00:00<00:00, 34.92it/s, v_num=239]\n",
      "Validation: |          | 0/? [00:00<?, ?it/s]\u001b[A\n",
      "Validation:   0%|          | 0/3 [00:00<?, ?it/s]\u001b[A\n",
      "Validation DataLoader 0:   0%|          | 0/3 [00:00<?, ?it/s]\u001b[A\n",
      "Validation DataLoader 0:  33%|███▎      | 1/3 [00:00<00:00, 110.31it/s]\u001b[A\n",
      "Validation DataLoader 0:  67%|██████▋   | 2/3 [00:00<00:00, 67.60it/s] \u001b[A\n",
      "Validation DataLoader 0: 100%|██████████| 3/3 [00:00<00:00, 59.77it/s]\u001b[A\n",
      "Epoch 42: 100%|██████████| 12/12 [00:00<00:00, 35.06it/s, v_num=239]  \u001b[A\n",
      "Validation: |          | 0/? [00:00<?, ?it/s]\u001b[A\n",
      "Validation:   0%|          | 0/3 [00:00<?, ?it/s]\u001b[A\n",
      "Validation DataLoader 0:   0%|          | 0/3 [00:00<?, ?it/s]\u001b[A\n",
      "Validation DataLoader 0:  33%|███▎      | 1/3 [00:00<00:00, 110.64it/s]\u001b[A\n",
      "Validation DataLoader 0:  67%|██████▋   | 2/3 [00:00<00:00, 67.85it/s] \u001b[A\n",
      "Validation DataLoader 0: 100%|██████████| 3/3 [00:00<00:00, 59.70it/s]\u001b[A\n",
      "Epoch 42: 100%|██████████| 12/12 [00:00<00:00, 28.97it/s, v_num=239]  \u001b[A"
     ]
    },
    {
     "name": "stderr",
     "output_type": "stream",
     "text": [
      "Metric val_loss improved by 0.003 >= min_delta = 0.0. New best score: 0.333\n"
     ]
    },
    {
     "name": "stdout",
     "output_type": "stream",
     "text": [
      "Epoch 43: 100%|██████████| 12/12 [00:00<00:00, 35.83it/s, v_num=239]\n",
      "Validation: |          | 0/? [00:00<?, ?it/s]\u001b[A\n",
      "Validation:   0%|          | 0/3 [00:00<?, ?it/s]\u001b[A\n",
      "Validation DataLoader 0:   0%|          | 0/3 [00:00<?, ?it/s]\u001b[A\n",
      "Validation DataLoader 0:  33%|███▎      | 1/3 [00:00<00:00, 109.12it/s]\u001b[A\n",
      "Validation DataLoader 0:  67%|██████▋   | 2/3 [00:00<00:00, 67.45it/s] \u001b[A\n",
      "Validation DataLoader 0: 100%|██████████| 3/3 [00:00<00:00, 59.25it/s]\u001b[A\n",
      "Epoch 44: 100%|██████████| 12/12 [00:00<00:00, 36.07it/s, v_num=239]  \u001b[A\n",
      "Validation: |          | 0/? [00:00<?, ?it/s]\u001b[A\n",
      "Validation:   0%|          | 0/3 [00:00<?, ?it/s]\u001b[A\n",
      "Validation DataLoader 0:   0%|          | 0/3 [00:00<?, ?it/s]\u001b[A\n",
      "Validation DataLoader 0:  33%|███▎      | 1/3 [00:00<00:00, 110.32it/s]\u001b[A\n",
      "Validation DataLoader 0:  67%|██████▋   | 2/3 [00:00<00:00, 67.42it/s] \u001b[A\n",
      "Validation DataLoader 0: 100%|██████████| 3/3 [00:00<00:00, 59.52it/s]\u001b[A\n",
      "Epoch 44: 100%|██████████| 12/12 [00:00<00:00, 29.56it/s, v_num=239]  \u001b[A"
     ]
    },
    {
     "name": "stderr",
     "output_type": "stream",
     "text": [
      "Metric val_loss improved by 0.000 >= min_delta = 0.0. New best score: 0.333\n"
     ]
    },
    {
     "name": "stdout",
     "output_type": "stream",
     "text": [
      "Epoch 45: 100%|██████████| 12/12 [00:00<00:00, 35.81it/s, v_num=239]\n",
      "Validation: |          | 0/? [00:00<?, ?it/s]\u001b[A\n",
      "Validation:   0%|          | 0/3 [00:00<?, ?it/s]\u001b[A\n",
      "Validation DataLoader 0:   0%|          | 0/3 [00:00<?, ?it/s]\u001b[A\n",
      "Validation DataLoader 0:  33%|███▎      | 1/3 [00:00<00:00, 109.55it/s]\u001b[A\n",
      "Validation DataLoader 0:  67%|██████▋   | 2/3 [00:00<00:00, 66.87it/s] \u001b[A\n",
      "Validation DataLoader 0: 100%|██████████| 3/3 [00:00<00:00, 59.33it/s]\u001b[A\n",
      "Epoch 45: 100%|██████████| 12/12 [00:00<00:00, 29.54it/s, v_num=239]  \u001b[A"
     ]
    },
    {
     "name": "stderr",
     "output_type": "stream",
     "text": [
      "Metric val_loss improved by 0.003 >= min_delta = 0.0. New best score: 0.330\n"
     ]
    },
    {
     "name": "stdout",
     "output_type": "stream",
     "text": [
      "Epoch 46: 100%|██████████| 12/12 [00:00<00:00, 35.70it/s, v_num=239]\n",
      "Validation: |          | 0/? [00:00<?, ?it/s]\u001b[A\n",
      "Validation:   0%|          | 0/3 [00:00<?, ?it/s]\u001b[A\n",
      "Validation DataLoader 0:   0%|          | 0/3 [00:00<?, ?it/s]\u001b[A\n",
      "Validation DataLoader 0:  33%|███▎      | 1/3 [00:00<00:00, 105.46it/s]\u001b[A\n",
      "Validation DataLoader 0:  67%|██████▋   | 2/3 [00:00<00:00, 64.11it/s] \u001b[A\n",
      "Validation DataLoader 0: 100%|██████████| 3/3 [00:00<00:00, 56.84it/s]\u001b[A\n",
      "Epoch 47: 100%|██████████| 12/12 [00:00<00:00, 34.66it/s, v_num=239]  \u001b[A\n",
      "Validation: |          | 0/? [00:00<?, ?it/s]\u001b[A\n",
      "Validation:   0%|          | 0/3 [00:00<?, ?it/s]\u001b[A\n",
      "Validation DataLoader 0:   0%|          | 0/3 [00:00<?, ?it/s]\u001b[A\n",
      "Validation DataLoader 0:  33%|███▎      | 1/3 [00:00<00:00, 109.80it/s]\u001b[A\n",
      "Validation DataLoader 0:  67%|██████▋   | 2/3 [00:00<00:00, 67.01it/s] \u001b[A\n",
      "Validation DataLoader 0: 100%|██████████| 3/3 [00:00<00:00, 58.60it/s]\u001b[A\n",
      "Epoch 47: 100%|██████████| 12/12 [00:00<00:00, 28.75it/s, v_num=239]  \u001b[A"
     ]
    },
    {
     "name": "stderr",
     "output_type": "stream",
     "text": [
      "Metric val_loss improved by 0.008 >= min_delta = 0.0. New best score: 0.322\n"
     ]
    },
    {
     "name": "stdout",
     "output_type": "stream",
     "text": [
      "Epoch 48: 100%|██████████| 12/12 [00:00<00:00, 35.54it/s, v_num=239]\n",
      "Validation: |          | 0/? [00:00<?, ?it/s]\u001b[A\n",
      "Validation:   0%|          | 0/3 [00:00<?, ?it/s]\u001b[A\n",
      "Validation DataLoader 0:   0%|          | 0/3 [00:00<?, ?it/s]\u001b[A\n",
      "Validation DataLoader 0:  33%|███▎      | 1/3 [00:00<00:00, 111.46it/s]\u001b[A\n",
      "Validation DataLoader 0:  67%|██████▋   | 2/3 [00:00<00:00, 65.99it/s] \u001b[A\n",
      "Validation DataLoader 0: 100%|██████████| 3/3 [00:00<00:00, 58.27it/s]\u001b[A\n",
      "Epoch 49: 100%|██████████| 12/12 [00:00<00:00, 35.73it/s, v_num=239]  \u001b[A\n",
      "Validation: |          | 0/? [00:00<?, ?it/s]\u001b[A\n",
      "Validation:   0%|          | 0/3 [00:00<?, ?it/s]\u001b[A\n",
      "Validation DataLoader 0:   0%|          | 0/3 [00:00<?, ?it/s]\u001b[A\n",
      "Validation DataLoader 0:  33%|███▎      | 1/3 [00:00<00:00, 110.44it/s]\u001b[A\n",
      "Validation DataLoader 0:  67%|██████▋   | 2/3 [00:00<00:00, 67.12it/s] \u001b[A\n",
      "Validation DataLoader 0: 100%|██████████| 3/3 [00:00<00:00, 59.38it/s]\u001b[A\n",
      "Epoch 49: 100%|██████████| 12/12 [00:00<00:00, 29.31it/s, v_num=239]  \u001b[A"
     ]
    },
    {
     "name": "stderr",
     "output_type": "stream",
     "text": [
      "Metric val_loss improved by 0.003 >= min_delta = 0.0. New best score: 0.318\n"
     ]
    },
    {
     "name": "stdout",
     "output_type": "stream",
     "text": [
      "Epoch 50: 100%|██████████| 12/12 [00:00<00:00, 35.01it/s, v_num=239]\n",
      "Validation: |          | 0/? [00:00<?, ?it/s]\u001b[A\n",
      "Validation:   0%|          | 0/3 [00:00<?, ?it/s]\u001b[A\n",
      "Validation DataLoader 0:   0%|          | 0/3 [00:00<?, ?it/s]\u001b[A\n",
      "Validation DataLoader 0:  33%|███▎      | 1/3 [00:00<00:00, 108.08it/s]\u001b[A\n",
      "Validation DataLoader 0:  67%|██████▋   | 2/3 [00:00<00:00, 65.66it/s] \u001b[A\n",
      "Validation DataLoader 0: 100%|██████████| 3/3 [00:00<00:00, 58.13it/s]\u001b[A\n",
      "Epoch 51: 100%|██████████| 12/12 [00:00<00:00, 35.69it/s, v_num=239]  \u001b[A\n",
      "Validation: |          | 0/? [00:00<?, ?it/s]\u001b[A\n",
      "Validation:   0%|          | 0/3 [00:00<?, ?it/s]\u001b[A\n",
      "Validation DataLoader 0:   0%|          | 0/3 [00:00<?, ?it/s]\u001b[A\n",
      "Validation DataLoader 0:  33%|███▎      | 1/3 [00:00<00:00, 110.15it/s]\u001b[A\n",
      "Validation DataLoader 0:  67%|██████▋   | 2/3 [00:00<00:00, 66.80it/s] \u001b[A\n",
      "Validation DataLoader 0: 100%|██████████| 3/3 [00:00<00:00, 58.50it/s]\u001b[A\n",
      "Epoch 52: 100%|██████████| 12/12 [00:00<00:00, 34.14it/s, v_num=239]  \u001b[A\n",
      "Validation: |          | 0/? [00:00<?, ?it/s]\u001b[A\n",
      "Validation:   0%|          | 0/3 [00:00<?, ?it/s]\u001b[A\n",
      "Validation DataLoader 0:   0%|          | 0/3 [00:00<?, ?it/s]\u001b[A\n",
      "Validation DataLoader 0:  33%|███▎      | 1/3 [00:00<00:00, 109.59it/s]\u001b[A\n",
      "Validation DataLoader 0:  67%|██████▋   | 2/3 [00:00<00:00, 67.20it/s] \u001b[A\n",
      "Validation DataLoader 0: 100%|██████████| 3/3 [00:00<00:00, 59.01it/s]\u001b[A\n",
      "Epoch 53: 100%|██████████| 12/12 [00:00<00:00, 34.50it/s, v_num=239]  \u001b[A\n",
      "Validation: |          | 0/? [00:00<?, ?it/s]\u001b[A\n",
      "Validation:   0%|          | 0/3 [00:00<?, ?it/s]\u001b[A\n",
      "Validation DataLoader 0:   0%|          | 0/3 [00:00<?, ?it/s]\u001b[A\n",
      "Validation DataLoader 0:  33%|███▎      | 1/3 [00:00<00:00, 110.93it/s]\u001b[A\n",
      "Validation DataLoader 0:  67%|██████▋   | 2/3 [00:00<00:00, 67.36it/s] \u001b[A\n",
      "Validation DataLoader 0: 100%|██████████| 3/3 [00:00<00:00, 59.90it/s]\u001b[A\n",
      "Epoch 53: 100%|██████████| 12/12 [00:00<00:00, 28.69it/s, v_num=239]  \u001b[A"
     ]
    },
    {
     "name": "stderr",
     "output_type": "stream",
     "text": [
      "Metric val_loss improved by 0.007 >= min_delta = 0.0. New best score: 0.312\n"
     ]
    },
    {
     "name": "stdout",
     "output_type": "stream",
     "text": [
      "Epoch 54: 100%|██████████| 12/12 [00:00<00:00, 35.99it/s, v_num=239]\n",
      "Validation: |          | 0/? [00:00<?, ?it/s]\u001b[A\n",
      "Validation:   0%|          | 0/3 [00:00<?, ?it/s]\u001b[A\n",
      "Validation DataLoader 0:   0%|          | 0/3 [00:00<?, ?it/s]\u001b[A\n",
      "Validation DataLoader 0:  33%|███▎      | 1/3 [00:00<00:00, 111.25it/s]\u001b[A\n",
      "Validation DataLoader 0:  67%|██████▋   | 2/3 [00:00<00:00, 68.11it/s] \u001b[A\n",
      "Validation DataLoader 0: 100%|██████████| 3/3 [00:00<00:00, 60.14it/s]\u001b[A\n",
      "Epoch 55: 100%|██████████| 12/12 [00:00<00:00, 36.07it/s, v_num=239]  \u001b[A\n",
      "Validation: |          | 0/? [00:00<?, ?it/s]\u001b[A\n",
      "Validation:   0%|          | 0/3 [00:00<?, ?it/s]\u001b[A\n",
      "Validation DataLoader 0:   0%|          | 0/3 [00:00<?, ?it/s]\u001b[A\n",
      "Validation DataLoader 0:  33%|███▎      | 1/3 [00:00<00:00, 110.05it/s]\u001b[A\n",
      "Validation DataLoader 0:  67%|██████▋   | 2/3 [00:00<00:00, 66.99it/s] \u001b[A\n",
      "Validation DataLoader 0: 100%|██████████| 3/3 [00:00<00:00, 59.63it/s]\u001b[A\n",
      "Epoch 56: 100%|██████████| 12/12 [00:00<00:00, 35.97it/s, v_num=239]  \u001b[A\n",
      "Validation: |          | 0/? [00:00<?, ?it/s]\u001b[A\n",
      "Validation:   0%|          | 0/3 [00:00<?, ?it/s]\u001b[A\n",
      "Validation DataLoader 0:   0%|          | 0/3 [00:00<?, ?it/s]\u001b[A\n",
      "Validation DataLoader 0:  33%|███▎      | 1/3 [00:00<00:00, 110.44it/s]\u001b[A\n",
      "Validation DataLoader 0:  67%|██████▋   | 2/3 [00:00<00:00, 67.20it/s] \u001b[A\n",
      "Validation DataLoader 0: 100%|██████████| 3/3 [00:00<00:00, 59.56it/s]\u001b[A\n",
      "Epoch 57: 100%|██████████| 12/12 [00:00<00:00, 36.05it/s, v_num=239]  \u001b[A\n",
      "Validation: |          | 0/? [00:00<?, ?it/s]\u001b[A\n",
      "Validation:   0%|          | 0/3 [00:00<?, ?it/s]\u001b[A\n",
      "Validation DataLoader 0:   0%|          | 0/3 [00:00<?, ?it/s]\u001b[A\n",
      "Validation DataLoader 0:  33%|███▎      | 1/3 [00:00<00:00, 109.99it/s]\u001b[A\n",
      "Validation DataLoader 0:  67%|██████▋   | 2/3 [00:00<00:00, 67.02it/s] \u001b[A\n",
      "Validation DataLoader 0: 100%|██████████| 3/3 [00:00<00:00, 59.68it/s]\u001b[A\n",
      "Epoch 58: 100%|██████████| 12/12 [00:00<00:00, 36.08it/s, v_num=239]  \u001b[A\n",
      "Validation: |          | 0/? [00:00<?, ?it/s]\u001b[A\n",
      "Validation:   0%|          | 0/3 [00:00<?, ?it/s]\u001b[A\n",
      "Validation DataLoader 0:   0%|          | 0/3 [00:00<?, ?it/s]\u001b[A\n",
      "Validation DataLoader 0:  33%|███▎      | 1/3 [00:00<00:00, 109.61it/s]\u001b[A\n",
      "Validation DataLoader 0:  67%|██████▋   | 2/3 [00:00<00:00, 67.00it/s] \u001b[A\n",
      "Validation DataLoader 0: 100%|██████████| 3/3 [00:00<00:00, 59.56it/s]\u001b[A\n",
      "Epoch 59: 100%|██████████| 12/12 [00:00<00:00, 36.01it/s, v_num=239]  \u001b[A\n",
      "Validation: |          | 0/? [00:00<?, ?it/s]\u001b[A\n",
      "Validation:   0%|          | 0/3 [00:00<?, ?it/s]\u001b[A\n",
      "Validation DataLoader 0:   0%|          | 0/3 [00:00<?, ?it/s]\u001b[A\n",
      "Validation DataLoader 0:  33%|███▎      | 1/3 [00:00<00:00, 109.37it/s]\u001b[A\n",
      "Validation DataLoader 0:  67%|██████▋   | 2/3 [00:00<00:00, 66.85it/s] \u001b[A\n",
      "Validation DataLoader 0: 100%|██████████| 3/3 [00:00<00:00, 59.59it/s]\u001b[A\n",
      "Epoch 60: 100%|██████████| 12/12 [00:00<00:00, 35.88it/s, v_num=239]  \u001b[A\n",
      "Validation: |          | 0/? [00:00<?, ?it/s]\u001b[A\n",
      "Validation:   0%|          | 0/3 [00:00<?, ?it/s]\u001b[A\n",
      "Validation DataLoader 0:   0%|          | 0/3 [00:00<?, ?it/s]\u001b[A\n",
      "Validation DataLoader 0:  33%|███▎      | 1/3 [00:00<00:00, 109.85it/s]\u001b[A\n",
      "Validation DataLoader 0:  67%|██████▋   | 2/3 [00:00<00:00, 66.88it/s] \u001b[A\n",
      "Validation DataLoader 0: 100%|██████████| 3/3 [00:00<00:00, 59.51it/s]\u001b[A\n",
      "Epoch 61: 100%|██████████| 12/12 [00:00<00:00, 35.19it/s, v_num=239]  \u001b[A\n",
      "Validation: |          | 0/? [00:00<?, ?it/s]\u001b[A\n",
      "Validation:   0%|          | 0/3 [00:00<?, ?it/s]\u001b[A\n",
      "Validation DataLoader 0:   0%|          | 0/3 [00:00<?, ?it/s]\u001b[A\n",
      "Validation DataLoader 0:  33%|███▎      | 1/3 [00:00<00:00, 109.86it/s]\u001b[A\n",
      "Validation DataLoader 0:  67%|██████▋   | 2/3 [00:00<00:00, 67.00it/s] \u001b[A\n",
      "Validation DataLoader 0: 100%|██████████| 3/3 [00:00<00:00, 59.59it/s]\u001b[A\n",
      "Epoch 62: 100%|██████████| 12/12 [00:00<00:00, 36.08it/s, v_num=239]  \u001b[A\n",
      "Validation: |          | 0/? [00:00<?, ?it/s]\u001b[A\n",
      "Validation:   0%|          | 0/3 [00:00<?, ?it/s]\u001b[A\n",
      "Validation DataLoader 0:   0%|          | 0/3 [00:00<?, ?it/s]\u001b[A\n",
      "Validation DataLoader 0:  33%|███▎      | 1/3 [00:00<00:00, 106.58it/s]\u001b[A\n",
      "Validation DataLoader 0:  67%|██████▋   | 2/3 [00:00<00:00, 66.33it/s] \u001b[A\n",
      "Validation DataLoader 0: 100%|██████████| 3/3 [00:00<00:00, 58.43it/s]\u001b[A\n",
      "Epoch 62: 100%|██████████| 12/12 [00:00<00:00, 29.67it/s, v_num=239]  \u001b[A"
     ]
    },
    {
     "name": "stderr",
     "output_type": "stream",
     "text": [
      "Metric val_loss improved by 0.009 >= min_delta = 0.0. New best score: 0.303\n"
     ]
    },
    {
     "name": "stdout",
     "output_type": "stream",
     "text": [
      "Epoch 63: 100%|██████████| 12/12 [00:00<00:00, 35.87it/s, v_num=239]\n",
      "Validation: |          | 0/? [00:00<?, ?it/s]\u001b[A\n",
      "Validation:   0%|          | 0/3 [00:00<?, ?it/s]\u001b[A\n",
      "Validation DataLoader 0:   0%|          | 0/3 [00:00<?, ?it/s]\u001b[A\n",
      "Validation DataLoader 0:  33%|███▎      | 1/3 [00:00<00:00, 109.96it/s]\u001b[A\n",
      "Validation DataLoader 0:  67%|██████▋   | 2/3 [00:00<00:00, 66.65it/s] \u001b[A\n",
      "Validation DataLoader 0: 100%|██████████| 3/3 [00:00<00:00, 59.43it/s]\u001b[A\n",
      "Epoch 64: 100%|██████████| 12/12 [00:00<00:00, 35.96it/s, v_num=239]  \u001b[A\n",
      "Validation: |          | 0/? [00:00<?, ?it/s]\u001b[A\n",
      "Validation:   0%|          | 0/3 [00:00<?, ?it/s]\u001b[A\n",
      "Validation DataLoader 0:   0%|          | 0/3 [00:00<?, ?it/s]\u001b[A\n",
      "Validation DataLoader 0:  33%|███▎      | 1/3 [00:00<00:00, 109.69it/s]\u001b[A\n",
      "Validation DataLoader 0:  67%|██████▋   | 2/3 [00:00<00:00, 66.28it/s] \u001b[A\n",
      "Validation DataLoader 0: 100%|██████████| 3/3 [00:00<00:00, 58.75it/s]\u001b[A\n",
      "Epoch 65: 100%|██████████| 12/12 [00:00<00:00, 35.75it/s, v_num=239]  \u001b[A\n",
      "Validation: |          | 0/? [00:00<?, ?it/s]\u001b[A\n",
      "Validation:   0%|          | 0/3 [00:00<?, ?it/s]\u001b[A\n",
      "Validation DataLoader 0:   0%|          | 0/3 [00:00<?, ?it/s]\u001b[A\n",
      "Validation DataLoader 0:  33%|███▎      | 1/3 [00:00<00:00, 110.34it/s]\u001b[A\n",
      "Validation DataLoader 0:  67%|██████▋   | 2/3 [00:00<00:00, 67.33it/s] \u001b[A\n",
      "Validation DataLoader 0: 100%|██████████| 3/3 [00:00<00:00, 59.83it/s]\u001b[A\n",
      "Epoch 66: 100%|██████████| 12/12 [00:00<00:00, 35.93it/s, v_num=239]  \u001b[A\n",
      "Validation: |          | 0/? [00:00<?, ?it/s]\u001b[A\n",
      "Validation:   0%|          | 0/3 [00:00<?, ?it/s]\u001b[A\n",
      "Validation DataLoader 0:   0%|          | 0/3 [00:00<?, ?it/s]\u001b[A\n",
      "Validation DataLoader 0:  33%|███▎      | 1/3 [00:00<00:00, 107.63it/s]\u001b[A\n",
      "Validation DataLoader 0:  67%|██████▋   | 2/3 [00:00<00:00, 66.72it/s] \u001b[A\n",
      "Validation DataLoader 0: 100%|██████████| 3/3 [00:00<00:00, 59.40it/s]\u001b[A\n",
      "Epoch 67: 100%|██████████| 12/12 [00:00<00:00, 35.70it/s, v_num=239]  \u001b[A\n",
      "Validation: |          | 0/? [00:00<?, ?it/s]\u001b[A\n",
      "Validation:   0%|          | 0/3 [00:00<?, ?it/s]\u001b[A\n",
      "Validation DataLoader 0:   0%|          | 0/3 [00:00<?, ?it/s]\u001b[A\n",
      "Validation DataLoader 0:  33%|███▎      | 1/3 [00:00<00:00, 109.57it/s]\u001b[A\n",
      "Validation DataLoader 0:  67%|██████▋   | 2/3 [00:00<00:00, 66.96it/s] \u001b[A\n",
      "Validation DataLoader 0: 100%|██████████| 3/3 [00:00<00:00, 59.48it/s]\u001b[A\n",
      "Epoch 68: 100%|██████████| 12/12 [00:00<00:00, 35.91it/s, v_num=239]  \u001b[A\n",
      "Validation: |          | 0/? [00:00<?, ?it/s]\u001b[A\n",
      "Validation:   0%|          | 0/3 [00:00<?, ?it/s]\u001b[A\n",
      "Validation DataLoader 0:   0%|          | 0/3 [00:00<?, ?it/s]\u001b[A\n",
      "Validation DataLoader 0:  33%|███▎      | 1/3 [00:00<00:00, 102.67it/s]\u001b[A\n",
      "Validation DataLoader 0:  67%|██████▋   | 2/3 [00:00<00:00, 64.35it/s] \u001b[A\n",
      "Validation DataLoader 0: 100%|██████████| 3/3 [00:00<00:00, 56.84it/s]\u001b[A\n",
      "Epoch 69: 100%|██████████| 12/12 [00:00<00:00, 36.14it/s, v_num=239]  \u001b[A\n",
      "Validation: |          | 0/? [00:00<?, ?it/s]\u001b[A\n",
      "Validation:   0%|          | 0/3 [00:00<?, ?it/s]\u001b[A\n",
      "Validation DataLoader 0:   0%|          | 0/3 [00:00<?, ?it/s]\u001b[A\n",
      "Validation DataLoader 0:  33%|███▎      | 1/3 [00:00<00:00, 110.85it/s]\u001b[A\n",
      "Validation DataLoader 0:  67%|██████▋   | 2/3 [00:00<00:00, 67.97it/s] \u001b[A\n",
      "Validation DataLoader 0: 100%|██████████| 3/3 [00:00<00:00, 59.85it/s]\u001b[A\n",
      "Epoch 70: 100%|██████████| 12/12 [00:00<00:00, 34.70it/s, v_num=239]  \u001b[A\n",
      "Validation: |          | 0/? [00:00<?, ?it/s]\u001b[A\n",
      "Validation:   0%|          | 0/3 [00:00<?, ?it/s]\u001b[A\n",
      "Validation DataLoader 0:   0%|          | 0/3 [00:00<?, ?it/s]\u001b[A\n",
      "Validation DataLoader 0:  33%|███▎      | 1/3 [00:00<00:00, 111.21it/s]\u001b[A\n",
      "Validation DataLoader 0:  67%|██████▋   | 2/3 [00:00<00:00, 67.06it/s] \u001b[A\n",
      "Validation DataLoader 0: 100%|██████████| 3/3 [00:00<00:00, 59.42it/s]\u001b[A\n",
      "Epoch 71: 100%|██████████| 12/12 [00:00<00:00, 32.74it/s, v_num=239]  \u001b[A\n",
      "Validation: |          | 0/? [00:00<?, ?it/s]\u001b[A\n",
      "Validation:   0%|          | 0/3 [00:00<?, ?it/s]\u001b[A\n",
      "Validation DataLoader 0:   0%|          | 0/3 [00:00<?, ?it/s]\u001b[A\n",
      "Validation DataLoader 0:  33%|███▎      | 1/3 [00:00<00:00, 109.77it/s]\u001b[A\n",
      "Validation DataLoader 0:  67%|██████▋   | 2/3 [00:00<00:00, 67.09it/s] \u001b[A\n",
      "Validation DataLoader 0: 100%|██████████| 3/3 [00:00<00:00, 59.63it/s]\u001b[A\n",
      "Epoch 72: 100%|██████████| 12/12 [00:00<00:00, 34.72it/s, v_num=239]  \u001b[A\n",
      "Validation: |          | 0/? [00:00<?, ?it/s]\u001b[A\n",
      "Validation:   0%|          | 0/3 [00:00<?, ?it/s]\u001b[A\n",
      "Validation DataLoader 0:   0%|          | 0/3 [00:00<?, ?it/s]\u001b[A\n",
      "Validation DataLoader 0:  33%|███▎      | 1/3 [00:00<00:00, 110.69it/s]\u001b[A\n",
      "Validation DataLoader 0:  67%|██████▋   | 2/3 [00:00<00:00, 66.62it/s] \u001b[A\n",
      "Validation DataLoader 0: 100%|██████████| 3/3 [00:00<00:00, 59.37it/s]\u001b[A\n",
      "Epoch 72: 100%|██████████| 12/12 [00:00<00:00, 28.80it/s, v_num=239]  \u001b[A"
     ]
    },
    {
     "name": "stderr",
     "output_type": "stream",
     "text": [
      "Monitored metric val_loss did not improve in the last 10 records. Best score: 0.303. Signaling Trainer to stop.\n"
     ]
    },
    {
     "name": "stdout",
     "output_type": "stream",
     "text": [
      "Epoch 72: 100%|██████████| 12/12 [00:00<00:00, 28.72it/s, v_num=239]\n"
     ]
    }
   ],
   "source": [
    "trainer.fit(scvi, data_module)"
   ]
  },
  {
   "cell_type": "code",
   "execution_count": 16,
   "id": "b0199b98-eaf9-494d-853f-29a5744b48df",
   "metadata": {},
   "outputs": [
    {
     "data": {
      "image/png": "[encoded data removed]",
      "text/plain": [
       "<Figure size 600x300 with 1 Axes>"
      ]
     },
     "metadata": {},
     "output_type": "display_data"
    },
    {
     "data": {
      "image/png": "[encoded data removed]",
      "text/plain": [
       "<Figure size 600x300 with 1 Axes>"
      ]
     },
     "metadata": {},
     "output_type": "display_data"
    }
   ],
   "source": [
    "version = max([int(d.split('_')[-1]) for d in glob('logs/metrics/version_*')])\n",
    "df = pd.read_csv(f'logs/metrics/version_{version}/metrics.csv')\n",
    "\n",
    "\n",
    "for loss_type in [\"recon\", \"kl\"]:\n",
    "    # Get specific metrics\n",
    "    train_loss = df[f'train_{loss_type}'][df[f'train_{loss_type}'] != 0.0]\n",
    "    train_step = df['step'][df[f'train_{loss_type}'] != 0.0]\n",
    "    f1 = ~train_loss.isna()\n",
    "    val_loss =  df[f'val_{loss_type}'][df[f'val_{loss_type}'] != 0.0]\n",
    "    val_step = df['step'][df[f'val_{loss_type}'] != 0.0]    \n",
    "    f2 = ~val_loss.isna()\n",
    "\n",
    "    # Plot\n",
    "    import matplotlib.pyplot as plt\n",
    "    plt.figure(figsize=(6, 3))\n",
    "    plt.plot(train_step[f1], train_loss[f1], label='Training Loss')\n",
    "    plt.plot(val_step[f2], val_loss[f2], label='Validation Loss')\n",
    "\n",
    "    plt.xlabel('Step')\n",
    "    plt.ylabel('Loss')\n",
    "    plt.title(loss_type)\n",
    "    plt.legend()"
   ]
  },
  {
   "cell_type": "code",
   "execution_count": 17,
   "id": "6424f662-970b-4aeb-af30-012094b0861f",
   "metadata": {},
   "outputs": [
    {
     "name": "stdout",
     "output_type": "stream",
     "text": [
      "0.4379069571170492\n",
      "0.30349209055559656\n",
      "0.40336864010454043\n"
     ]
    },
    {
     "data": {
      "image/png": "[encoded data removed]",
      "text/plain": [
       "<Figure size 640x480 with 2 Axes>"
      ]
     },
     "metadata": {},
     "output_type": "display_data"
    },
    {
     "data": {
      "image/png": "[encoded data removed]",
      "text/plain": [
       "<Figure size 640x480 with 2 Axes>"
      ]
     },
     "metadata": {},
     "output_type": "display_data"
    },
    {
     "data": {
      "image/png": "[encoded data removed]",
      "text/plain": [
       "<Figure size 640x480 with 2 Axes>"
      ]
     },
     "metadata": {},
     "output_type": "display_data"
    },
    {
     "data": {
      "image/png": "[encoded data removed]",
      "text/plain": [
       "<Figure size 640x480 with 2 Axes>"
      ]
     },
     "metadata": {},
     "output_type": "display_data"
    }
   ],
   "source": [
    "\n",
    "output = scvi.get_latent_embeddings(species_data)\n",
    "\n",
    "s = np.array(sum([[i]*len(adata) for i, adata in enumerate([adata1, adata2, adata3])],[]))\n",
    "\n",
    "plt.figure();\n",
    "dt_full = umap.UMAP(n_components=2).fit_transform(output.cpu().numpy())\n",
    "plt.scatter(dt_full[:,0],dt_full[:,1], c = s,s=5, cmap='rainbow'); plt.colorbar()\n",
    "\n",
    "for i, adata, key in zip([0, 1, 2], [adata1, adata2, adata3], ['cluster', 'cluster_t', 'Cluster']):\n",
    "    dt = umap.UMAP(n_components=2).fit_transform(output[s==i])\n",
    "\n",
    "    adata.obsm['emb'] = dt\n",
    "    sc.pp.neighbors(adata, use_rep='emb')\n",
    "    sc.tl.leiden(adata, flavor=\"igraph\", n_iterations=2, resolution=2)\n",
    "    print(adjusted_mutual_info_score(adata.obs[key], adata.obs['leiden']))\n",
    "    \n",
    "    plt.figure();\n",
    "    plt.scatter(dt[:,0],dt[:,1], c = adata.obs[key].cat.codes,s=5, cmap='rainbow'); plt.colorbar()\n",
    "    "
   ]
  },
  {
   "cell_type": "code",
   "execution_count": null,
   "id": "f4572f88-044c-4e3d-80f8-c5032fc68017",
   "metadata": {},
   "outputs": [],
   "source": []
  },
  {
   "cell_type": "code",
   "execution_count": null,
   "id": "92d2f680-d779-41a0-a6ce-62021bfebd69",
   "metadata": {},
   "outputs": [],
   "source": []
  },
  {
   "cell_type": "code",
   "execution_count": 20,
   "id": "e5f82ff9-efe7-4b88-a054-fb99c084a039",
   "metadata": {},
   "outputs": [],
   "source": [
    "latent = output.cpu().numpy()\n",
    "adatas = []\n",
    "for i, k in enumerate(species_data):\n",
    "    adata = species_data[k]\n",
    "    adata.obsm['emb'] = latent[s==i]\n",
    "    adata.obs['species'] = k\n",
    "    adatas.append(adata)\n",
    "\n",
    "adata = anndata.concat(adatas,join='outer')\n",
    "adata.obsm['X_umap'] = dt_full\n",
    "\n",
    "# adata.write_h5ad('test.h5ad')"
   ]
  },
  {
   "cell_type": "code",
   "execution_count": 21,
   "id": "b5d17ea2-2888-4a71-884c-2f29530b462d",
   "metadata": {},
   "outputs": [
    {
     "name": "stderr",
     "output_type": "stream",
     "text": [
      "2024-12-02 17:39:46,696 - harmonypy - INFO - Computing initial centroids with sklearn.KMeans...\n",
      "2024-12-02 17:39:46,886 - harmonypy - INFO - sklearn.KMeans initialization complete.\n",
      "2024-12-02 17:39:46,891 - harmonypy - INFO - Iteration 1 of 10\n",
      "2024-12-02 17:39:47,050 - harmonypy - INFO - Iteration 2 of 10\n",
      "2024-12-02 17:39:47,202 - harmonypy - INFO - Iteration 3 of 10\n",
      "2024-12-02 17:39:47,356 - harmonypy - INFO - Iteration 4 of 10\n",
      "2024-12-02 17:39:47,507 - harmonypy - INFO - Iteration 5 of 10\n",
      "2024-12-02 17:39:47,659 - harmonypy - INFO - Iteration 6 of 10\n",
      "2024-12-02 17:39:47,811 - harmonypy - INFO - Iteration 7 of 10\n",
      "2024-12-02 17:39:47,966 - harmonypy - INFO - Iteration 8 of 10\n",
      "2024-12-02 17:39:48,116 - harmonypy - INFO - Iteration 9 of 10\n",
      "2024-12-02 17:39:48,268 - harmonypy - INFO - Iteration 10 of 10\n",
      "2024-12-02 17:39:48,417 - harmonypy - INFO - Stopped before convergence\n"
     ]
    }
   ],
   "source": [
    "import scanpy as sc\n",
    "\n",
    "sc.external.pp.harmony_integrate(adata, \"species\", basis='emb', adjusted_basis='X_pca_harmony')"
   ]
  },
  {
   "cell_type": "code",
   "execution_count": 22,
   "id": "221f6670-5283-475b-88ff-fa7914a5ee72",
   "metadata": {},
   "outputs": [],
   "source": [
    "adata.obsm['X_umap'] = umap.UMAP().fit_transform(adata.obsm['X_pca_harmony'])"
   ]
  },
  {
   "cell_type": "code",
   "execution_count": 24,
   "id": "ccbe0e9d-b4d9-48a9-8d5c-b6e52c742d2d",
   "metadata": {},
   "outputs": [],
   "source": [
    "adata.write_h5ad('test.h5ad')"
   ]
  },
  {
   "cell_type": "code",
   "execution_count": 23,
   "id": "88e291f1-cacf-4778-bab7-e12acd64867c",
   "metadata": {},
   "outputs": [
    {
     "data": {
      "image/png": "[encoded data removed]",
      "text/plain": [
       "<Figure size 640x480 with 1 Axes>"
      ]
     },
     "metadata": {},
     "output_type": "display_data"
    }
   ],
   "source": [
    "sc.pl.umap(adata, color ='species')"
   ]
  },
  {
   "cell_type": "code",
   "execution_count": 20,
   "id": "2dbfdfc4-8d12-463f-8922-f9201b64a6b2",
   "metadata": {},
   "outputs": [
    {
     "data": {
      "text/plain": [
       "array([ 71389,      0,  62378, ...,  82299,   6656, 108745])"
      ]
     },
     "execution_count": 20,
     "metadata": {},
     "output_type": "execute_result"
    }
   ],
   "source": [
    "np.argsort(-model.homology_scores['0']['1'].detach().cpu().numpy())"
   ]
  },
  {
   "cell_type": "code",
   "execution_count": 23,
   "id": "722c4c6b-706d-4350-b3f3-f4858f4f1e5b",
   "metadata": {},
   "outputs": [
    {
     "data": {
      "text/plain": [
       "'dd_Smed_v4_2215_0_1'"
      ]
     },
     "execution_count": 23,
     "metadata": {},
     "output_type": "execute_result"
    }
   ],
   "source": [
    "adata1.var_names[7921]"
   ]
  },
  {
   "cell_type": "code",
   "execution_count": 29,
   "id": "69a30641-e1da-458b-88c7-72fd2c55c3fc",
   "metadata": {},
   "outputs": [
    {
     "data": {
      "text/plain": [
       "'Smp_135560'"
      ]
     },
     "execution_count": 29,
     "metadata": {},
     "output_type": "execute_result"
    }
   ],
   "source": [
    "adata2.var_names[3749]"
   ]
  },
  {
   "cell_type": "code",
   "execution_count": 28,
   "id": "34948d0a-2bab-414d-802a-1fba15583be4",
   "metadata": {},
   "outputs": [
    {
     "data": {
      "text/plain": [
       "tensor([5, 5])"
      ]
     },
     "execution_count": 28,
     "metadata": {},
     "output_type": "execute_result"
    }
   ],
   "source": [
    "homology_scores[0][1][[71389,0]]"
   ]
  },
  {
   "cell_type": "code",
   "execution_count": 21,
   "id": "fb1d404d-275e-4bf8-b89c-b9efa0f93226",
   "metadata": {},
   "outputs": [
    {
     "data": {
      "text/plain": [
       "tensor([[7921, 3749],\n",
       "        [   0, 1232]], dtype=torch.int32)"
      ]
     },
     "execution_count": 21,
     "metadata": {},
     "output_type": "execute_result"
    }
   ],
   "source": [
    "homology_edges[0][1][[71389,0]]"
   ]
  },
  {
   "cell_type": "code",
   "execution_count": null,
   "id": "018f2d64-9ba6-4264-948a-df11b214296f",
   "metadata": {},
   "outputs": [],
   "source": []
  },
  {
   "cell_type": "code",
   "execution_count": 10,
   "id": "22ae2452-5599-4160-a5da-7801d6666812",
   "metadata": {},
   "outputs": [],
   "source": [
    "import numpy as np\n",
    "from pynndescent import NNDescent\n",
    "\n",
    "def find_nearest_neighbors(L1, L2, n_neighbors=5, metric='euclidean'):\n",
    "    \"\"\"\n",
    "    Finds the nearest neighbors from L1 (query) to L2 (index) using pynndescent.\n",
    "\n",
    "    Parameters:\n",
    "        L1 (np.ndarray): Query embeddings of shape (num_queries, embedding_dim).\n",
    "        L2 (np.ndarray): Index embeddings of shape (num_index, embedding_dim).\n",
    "        n_neighbors (int): Number of neighbors to find. Default is 5.\n",
    "        metric (str): Distance metric to use. Default is 'euclidean'.\n",
    "\n",
    "    Returns:\n",
    "        indices (np.ndarray): Indices of nearest neighbors in L2 for each query in L1.\n",
    "        distances (np.ndarray): Distances to nearest neighbors for each query in L1.\n",
    "    \"\"\"\n",
    "    # Validate inputs\n",
    "    if not isinstance(L1, np.ndarray) or not isinstance(L2, np.ndarray):\n",
    "        raise ValueError(\"L1 and L2 must be numpy arrays.\")\n",
    "    \n",
    "    if L1.shape[1] != L2.shape[1]:\n",
    "        raise ValueError(\"L1 and L2 must have the same embedding dimension.\")\n",
    "\n",
    "    # Build the index on L2\n",
    "    index = NNDescent(L2, metric=metric, n_neighbors=n_neighbors)\n",
    "    \n",
    "    # Query the nearest neighbors for L1\n",
    "    indices, distances = index.query(L1, k=n_neighbors)\n",
    "    \n",
    "    return indices, distances\n",
    "\n",
    "latent = output.cpu().numpy()"
   ]
  },
  {
   "cell_type": "code",
   "execution_count": 11,
   "id": "1f17bb1f-fe26-4c3d-9c0a-ef5bf49f5f30",
   "metadata": {},
   "outputs": [],
   "source": [
    "indices,distances = find_nearest_neighbors(latent[s==0],latent[s==1])"
   ]
  },
  {
   "cell_type": "code",
   "execution_count": 19,
   "id": "2add3f4c-b4f8-494a-aef1-2422ea18c7f8",
   "metadata": {},
   "outputs": [],
   "source": [
    "c1 = np.array(list(adata1.obs['tissue']))\n",
    "c2 = np.array(list(adata2.obs['tissue']))\n",
    "\n",
    "A = c1[np.tile(np.arange(c1.size)[:,None],(1,5))]\n",
    "B = c2[indices]"
   ]
  },
  {
   "cell_type": "code",
   "execution_count": 26,
   "id": "32b40967-31b8-44cd-9451-32091d90ba66",
   "metadata": {},
   "outputs": [
    {
     "data": {
      "text/plain": [
       "array(['Neural--Neural', 'Neoblast--Cathepsin',\n",
       "       'Epidermal--Tegument_prog', 'Epidermal--Cathepsin',\n",
       "       'Epidermal--Neoblast', 'Cathepsin+ cells--Cathepsin',\n",
       "       'Neoblast--Intestine', 'Neural--Parenchymal',\n",
       "       'Cathepsin+ cells--Neural_KK7', 'Cathepsin+ cells--Neural',\n",
       "       'Intestine--Cathepsin', 'Muscle--Parenchymal', 'Neural--Neoblast',\n",
       "       'Muscle--Neural_KK7', 'Cathepsin+ cells--Parenchymal',\n",
       "       'Neoblast--Muscle', 'Muscle--Neoblast', 'Neural--Muscle',\n",
       "       'Pharynx--Neural', 'Muscle--Intestine', 'Neural--Flame cells',\n",
       "       'Cathepsin+ cells--Intestine', 'Parapharyngeal--Muscle',\n",
       "       'Intestine--Intestine', 'Neoblast--Neoblast', 'Neural--Cathepsin',\n",
       "       'Protonephridia--Neural', 'Parapharyngeal--Neoblast',\n",
       "       'Epidermal--Tegument', 'Muscle--Neural', 'Epidermal--Muscle',\n",
       "       'Epidermal--Neural', 'Protonephridia--Cathepsin', 'Muscle--Gland',\n",
       "       'Epidermal--Intestine', 'Intestine--Muscle',\n",
       "       'Intestine--Tegument_prog', 'Neural--Intestine',\n",
       "       'Parapharyngeal--Intestine', 'Neural--Tegument_prog',\n",
       "       'Muscle--Cathepsin', 'Pharynx--Tegument_prog',\n",
       "       'Intestine--Neural_KK7', 'Protonephridia--Parenchymal',\n",
       "       'Neural--Gland', 'Muscle--Muscle', 'Parapharyngeal--Tegument_prog',\n",
       "       'Epidermal--Gland', 'Cathepsin+ cells--Gland',\n",
       "       'Neoblast--Parenchymal', 'Parapharyngeal--Cathepsin',\n",
       "       'Intestine--Neoblast', 'Neoblast--Neural',\n",
       "       'Protonephridia--Intestine', 'Intestine--Parenchymal',\n",
       "       'Protonephridia--Muscle', 'Pharynx--Muscle',\n",
       "       'Epidermal--Flame cells', 'Cathepsin+ cells--Flame cells',\n",
       "       'Protonephridia--Neural_KK7', 'Neural--Tegument',\n",
       "       'Intestine--Neural', 'Parapharyngeal--Neural',\n",
       "       'Cathepsin+ cells--Tegument_prog', 'Cathepsin+ cells--Neoblast',\n",
       "       'Pharynx--Intestine', 'Parapharyngeal--Tegument',\n",
       "       'Cathepsin+ cells--Muscle', 'Neural--Neural_KK7',\n",
       "       'Pharynx--Tegument', 'Parapharyngeal--Parenchymal',\n",
       "       'Protonephridia--Neoblast', 'Muscle--Tegument',\n",
       "       'Pharynx--Neoblast', 'Parapharyngeal--Gland',\n",
       "       'Intestine--Flame cells', 'Intestine--Tegument',\n",
       "       'Pharynx--Cathepsin', 'Neoblast--Gland', 'Neoblast--Tegument_prog',\n",
       "       'Protonephridia--Gland', 'Pharynx--Parenchymal',\n",
       "       'Parapharyngeal--Flame cells', 'Pharynx--Flame cells',\n",
       "       'Intestine--Gland', 'Epidermal--Neural_KK7',\n",
       "       'Cathepsin+ cells--Tegument', 'Epidermal--Parenchymal',\n",
       "       'Neoblast--Neural_KK7', 'Muscle--Flame cells',\n",
       "       'Pharynx--Neural_KK7', 'Protonephridia--Tegument',\n",
       "       'Protonephridia--Tegument_prog'], dtype='<U31')"
      ]
     },
     "execution_count": 26,
     "metadata": {},
     "output_type": "execute_result"
    }
   ],
   "source": [
    "a,c = np.unique(A + '--' + B,return_counts=True)\n",
    "a[np.argsort(-c)]"
   ]
  },
  {
   "cell_type": "code",
   "execution_count": 23,
   "id": "5614a60e-b465-49b9-b22f-f1e852fe5882",
   "metadata": {},
   "outputs": [
    {
     "data": {
      "text/html": [
       "<div>\n",
       "<style scoped>\n",
       "    .dataframe tbody tr th:only-of-type {\n",
       "        vertical-align: middle;\n",
       "    }\n",
       "\n",
       "    .dataframe tbody tr th {\n",
       "        vertical-align: top;\n",
       "    }\n",
       "\n",
       "    .dataframe thead th {\n",
       "        text-align: right;\n",
       "    }\n",
       "</style>\n",
       "<table border=\"1\" class=\"dataframe\">\n",
       "  <thead>\n",
       "    <tr style=\"text-align: right;\">\n",
       "      <th></th>\n",
       "      <th>0</th>\n",
       "      <th>1</th>\n",
       "      <th>2</th>\n",
       "      <th>3</th>\n",
       "      <th>4</th>\n",
       "    </tr>\n",
       "  </thead>\n",
       "  <tbody>\n",
       "    <tr>\n",
       "      <th>0</th>\n",
       "      <td>Intestine</td>\n",
       "      <td>Cathepsin</td>\n",
       "      <td>Cathepsin</td>\n",
       "      <td>Neural_KK7</td>\n",
       "      <td>Cathepsin</td>\n",
       "    </tr>\n",
       "    <tr>\n",
       "      <th>1</th>\n",
       "      <td>Intestine</td>\n",
       "      <td>Cathepsin</td>\n",
       "      <td>Cathepsin</td>\n",
       "      <td>Neural_KK7</td>\n",
       "      <td>Cathepsin</td>\n",
       "    </tr>\n",
       "    <tr>\n",
       "      <th>2</th>\n",
       "      <td>Muscle</td>\n",
       "      <td>Intestine</td>\n",
       "      <td>Cathepsin</td>\n",
       "      <td>Cathepsin</td>\n",
       "      <td>Cathepsin</td>\n",
       "    </tr>\n",
       "    <tr>\n",
       "      <th>3</th>\n",
       "      <td>Cathepsin</td>\n",
       "      <td>Neoblast</td>\n",
       "      <td>Tegument_prog</td>\n",
       "      <td>Neoblast</td>\n",
       "      <td>Tegument_prog</td>\n",
       "    </tr>\n",
       "    <tr>\n",
       "      <th>4</th>\n",
       "      <td>Muscle</td>\n",
       "      <td>Cathepsin</td>\n",
       "      <td>Intestine</td>\n",
       "      <td>Cathepsin</td>\n",
       "      <td>Intestine</td>\n",
       "    </tr>\n",
       "    <tr>\n",
       "      <th>5</th>\n",
       "      <td>Muscle</td>\n",
       "      <td>Intestine</td>\n",
       "      <td>Muscle</td>\n",
       "      <td>Neural</td>\n",
       "      <td>Cathepsin</td>\n",
       "    </tr>\n",
       "    <tr>\n",
       "      <th>6</th>\n",
       "      <td>Cathepsin</td>\n",
       "      <td>Intestine</td>\n",
       "      <td>Cathepsin</td>\n",
       "      <td>Cathepsin</td>\n",
       "      <td>Parenchymal</td>\n",
       "    </tr>\n",
       "    <tr>\n",
       "      <th>7</th>\n",
       "      <td>Muscle</td>\n",
       "      <td>Neoblast</td>\n",
       "      <td>Parenchymal</td>\n",
       "      <td>Cathepsin</td>\n",
       "      <td>Neural</td>\n",
       "    </tr>\n",
       "    <tr>\n",
       "      <th>8</th>\n",
       "      <td>Cathepsin</td>\n",
       "      <td>Cathepsin</td>\n",
       "      <td>Intestine</td>\n",
       "      <td>Cathepsin</td>\n",
       "      <td>Cathepsin</td>\n",
       "    </tr>\n",
       "    <tr>\n",
       "      <th>9</th>\n",
       "      <td>Neural_KK7</td>\n",
       "      <td>Cathepsin</td>\n",
       "      <td>Gland</td>\n",
       "      <td>Neural_KK7</td>\n",
       "      <td>Parenchymal</td>\n",
       "    </tr>\n",
       "    <tr>\n",
       "      <th>10</th>\n",
       "      <td>Intestine</td>\n",
       "      <td>Intestine</td>\n",
       "      <td>Parenchymal</td>\n",
       "      <td>Neural_KK7</td>\n",
       "      <td>Neural_KK7</td>\n",
       "    </tr>\n",
       "    <tr>\n",
       "      <th>11</th>\n",
       "      <td>Cathepsin</td>\n",
       "      <td>Cathepsin</td>\n",
       "      <td>Intestine</td>\n",
       "      <td>Cathepsin</td>\n",
       "      <td>Gland</td>\n",
       "    </tr>\n",
       "    <tr>\n",
       "      <th>12</th>\n",
       "      <td>Cathepsin</td>\n",
       "      <td>Cathepsin</td>\n",
       "      <td>Intestine</td>\n",
       "      <td>Intestine</td>\n",
       "      <td>Cathepsin</td>\n",
       "    </tr>\n",
       "    <tr>\n",
       "      <th>13</th>\n",
       "      <td>Cathepsin</td>\n",
       "      <td>Tegument_prog</td>\n",
       "      <td>Neoblast</td>\n",
       "      <td>Neoblast</td>\n",
       "      <td>Tegument_prog</td>\n",
       "    </tr>\n",
       "    <tr>\n",
       "      <th>14</th>\n",
       "      <td>Cathepsin</td>\n",
       "      <td>Neoblast</td>\n",
       "      <td>Tegument_prog</td>\n",
       "      <td>Tegument_prog</td>\n",
       "      <td>Tegument_prog</td>\n",
       "    </tr>\n",
       "    <tr>\n",
       "      <th>15</th>\n",
       "      <td>Muscle</td>\n",
       "      <td>Intestine</td>\n",
       "      <td>Neural</td>\n",
       "      <td>Muscle</td>\n",
       "      <td>Cathepsin</td>\n",
       "    </tr>\n",
       "    <tr>\n",
       "      <th>16</th>\n",
       "      <td>Muscle</td>\n",
       "      <td>Neoblast</td>\n",
       "      <td>Parenchymal</td>\n",
       "      <td>Parenchymal</td>\n",
       "      <td>Intestine</td>\n",
       "    </tr>\n",
       "    <tr>\n",
       "      <th>17</th>\n",
       "      <td>Cathepsin</td>\n",
       "      <td>Neoblast</td>\n",
       "      <td>Tegument_prog</td>\n",
       "      <td>Tegument_prog</td>\n",
       "      <td>Tegument_prog</td>\n",
       "    </tr>\n",
       "    <tr>\n",
       "      <th>18</th>\n",
       "      <td>Neural</td>\n",
       "      <td>Neural</td>\n",
       "      <td>Parenchymal</td>\n",
       "      <td>Neural</td>\n",
       "      <td>Intestine</td>\n",
       "    </tr>\n",
       "    <tr>\n",
       "      <th>19</th>\n",
       "      <td>Cathepsin</td>\n",
       "      <td>Neoblast</td>\n",
       "      <td>Tegument_prog</td>\n",
       "      <td>Neoblast</td>\n",
       "      <td>Neoblast</td>\n",
       "    </tr>\n",
       "  </tbody>\n",
       "</table>\n",
       "</div>"
      ],
      "text/plain": [
       "             0              1              2              3              4\n",
       "0    Intestine      Cathepsin      Cathepsin     Neural_KK7      Cathepsin\n",
       "1    Intestine      Cathepsin      Cathepsin     Neural_KK7      Cathepsin\n",
       "2       Muscle      Intestine      Cathepsin      Cathepsin      Cathepsin\n",
       "3    Cathepsin       Neoblast  Tegument_prog       Neoblast  Tegument_prog\n",
       "4       Muscle      Cathepsin      Intestine      Cathepsin      Intestine\n",
       "5       Muscle      Intestine         Muscle         Neural      Cathepsin\n",
       "6    Cathepsin      Intestine      Cathepsin      Cathepsin    Parenchymal\n",
       "7       Muscle       Neoblast    Parenchymal      Cathepsin         Neural\n",
       "8    Cathepsin      Cathepsin      Intestine      Cathepsin      Cathepsin\n",
       "9   Neural_KK7      Cathepsin          Gland     Neural_KK7    Parenchymal\n",
       "10   Intestine      Intestine    Parenchymal     Neural_KK7     Neural_KK7\n",
       "11   Cathepsin      Cathepsin      Intestine      Cathepsin          Gland\n",
       "12   Cathepsin      Cathepsin      Intestine      Intestine      Cathepsin\n",
       "13   Cathepsin  Tegument_prog       Neoblast       Neoblast  Tegument_prog\n",
       "14   Cathepsin       Neoblast  Tegument_prog  Tegument_prog  Tegument_prog\n",
       "15      Muscle      Intestine         Neural         Muscle      Cathepsin\n",
       "16      Muscle       Neoblast    Parenchymal    Parenchymal      Intestine\n",
       "17   Cathepsin       Neoblast  Tegument_prog  Tegument_prog  Tegument_prog\n",
       "18      Neural         Neural    Parenchymal         Neural      Intestine\n",
       "19   Cathepsin       Neoblast  Tegument_prog       Neoblast       Neoblast"
      ]
     },
     "execution_count": 23,
     "metadata": {},
     "output_type": "execute_result"
    }
   ],
   "source": [
    "pd.DataFrame(B[:20])"
   ]
  },
  {
   "cell_type": "code",
   "execution_count": 15,
   "id": "673f940d-e079-41ac-8825-b8af71187160",
   "metadata": {},
   "outputs": [
    {
     "data": {
      "text/plain": [
       "(1049, 5)"
      ]
     },
     "execution_count": 15,
     "metadata": {},
     "output_type": "execute_result"
    }
   ],
   "source": [
    "B.shape"
   ]
  },
  {
   "cell_type": "code",
   "execution_count": 41,
   "id": "f0a40699-bd3b-40b8-897c-23ba94c01b29",
   "metadata": {},
   "outputs": [],
   "source": [
    "A1 = A[:1049].copy()\n",
    "A1[i1 < 1049] = \"nan\"\n",
    "\n",
    "B1 = B[:1049].copy()\n",
    "B1[i1 < 1049] = \"nan\"\n",
    "\n",
    "B1[:,0] = B[:1049,0]"
   ]
  },
  {
   "cell_type": "code",
   "execution_count": 46,
   "id": "0896c0ab-6945-4ca8-9e86-64b434f10a58",
   "metadata": {},
   "outputs": [
    {
     "data": {
      "text/plain": [
       "array([[   0,  293,  544,  531,  306],\n",
       "       [   1,  449,  760,  329,  104],\n",
       "       [   2,    5,  678,  840,  669],\n",
       "       ...,\n",
       "       [1046, 1509, 1841, 1347, 1924],\n",
       "       [1047,  234,  412,  984,  479],\n",
       "       [1048, 1001,  286,  966,  806]], dtype=int32)"
      ]
     },
     "execution_count": 46,
     "metadata": {},
     "output_type": "execute_result"
    }
   ],
   "source": [
    "i1"
   ]
  },
  {
   "cell_type": "code",
   "execution_count": 43,
   "id": "a707c4bd-b2a6-4811-a90f-da983ba627bd",
   "metadata": {},
   "outputs": [
    {
     "data": {
      "text/html": [
       "<div>\n",
       "<style scoped>\n",
       "    .dataframe tbody tr th:only-of-type {\n",
       "        vertical-align: middle;\n",
       "    }\n",
       "\n",
       "    .dataframe tbody tr th {\n",
       "        vertical-align: top;\n",
       "    }\n",
       "\n",
       "    .dataframe thead th {\n",
       "        text-align: right;\n",
       "    }\n",
       "</style>\n",
       "<table border=\"1\" class=\"dataframe\">\n",
       "  <thead>\n",
       "    <tr style=\"text-align: right;\">\n",
       "      <th></th>\n",
       "      <th>0</th>\n",
       "      <th>1</th>\n",
       "      <th>2</th>\n",
       "      <th>3</th>\n",
       "      <th>4</th>\n",
       "    </tr>\n",
       "  </thead>\n",
       "  <tbody>\n",
       "    <tr>\n",
       "      <th>0</th>\n",
       "      <td>Neural: 1</td>\n",
       "      <td>nan</td>\n",
       "      <td>nan</td>\n",
       "      <td>nan</td>\n",
       "      <td>Neural: 23</td>\n",
       "    </tr>\n",
       "    <tr>\n",
       "      <th>1</th>\n",
       "      <td>Pharynx: 25</td>\n",
       "      <td>nan</td>\n",
       "      <td>nan</td>\n",
       "      <td>nan</td>\n",
       "      <td>Parapharyngeal: 12</td>\n",
       "    </tr>\n",
       "    <tr>\n",
       "      <th>2</th>\n",
       "      <td>Parapharyngeal: 12</td>\n",
       "      <td>nan</td>\n",
       "      <td>Parapharyngeal: 12</td>\n",
       "      <td>Parapharyngeal: 12</td>\n",
       "      <td>Neoblast: 0</td>\n",
       "    </tr>\n",
       "    <tr>\n",
       "      <th>3</th>\n",
       "      <td>Neural: 1</td>\n",
       "      <td>nan</td>\n",
       "      <td>Parapharyngeal: 12</td>\n",
       "      <td>i_smgc1</td>\n",
       "      <td>nan</td>\n",
       "    </tr>\n",
       "    <tr>\n",
       "      <th>4</th>\n",
       "      <td>Protonephridia: 26</td>\n",
       "      <td>Neoblast: 0</td>\n",
       "      <td>Neoblast: 0</td>\n",
       "      <td>Neoblast: 0</td>\n",
       "      <td>nan</td>\n",
       "    </tr>\n",
       "    <tr>\n",
       "      <th>5</th>\n",
       "      <td>Neural: 9</td>\n",
       "      <td>nan</td>\n",
       "      <td>nan</td>\n",
       "      <td>nan</td>\n",
       "      <td>Neural: 20</td>\n",
       "    </tr>\n",
       "    <tr>\n",
       "      <th>6</th>\n",
       "      <td>Neural: 9</td>\n",
       "      <td>nan</td>\n",
       "      <td>nan</td>\n",
       "      <td>nan</td>\n",
       "      <td>Neural: 23</td>\n",
       "    </tr>\n",
       "    <tr>\n",
       "      <th>7</th>\n",
       "      <td>Neoblast: 5</td>\n",
       "      <td>Muscle: 14</td>\n",
       "      <td>Muscle: 14</td>\n",
       "      <td>Muscle: 14</td>\n",
       "      <td>Muscle: 14</td>\n",
       "    </tr>\n",
       "    <tr>\n",
       "      <th>8</th>\n",
       "      <td>Parapharyngeal: 12</td>\n",
       "      <td>nan</td>\n",
       "      <td>nan</td>\n",
       "      <td>Parapharyngeal: 12</td>\n",
       "      <td>Muscle: 14</td>\n",
       "    </tr>\n",
       "    <tr>\n",
       "      <th>9</th>\n",
       "      <td>Neural: 36</td>\n",
       "      <td>nan</td>\n",
       "      <td>nan</td>\n",
       "      <td>enEp_head</td>\n",
       "      <td>nan</td>\n",
       "    </tr>\n",
       "    <tr>\n",
       "      <th>10</th>\n",
       "      <td>Cathepsin+ cells: 4</td>\n",
       "      <td>i_mgl</td>\n",
       "      <td>i_nc_gc_prog</td>\n",
       "      <td>i_SC</td>\n",
       "      <td>i_nb1</td>\n",
       "    </tr>\n",
       "    <tr>\n",
       "      <th>11</th>\n",
       "      <td>Epidermal: 3</td>\n",
       "      <td>nan</td>\n",
       "      <td>Muscle: 7</td>\n",
       "      <td>i_nc1</td>\n",
       "      <td>i_nc1</td>\n",
       "    </tr>\n",
       "    <tr>\n",
       "      <th>12</th>\n",
       "      <td>Cathepsin+ cells: 4</td>\n",
       "      <td>Muscle: 14</td>\n",
       "      <td>Muscle: 14</td>\n",
       "      <td>Muscle: 14</td>\n",
       "      <td>Muscle: 14</td>\n",
       "    </tr>\n",
       "    <tr>\n",
       "      <th>13</th>\n",
       "      <td>Pharynx: 25</td>\n",
       "      <td>nan</td>\n",
       "      <td>nan</td>\n",
       "      <td>nan</td>\n",
       "      <td>Parapharyngeal: 12</td>\n",
       "    </tr>\n",
       "    <tr>\n",
       "      <th>14</th>\n",
       "      <td>Epidermal: 35</td>\n",
       "      <td>Neoblast: 0</td>\n",
       "      <td>Parapharyngeal: 12</td>\n",
       "      <td>Neoblast: 0</td>\n",
       "      <td>Neoblast: 0</td>\n",
       "    </tr>\n",
       "    <tr>\n",
       "      <th>15</th>\n",
       "      <td>Neural: 1</td>\n",
       "      <td>Epidermal: 2</td>\n",
       "      <td>Muscle: 14</td>\n",
       "      <td>Parapharyngeal: 12</td>\n",
       "      <td>Muscle: 14</td>\n",
       "    </tr>\n",
       "    <tr>\n",
       "      <th>16</th>\n",
       "      <td>Muscle: 7</td>\n",
       "      <td>i_nc_prog</td>\n",
       "      <td>i_nc_prog</td>\n",
       "      <td>i_nc_gc_prog</td>\n",
       "      <td>i_nc_gc_prog</td>\n",
       "    </tr>\n",
       "    <tr>\n",
       "      <th>17</th>\n",
       "      <td>Cathepsin+ cells: 4</td>\n",
       "      <td>nan</td>\n",
       "      <td>i_nb4</td>\n",
       "      <td>i_nb4</td>\n",
       "      <td>i_nb4</td>\n",
       "    </tr>\n",
       "    <tr>\n",
       "      <th>18</th>\n",
       "      <td>Muscle: 7</td>\n",
       "      <td>nan</td>\n",
       "      <td>i_nc_gc_prog</td>\n",
       "      <td>i_nc_gc_prog</td>\n",
       "      <td>i_smgc2</td>\n",
       "    </tr>\n",
       "    <tr>\n",
       "      <th>19</th>\n",
       "      <td>Neural: 9</td>\n",
       "      <td>nan</td>\n",
       "      <td>nan</td>\n",
       "      <td>nan</td>\n",
       "      <td>Neural: 23</td>\n",
       "    </tr>\n",
       "    <tr>\n",
       "      <th>20</th>\n",
       "      <td>Neural: 9</td>\n",
       "      <td>nan</td>\n",
       "      <td>Neural: 23</td>\n",
       "      <td>nan</td>\n",
       "      <td>Neural: 23</td>\n",
       "    </tr>\n",
       "    <tr>\n",
       "      <th>21</th>\n",
       "      <td>Neural: 32</td>\n",
       "      <td>Neural: 8</td>\n",
       "      <td>i_zmg2</td>\n",
       "      <td>i_gmgc</td>\n",
       "      <td>i_gmgc</td>\n",
       "    </tr>\n",
       "    <tr>\n",
       "      <th>22</th>\n",
       "      <td>Pharynx: 25</td>\n",
       "      <td>nan</td>\n",
       "      <td>nan</td>\n",
       "      <td>nan</td>\n",
       "      <td>Parapharyngeal: 12</td>\n",
       "    </tr>\n",
       "    <tr>\n",
       "      <th>23</th>\n",
       "      <td>Intestine: 6</td>\n",
       "      <td>Neural: 32</td>\n",
       "      <td>Cathepsin+ cells: 10</td>\n",
       "      <td>Neural: 32</td>\n",
       "      <td>Neural: 1</td>\n",
       "    </tr>\n",
       "    <tr>\n",
       "      <th>24</th>\n",
       "      <td>Neural: 1</td>\n",
       "      <td>ecEp_nem1(pd)</td>\n",
       "      <td>ecEp_SC2</td>\n",
       "      <td>ecEp_nem1(pd)</td>\n",
       "      <td>ecEp_head</td>\n",
       "    </tr>\n",
       "    <tr>\n",
       "      <th>25</th>\n",
       "      <td>Neural: 1</td>\n",
       "      <td>nan</td>\n",
       "      <td>Intestine: 30</td>\n",
       "      <td>nan</td>\n",
       "      <td>nan</td>\n",
       "    </tr>\n",
       "    <tr>\n",
       "      <th>26</th>\n",
       "      <td>Parapharyngeal: 12</td>\n",
       "      <td>nan</td>\n",
       "      <td>nan</td>\n",
       "      <td>Intestine: 30</td>\n",
       "      <td>nan</td>\n",
       "    </tr>\n",
       "    <tr>\n",
       "      <th>27</th>\n",
       "      <td>Epidermal: 3</td>\n",
       "      <td>nan</td>\n",
       "      <td>i_nc_gc_prog</td>\n",
       "      <td>nan</td>\n",
       "      <td>i_smgc2</td>\n",
       "    </tr>\n",
       "    <tr>\n",
       "      <th>28</th>\n",
       "      <td>Protonephridia: 26</td>\n",
       "      <td>nan</td>\n",
       "      <td>Neoblast: 0</td>\n",
       "      <td>Parapharyngeal: 12</td>\n",
       "      <td>Neoblast: 0</td>\n",
       "    </tr>\n",
       "    <tr>\n",
       "      <th>29</th>\n",
       "      <td>Neural: 1</td>\n",
       "      <td>Protonephridia: 29</td>\n",
       "      <td>Protonephridia: 29</td>\n",
       "      <td>Protonephridia: 29</td>\n",
       "      <td>Protonephridia: 29</td>\n",
       "    </tr>\n",
       "    <tr>\n",
       "      <th>30</th>\n",
       "      <td>Muscle: 7</td>\n",
       "      <td>enEp_SC3</td>\n",
       "      <td>enEp_SC3</td>\n",
       "      <td>enEp_SC3</td>\n",
       "      <td>enEp_SC3</td>\n",
       "    </tr>\n",
       "    <tr>\n",
       "      <th>31</th>\n",
       "      <td>Epidermal: 24</td>\n",
       "      <td>nan</td>\n",
       "      <td>Neoblast: 0</td>\n",
       "      <td>Neoblast: 0</td>\n",
       "      <td>Neoblast: 0</td>\n",
       "    </tr>\n",
       "    <tr>\n",
       "      <th>32</th>\n",
       "      <td>Protonephridia: 26</td>\n",
       "      <td>Neoblast: 0</td>\n",
       "      <td>nan</td>\n",
       "      <td>Parapharyngeal: 12</td>\n",
       "      <td>Epidermal: 3</td>\n",
       "    </tr>\n",
       "    <tr>\n",
       "      <th>33</th>\n",
       "      <td>Epidermal: 24</td>\n",
       "      <td>nan</td>\n",
       "      <td>i_nc_prog</td>\n",
       "      <td>i_nc_prog</td>\n",
       "      <td>i_nc_prog</td>\n",
       "    </tr>\n",
       "    <tr>\n",
       "      <th>34</th>\n",
       "      <td>Parapharyngeal: 12</td>\n",
       "      <td>nan</td>\n",
       "      <td>Parapharyngeal: 12</td>\n",
       "      <td>Muscle: 14</td>\n",
       "      <td>Muscle: 14</td>\n",
       "    </tr>\n",
       "    <tr>\n",
       "      <th>35</th>\n",
       "      <td>Neural: 1</td>\n",
       "      <td>enEp_SC2</td>\n",
       "      <td>nan</td>\n",
       "      <td>enEp_foot</td>\n",
       "      <td>enEp_head</td>\n",
       "    </tr>\n",
       "    <tr>\n",
       "      <th>36</th>\n",
       "      <td>Intestine: 19</td>\n",
       "      <td>i_nc6</td>\n",
       "      <td>i_nc6</td>\n",
       "      <td>i_nc6</td>\n",
       "      <td>i_nc2</td>\n",
       "    </tr>\n",
       "    <tr>\n",
       "      <th>37</th>\n",
       "      <td>Pharynx: 25</td>\n",
       "      <td>nan</td>\n",
       "      <td>nan</td>\n",
       "      <td>Parapharyngeal: 12</td>\n",
       "      <td>nan</td>\n",
       "    </tr>\n",
       "    <tr>\n",
       "      <th>38</th>\n",
       "      <td>Protonephridia: 26</td>\n",
       "      <td>Neoblast: 0</td>\n",
       "      <td>Neoblast: 0</td>\n",
       "      <td>Neoblast: 0</td>\n",
       "      <td>Neoblast: 0</td>\n",
       "    </tr>\n",
       "    <tr>\n",
       "      <th>39</th>\n",
       "      <td>Neural: 1</td>\n",
       "      <td>Neural: 20</td>\n",
       "      <td>Neural: 8</td>\n",
       "      <td>Neural: 8</td>\n",
       "      <td>Neural: 8</td>\n",
       "    </tr>\n",
       "    <tr>\n",
       "      <th>40</th>\n",
       "      <td>Neural: 8</td>\n",
       "      <td>Neural: 20</td>\n",
       "      <td>Intestine: 30</td>\n",
       "      <td>Protonephridia: 29</td>\n",
       "      <td>Neural: 8</td>\n",
       "    </tr>\n",
       "    <tr>\n",
       "      <th>41</th>\n",
       "      <td>Muscle: 7</td>\n",
       "      <td>nan</td>\n",
       "      <td>i_smgc2</td>\n",
       "      <td>i_nc_gc_prog</td>\n",
       "      <td>i_nc_gc_prog</td>\n",
       "    </tr>\n",
       "    <tr>\n",
       "      <th>42</th>\n",
       "      <td>Neural: 8</td>\n",
       "      <td>nan</td>\n",
       "      <td>nan</td>\n",
       "      <td>Intestine: 30</td>\n",
       "      <td>Intestine: 30</td>\n",
       "    </tr>\n",
       "    <tr>\n",
       "      <th>43</th>\n",
       "      <td>Muscle: 7</td>\n",
       "      <td>enEp_nem2(pd)</td>\n",
       "      <td>i_fmgl2_nurse</td>\n",
       "      <td>enEp_SC3</td>\n",
       "      <td>nan</td>\n",
       "    </tr>\n",
       "    <tr>\n",
       "      <th>44</th>\n",
       "      <td>Parapharyngeal: 12</td>\n",
       "      <td>nan</td>\n",
       "      <td>nan</td>\n",
       "      <td>ecEp_nem2(id)</td>\n",
       "      <td>ecEp_bat2(mp)</td>\n",
       "    </tr>\n",
       "    <tr>\n",
       "      <th>45</th>\n",
       "      <td>Parapharyngeal: 12</td>\n",
       "      <td>nan</td>\n",
       "      <td>Intestine: 30</td>\n",
       "      <td>nan</td>\n",
       "      <td>Neural: 18</td>\n",
       "    </tr>\n",
       "    <tr>\n",
       "      <th>46</th>\n",
       "      <td>Epidermal: 24</td>\n",
       "      <td>nan</td>\n",
       "      <td>i_nc_prog</td>\n",
       "      <td>i_nc3</td>\n",
       "      <td>i_nc_prog</td>\n",
       "    </tr>\n",
       "    <tr>\n",
       "      <th>47</th>\n",
       "      <td>Parapharyngeal: 12</td>\n",
       "      <td>nan</td>\n",
       "      <td>nan</td>\n",
       "      <td>Intestine: 30</td>\n",
       "      <td>Neural: 18</td>\n",
       "    </tr>\n",
       "    <tr>\n",
       "      <th>48</th>\n",
       "      <td>Neural: 1</td>\n",
       "      <td>i_zmg1</td>\n",
       "      <td>Parapharyngeal: 12</td>\n",
       "      <td>Muscle: 14</td>\n",
       "      <td>Muscle: 14</td>\n",
       "    </tr>\n",
       "    <tr>\n",
       "      <th>49</th>\n",
       "      <td>Epidermal: 3</td>\n",
       "      <td>Parapharyngeal: 12</td>\n",
       "      <td>Parapharyngeal: 12</td>\n",
       "      <td>Parapharyngeal: 12</td>\n",
       "      <td>Parapharyngeal: 12</td>\n",
       "    </tr>\n",
       "    <tr>\n",
       "      <th>50</th>\n",
       "      <td>Protonephridia: 26</td>\n",
       "      <td>Parapharyngeal: 12</td>\n",
       "      <td>Parapharyngeal: 12</td>\n",
       "      <td>Parapharyngeal: 12</td>\n",
       "      <td>Parapharyngeal: 12</td>\n",
       "    </tr>\n",
       "    <tr>\n",
       "      <th>51</th>\n",
       "      <td>Neural: 23</td>\n",
       "      <td>nan</td>\n",
       "      <td>nan</td>\n",
       "      <td>Neural: 23</td>\n",
       "      <td>nan</td>\n",
       "    </tr>\n",
       "    <tr>\n",
       "      <th>52</th>\n",
       "      <td>Epidermal: 2</td>\n",
       "      <td>nan</td>\n",
       "      <td>nan</td>\n",
       "      <td>nan</td>\n",
       "      <td>i_nc7</td>\n",
       "    </tr>\n",
       "    <tr>\n",
       "      <th>53</th>\n",
       "      <td>Parapharyngeal: 12</td>\n",
       "      <td>nan</td>\n",
       "      <td>enEp_SC3</td>\n",
       "      <td>nan</td>\n",
       "      <td>enEp_SC3</td>\n",
       "    </tr>\n",
       "    <tr>\n",
       "      <th>54</th>\n",
       "      <td>Muscle: 14</td>\n",
       "      <td>enEp_head</td>\n",
       "      <td>enEp_head</td>\n",
       "      <td>enEp_head</td>\n",
       "      <td>enEp_head</td>\n",
       "    </tr>\n",
       "    <tr>\n",
       "      <th>55</th>\n",
       "      <td>Neural: 18</td>\n",
       "      <td>Intestine: 30</td>\n",
       "      <td>Parapharyngeal: 12</td>\n",
       "      <td>Parapharyngeal: 12</td>\n",
       "      <td>Neural: 20</td>\n",
       "    </tr>\n",
       "    <tr>\n",
       "      <th>56</th>\n",
       "      <td>Muscle: 7</td>\n",
       "      <td>nan</td>\n",
       "      <td>enEp_head</td>\n",
       "      <td>enEp_foot</td>\n",
       "      <td>enEp_head</td>\n",
       "    </tr>\n",
       "    <tr>\n",
       "      <th>57</th>\n",
       "      <td>Epidermal: 3</td>\n",
       "      <td>Parapharyngeal: 12</td>\n",
       "      <td>Parapharyngeal: 12</td>\n",
       "      <td>Parapharyngeal: 12</td>\n",
       "      <td>Parapharyngeal: 12</td>\n",
       "    </tr>\n",
       "  </tbody>\n",
       "</table>\n",
       "</div>"
      ],
      "text/plain": [
       "                      0                   1                     2  \\\n",
       "0             Neural: 1                 nan                   nan   \n",
       "1           Pharynx: 25                 nan                   nan   \n",
       "2    Parapharyngeal: 12                 nan    Parapharyngeal: 12   \n",
       "3             Neural: 1                 nan    Parapharyngeal: 12   \n",
       "4    Protonephridia: 26         Neoblast: 0           Neoblast: 0   \n",
       "5             Neural: 9                 nan                   nan   \n",
       "6             Neural: 9                 nan                   nan   \n",
       "7           Neoblast: 5          Muscle: 14            Muscle: 14   \n",
       "8    Parapharyngeal: 12                 nan                   nan   \n",
       "9            Neural: 36                 nan                   nan   \n",
       "10  Cathepsin+ cells: 4               i_mgl          i_nc_gc_prog   \n",
       "11         Epidermal: 3                 nan             Muscle: 7   \n",
       "12  Cathepsin+ cells: 4          Muscle: 14            Muscle: 14   \n",
       "13          Pharynx: 25                 nan                   nan   \n",
       "14        Epidermal: 35         Neoblast: 0    Parapharyngeal: 12   \n",
       "15            Neural: 1        Epidermal: 2            Muscle: 14   \n",
       "16            Muscle: 7           i_nc_prog             i_nc_prog   \n",
       "17  Cathepsin+ cells: 4                 nan                 i_nb4   \n",
       "18            Muscle: 7                 nan          i_nc_gc_prog   \n",
       "19            Neural: 9                 nan                   nan   \n",
       "20            Neural: 9                 nan            Neural: 23   \n",
       "21           Neural: 32           Neural: 8                i_zmg2   \n",
       "22          Pharynx: 25                 nan                   nan   \n",
       "23         Intestine: 6          Neural: 32  Cathepsin+ cells: 10   \n",
       "24            Neural: 1       ecEp_nem1(pd)              ecEp_SC2   \n",
       "25            Neural: 1                 nan         Intestine: 30   \n",
       "26   Parapharyngeal: 12                 nan                   nan   \n",
       "27         Epidermal: 3                 nan          i_nc_gc_prog   \n",
       "28   Protonephridia: 26                 nan           Neoblast: 0   \n",
       "29            Neural: 1  Protonephridia: 29    Protonephridia: 29   \n",
       "30            Muscle: 7            enEp_SC3              enEp_SC3   \n",
       "31        Epidermal: 24                 nan           Neoblast: 0   \n",
       "32   Protonephridia: 26         Neoblast: 0                   nan   \n",
       "33        Epidermal: 24                 nan             i_nc_prog   \n",
       "34   Parapharyngeal: 12                 nan    Parapharyngeal: 12   \n",
       "35            Neural: 1            enEp_SC2                   nan   \n",
       "36        Intestine: 19               i_nc6                 i_nc6   \n",
       "37          Pharynx: 25                 nan                   nan   \n",
       "38   Protonephridia: 26         Neoblast: 0           Neoblast: 0   \n",
       "39            Neural: 1          Neural: 20             Neural: 8   \n",
       "40            Neural: 8          Neural: 20         Intestine: 30   \n",
       "41            Muscle: 7                 nan               i_smgc2   \n",
       "42            Neural: 8                 nan                   nan   \n",
       "43            Muscle: 7       enEp_nem2(pd)         i_fmgl2_nurse   \n",
       "44   Parapharyngeal: 12                 nan                   nan   \n",
       "45   Parapharyngeal: 12                 nan         Intestine: 30   \n",
       "46        Epidermal: 24                 nan             i_nc_prog   \n",
       "47   Parapharyngeal: 12                 nan                   nan   \n",
       "48            Neural: 1              i_zmg1    Parapharyngeal: 12   \n",
       "49         Epidermal: 3  Parapharyngeal: 12    Parapharyngeal: 12   \n",
       "50   Protonephridia: 26  Parapharyngeal: 12    Parapharyngeal: 12   \n",
       "51           Neural: 23                 nan                   nan   \n",
       "52         Epidermal: 2                 nan                   nan   \n",
       "53   Parapharyngeal: 12                 nan              enEp_SC3   \n",
       "54           Muscle: 14           enEp_head             enEp_head   \n",
       "55           Neural: 18       Intestine: 30    Parapharyngeal: 12   \n",
       "56            Muscle: 7                 nan             enEp_head   \n",
       "57         Epidermal: 3  Parapharyngeal: 12    Parapharyngeal: 12   \n",
       "\n",
       "                     3                   4  \n",
       "0                  nan          Neural: 23  \n",
       "1                  nan  Parapharyngeal: 12  \n",
       "2   Parapharyngeal: 12         Neoblast: 0  \n",
       "3              i_smgc1                 nan  \n",
       "4          Neoblast: 0                 nan  \n",
       "5                  nan          Neural: 20  \n",
       "6                  nan          Neural: 23  \n",
       "7           Muscle: 14          Muscle: 14  \n",
       "8   Parapharyngeal: 12          Muscle: 14  \n",
       "9            enEp_head                 nan  \n",
       "10                i_SC               i_nb1  \n",
       "11               i_nc1               i_nc1  \n",
       "12          Muscle: 14          Muscle: 14  \n",
       "13                 nan  Parapharyngeal: 12  \n",
       "14         Neoblast: 0         Neoblast: 0  \n",
       "15  Parapharyngeal: 12          Muscle: 14  \n",
       "16        i_nc_gc_prog        i_nc_gc_prog  \n",
       "17               i_nb4               i_nb4  \n",
       "18        i_nc_gc_prog             i_smgc2  \n",
       "19                 nan          Neural: 23  \n",
       "20                 nan          Neural: 23  \n",
       "21              i_gmgc              i_gmgc  \n",
       "22                 nan  Parapharyngeal: 12  \n",
       "23          Neural: 32           Neural: 1  \n",
       "24       ecEp_nem1(pd)           ecEp_head  \n",
       "25                 nan                 nan  \n",
       "26       Intestine: 30                 nan  \n",
       "27                 nan             i_smgc2  \n",
       "28  Parapharyngeal: 12         Neoblast: 0  \n",
       "29  Protonephridia: 29  Protonephridia: 29  \n",
       "30            enEp_SC3            enEp_SC3  \n",
       "31         Neoblast: 0         Neoblast: 0  \n",
       "32  Parapharyngeal: 12        Epidermal: 3  \n",
       "33           i_nc_prog           i_nc_prog  \n",
       "34          Muscle: 14          Muscle: 14  \n",
       "35           enEp_foot           enEp_head  \n",
       "36               i_nc6               i_nc2  \n",
       "37  Parapharyngeal: 12                 nan  \n",
       "38         Neoblast: 0         Neoblast: 0  \n",
       "39           Neural: 8           Neural: 8  \n",
       "40  Protonephridia: 29           Neural: 8  \n",
       "41        i_nc_gc_prog        i_nc_gc_prog  \n",
       "42       Intestine: 30       Intestine: 30  \n",
       "43            enEp_SC3                 nan  \n",
       "44       ecEp_nem2(id)       ecEp_bat2(mp)  \n",
       "45                 nan          Neural: 18  \n",
       "46               i_nc3           i_nc_prog  \n",
       "47       Intestine: 30          Neural: 18  \n",
       "48          Muscle: 14          Muscle: 14  \n",
       "49  Parapharyngeal: 12  Parapharyngeal: 12  \n",
       "50  Parapharyngeal: 12  Parapharyngeal: 12  \n",
       "51          Neural: 23                 nan  \n",
       "52                 nan               i_nc7  \n",
       "53                 nan            enEp_SC3  \n",
       "54           enEp_head           enEp_head  \n",
       "55  Parapharyngeal: 12          Neural: 20  \n",
       "56           enEp_foot           enEp_head  \n",
       "57  Parapharyngeal: 12  Parapharyngeal: 12  "
      ]
     },
     "execution_count": 43,
     "metadata": {},
     "output_type": "execute_result"
    }
   ],
   "source": [
    "pd.DataFrame(B1[(B1[:,1:]=='nan').sum(1) < 4])"
   ]
  },
  {
   "cell_type": "code",
   "execution_count": null,
   "id": "2c83302b-fa47-4c6b-9cd5-9e8f612adefc",
   "metadata": {},
   "outputs": [],
   "source": [
    "A1"
   ]
  },
  {
   "cell_type": "code",
   "execution_count": 34,
   "id": "f48acf68-ef4e-4132-9b34-f13502bb9b7e",
   "metadata": {},
   "outputs": [
    {
     "data": {
      "text/plain": [
       "array([['Intestine', 'nan', 'nan', 'nan', 'nan'],\n",
       "       ['Intestine', 'nan', 'nan', 'nan', 'nan'],\n",
       "       ['Neoblast', 'nan', 'nan', 'nan', 'nan'],\n",
       "       ...,\n",
       "       ['Epidermal', 'Neural', 'Neural', 'Parenchymal', 'Neural'],\n",
       "       ['Neural', 'nan', 'nan', 'nan', 'nan'],\n",
       "       ['Neural', 'nan', 'nan', 'nan', 'nan']], dtype='<U16')"
      ]
     },
     "execution_count": 34,
     "metadata": {},
     "output_type": "execute_result"
    }
   ],
   "source": [
    "B1"
   ]
  },
  {
   "cell_type": "code",
   "execution_count": 28,
   "id": "d9896a3b-d433-4e32-b590-ea45ad91624f",
   "metadata": {},
   "outputs": [
    {
     "data": {
      "text/plain": [
       "array([[   0,  293,  544,  531,  306],\n",
       "       [   1,  449,  760,  329,  104],\n",
       "       [   2,    5,  678,  840,  669],\n",
       "       ...,\n",
       "       [1046, 1509, 1841, 1347, 1924],\n",
       "       [1047,  234,  412,  984,  479],\n",
       "       [1048, 1001,  286,  966,  806]], dtype=int32)"
      ]
     },
     "execution_count": 28,
     "metadata": {},
     "output_type": "execute_result"
    }
   ],
   "source": [
    "i1"
   ]
  },
  {
   "cell_type": "code",
   "execution_count": 27,
   "id": "3703464e-dbf2-445f-8402-2d1fe45cac6f",
   "metadata": {},
   "outputs": [
    {
     "data": {
      "text/plain": [
       "array([['nan', 'nan', 'nan', 'nan', 'nan'],\n",
       "       ['nan', 'nan', 'nan', 'nan', 'nan'],\n",
       "       ['nan', 'nan', 'nan', 'nan', 'nan'],\n",
       "       ...,\n",
       "       ['nan', 'Epidermal', 'Epidermal', 'Epidermal', 'Epidermal'],\n",
       "       ['nan', 'nan', 'nan', 'nan', 'nan'],\n",
       "       ['nan', 'nan', 'nan', 'nan', 'nan']], dtype='<U16')"
      ]
     },
     "execution_count": 27,
     "metadata": {},
     "output_type": "execute_result"
    }
   ],
   "source": [
    "A1"
   ]
  },
  {
   "cell_type": "code",
   "execution_count": 37,
   "id": "aa13a08f-1fb7-43b1-a209-c1d9139828b2",
   "metadata": {},
   "outputs": [
    {
     "data": {
      "text/plain": [
       "array([['Intestine', 'Intestine', 'Intestine', 'Intestine', 'Intestine'],\n",
       "       ['Intestine', 'Intestine', 'Intestine', 'Intestine', 'Intestine'],\n",
       "       ['Neoblast', 'Neoblast', 'Neoblast', 'Neoblast', 'Neoblast'],\n",
       "       ['Epidermal', 'Epidermal', 'Epidermal', 'Epidermal', 'Epidermal'],\n",
       "       ['Neoblast', 'Neoblast', 'Neoblast', 'Neoblast', 'Neoblast'],\n",
       "       ['Epidermal', 'Epidermal', 'Epidermal', 'Epidermal', 'Epidermal'],\n",
       "       ['Cathepsin+ cells', 'Cathepsin+ cells', 'Cathepsin+ cells',\n",
       "        'Cathepsin+ cells', 'Cathepsin+ cells'],\n",
       "       ['Neural', 'Neural', 'Neural', 'Neural', 'Neural'],\n",
       "       ['Neural', 'Neural', 'Neural', 'Neural', 'Neural'],\n",
       "       ['Cathepsin+ cells', 'Cathepsin+ cells', 'Cathepsin+ cells',\n",
       "        'Cathepsin+ cells', 'Cathepsin+ cells'],\n",
       "       ['Muscle', 'Muscle', 'Muscle', 'Muscle', 'Muscle'],\n",
       "       ['Epidermal', 'Epidermal', 'Epidermal', 'Epidermal', 'Epidermal'],\n",
       "       ['Neoblast', 'Neoblast', 'Neoblast', 'Neoblast', 'Neoblast'],\n",
       "       ['Epidermal', 'Epidermal', 'Epidermal', 'Epidermal', 'Epidermal'],\n",
       "       ['Epidermal', 'Epidermal', 'Epidermal', 'Epidermal', 'Epidermal'],\n",
       "       ['Epidermal', 'Epidermal', 'Epidermal', 'Epidermal', 'Epidermal'],\n",
       "       ['Neural', 'Neural', 'Neural', 'Neural', 'Neural'],\n",
       "       ['Epidermal', 'Epidermal', 'Epidermal', 'Epidermal', 'Epidermal'],\n",
       "       ['Neural', 'Neural', 'Neural', 'Neural', 'Neural'],\n",
       "       ['Cathepsin+ cells', 'Cathepsin+ cells', 'Cathepsin+ cells',\n",
       "        'Cathepsin+ cells', 'Cathepsin+ cells']], dtype='<U16')"
      ]
     },
     "execution_count": 37,
     "metadata": {},
     "output_type": "execute_result"
    }
   ],
   "source": [
    "c1[:20]"
   ]
  },
  {
   "cell_type": "code",
   "execution_count": 38,
   "id": "6c693dcb-971c-4a5f-9cad-e9a3a5a7019f",
   "metadata": {},
   "outputs": [
    {
     "data": {
      "text/plain": [
       "array([['Parenchymal', 'Neoblast', 'Neoblast', 'Neural', 'Intestine'],\n",
       "       ['Parenchymal', 'Neoblast', 'Neural', 'Neoblast', 'Intestine'],\n",
       "       ['Neoblast', 'Parenchymal', 'Neoblast', 'Neoblast', 'Neural'],\n",
       "       ['Parenchymal', 'Neoblast', 'Neoblast', 'Neural', 'Intestine'],\n",
       "       ['Neoblast', 'Parenchymal', 'Neoblast', 'Neoblast', 'Neural'],\n",
       "       ['Parenchymal', 'Neoblast', 'Neural', 'Neoblast', 'Intestine'],\n",
       "       ['Neoblast', 'Parenchymal', 'Neoblast', 'Neoblast', 'Neural'],\n",
       "       ['Neural', 'Muscle', 'Parenchymal', 'Neoblast', 'Neural'],\n",
       "       ['Neoblast', 'Parenchymal', 'Neoblast', 'Neural', 'Neoblast'],\n",
       "       ['Parenchymal', 'Neoblast', 'Tegument_prog', 'Neural', 'Neoblast'],\n",
       "       ['Parenchymal', 'Neoblast', 'Neural', 'Neoblast', 'Intestine'],\n",
       "       ['Neoblast', 'Parenchymal', 'Neoblast', 'Neural', 'Neoblast'],\n",
       "       ['Neoblast', 'Parenchymal', 'Neoblast', 'Neoblast', 'Neoblast'],\n",
       "       ['Parenchymal', 'Neural', 'Neoblast', 'Neoblast', 'Intestine'],\n",
       "       ['Neoblast', 'Parenchymal', 'Neural', 'Neoblast', 'Neoblast'],\n",
       "       ['Parenchymal', 'Neoblast', 'Neural', 'Neoblast', 'Intestine'],\n",
       "       ['Parenchymal', 'Neoblast', 'Neoblast', 'Neural', 'Intestine'],\n",
       "       ['Parenchymal', 'Neural', 'Neoblast', 'Neoblast', 'Intestine'],\n",
       "       ['Parenchymal', 'Neoblast', 'Neural', 'Neoblast', 'Intestine'],\n",
       "       ['Parenchymal', 'Neoblast', 'Tegument_prog', 'Neoblast', 'Neural']],\n",
       "      dtype='<U13')"
      ]
     },
     "execution_count": 38,
     "metadata": {},
     "output_type": "execute_result"
    }
   ],
   "source": [
    "c2[:20]"
   ]
  },
  {
   "cell_type": "code",
   "execution_count": null,
   "id": "69236d82-529f-4162-b6cd-ce1c88e7f8af",
   "metadata": {},
   "outputs": [],
   "source": []
  }
 ],
 "metadata": {
  "kernelspec": {
   "display_name": "Python 3 (ipykernel)",
   "language": "python",
   "name": "python3"
  },
  "language_info": {
   "codemirror_mode": {
    "name": "ipython",
    "version": 3
   },
   "file_extension": ".py",
   "mimetype": "text/x-python",
   "name": "python",
   "nbconvert_exporter": "python",
   "pygments_lexer": "ipython3",
   "version": "3.11.5"
  }
 },
 "nbformat": 4,
 "nbformat_minor": 5
}
