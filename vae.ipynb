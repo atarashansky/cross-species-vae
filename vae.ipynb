{
 "cells": [
  {
   "cell_type": "code",
   "execution_count": 1,
   "id": "d13e241c-1226-4608-9dea-09fdce39ccd9",
   "metadata": {},
   "outputs": [
    {
     "name": "stderr",
     "output_type": "stream",
     "text": [
      "/opt/jupyter-envs/generate-cross-species/atar-vscode/conda/lib/python3.11/site-packages/tqdm/auto.py:22: TqdmWarning: IProgress not found. Please update jupyter and ipywidgets. See https://ipywidgets.readthedocs.io/en/stable/user_install.html\n",
      "  from .autonotebook import tqdm as notebook_tqdm\n"
     ]
    }
   ],
   "source": [
    "import pytorch_lightning as pl\n",
    "from pytorch_lightning.callbacks import ModelCheckpoint, EarlyStopping\n",
    "from pytorch_lightning.loggers import CSVLogger\n",
    "import torch\n",
    "import scipy as sp\n",
    "import json\n",
    "import numpy as np\n",
    "from glob import glob\n",
    "import anndata\n",
    "import pandas as pd \n",
    "from src.vae import CrossSpeciesVAE\n",
    "# from src.backup import CrossSpeciesVAE\n",
    "from src.data import CrossSpeciesDataModule\n",
    "import pickle\n",
    "from sklearn.metrics import adjusted_mutual_info_score\n",
    "import scanpy as sc\n",
    "import matplotlib.pyplot as plt\n",
    "import umap\n",
    "\n",
    "fn1 = '../samap/example_data/planarian.h5ad'\n",
    "fn2 = '../samap/example_data/schistosome.h5ad'\n",
    "fn3 = '../samap/example_data/hydra.h5ad'\n",
    "\n",
    "eggnogs = '../samap/example_data/eggnog/*'\n",
    "\n",
    "adata1 = anndata.read_h5ad(fn1)\n",
    "adata2 = anndata.read_h5ad(fn2)\n",
    "adata3 = anndata.read_h5ad(fn3)\n",
    "adata3.var_names = pd.Index([i.split('_')[-1] for i in adata3.var_names])"
   ]
  },
  {
   "cell_type": "raw",
   "id": "d46bfee0-387a-4dd1-94a8-a96f20e562c8",
   "metadata": {},
   "source": [
    "# First collect and process EggNOG data as before\n",
    "dfs = []\n",
    "for f in glob(eggnogs):\n",
    "    dfs.append(pd.read_csv(f,sep='\\t',header=None,skiprows=1))\n",
    "df = pd.concat(dfs,axis=0)\n",
    "\n",
    "# Create species-specific gene to OG mappings\n",
    "species_gene_ogs = {\n",
    "    \"planarian\": {},\n",
    "    \"schisto\": {},\n",
    "    \"hydra\": {}\n",
    "}\n",
    "\n",
    "# Map genes to species using your AnnData objects\n",
    "species_genes = {\n",
    "    \"planarian\": set(adata1.var_names),\n",
    "    \"schisto\": set(adata2.var_names),\n",
    "    \"hydra\": set(adata3.var_names)\n",
    "}\n",
    "\n",
    "species_ids = {k: i for i,k in enumerate(species_genes)}\n",
    "# Create OG mappings for each species\n",
    "ogs = set()\n",
    "for i in df[18].values:\n",
    "    for j in i.split(','):\n",
    "        ogs.add(j)\n",
    "ogs = list(ogs)\n",
    "\n",
    "# Create gene to OG mapping for each species\n",
    "for species_name, genes in species_genes.items():\n",
    "    species_df = df[df.iloc[:,0].isin(genes)]\n",
    "    ogs_per_gene = [i.split(',') for i in species_df[18].values]\n",
    "    genes = species_df.iloc[:,0].values\n",
    "    species_gene_ogs[species_name] = dict(zip(genes, ogs_per_gene))\n",
    "\n",
    "\n",
    "# Create edges for each species pair\n",
    "onehots = {}\n",
    "gene_ids = {}\n",
    "for src_species, src_id in species_ids.items():\n",
    "\n",
    "    # Create gene-OG matrices for both species\n",
    "    src_genes = list(species_gene_ogs[src_species].keys())\n",
    "\n",
    "    indexer = pd.Series(index=ogs, data=range(len(ogs)))\n",
    "\n",
    "    # Source species matrix\n",
    "    x_src, y_src, z_src = [], [], []\n",
    "    for i, g in enumerate(src_genes):\n",
    "        if g in species_gene_ogs[src_species]:\n",
    "            v = indexer[species_gene_ogs[src_species][g]].values\n",
    "            x_src.extend([i]*len(v))\n",
    "            y_src.extend(v)\n",
    "            z_src.extend(np.ones_like(v))\n",
    "\n",
    "\n",
    "    # Create sparse matrices\n",
    "    src_matrix = sp.sparse.coo_matrix(\n",
    "        (z_src, (x_src, y_src)),\n",
    "        shape=(len(src_genes), len(ogs))\n",
    "    )\n",
    "    onehots[src_id] = src_matrix\n",
    "    gene_ids[src_id] = src_genes\n",
    "\n",
    "from sklearn.decomposition import TruncatedSVD\n",
    "\n",
    "pcs = {k: TruncatedSVD(n_components=1024).fit_transform(v) for k,v in onehots.items()}\n",
    "pickle.dump((pcs, gene_ids), open('species_tsvd_gene_embeddings.pkl','wb'))"
   ]
  },
  {
   "cell_type": "raw",
   "id": "fccf0653-16d7-4eab-9dc6-1aae5fd05f85",
   "metadata": {},
   "source": [
    "# First collect and process EggNOG data as before\n",
    "dfs = []\n",
    "for f in glob(eggnogs):\n",
    "    dfs.append(pd.read_csv(f,sep='\\t',header=None,skiprows=1))\n",
    "df = pd.concat(dfs,axis=0)\n",
    "\n",
    "# Create species-specific gene to OG mappings\n",
    "species_gene_ogs = {\n",
    "    \"planarian\": {},\n",
    "    \"schisto\": {},\n",
    "    \"hydra\": {}\n",
    "}\n",
    "\n",
    "# Map genes to species using your AnnData objects\n",
    "species_genes = {\n",
    "    \"planarian\": set(adata1.var_names),\n",
    "    \"schisto\": set(adata2.var_names),\n",
    "    \"hydra\": set(adata3.var_names)\n",
    "}\n",
    "\n",
    "# Create OG mappings for each species\n",
    "ogs = set()\n",
    "for i in df[18].values:\n",
    "    for j in i.split(','):\n",
    "        ogs.add(j)\n",
    "ogs = list(ogs)\n",
    "\n",
    "# Create gene to OG mapping for each species\n",
    "for species_name, genes in species_genes.items():\n",
    "    species_df = df[df.iloc[:,0].isin(genes)]\n",
    "    ogs_per_gene = [i.split(',') for i in species_df[18].values]\n",
    "    genes = species_df.iloc[:,0].values\n",
    "    species_gene_ogs[species_name] = dict(zip(genes, ogs_per_gene))\n",
    "\n",
    "# Create nested dictionary for homology edges and scores\n",
    "homology_edges = {}\n",
    "homology_scores = {}\n",
    "\n",
    "# Initialize nested dictionaries\n",
    "species_ids = {name: idx for idx, name in enumerate(species_genes.keys())}\n",
    "for src_id in species_ids.values():\n",
    "    homology_edges[src_id] = {}\n",
    "    homology_scores[src_id] = {}\n",
    "\n",
    "# Create edges for each species pair\n",
    "for src_species, src_id in species_ids.items():\n",
    "    for dst_species, dst_id in species_ids.items():\n",
    "        if src_species == dst_species:\n",
    "            continue\n",
    "            \n",
    "        # Create gene-OG matrices for both species\n",
    "        src_genes = list(species_gene_ogs[src_species].keys())\n",
    "        dst_genes = list(species_gene_ogs[dst_species].keys())\n",
    "        \n",
    "        indexer = pd.Series(index=ogs, data=range(len(ogs)))\n",
    "        \n",
    "        # Source species matrix\n",
    "        x_src, y_src, z_src = [], [], []\n",
    "        for i, g in enumerate(src_genes):\n",
    "            if g in species_gene_ogs[src_species]:\n",
    "                v = indexer[species_gene_ogs[src_species][g]].values\n",
    "                x_src.extend([i]*len(v))\n",
    "                y_src.extend(v)\n",
    "                z_src.extend(np.ones_like(v))\n",
    "        \n",
    "        # Destination species matrix\n",
    "        x_dst, y_dst, z_dst = [], [], []\n",
    "        for i, g in enumerate(dst_genes):\n",
    "            if g in species_gene_ogs[dst_species]:\n",
    "                v = indexer[species_gene_ogs[dst_species][g]].values\n",
    "                x_dst.extend([i]*len(v))\n",
    "                y_dst.extend(v)\n",
    "                z_dst.extend(np.ones_like(v))\n",
    "        \n",
    "        # Create sparse matrices\n",
    "        src_matrix = sp.sparse.coo_matrix(\n",
    "            (z_src, (x_src, y_src)),\n",
    "            shape=(len(src_genes), len(ogs))\n",
    "        )\n",
    "        dst_matrix = sp.sparse.coo_matrix(\n",
    "            (z_dst, (x_dst, y_dst)),\n",
    "            shape=(len(dst_genes), len(ogs))\n",
    "        )\n",
    "        \n",
    "        # Compute similarity graph\n",
    "        similarity = src_matrix.dot(dst_matrix.T)\n",
    "        \n",
    "        # Get edges and scores\n",
    "        src_idx, dst_idx = similarity.nonzero()\n",
    "        scores = similarity.data\n",
    "        \n",
    "        # Filter by minimum score\n",
    "        filt = scores > 0\n",
    "        edges = torch.tensor(np.vstack((src_idx, dst_idx)).T)[filt]\n",
    "        edge_scores = torch.tensor(scores)[filt]\n",
    "        \n",
    "        # Store in nested dictionaries\n",
    "        homology_edges[src_id][dst_id] = edges\n",
    "        homology_scores[src_id][dst_id] = edge_scores"
   ]
  },
  {
   "cell_type": "code",
   "execution_count": 2,
   "id": "bc18e3bb-e1c2-4e64-b29d-0df331f2ef2b",
   "metadata": {},
   "outputs": [
    {
     "name": "stderr",
     "output_type": "stream",
     "text": [
      "Using 16bit Automatic Mixed Precision (AMP)\n",
      "GPU available: True (cuda), used: True\n",
      "TPU available: False, using: 0 TPU cores\n",
      "HPU available: False, using: 0 HPUs\n"
     ]
    }
   ],
   "source": [
    "# gene_embeddings, gene_ids = pickle.load(open('species_tsvd_gene_embeddings.pkl','rb'))\n",
    "# gene_embeddings={k: torch.tensor(v) for k,v in gene_embeddings.items()}\n",
    "homology_edges, homology_scores = pickle.load(open('species_homology_info.pkl','rb'))\n",
    "\n",
    "batch_size = 256\n",
    "species_data = {\n",
    "    \"planarian\": adata1,\n",
    "    \"schisto\": adata2,\n",
    "    \"hydra\": adata3,\n",
    "}\n",
    "\n",
    "data_module = CrossSpeciesDataModule(\n",
    "    species_data = species_data,\n",
    "    batch_size=batch_size,\n",
    "    num_workers=0,\n",
    "    val_split=0.1,\n",
    "    test_split=0.1,\n",
    "    seed=0\n",
    ")\n",
    "data_module.setup()\n",
    "\n",
    "species_vocab_sizes = data_module.species_vocab_sizes\n",
    "\n",
    "# Initialize the model using data module properties\n",
    "model = CrossSpeciesVAE(\n",
    "    species_vocab_sizes=species_vocab_sizes,\n",
    "    homology_edges=homology_edges,\n",
    "    homology_scores=homology_scores,\n",
    "    n_latent=128,\n",
    "    hidden_dims=[128],\n",
    "    dropout_rate=0.2,\n",
    "    base_learning_rate=1e-3,\n",
    "    batch_size=batch_size,\n",
    "    base_batch_size=32,\n",
    "    min_learning_rate=1e-5,\n",
    "    warmup_epochs=1.0,\n",
    "    init_beta=1e-3,\n",
    "    final_beta=1,\n",
    "    gradient_clip_val=1.0,\n",
    "    gradient_clip_algorithm=\"norm\",\n",
    "    # loss weights\n",
    "    recon_weight=1.0,\n",
    "    homology_weight=1.0,\n",
    ")\n",
    "\n",
    "early_stopping = EarlyStopping(\n",
    "    monitor='val_recon',\n",
    "    min_delta=0.0,\n",
    "    patience=10,\n",
    "    verbose=True,\n",
    "    mode='min'\n",
    ")\n",
    "\n",
    "# Initialize the trainer\n",
    "trainer = pl.Trainer(\n",
    "    accelerator=\"gpu\",\n",
    "    devices=1,\n",
    "    max_epochs=300,\n",
    "    precision='16-mixed',\n",
    "    gradient_clip_val=model.gradient_clip_val,\n",
    "    gradient_clip_algorithm=\"norm\",\n",
    "    log_every_n_steps=10,\n",
    "    deterministic=True,\n",
    "    callbacks=[ModelCheckpoint(\n",
    "        dirpath=\"checkpoints\",\n",
    "        filename=\"crossspecies_vae-{epoch:02d}\",\n",
    "        every_n_epochs=5,\n",
    "        save_top_k=1,\n",
    "        monitor=\"val_recon\",\n",
    "        mode=\"min\"\n",
    "    ), early_stopping],\n",
    "    accumulate_grad_batches=1,\n",
    "    enable_progress_bar=True,\n",
    "    fast_dev_run=False,\n",
    "    logger=CSVLogger(\n",
    "        save_dir=\"logs\",\n",
    "        name=\"metrics\",\n",
    "        flush_logs_every_n_steps=10\n",
    "    )    \n",
    ")"
   ]
  },
  {
   "cell_type": "code",
   "execution_count": 3,
   "id": "46a59aaa-934b-455c-8064-74f561adb3fb",
   "metadata": {},
   "outputs": [
    {
     "name": "stderr",
     "output_type": "stream",
     "text": [
      "You are using a CUDA device ('NVIDIA H100 80GB HBM3') that has Tensor Cores. To properly utilize them, you should set `torch.set_float32_matmul_precision('medium' | 'high')` which will trade-off precision for performance. For more details, read https://pytorch.org/docs/stable/generated/torch.set_float32_matmul_precision.html#torch.set_float32_matmul_precision\n",
      "/opt/jupyter-envs/generate-cross-species/atar-vscode/conda/lib/python3.11/site-packages/pytorch_lightning/callbacks/model_checkpoint.py:654: Checkpoint directory /opt/jupyter-envs/generate-cross-species/atar-vscode/work/cross-species-vae/checkpoints exists and is not empty.\n",
      "LOCAL_RANK: 0 - CUDA_VISIBLE_DEVICES: [0]\n",
      "\n",
      "  | Name            | Type          | Params | Mode \n",
      "----------------------------------------------------------\n",
      "0 | mu_layer        | Linear        | 16.5 K | train\n",
      "1 | logvar_layer    | Linear        | 16.5 K | train\n",
      "2 | encoders        | ModuleDict    | 27.0 M | train\n",
      "3 | decoders        | ModuleDict    | 53.9 M | train\n",
      "4 | homology_scores | ParameterDict | 1.1 M  | train\n",
      "----------------------------------------------------------\n",
      "82.0 M    Trainable params\n",
      "0         Non-trainable params\n",
      "82.0 M    Total params\n",
      "327.923   Total estimated model params size (MB)\n",
      "128       Modules in train mode\n",
      "0         Modules in eval mode\n"
     ]
    },
    {
     "name": "stdout",
     "output_type": "stream",
     "text": [
      "Sanity Checking DataLoader 0:   0%|          | 0/2 [00:00<?, ?it/s]"
     ]
    },
    {
     "name": "stderr",
     "output_type": "stream",
     "text": [
      "/opt/jupyter-envs/generate-cross-species/atar-vscode/conda/lib/python3.11/site-packages/pytorch_lightning/trainer/connectors/data_connector.py:424: The 'val_dataloader' does not have many workers which may be a bottleneck. Consider increasing the value of the `num_workers` argument` to `num_workers=127` in the `DataLoader` to improve performance.\n",
      "/opt/jupyter-envs/generate-cross-species/atar-vscode/conda/lib/python3.11/site-packages/pytorch_lightning/utilities/data.py:122: Your `IterableDataset` has `__len__` defined. In combination with multi-process data loading (when num_workers > 1), `__len__` could be inaccurate if each worker is not configured independently to avoid having duplicate data.\n"
     ]
    },
    {
     "name": "stdout",
     "output_type": "stream",
     "text": [
      "                                                                           "
     ]
    },
    {
     "name": "stderr",
     "output_type": "stream",
     "text": [
      "/opt/jupyter-envs/generate-cross-species/atar-vscode/conda/lib/python3.11/site-packages/pytorch_lightning/trainer/connectors/data_connector.py:424: The 'train_dataloader' does not have many workers which may be a bottleneck. Consider increasing the value of the `num_workers` argument` to `num_workers=127` in the `DataLoader` to improve performance.\n"
     ]
    },
    {
     "name": "stdout",
     "output_type": "stream",
     "text": [
      "Epoch 0:   0%|          | 0/12 [00:00<?, ?it/s] Current epoch: 0 Current stage:  transform_recon\n",
      "Epoch 0: 100%|██████████| 12/12 [00:02<00:00,  4.09it/s, v_num=201]\n",
      "Validation: |          | 0/? [00:00<?, ?it/s]\u001b[A\n",
      "Validation:   0%|          | 0/3 [00:00<?, ?it/s]\u001b[A\n",
      "Validation DataLoader 0:   0%|          | 0/3 [00:00<?, ?it/s]\u001b[A\n",
      "Validation DataLoader 0:  33%|███▎      | 1/3 [00:00<00:00, 15.16it/s]\u001b[A\n",
      "Validation DataLoader 0:  67%|██████▋   | 2/3 [00:00<00:00, 11.53it/s]\u001b[A\n",
      "Validation DataLoader 0: 100%|██████████| 3/3 [00:00<00:00, 10.73it/s]\u001b[A\n",
      "Epoch 0: 100%|██████████| 12/12 [00:03<00:00,  3.69it/s, v_num=201]   \u001b[A"
     ]
    },
    {
     "name": "stderr",
     "output_type": "stream",
     "text": [
      "Metric val_recon improved. New best score: 6.854\n"
     ]
    },
    {
     "name": "stdout",
     "output_type": "stream",
     "text": [
      "Epoch 1:   0%|          | 0/12 [00:00<?, ?it/s, v_num=201]         Current epoch: 1 Current stage:  homology_loss\n",
      "Epoch 1: 100%|██████████| 12/12 [00:04<00:00,  2.64it/s, v_num=201]\n",
      "Validation: |          | 0/? [00:00<?, ?it/s]\u001b[A\n",
      "Validation:   0%|          | 0/3 [00:00<?, ?it/s]\u001b[A\n",
      "Validation DataLoader 0:   0%|          | 0/3 [00:00<?, ?it/s]\u001b[A\n",
      "Validation DataLoader 0:  33%|███▎      | 1/3 [00:00<00:00, 32.20it/s]\u001b[A\n",
      "Validation DataLoader 0:  67%|██████▋   | 2/3 [00:00<00:00, 19.26it/s]\u001b[A\n",
      "Validation DataLoader 0: 100%|██████████| 3/3 [00:00<00:00, 17.56it/s]\u001b[A\n",
      "Epoch 2:   0%|          | 0/12 [00:00<?, ?it/s, v_num=201]            \u001b[ACurrent epoch: 2 Current stage:  transform_recon\n",
      "Epoch 2: 100%|██████████| 12/12 [00:02<00:00,  4.32it/s, v_num=201]\n",
      "Validation: |          | 0/? [00:00<?, ?it/s]\u001b[A\n",
      "Validation:   0%|          | 0/3 [00:00<?, ?it/s]\u001b[A\n",
      "Validation DataLoader 0:   0%|          | 0/3 [00:00<?, ?it/s]\u001b[A\n",
      "Validation DataLoader 0:  33%|███▎      | 1/3 [00:00<00:00, 14.99it/s]\u001b[A\n",
      "Validation DataLoader 0:  67%|██████▋   | 2/3 [00:00<00:00, 11.31it/s]\u001b[A\n",
      "Validation DataLoader 0: 100%|██████████| 3/3 [00:00<00:00, 10.72it/s]\u001b[A\n",
      "Epoch 2: 100%|██████████| 12/12 [00:03<00:00,  3.87it/s, v_num=201]   \u001b[A"
     ]
    },
    {
     "name": "stderr",
     "output_type": "stream",
     "text": [
      "Metric val_recon improved by 0.716 >= min_delta = 0.0. New best score: 6.137\n"
     ]
    },
    {
     "name": "stdout",
     "output_type": "stream",
     "text": [
      "Epoch 3:   0%|          | 0/12 [00:00<?, ?it/s, v_num=201]         Current epoch: 3 Current stage:  homology_loss\n",
      "Epoch 3: 100%|██████████| 12/12 [00:04<00:00,  2.64it/s, v_num=201]\n",
      "Validation: |          | 0/? [00:00<?, ?it/s]\u001b[A\n",
      "Validation:   0%|          | 0/3 [00:00<?, ?it/s]\u001b[A\n",
      "Validation DataLoader 0:   0%|          | 0/3 [00:00<?, ?it/s]\u001b[A\n",
      "Validation DataLoader 0:  33%|███▎      | 1/3 [00:00<00:00, 31.84it/s]\u001b[A\n",
      "Validation DataLoader 0:  67%|██████▋   | 2/3 [00:00<00:00, 20.25it/s]\u001b[A\n",
      "Validation DataLoader 0: 100%|██████████| 3/3 [00:00<00:00, 18.14it/s]\u001b[A\n",
      "Epoch 4:   0%|          | 0/12 [00:00<?, ?it/s, v_num=201]            \u001b[ACurrent epoch: 4 Current stage:  transform_recon\n",
      "Epoch 4: 100%|██████████| 12/12 [00:02<00:00,  4.33it/s, v_num=201]\n",
      "Validation: |          | 0/? [00:00<?, ?it/s]\u001b[A\n",
      "Validation:   0%|          | 0/3 [00:00<?, ?it/s]\u001b[A\n",
      "Validation DataLoader 0:   0%|          | 0/3 [00:00<?, ?it/s]\u001b[A\n",
      "Validation DataLoader 0:  33%|███▎      | 1/3 [00:00<00:00, 14.92it/s]\u001b[A\n",
      "Validation DataLoader 0:  67%|██████▋   | 2/3 [00:00<00:00, 11.77it/s]\u001b[A\n",
      "Validation DataLoader 0: 100%|██████████| 3/3 [00:00<00:00, 10.99it/s]\u001b[A\n",
      "Epoch 4: 100%|██████████| 12/12 [00:03<00:00,  3.88it/s, v_num=201]   \u001b[A"
     ]
    },
    {
     "name": "stderr",
     "output_type": "stream",
     "text": [
      "Metric val_recon improved by 0.202 >= min_delta = 0.0. New best score: 5.935\n"
     ]
    },
    {
     "name": "stdout",
     "output_type": "stream",
     "text": [
      "Epoch 5:   0%|          | 0/12 [00:00<?, ?it/s, v_num=201]         Current epoch: 5 Current stage:  homology_loss\n",
      "Epoch 5: 100%|██████████| 12/12 [00:04<00:00,  2.75it/s, v_num=201]\n",
      "Validation: |          | 0/? [00:00<?, ?it/s]\u001b[A\n",
      "Validation:   0%|          | 0/3 [00:00<?, ?it/s]\u001b[A\n",
      "Validation DataLoader 0:   0%|          | 0/3 [00:00<?, ?it/s]\u001b[A\n",
      "Validation DataLoader 0:  33%|███▎      | 1/3 [00:00<00:00, 31.48it/s]\u001b[A\n",
      "Validation DataLoader 0:  67%|██████▋   | 2/3 [00:00<00:00, 18.48it/s]\u001b[A\n",
      "Validation DataLoader 0: 100%|██████████| 3/3 [00:00<00:00, 17.19it/s]\u001b[A\n",
      "Epoch 6:   0%|          | 0/12 [00:00<?, ?it/s, v_num=201]            \u001b[ACurrent epoch: 6 Current stage:  transform_recon\n",
      "Epoch 6: 100%|██████████| 12/12 [00:02<00:00,  4.60it/s, v_num=201]\n",
      "Validation: |          | 0/? [00:00<?, ?it/s]\u001b[A\n",
      "Validation:   0%|          | 0/3 [00:00<?, ?it/s]\u001b[A\n",
      "Validation DataLoader 0:   0%|          | 0/3 [00:00<?, ?it/s]\u001b[A\n",
      "Validation DataLoader 0:  33%|███▎      | 1/3 [00:00<00:00, 15.08it/s]\u001b[A\n",
      "Validation DataLoader 0:  67%|██████▋   | 2/3 [00:00<00:00, 11.82it/s]\u001b[A\n",
      "Validation DataLoader 0: 100%|██████████| 3/3 [00:00<00:00, 11.03it/s]\u001b[A\n",
      "Epoch 6: 100%|██████████| 12/12 [00:02<00:00,  4.11it/s, v_num=201]   \u001b[A"
     ]
    },
    {
     "name": "stderr",
     "output_type": "stream",
     "text": [
      "Metric val_recon improved by 0.271 >= min_delta = 0.0. New best score: 5.664\n"
     ]
    },
    {
     "name": "stdout",
     "output_type": "stream",
     "text": [
      "Epoch 7:   0%|          | 0/12 [00:00<?, ?it/s, v_num=201]         Current epoch: 7 Current stage:  homology_loss\n",
      "Epoch 7: 100%|██████████| 12/12 [00:04<00:00,  2.75it/s, v_num=201]\n",
      "Validation: |          | 0/? [00:00<?, ?it/s]\u001b[A\n",
      "Validation:   0%|          | 0/3 [00:00<?, ?it/s]\u001b[A\n",
      "Validation DataLoader 0:   0%|          | 0/3 [00:00<?, ?it/s]\u001b[A\n",
      "Validation DataLoader 0:  33%|███▎      | 1/3 [00:00<00:00, 32.29it/s]\u001b[A\n",
      "Validation DataLoader 0:  67%|██████▋   | 2/3 [00:00<00:00, 20.36it/s]\u001b[A\n",
      "Validation DataLoader 0: 100%|██████████| 3/3 [00:00<00:00, 18.14it/s]\u001b[A\n",
      "Epoch 7: 100%|██████████| 12/12 [00:04<00:00,  2.63it/s, v_num=201]   \u001b[A"
     ]
    },
    {
     "name": "stderr",
     "output_type": "stream",
     "text": [
      "Metric val_recon improved by 0.028 >= min_delta = 0.0. New best score: 5.636\n"
     ]
    },
    {
     "name": "stdout",
     "output_type": "stream",
     "text": [
      "Epoch 8:   0%|          | 0/12 [00:00<?, ?it/s, v_num=201]         Current epoch: 8 Current stage:  transform_recon\n",
      "Epoch 8: 100%|██████████| 12/12 [00:02<00:00,  4.60it/s, v_num=201]\n",
      "Validation: |          | 0/? [00:00<?, ?it/s]\u001b[A\n",
      "Validation:   0%|          | 0/3 [00:00<?, ?it/s]\u001b[A\n",
      "Validation DataLoader 0:   0%|          | 0/3 [00:00<?, ?it/s]\u001b[A\n",
      "Validation DataLoader 0:  33%|███▎      | 1/3 [00:00<00:00, 15.04it/s]\u001b[A\n",
      "Validation DataLoader 0:  67%|██████▋   | 2/3 [00:00<00:00, 10.98it/s]\u001b[A\n",
      "Validation DataLoader 0: 100%|██████████| 3/3 [00:00<00:00, 11.20it/s]\u001b[A\n",
      "Epoch 8: 100%|██████████| 12/12 [00:02<00:00,  4.13it/s, v_num=201]   \u001b[A"
     ]
    },
    {
     "name": "stderr",
     "output_type": "stream",
     "text": [
      "Metric val_recon improved by 0.179 >= min_delta = 0.0. New best score: 5.457\n"
     ]
    },
    {
     "name": "stdout",
     "output_type": "stream",
     "text": [
      "Epoch 9:   0%|          | 0/12 [00:00<?, ?it/s, v_num=201]         Current epoch: 9 Current stage:  homology_loss\n",
      "Epoch 9: 100%|██████████| 12/12 [00:04<00:00,  2.74it/s, v_num=201]\n",
      "Validation: |          | 0/? [00:00<?, ?it/s]\u001b[A\n",
      "Validation:   0%|          | 0/3 [00:00<?, ?it/s]\u001b[A\n",
      "Validation DataLoader 0:   0%|          | 0/3 [00:00<?, ?it/s]\u001b[A\n",
      "Validation DataLoader 0:  33%|███▎      | 1/3 [00:00<00:00, 31.44it/s]\u001b[A\n",
      "Validation DataLoader 0:  67%|██████▋   | 2/3 [00:00<00:00, 17.08it/s]\u001b[A\n",
      "Validation DataLoader 0: 100%|██████████| 3/3 [00:00<00:00, 16.30it/s]\u001b[A\n",
      "Epoch 9: 100%|██████████| 12/12 [00:04<00:00,  2.60it/s, v_num=201]   \u001b[A"
     ]
    },
    {
     "name": "stderr",
     "output_type": "stream",
     "text": [
      "Metric val_recon improved by 0.004 >= min_delta = 0.0. New best score: 5.453\n"
     ]
    },
    {
     "name": "stdout",
     "output_type": "stream",
     "text": [
      "Epoch 10:   0%|          | 0/12 [00:00<?, ?it/s, v_num=201]        Current epoch: 10 Current stage:  transform_recon\n",
      "Epoch 10: 100%|██████████| 12/12 [00:02<00:00,  4.65it/s, v_num=201]\n",
      "Validation: |          | 0/? [00:00<?, ?it/s]\u001b[A\n",
      "Validation:   0%|          | 0/3 [00:00<?, ?it/s]\u001b[A\n",
      "Validation DataLoader 0:   0%|          | 0/3 [00:00<?, ?it/s]\u001b[A\n",
      "Validation DataLoader 0:  33%|███▎      | 1/3 [00:00<00:00, 15.12it/s]\u001b[A\n",
      "Validation DataLoader 0:  67%|██████▋   | 2/3 [00:00<00:00, 11.19it/s]\u001b[A\n",
      "Validation DataLoader 0: 100%|██████████| 3/3 [00:00<00:00, 10.61it/s]\u001b[A\n",
      "Epoch 10: 100%|██████████| 12/12 [00:02<00:00,  4.13it/s, v_num=201]  \u001b[A"
     ]
    },
    {
     "name": "stderr",
     "output_type": "stream",
     "text": [
      "Metric val_recon improved by 0.176 >= min_delta = 0.0. New best score: 5.277\n"
     ]
    },
    {
     "name": "stdout",
     "output_type": "stream",
     "text": [
      "Epoch 11:   0%|          | 0/12 [00:00<?, ?it/s, v_num=201]         Current epoch: 11 Current stage:  homology_loss\n",
      "Epoch 11: 100%|██████████| 12/12 [00:04<00:00,  2.75it/s, v_num=201]\n",
      "Validation: |          | 0/? [00:00<?, ?it/s]\u001b[A\n",
      "Validation:   0%|          | 0/3 [00:00<?, ?it/s]\u001b[A\n",
      "Validation DataLoader 0:   0%|          | 0/3 [00:00<?, ?it/s]\u001b[A\n",
      "Validation DataLoader 0:  33%|███▎      | 1/3 [00:00<00:00, 32.24it/s]\u001b[A\n",
      "Validation DataLoader 0:  67%|██████▋   | 2/3 [00:00<00:00, 18.15it/s]\u001b[A\n",
      "Validation DataLoader 0: 100%|██████████| 3/3 [00:00<00:00, 18.89it/s]\u001b[A\n",
      "Epoch 11: 100%|██████████| 12/12 [00:04<00:00,  2.64it/s, v_num=201]  \u001b[A"
     ]
    },
    {
     "name": "stderr",
     "output_type": "stream",
     "text": [
      "Metric val_recon improved by 0.028 >= min_delta = 0.0. New best score: 5.248\n"
     ]
    },
    {
     "name": "stdout",
     "output_type": "stream",
     "text": [
      "Epoch 12:   0%|          | 0/12 [00:00<?, ?it/s, v_num=201]         Current epoch: 12 Current stage:  transform_recon\n",
      "Epoch 12: 100%|██████████| 12/12 [00:02<00:00,  4.62it/s, v_num=201]\n",
      "Validation: |          | 0/? [00:00<?, ?it/s]\u001b[A\n",
      "Validation:   0%|          | 0/3 [00:00<?, ?it/s]\u001b[A\n",
      "Validation DataLoader 0:   0%|          | 0/3 [00:00<?, ?it/s]\u001b[A\n",
      "Validation DataLoader 0:  33%|███▎      | 1/3 [00:00<00:00, 15.12it/s]\u001b[A\n",
      "Validation DataLoader 0:  67%|██████▋   | 2/3 [00:00<00:00, 11.43it/s]\u001b[A\n",
      "Validation DataLoader 0: 100%|██████████| 3/3 [00:00<00:00, 11.53it/s]\u001b[A\n",
      "Epoch 12: 100%|██████████| 12/12 [00:02<00:00,  4.16it/s, v_num=201]  \u001b[A"
     ]
    },
    {
     "name": "stderr",
     "output_type": "stream",
     "text": [
      "Metric val_recon improved by 0.111 >= min_delta = 0.0. New best score: 5.138\n"
     ]
    },
    {
     "name": "stdout",
     "output_type": "stream",
     "text": [
      "Epoch 13:   0%|          | 0/12 [00:00<?, ?it/s, v_num=201]         Current epoch: 13 Current stage:  homology_loss\n",
      "Epoch 13: 100%|██████████| 12/12 [00:04<00:00,  2.75it/s, v_num=201]\n",
      "Validation: |          | 0/? [00:00<?, ?it/s]\u001b[A\n",
      "Validation:   0%|          | 0/3 [00:00<?, ?it/s]\u001b[A\n",
      "Validation DataLoader 0:   0%|          | 0/3 [00:00<?, ?it/s]\u001b[A\n",
      "Validation DataLoader 0:  33%|███▎      | 1/3 [00:00<00:00, 31.49it/s]\u001b[A\n",
      "Validation DataLoader 0:  67%|██████▋   | 2/3 [00:00<00:00, 19.95it/s]\u001b[A\n",
      "Validation DataLoader 0: 100%|██████████| 3/3 [00:00<00:00, 19.91it/s]\u001b[A\n",
      "Epoch 14:   0%|          | 0/12 [00:00<?, ?it/s, v_num=201]           \u001b[ACurrent epoch: 14 Current stage:  transform_recon\n",
      "Epoch 14: 100%|██████████| 12/12 [00:02<00:00,  4.59it/s, v_num=201]\n",
      "Validation: |          | 0/? [00:00<?, ?it/s]\u001b[A\n",
      "Validation:   0%|          | 0/3 [00:00<?, ?it/s]\u001b[A\n",
      "Validation DataLoader 0:   0%|          | 0/3 [00:00<?, ?it/s]\u001b[A\n",
      "Validation DataLoader 0:  33%|███▎      | 1/3 [00:00<00:00, 15.05it/s]\u001b[A\n",
      "Validation DataLoader 0:  67%|██████▋   | 2/3 [00:00<00:00, 11.85it/s]\u001b[A\n",
      "Validation DataLoader 0: 100%|██████████| 3/3 [00:00<00:00, 11.78it/s]\u001b[A\n",
      "Epoch 14: 100%|██████████| 12/12 [00:02<00:00,  4.13it/s, v_num=201]  \u001b[A"
     ]
    },
    {
     "name": "stderr",
     "output_type": "stream",
     "text": [
      "Metric val_recon improved by 0.177 >= min_delta = 0.0. New best score: 4.961\n"
     ]
    },
    {
     "name": "stdout",
     "output_type": "stream",
     "text": [
      "Epoch 15:   0%|          | 0/12 [00:00<?, ?it/s, v_num=201]         Current epoch: 15 Current stage:  homology_loss\n",
      "Epoch 15: 100%|██████████| 12/12 [00:04<00:00,  2.66it/s, v_num=201]\n",
      "Validation: |          | 0/? [00:00<?, ?it/s]\u001b[A\n",
      "Validation:   0%|          | 0/3 [00:00<?, ?it/s]\u001b[A\n",
      "Validation DataLoader 0:   0%|          | 0/3 [00:00<?, ?it/s]\u001b[A\n",
      "Validation DataLoader 0:  33%|███▎      | 1/3 [00:00<00:00, 31.89it/s]\u001b[A\n",
      "Validation DataLoader 0:  67%|██████▋   | 2/3 [00:00<00:00, 18.97it/s]\u001b[A\n",
      "Validation DataLoader 0: 100%|██████████| 3/3 [00:00<00:00, 19.30it/s]\u001b[A\n",
      "Epoch 15: 100%|██████████| 12/12 [00:04<00:00,  2.56it/s, v_num=201]  \u001b[A"
     ]
    },
    {
     "name": "stderr",
     "output_type": "stream",
     "text": [
      "Metric val_recon improved by 0.039 >= min_delta = 0.0. New best score: 4.922\n"
     ]
    },
    {
     "name": "stdout",
     "output_type": "stream",
     "text": [
      "Epoch 16:   0%|          | 0/12 [00:00<?, ?it/s, v_num=201]         Current epoch: 16 Current stage:  transform_recon\n",
      "Epoch 16: 100%|██████████| 12/12 [00:02<00:00,  4.30it/s, v_num=201]\n",
      "Validation: |          | 0/? [00:00<?, ?it/s]\u001b[A\n",
      "Validation:   0%|          | 0/3 [00:00<?, ?it/s]\u001b[A\n",
      "Validation DataLoader 0:   0%|          | 0/3 [00:00<?, ?it/s]\u001b[A\n",
      "Validation DataLoader 0:  33%|███▎      | 1/3 [00:00<00:00, 15.06it/s]\u001b[A\n",
      "Validation DataLoader 0:  67%|██████▋   | 2/3 [00:00<00:00, 11.80it/s]\u001b[A\n",
      "Validation DataLoader 0: 100%|██████████| 3/3 [00:00<00:00, 11.77it/s]\u001b[A\n",
      "Epoch 16: 100%|██████████| 12/12 [00:03<00:00,  3.91it/s, v_num=201]  \u001b[A"
     ]
    },
    {
     "name": "stderr",
     "output_type": "stream",
     "text": [
      "Metric val_recon improved by 0.095 >= min_delta = 0.0. New best score: 4.827\n"
     ]
    },
    {
     "name": "stdout",
     "output_type": "stream",
     "text": [
      "Epoch 17:   0%|          | 0/12 [00:00<?, ?it/s, v_num=201]         Current epoch: 17 Current stage:  homology_loss\n",
      "Epoch 17: 100%|██████████| 12/12 [00:04<00:00,  2.64it/s, v_num=201]\n",
      "Validation: |          | 0/? [00:00<?, ?it/s]\u001b[A\n",
      "Validation:   0%|          | 0/3 [00:00<?, ?it/s]\u001b[A\n",
      "Validation DataLoader 0:   0%|          | 0/3 [00:00<?, ?it/s]\u001b[A\n",
      "Validation DataLoader 0:  33%|███▎      | 1/3 [00:00<00:00, 32.27it/s]\u001b[A\n",
      "Validation DataLoader 0:  67%|██████▋   | 2/3 [00:00<00:00, 20.36it/s]\u001b[A\n",
      "Validation DataLoader 0: 100%|██████████| 3/3 [00:00<00:00, 20.30it/s]\u001b[A\n",
      "Epoch 17: 100%|██████████| 12/12 [00:04<00:00,  2.54it/s, v_num=201]  \u001b[A"
     ]
    },
    {
     "name": "stderr",
     "output_type": "stream",
     "text": [
      "Metric val_recon improved by 0.044 >= min_delta = 0.0. New best score: 4.783\n"
     ]
    },
    {
     "name": "stdout",
     "output_type": "stream",
     "text": [
      "Epoch 18:   0%|          | 0/12 [00:00<?, ?it/s, v_num=201]         Current epoch: 18 Current stage:  transform_recon\n",
      "Epoch 18: 100%|██████████| 12/12 [00:02<00:00,  4.02it/s, v_num=201]\n",
      "Validation: |          | 0/? [00:00<?, ?it/s]\u001b[A\n",
      "Validation:   0%|          | 0/3 [00:00<?, ?it/s]\u001b[A\n",
      "Validation DataLoader 0:   0%|          | 0/3 [00:00<?, ?it/s]\u001b[A\n",
      "Validation DataLoader 0:  33%|███▎      | 1/3 [00:00<00:00, 15.03it/s]\u001b[A\n",
      "Validation DataLoader 0:  67%|██████▋   | 2/3 [00:00<00:00, 11.84it/s]\u001b[A\n",
      "Validation DataLoader 0: 100%|██████████| 3/3 [00:00<00:00, 11.79it/s]\u001b[A\n",
      "Epoch 18: 100%|██████████| 12/12 [00:03<00:00,  3.68it/s, v_num=201]  \u001b[A"
     ]
    },
    {
     "name": "stderr",
     "output_type": "stream",
     "text": [
      "Metric val_recon improved by 0.127 >= min_delta = 0.0. New best score: 4.655\n"
     ]
    },
    {
     "name": "stdout",
     "output_type": "stream",
     "text": [
      "Epoch 19:   0%|          | 0/12 [00:00<?, ?it/s, v_num=201]         Current epoch: 19 Current stage:  homology_loss\n",
      "Epoch 19: 100%|██████████| 12/12 [00:04<00:00,  2.64it/s, v_num=201]\n",
      "Validation: |          | 0/? [00:00<?, ?it/s]\u001b[A\n",
      "Validation:   0%|          | 0/3 [00:00<?, ?it/s]\u001b[A\n",
      "Validation DataLoader 0:   0%|          | 0/3 [00:00<?, ?it/s]\u001b[A\n",
      "Validation DataLoader 0:  33%|███▎      | 1/3 [00:00<00:00, 32.07it/s]\u001b[A\n",
      "Validation DataLoader 0:  67%|██████▋   | 2/3 [00:00<00:00, 20.07it/s]\u001b[A\n",
      "Validation DataLoader 0: 100%|██████████| 3/3 [00:00<00:00, 20.04it/s]\u001b[A\n",
      "Epoch 19: 100%|██████████| 12/12 [00:04<00:00,  2.54it/s, v_num=201]  \u001b[A"
     ]
    },
    {
     "name": "stderr",
     "output_type": "stream",
     "text": [
      "Metric val_recon improved by 0.004 >= min_delta = 0.0. New best score: 4.652\n"
     ]
    },
    {
     "name": "stdout",
     "output_type": "stream",
     "text": [
      "Epoch 20:   0%|          | 0/12 [00:00<?, ?it/s, v_num=201]         Current epoch: 20 Current stage:  transform_recon\n",
      "Epoch 20: 100%|██████████| 12/12 [00:02<00:00,  4.56it/s, v_num=201]\n",
      "Validation: |          | 0/? [00:00<?, ?it/s]\u001b[A\n",
      "Validation:   0%|          | 0/3 [00:00<?, ?it/s]\u001b[A\n",
      "Validation DataLoader 0:   0%|          | 0/3 [00:00<?, ?it/s]\u001b[A\n",
      "Validation DataLoader 0:  33%|███▎      | 1/3 [00:00<00:00, 15.05it/s]\u001b[A\n",
      "Validation DataLoader 0:  67%|██████▋   | 2/3 [00:00<00:00, 11.15it/s]\u001b[A\n",
      "Validation DataLoader 0: 100%|██████████| 3/3 [00:00<00:00, 11.31it/s]\u001b[A\n",
      "Epoch 20: 100%|██████████| 12/12 [00:02<00:00,  4.10it/s, v_num=201]  \u001b[A"
     ]
    },
    {
     "name": "stderr",
     "output_type": "stream",
     "text": [
      "Metric val_recon improved by 0.150 >= min_delta = 0.0. New best score: 4.502\n"
     ]
    },
    {
     "name": "stdout",
     "output_type": "stream",
     "text": [
      "Epoch 21:   0%|          | 0/12 [00:00<?, ?it/s, v_num=201]         Current epoch: 21 Current stage:  homology_loss\n",
      "Epoch 21: 100%|██████████| 12/12 [00:04<00:00,  2.75it/s, v_num=201]\n",
      "Validation: |          | 0/? [00:00<?, ?it/s]\u001b[A\n",
      "Validation:   0%|          | 0/3 [00:00<?, ?it/s]\u001b[A\n",
      "Validation DataLoader 0:   0%|          | 0/3 [00:00<?, ?it/s]\u001b[A\n",
      "Validation DataLoader 0:  33%|███▎      | 1/3 [00:00<00:00, 32.10it/s]\u001b[A\n",
      "Validation DataLoader 0:  67%|██████▋   | 2/3 [00:00<00:00, 18.09it/s]\u001b[A\n",
      "Validation DataLoader 0: 100%|██████████| 3/3 [00:00<00:00, 16.56it/s]\u001b[A\n",
      "Epoch 22:   0%|          | 0/12 [00:00<?, ?it/s, v_num=201]           \u001b[ACurrent epoch: 22 Current stage:  transform_recon\n",
      "Epoch 22: 100%|██████████| 12/12 [00:02<00:00,  4.61it/s, v_num=201]\n",
      "Validation: |          | 0/? [00:00<?, ?it/s]\u001b[A\n",
      "Validation:   0%|          | 0/3 [00:00<?, ?it/s]\u001b[A\n",
      "Validation DataLoader 0:   0%|          | 0/3 [00:00<?, ?it/s]\u001b[A\n",
      "Validation DataLoader 0:  33%|███▎      | 1/3 [00:00<00:00, 15.10it/s]\u001b[A\n",
      "Validation DataLoader 0:  67%|██████▋   | 2/3 [00:00<00:00, 11.34it/s]\u001b[A\n",
      "Validation DataLoader 0: 100%|██████████| 3/3 [00:00<00:00, 10.76it/s]\u001b[A\n",
      "Epoch 22: 100%|██████████| 12/12 [00:02<00:00,  4.10it/s, v_num=201]  \u001b[A"
     ]
    },
    {
     "name": "stderr",
     "output_type": "stream",
     "text": [
      "Metric val_recon improved by 0.139 >= min_delta = 0.0. New best score: 4.363\n"
     ]
    },
    {
     "name": "stdout",
     "output_type": "stream",
     "text": [
      "Epoch 23:   0%|          | 0/12 [00:00<?, ?it/s, v_num=201]         Current epoch: 23 Current stage:  homology_loss\n",
      "Epoch 23: 100%|██████████| 12/12 [00:04<00:00,  2.75it/s, v_num=201]\n",
      "Validation: |          | 0/? [00:00<?, ?it/s]\u001b[A\n",
      "Validation:   0%|          | 0/3 [00:00<?, ?it/s]\u001b[A\n",
      "Validation DataLoader 0:   0%|          | 0/3 [00:00<?, ?it/s]\u001b[A\n",
      "Validation DataLoader 0:  33%|███▎      | 1/3 [00:00<00:00, 31.83it/s]\u001b[A\n",
      "Validation DataLoader 0:  67%|██████▋   | 2/3 [00:00<00:00, 20.17it/s]\u001b[A\n",
      "Validation DataLoader 0: 100%|██████████| 3/3 [00:00<00:00, 18.05it/s]\u001b[A\n",
      "Epoch 23: 100%|██████████| 12/12 [00:04<00:00,  2.62it/s, v_num=201]  \u001b[A"
     ]
    },
    {
     "name": "stderr",
     "output_type": "stream",
     "text": [
      "Metric val_recon improved by 0.003 >= min_delta = 0.0. New best score: 4.361\n"
     ]
    },
    {
     "name": "stdout",
     "output_type": "stream",
     "text": [
      "Epoch 24:   0%|          | 0/12 [00:00<?, ?it/s, v_num=201]         Current epoch: 24 Current stage:  transform_recon\n",
      "Epoch 24: 100%|██████████| 12/12 [00:02<00:00,  4.58it/s, v_num=201]\n",
      "Validation: |          | 0/? [00:00<?, ?it/s]\u001b[A\n",
      "Validation:   0%|          | 0/3 [00:00<?, ?it/s]\u001b[A\n",
      "Validation DataLoader 0:   0%|          | 0/3 [00:00<?, ?it/s]\u001b[A\n",
      "Validation DataLoader 0:  33%|███▎      | 1/3 [00:00<00:00, 14.93it/s]\u001b[A\n",
      "Validation DataLoader 0:  67%|██████▋   | 2/3 [00:00<00:00, 10.95it/s]\u001b[A\n",
      "Validation DataLoader 0: 100%|██████████| 3/3 [00:00<00:00, 11.15it/s]\u001b[A\n",
      "Epoch 24: 100%|██████████| 12/12 [00:02<00:00,  4.11it/s, v_num=201]  \u001b[A"
     ]
    },
    {
     "name": "stderr",
     "output_type": "stream",
     "text": [
      "Metric val_recon improved by 0.086 >= min_delta = 0.0. New best score: 4.275\n"
     ]
    },
    {
     "name": "stdout",
     "output_type": "stream",
     "text": [
      "Epoch 25:   0%|          | 0/12 [00:00<?, ?it/s, v_num=201]         Current epoch: 25 Current stage:  homology_loss\n",
      "Epoch 25: 100%|██████████| 12/12 [00:04<00:00,  2.75it/s, v_num=201]\n",
      "Validation: |          | 0/? [00:00<?, ?it/s]\u001b[A\n",
      "Validation:   0%|          | 0/3 [00:00<?, ?it/s]\u001b[A\n",
      "Validation DataLoader 0:   0%|          | 0/3 [00:00<?, ?it/s]\u001b[A\n",
      "Validation DataLoader 0:  33%|███▎      | 1/3 [00:00<00:00, 31.42it/s]\u001b[A\n",
      "Validation DataLoader 0:  67%|██████▋   | 2/3 [00:00<00:00, 18.08it/s]\u001b[A\n",
      "Validation DataLoader 0: 100%|██████████| 3/3 [00:00<00:00, 18.74it/s]\u001b[A\n",
      "Epoch 25: 100%|██████████| 12/12 [00:04<00:00,  2.64it/s, v_num=201]  \u001b[A"
     ]
    },
    {
     "name": "stderr",
     "output_type": "stream",
     "text": [
      "Metric val_recon improved by 0.006 >= min_delta = 0.0. New best score: 4.269\n"
     ]
    },
    {
     "name": "stdout",
     "output_type": "stream",
     "text": [
      "Epoch 26:   0%|          | 0/12 [00:00<?, ?it/s, v_num=201]         Current epoch: 26 Current stage:  transform_recon\n",
      "Epoch 26: 100%|██████████| 12/12 [00:02<00:00,  4.56it/s, v_num=201]\n",
      "Validation: |          | 0/? [00:00<?, ?it/s]\u001b[A\n",
      "Validation:   0%|          | 0/3 [00:00<?, ?it/s]\u001b[A\n",
      "Validation DataLoader 0:   0%|          | 0/3 [00:00<?, ?it/s]\u001b[A\n",
      "Validation DataLoader 0:  33%|███▎      | 1/3 [00:00<00:00, 14.91it/s]\u001b[A\n",
      "Validation DataLoader 0:  67%|██████▋   | 2/3 [00:00<00:00, 10.84it/s]\u001b[A\n",
      "Validation DataLoader 0: 100%|██████████| 3/3 [00:00<00:00, 11.11it/s]\u001b[A\n",
      "Epoch 26: 100%|██████████| 12/12 [00:02<00:00,  4.09it/s, v_num=201]  \u001b[A"
     ]
    },
    {
     "name": "stderr",
     "output_type": "stream",
     "text": [
      "Metric val_recon improved by 0.129 >= min_delta = 0.0. New best score: 4.140\n"
     ]
    },
    {
     "name": "stdout",
     "output_type": "stream",
     "text": [
      "Epoch 27:   0%|          | 0/12 [00:00<?, ?it/s, v_num=201]         Current epoch: 27 Current stage:  homology_loss\n",
      "Epoch 27: 100%|██████████| 12/12 [00:04<00:00,  2.73it/s, v_num=201]\n",
      "Validation: |          | 0/? [00:00<?, ?it/s]\u001b[A\n",
      "Validation:   0%|          | 0/3 [00:00<?, ?it/s]\u001b[A\n",
      "Validation DataLoader 0:   0%|          | 0/3 [00:00<?, ?it/s]\u001b[A\n",
      "Validation DataLoader 0:  33%|███▎      | 1/3 [00:00<00:00, 30.95it/s]\u001b[A\n",
      "Validation DataLoader 0:  67%|██████▋   | 2/3 [00:00<00:00, 16.61it/s]\u001b[A\n",
      "Validation DataLoader 0: 100%|██████████| 3/3 [00:00<00:00, 17.73it/s]\u001b[A\n",
      "Epoch 27: 100%|██████████| 12/12 [00:04<00:00,  2.61it/s, v_num=201]  \u001b[A"
     ]
    },
    {
     "name": "stderr",
     "output_type": "stream",
     "text": [
      "Metric val_recon improved by 0.024 >= min_delta = 0.0. New best score: 4.117\n"
     ]
    },
    {
     "name": "stdout",
     "output_type": "stream",
     "text": [
      "Epoch 28:   0%|          | 0/12 [00:00<?, ?it/s, v_num=201]         Current epoch: 28 Current stage:  transform_recon\n",
      "Epoch 28: 100%|██████████| 12/12 [00:02<00:00,  4.62it/s, v_num=201]\n",
      "Validation: |          | 0/? [00:00<?, ?it/s]\u001b[A\n",
      "Validation:   0%|          | 0/3 [00:00<?, ?it/s]\u001b[A\n",
      "Validation DataLoader 0:   0%|          | 0/3 [00:00<?, ?it/s]\u001b[A\n",
      "Validation DataLoader 0:  33%|███▎      | 1/3 [00:00<00:00, 15.07it/s]\u001b[A\n",
      "Validation DataLoader 0:  67%|██████▋   | 2/3 [00:00<00:00, 11.76it/s]\u001b[A\n",
      "Validation DataLoader 0: 100%|██████████| 3/3 [00:00<00:00, 11.75it/s]\u001b[A\n",
      "Epoch 28: 100%|██████████| 12/12 [00:02<00:00,  4.17it/s, v_num=201]  \u001b[A"
     ]
    },
    {
     "name": "stderr",
     "output_type": "stream",
     "text": [
      "Metric val_recon improved by 0.124 >= min_delta = 0.0. New best score: 3.993\n"
     ]
    },
    {
     "name": "stdout",
     "output_type": "stream",
     "text": [
      "Epoch 29:   0%|          | 0/12 [00:00<?, ?it/s, v_num=201]         Current epoch: 29 Current stage:  homology_loss\n",
      "Epoch 29: 100%|██████████| 12/12 [00:04<00:00,  2.74it/s, v_num=201]\n",
      "Validation: |          | 0/? [00:00<?, ?it/s]\u001b[A\n",
      "Validation:   0%|          | 0/3 [00:00<?, ?it/s]\u001b[A\n",
      "Validation DataLoader 0:   0%|          | 0/3 [00:00<?, ?it/s]\u001b[A\n",
      "Validation DataLoader 0:  33%|███▎      | 1/3 [00:00<00:00, 32.00it/s]\u001b[A\n",
      "Validation DataLoader 0:  67%|██████▋   | 2/3 [00:00<00:00, 17.15it/s]\u001b[A\n",
      "Validation DataLoader 0: 100%|██████████| 3/3 [00:00<00:00, 16.33it/s]\u001b[A\n",
      "Epoch 30:   0%|          | 0/12 [00:00<?, ?it/s, v_num=201]           \u001b[ACurrent epoch: 30 Current stage:  transform_recon\n",
      "Epoch 30: 100%|██████████| 12/12 [00:02<00:00,  4.60it/s, v_num=201]\n",
      "Validation: |          | 0/? [00:00<?, ?it/s]\u001b[A\n",
      "Validation:   0%|          | 0/3 [00:00<?, ?it/s]\u001b[A\n",
      "Validation DataLoader 0:   0%|          | 0/3 [00:00<?, ?it/s]\u001b[A\n",
      "Validation DataLoader 0:  33%|███▎      | 1/3 [00:00<00:00, 15.08it/s]\u001b[A\n",
      "Validation DataLoader 0:  67%|██████▋   | 2/3 [00:00<00:00, 11.08it/s]\u001b[A\n",
      "Validation DataLoader 0: 100%|██████████| 3/3 [00:00<00:00, 10.59it/s]\u001b[A\n",
      "Epoch 30: 100%|██████████| 12/12 [00:02<00:00,  4.09it/s, v_num=201]  \u001b[A"
     ]
    },
    {
     "name": "stderr",
     "output_type": "stream",
     "text": [
      "Metric val_recon improved by 0.110 >= min_delta = 0.0. New best score: 3.882\n"
     ]
    },
    {
     "name": "stdout",
     "output_type": "stream",
     "text": [
      "Epoch 31:   0%|          | 0/12 [00:00<?, ?it/s, v_num=201]         Current epoch: 31 Current stage:  homology_loss\n",
      "Epoch 31: 100%|██████████| 12/12 [00:04<00:00,  2.74it/s, v_num=201]\n",
      "Validation: |          | 0/? [00:00<?, ?it/s]\u001b[A\n",
      "Validation:   0%|          | 0/3 [00:00<?, ?it/s]\u001b[A\n",
      "Validation DataLoader 0:   0%|          | 0/3 [00:00<?, ?it/s]\u001b[A\n",
      "Validation DataLoader 0:  33%|███▎      | 1/3 [00:00<00:00, 32.11it/s]\u001b[A\n",
      "Validation DataLoader 0:  67%|██████▋   | 2/3 [00:00<00:00, 18.72it/s]\u001b[A\n",
      "Validation DataLoader 0: 100%|██████████| 3/3 [00:00<00:00, 19.21it/s]\u001b[A\n",
      "Epoch 32:   0%|          | 0/12 [00:00<?, ?it/s, v_num=201]           \u001b[ACurrent epoch: 32 Current stage:  transform_recon\n",
      "Epoch 32: 100%|██████████| 12/12 [00:02<00:00,  4.59it/s, v_num=201]\n",
      "Validation: |          | 0/? [00:00<?, ?it/s]\u001b[A\n",
      "Validation:   0%|          | 0/3 [00:00<?, ?it/s]\u001b[A\n",
      "Validation DataLoader 0:   0%|          | 0/3 [00:00<?, ?it/s]\u001b[A\n",
      "Validation DataLoader 0:  33%|███▎      | 1/3 [00:00<00:00, 15.04it/s]\u001b[A\n",
      "Validation DataLoader 0:  67%|██████▋   | 2/3 [00:00<00:00, 10.90it/s]\u001b[A\n",
      "Validation DataLoader 0: 100%|██████████| 3/3 [00:00<00:00, 10.43it/s]\u001b[A\n",
      "Epoch 32: 100%|██████████| 12/12 [00:02<00:00,  4.07it/s, v_num=201]  \u001b[A"
     ]
    },
    {
     "name": "stderr",
     "output_type": "stream",
     "text": [
      "Metric val_recon improved by 0.102 >= min_delta = 0.0. New best score: 3.781\n"
     ]
    },
    {
     "name": "stdout",
     "output_type": "stream",
     "text": [
      "Epoch 33:   0%|          | 0/12 [00:00<?, ?it/s, v_num=201]         Current epoch: 33 Current stage:  homology_loss\n",
      "Epoch 33: 100%|██████████| 12/12 [00:04<00:00,  2.73it/s, v_num=201]\n",
      "Validation: |          | 0/? [00:00<?, ?it/s]\u001b[A\n",
      "Validation:   0%|          | 0/3 [00:00<?, ?it/s]\u001b[A\n",
      "Validation DataLoader 0:   0%|          | 0/3 [00:00<?, ?it/s]\u001b[A\n",
      "Validation DataLoader 0:  33%|███▎      | 1/3 [00:00<00:00, 31.94it/s]\u001b[A\n",
      "Validation DataLoader 0:  67%|██████▋   | 2/3 [00:00<00:00, 20.11it/s]\u001b[A\n",
      "Validation DataLoader 0: 100%|██████████| 3/3 [00:00<00:00, 17.89it/s]\u001b[A\n",
      "Epoch 34:   0%|          | 0/12 [00:00<?, ?it/s, v_num=201]           \u001b[ACurrent epoch: 34 Current stage:  transform_recon\n",
      "Epoch 34: 100%|██████████| 12/12 [00:02<00:00,  4.60it/s, v_num=201]\n",
      "Validation: |          | 0/? [00:00<?, ?it/s]\u001b[A\n",
      "Validation:   0%|          | 0/3 [00:00<?, ?it/s]\u001b[A\n",
      "Validation DataLoader 0:   0%|          | 0/3 [00:00<?, ?it/s]\u001b[A\n",
      "Validation DataLoader 0:  33%|███▎      | 1/3 [00:00<00:00, 15.03it/s]\u001b[A\n",
      "Validation DataLoader 0:  67%|██████▋   | 2/3 [00:00<00:00, 11.13it/s]\u001b[A\n",
      "Validation DataLoader 0: 100%|██████████| 3/3 [00:00<00:00, 10.62it/s]\u001b[A\n",
      "Epoch 34: 100%|██████████| 12/12 [00:02<00:00,  4.04it/s, v_num=201]  \u001b[A"
     ]
    },
    {
     "name": "stderr",
     "output_type": "stream",
     "text": [
      "Metric val_recon improved by 0.095 >= min_delta = 0.0. New best score: 3.686\n"
     ]
    },
    {
     "name": "stdout",
     "output_type": "stream",
     "text": [
      "Epoch 35:   0%|          | 0/12 [00:00<?, ?it/s, v_num=201]         Current epoch: 35 Current stage:  homology_loss\n",
      "Epoch 35: 100%|██████████| 12/12 [00:04<00:00,  2.74it/s, v_num=201]\n",
      "Validation: |          | 0/? [00:00<?, ?it/s]\u001b[A\n",
      "Validation:   0%|          | 0/3 [00:00<?, ?it/s]\u001b[A\n",
      "Validation DataLoader 0:   0%|          | 0/3 [00:00<?, ?it/s]\u001b[A\n",
      "Validation DataLoader 0:  33%|███▎      | 1/3 [00:00<00:00, 31.92it/s]\u001b[A\n",
      "Validation DataLoader 0:  67%|██████▋   | 2/3 [00:00<00:00, 17.44it/s]\u001b[A\n",
      "Validation DataLoader 0: 100%|██████████| 3/3 [00:00<00:00, 18.27it/s]\u001b[A\n",
      "Epoch 35: 100%|██████████| 12/12 [00:04<00:00,  2.62it/s, v_num=201]  \u001b[A"
     ]
    },
    {
     "name": "stderr",
     "output_type": "stream",
     "text": [
      "Metric val_recon improved by 0.014 >= min_delta = 0.0. New best score: 3.672\n"
     ]
    },
    {
     "name": "stdout",
     "output_type": "stream",
     "text": [
      "Epoch 36:   0%|          | 0/12 [00:00<?, ?it/s, v_num=201]         Current epoch: 36 Current stage:  transform_recon\n",
      "Epoch 36: 100%|██████████| 12/12 [00:02<00:00,  4.57it/s, v_num=201]\n",
      "Validation: |          | 0/? [00:00<?, ?it/s]\u001b[A\n",
      "Validation:   0%|          | 0/3 [00:00<?, ?it/s]\u001b[A\n",
      "Validation DataLoader 0:   0%|          | 0/3 [00:00<?, ?it/s]\u001b[A\n",
      "Validation DataLoader 0:  33%|███▎      | 1/3 [00:00<00:00, 15.06it/s]\u001b[A\n",
      "Validation DataLoader 0:  67%|██████▋   | 2/3 [00:00<00:00, 11.46it/s]\u001b[A\n",
      "Validation DataLoader 0: 100%|██████████| 3/3 [00:00<00:00, 11.52it/s]\u001b[A\n",
      "Epoch 36: 100%|██████████| 12/12 [00:02<00:00,  4.12it/s, v_num=201]  \u001b[A"
     ]
    },
    {
     "name": "stderr",
     "output_type": "stream",
     "text": [
      "Metric val_recon improved by 0.090 >= min_delta = 0.0. New best score: 3.582\n"
     ]
    },
    {
     "name": "stdout",
     "output_type": "stream",
     "text": [
      "Epoch 37:   0%|          | 0/12 [00:00<?, ?it/s, v_num=201]         Current epoch: 37 Current stage:  homology_loss\n",
      "Epoch 37: 100%|██████████| 12/12 [00:04<00:00,  2.74it/s, v_num=201]\n",
      "Validation: |          | 0/? [00:00<?, ?it/s]\u001b[A\n",
      "Validation:   0%|          | 0/3 [00:00<?, ?it/s]\u001b[A\n",
      "Validation DataLoader 0:   0%|          | 0/3 [00:00<?, ?it/s]\u001b[A\n",
      "Validation DataLoader 0:  33%|███▎      | 1/3 [00:00<00:00, 31.97it/s]\u001b[A\n",
      "Validation DataLoader 0:  67%|██████▋   | 2/3 [00:00<00:00, 20.08it/s]\u001b[A\n",
      "Validation DataLoader 0: 100%|██████████| 3/3 [00:00<00:00, 20.04it/s]\u001b[A\n",
      "Epoch 37: 100%|██████████| 12/12 [00:04<00:00,  2.64it/s, v_num=201]  \u001b[A"
     ]
    },
    {
     "name": "stderr",
     "output_type": "stream",
     "text": [
      "Metric val_recon improved by 0.006 >= min_delta = 0.0. New best score: 3.576\n"
     ]
    },
    {
     "name": "stdout",
     "output_type": "stream",
     "text": [
      "Epoch 38:   0%|          | 0/12 [00:00<?, ?it/s, v_num=201]         Current epoch: 38 Current stage:  transform_recon\n",
      "Epoch 38: 100%|██████████| 12/12 [00:02<00:00,  4.67it/s, v_num=201]\n",
      "Validation: |          | 0/? [00:00<?, ?it/s]\u001b[A\n",
      "Validation:   0%|          | 0/3 [00:00<?, ?it/s]\u001b[A\n",
      "Validation DataLoader 0:   0%|          | 0/3 [00:00<?, ?it/s]\u001b[A\n",
      "Validation DataLoader 0:  33%|███▎      | 1/3 [00:00<00:00, 15.12it/s]\u001b[A\n",
      "Validation DataLoader 0:  67%|██████▋   | 2/3 [00:00<00:00, 11.80it/s]\u001b[A\n",
      "Validation DataLoader 0: 100%|██████████| 3/3 [00:00<00:00, 11.75it/s]\u001b[A\n",
      "Epoch 38: 100%|██████████| 12/12 [00:02<00:00,  4.21it/s, v_num=201]  \u001b[A"
     ]
    },
    {
     "name": "stderr",
     "output_type": "stream",
     "text": [
      "Metric val_recon improved by 0.046 >= min_delta = 0.0. New best score: 3.531\n"
     ]
    },
    {
     "name": "stdout",
     "output_type": "stream",
     "text": [
      "Epoch 39:   0%|          | 0/12 [00:00<?, ?it/s, v_num=201]         Current epoch: 39 Current stage:  homology_loss\n",
      "Epoch 39: 100%|██████████| 12/12 [00:04<00:00,  2.75it/s, v_num=201]\n",
      "Validation: |          | 0/? [00:00<?, ?it/s]\u001b[A\n",
      "Validation:   0%|          | 0/3 [00:00<?, ?it/s]\u001b[A\n",
      "Validation DataLoader 0:   0%|          | 0/3 [00:00<?, ?it/s]\u001b[A\n",
      "Validation DataLoader 0:  33%|███▎      | 1/3 [00:00<00:00, 32.31it/s]\u001b[A\n",
      "Validation DataLoader 0:  67%|██████▋   | 2/3 [00:00<00:00, 17.41it/s]\u001b[A\n",
      "Validation DataLoader 0: 100%|██████████| 3/3 [00:00<00:00, 16.55it/s]\u001b[A\n",
      "Epoch 39: 100%|██████████| 12/12 [00:04<00:00,  2.61it/s, v_num=201]  \u001b[A"
     ]
    },
    {
     "name": "stderr",
     "output_type": "stream",
     "text": [
      "Metric val_recon improved by 0.006 >= min_delta = 0.0. New best score: 3.525\n"
     ]
    },
    {
     "name": "stdout",
     "output_type": "stream",
     "text": [
      "Epoch 40:   0%|          | 0/12 [00:00<?, ?it/s, v_num=201]         Current epoch: 40 Current stage:  transform_recon\n",
      "Epoch 40: 100%|██████████| 12/12 [00:02<00:00,  4.61it/s, v_num=201]\n",
      "Validation: |          | 0/? [00:00<?, ?it/s]\u001b[A\n",
      "Validation:   0%|          | 0/3 [00:00<?, ?it/s]\u001b[A\n",
      "Validation DataLoader 0:   0%|          | 0/3 [00:00<?, ?it/s]\u001b[A\n",
      "Validation DataLoader 0:  33%|███▎      | 1/3 [00:00<00:00, 15.13it/s]\u001b[A\n",
      "Validation DataLoader 0:  67%|██████▋   | 2/3 [00:00<00:00, 10.99it/s]\u001b[A\n",
      "Validation DataLoader 0: 100%|██████████| 3/3 [00:00<00:00, 10.54it/s]\u001b[A\n",
      "Epoch 40: 100%|██████████| 12/12 [00:02<00:00,  4.10it/s, v_num=201]  \u001b[A"
     ]
    },
    {
     "name": "stderr",
     "output_type": "stream",
     "text": [
      "Metric val_recon improved by 0.052 >= min_delta = 0.0. New best score: 3.473\n"
     ]
    },
    {
     "name": "stdout",
     "output_type": "stream",
     "text": [
      "Epoch 41:   0%|          | 0/12 [00:00<?, ?it/s, v_num=201]         Current epoch: 41 Current stage:  homology_loss\n",
      "Epoch 41: 100%|██████████| 12/12 [00:04<00:00,  2.75it/s, v_num=201]\n",
      "Validation: |          | 0/? [00:00<?, ?it/s]\u001b[A\n",
      "Validation:   0%|          | 0/3 [00:00<?, ?it/s]\u001b[A\n",
      "Validation DataLoader 0:   0%|          | 0/3 [00:00<?, ?it/s]\u001b[A\n",
      "Validation DataLoader 0:  33%|███▎      | 1/3 [00:00<00:00, 32.04it/s]\u001b[A\n",
      "Validation DataLoader 0:  67%|██████▋   | 2/3 [00:00<00:00, 17.63it/s]\u001b[A\n",
      "Validation DataLoader 0: 100%|██████████| 3/3 [00:00<00:00, 18.55it/s]\u001b[A\n",
      "Epoch 42:   0%|          | 0/12 [00:00<?, ?it/s, v_num=201]           \u001b[ACurrent epoch: 42 Current stage:  transform_recon\n",
      "Epoch 42: 100%|██████████| 12/12 [00:02<00:00,  4.68it/s, v_num=201]\n",
      "Validation: |          | 0/? [00:00<?, ?it/s]\u001b[A\n",
      "Validation:   0%|          | 0/3 [00:00<?, ?it/s]\u001b[A\n",
      "Validation DataLoader 0:   0%|          | 0/3 [00:00<?, ?it/s]\u001b[A\n",
      "Validation DataLoader 0:  33%|███▎      | 1/3 [00:00<00:00, 14.84it/s]\u001b[A\n",
      "Validation DataLoader 0:  67%|██████▋   | 2/3 [00:00<00:00, 10.71it/s]\u001b[A\n",
      "Validation DataLoader 0: 100%|██████████| 3/3 [00:00<00:00, 10.98it/s]\u001b[A\n",
      "Epoch 42: 100%|██████████| 12/12 [00:02<00:00,  4.19it/s, v_num=201]  \u001b[A"
     ]
    },
    {
     "name": "stderr",
     "output_type": "stream",
     "text": [
      "Metric val_recon improved by 0.057 >= min_delta = 0.0. New best score: 3.416\n"
     ]
    },
    {
     "name": "stdout",
     "output_type": "stream",
     "text": [
      "Epoch 43:   0%|          | 0/12 [00:00<?, ?it/s, v_num=201]         Current epoch: 43 Current stage:  homology_loss\n",
      "Epoch 43: 100%|██████████| 12/12 [00:04<00:00,  2.75it/s, v_num=201]\n",
      "Validation: |          | 0/? [00:00<?, ?it/s]\u001b[A\n",
      "Validation:   0%|          | 0/3 [00:00<?, ?it/s]\u001b[A\n",
      "Validation DataLoader 0:   0%|          | 0/3 [00:00<?, ?it/s]\u001b[A\n",
      "Validation DataLoader 0:  33%|███▎      | 1/3 [00:00<00:00, 31.92it/s]\u001b[A\n",
      "Validation DataLoader 0:  67%|██████▋   | 2/3 [00:00<00:00, 17.39it/s]\u001b[A\n",
      "Validation DataLoader 0: 100%|██████████| 3/3 [00:00<00:00, 16.54it/s]\u001b[A\n",
      "Epoch 44:   0%|          | 0/12 [00:00<?, ?it/s, v_num=201]           \u001b[ACurrent epoch: 44 Current stage:  transform_recon\n",
      "Epoch 44: 100%|██████████| 12/12 [00:02<00:00,  4.67it/s, v_num=201]\n",
      "Validation: |          | 0/? [00:00<?, ?it/s]\u001b[A\n",
      "Validation:   0%|          | 0/3 [00:00<?, ?it/s]\u001b[A\n",
      "Validation DataLoader 0:   0%|          | 0/3 [00:00<?, ?it/s]\u001b[A\n",
      "Validation DataLoader 0:  33%|███▎      | 1/3 [00:00<00:00, 15.17it/s]\u001b[A\n",
      "Validation DataLoader 0:  67%|██████▋   | 2/3 [00:00<00:00, 11.03it/s]\u001b[A\n",
      "Validation DataLoader 0: 100%|██████████| 3/3 [00:00<00:00, 10.53it/s]\u001b[A\n",
      "Epoch 44: 100%|██████████| 12/12 [00:02<00:00,  4.13it/s, v_num=201]  \u001b[A"
     ]
    },
    {
     "name": "stderr",
     "output_type": "stream",
     "text": [
      "Metric val_recon improved by 0.067 >= min_delta = 0.0. New best score: 3.349\n"
     ]
    },
    {
     "name": "stdout",
     "output_type": "stream",
     "text": [
      "Epoch 45:   0%|          | 0/12 [00:00<?, ?it/s, v_num=201]         Current epoch: 45 Current stage:  homology_loss\n",
      "Epoch 45: 100%|██████████| 12/12 [00:04<00:00,  2.74it/s, v_num=201]\n",
      "Validation: |          | 0/? [00:00<?, ?it/s]\u001b[A\n",
      "Validation:   0%|          | 0/3 [00:00<?, ?it/s]\u001b[A\n",
      "Validation DataLoader 0:   0%|          | 0/3 [00:00<?, ?it/s]\u001b[A\n",
      "Validation DataLoader 0:  33%|███▎      | 1/3 [00:00<00:00, 32.19it/s]\u001b[A\n",
      "Validation DataLoader 0:  67%|██████▋   | 2/3 [00:00<00:00, 19.60it/s]\u001b[A\n",
      "Validation DataLoader 0: 100%|██████████| 3/3 [00:00<00:00, 17.72it/s]\u001b[A\n",
      "Epoch 45: 100%|██████████| 12/12 [00:04<00:00,  2.62it/s, v_num=201]  \u001b[A"
     ]
    },
    {
     "name": "stderr",
     "output_type": "stream",
     "text": [
      "Metric val_recon improved by 0.022 >= min_delta = 0.0. New best score: 3.327\n"
     ]
    },
    {
     "name": "stdout",
     "output_type": "stream",
     "text": [
      "Epoch 46:   0%|          | 0/12 [00:00<?, ?it/s, v_num=201]         Current epoch: 46 Current stage:  transform_recon\n",
      "Epoch 46: 100%|██████████| 12/12 [00:02<00:00,  4.64it/s, v_num=201]\n",
      "Validation: |          | 0/? [00:00<?, ?it/s]\u001b[A\n",
      "Validation:   0%|          | 0/3 [00:00<?, ?it/s]\u001b[A\n",
      "Validation DataLoader 0:   0%|          | 0/3 [00:00<?, ?it/s]\u001b[A\n",
      "Validation DataLoader 0:  33%|███▎      | 1/3 [00:00<00:00, 15.00it/s]\u001b[A\n",
      "Validation DataLoader 0:  67%|██████▋   | 2/3 [00:00<00:00, 10.71it/s]\u001b[A\n",
      "Validation DataLoader 0: 100%|██████████| 3/3 [00:00<00:00, 10.38it/s]\u001b[A\n",
      "Epoch 46: 100%|██████████| 12/12 [00:02<00:00,  4.11it/s, v_num=201]  \u001b[A"
     ]
    },
    {
     "name": "stderr",
     "output_type": "stream",
     "text": [
      "Metric val_recon improved by 0.036 >= min_delta = 0.0. New best score: 3.292\n"
     ]
    },
    {
     "name": "stdout",
     "output_type": "stream",
     "text": [
      "Epoch 47:   0%|          | 0/12 [00:00<?, ?it/s, v_num=201]         Current epoch: 47 Current stage:  homology_loss\n",
      "Epoch 47: 100%|██████████| 12/12 [00:04<00:00,  2.73it/s, v_num=201]\n",
      "Validation: |          | 0/? [00:00<?, ?it/s]\u001b[A\n",
      "Validation:   0%|          | 0/3 [00:00<?, ?it/s]\u001b[A\n",
      "Validation DataLoader 0:   0%|          | 0/3 [00:00<?, ?it/s]\u001b[A\n",
      "Validation DataLoader 0:  33%|███▎      | 1/3 [00:00<00:00, 31.95it/s]\u001b[A\n",
      "Validation DataLoader 0:  67%|██████▋   | 2/3 [00:00<00:00, 18.70it/s]\u001b[A\n",
      "Validation DataLoader 0: 100%|██████████| 3/3 [00:00<00:00, 19.21it/s]\u001b[A\n",
      "Epoch 48:   0%|          | 0/12 [00:00<?, ?it/s, v_num=201]           \u001b[ACurrent epoch: 48 Current stage:  transform_recon\n",
      "Epoch 48: 100%|██████████| 12/12 [00:02<00:00,  4.62it/s, v_num=201]\n",
      "Validation: |          | 0/? [00:00<?, ?it/s]\u001b[A\n",
      "Validation:   0%|          | 0/3 [00:00<?, ?it/s]\u001b[A\n",
      "Validation DataLoader 0:   0%|          | 0/3 [00:00<?, ?it/s]\u001b[A\n",
      "Validation DataLoader 0:  33%|███▎      | 1/3 [00:00<00:00, 15.07it/s]\u001b[A\n",
      "Validation DataLoader 0:  67%|██████▋   | 2/3 [00:00<00:00, 10.59it/s]\u001b[A\n",
      "Validation DataLoader 0: 100%|██████████| 3/3 [00:00<00:00, 10.25it/s]\u001b[A\n",
      "Epoch 48: 100%|██████████| 12/12 [00:02<00:00,  4.09it/s, v_num=201]  \u001b[A"
     ]
    },
    {
     "name": "stderr",
     "output_type": "stream",
     "text": [
      "Metric val_recon improved by 0.054 >= min_delta = 0.0. New best score: 3.237\n"
     ]
    },
    {
     "name": "stdout",
     "output_type": "stream",
     "text": [
      "Epoch 49:   0%|          | 0/12 [00:00<?, ?it/s, v_num=201]         Current epoch: 49 Current stage:  homology_loss\n",
      "Epoch 49: 100%|██████████| 12/12 [00:04<00:00,  2.75it/s, v_num=201]\n",
      "Validation: |          | 0/? [00:00<?, ?it/s]\u001b[A\n",
      "Validation:   0%|          | 0/3 [00:00<?, ?it/s]\u001b[A\n",
      "Validation DataLoader 0:   0%|          | 0/3 [00:00<?, ?it/s]\u001b[A\n",
      "Validation DataLoader 0:  33%|███▎      | 1/3 [00:00<00:00, 32.22it/s]\u001b[A\n",
      "Validation DataLoader 0:  67%|██████▋   | 2/3 [00:00<00:00, 17.76it/s]\u001b[A\n",
      "Validation DataLoader 0: 100%|██████████| 3/3 [00:00<00:00, 18.56it/s]\u001b[A\n",
      "Epoch 50:   0%|          | 0/12 [00:00<?, ?it/s, v_num=201]           \u001b[ACurrent epoch: 50 Current stage:  transform_recon\n",
      "Epoch 50: 100%|██████████| 12/12 [00:02<00:00,  4.67it/s, v_num=201]\n",
      "Validation: |          | 0/? [00:00<?, ?it/s]\u001b[A\n",
      "Validation:   0%|          | 0/3 [00:00<?, ?it/s]\u001b[A\n",
      "Validation DataLoader 0:   0%|          | 0/3 [00:00<?, ?it/s]\u001b[A\n",
      "Validation DataLoader 0:  33%|███▎      | 1/3 [00:00<00:00, 15.09it/s]\u001b[A\n",
      "Validation DataLoader 0:  67%|██████▋   | 2/3 [00:00<00:00, 10.76it/s]\u001b[A\n",
      "Validation DataLoader 0: 100%|██████████| 3/3 [00:00<00:00, 11.10it/s]\u001b[A\n",
      "Epoch 50: 100%|██████████| 12/12 [00:02<00:00,  4.19it/s, v_num=201]  \u001b[A"
     ]
    },
    {
     "name": "stderr",
     "output_type": "stream",
     "text": [
      "Metric val_recon improved by 0.059 >= min_delta = 0.0. New best score: 3.178\n"
     ]
    },
    {
     "name": "stdout",
     "output_type": "stream",
     "text": [
      "Epoch 51:   0%|          | 0/12 [00:00<?, ?it/s, v_num=201]         Current epoch: 51 Current stage:  homology_loss\n",
      "Epoch 51: 100%|██████████| 12/12 [00:04<00:00,  2.75it/s, v_num=201]\n",
      "Validation: |          | 0/? [00:00<?, ?it/s]\u001b[A\n",
      "Validation:   0%|          | 0/3 [00:00<?, ?it/s]\u001b[A\n",
      "Validation DataLoader 0:   0%|          | 0/3 [00:00<?, ?it/s]\u001b[A\n",
      "Validation DataLoader 0:  33%|███▎      | 1/3 [00:00<00:00, 31.96it/s]\u001b[A\n",
      "Validation DataLoader 0:  67%|██████▋   | 2/3 [00:00<00:00, 17.19it/s]\u001b[A\n",
      "Validation DataLoader 0: 100%|██████████| 3/3 [00:00<00:00, 16.45it/s]\u001b[A\n",
      "Epoch 52:   0%|          | 0/12 [00:00<?, ?it/s, v_num=201]           \u001b[ACurrent epoch: 52 Current stage:  transform_recon\n",
      "Epoch 52: 100%|██████████| 12/12 [00:02<00:00,  4.58it/s, v_num=201]\n",
      "Validation: |          | 0/? [00:00<?, ?it/s]\u001b[A\n",
      "Validation:   0%|          | 0/3 [00:00<?, ?it/s]\u001b[A\n",
      "Validation DataLoader 0:   0%|          | 0/3 [00:00<?, ?it/s]\u001b[A\n",
      "Validation DataLoader 0:  33%|███▎      | 1/3 [00:00<00:00, 15.05it/s]\u001b[A\n",
      "Validation DataLoader 0:  67%|██████▋   | 2/3 [00:00<00:00, 10.69it/s]\u001b[A\n",
      "Validation DataLoader 0: 100%|██████████| 3/3 [00:00<00:00, 11.05it/s]\u001b[A\n",
      "Epoch 52: 100%|██████████| 12/12 [00:02<00:00,  4.11it/s, v_num=201]  \u001b[A"
     ]
    },
    {
     "name": "stderr",
     "output_type": "stream",
     "text": [
      "Metric val_recon improved by 0.057 >= min_delta = 0.0. New best score: 3.121\n"
     ]
    },
    {
     "name": "stdout",
     "output_type": "stream",
     "text": [
      "Epoch 53:   0%|          | 0/12 [00:00<?, ?it/s, v_num=201]         Current epoch: 53 Current stage:  homology_loss\n",
      "Epoch 53: 100%|██████████| 12/12 [00:04<00:00,  2.75it/s, v_num=201]\n",
      "Validation: |          | 0/? [00:00<?, ?it/s]\u001b[A\n",
      "Validation:   0%|          | 0/3 [00:00<?, ?it/s]\u001b[A\n",
      "Validation DataLoader 0:   0%|          | 0/3 [00:00<?, ?it/s]\u001b[A\n",
      "Validation DataLoader 0:  33%|███▎      | 1/3 [00:00<00:00, 32.29it/s]\u001b[A\n",
      "Validation DataLoader 0:  67%|██████▋   | 2/3 [00:00<00:00, 17.48it/s]\u001b[A\n",
      "Validation DataLoader 0: 100%|██████████| 3/3 [00:00<00:00, 16.47it/s]\u001b[A\n",
      "Epoch 53: 100%|██████████| 12/12 [00:04<00:00,  2.61it/s, v_num=201]  \u001b[A"
     ]
    },
    {
     "name": "stderr",
     "output_type": "stream",
     "text": [
      "Metric val_recon improved by 0.009 >= min_delta = 0.0. New best score: 3.113\n"
     ]
    },
    {
     "name": "stdout",
     "output_type": "stream",
     "text": [
      "Epoch 54:   0%|          | 0/12 [00:00<?, ?it/s, v_num=201]         Current epoch: 54 Current stage:  transform_recon\n",
      "Epoch 54: 100%|██████████| 12/12 [00:02<00:00,  4.61it/s, v_num=201]\n",
      "Validation: |          | 0/? [00:00<?, ?it/s]\u001b[A\n",
      "Validation:   0%|          | 0/3 [00:00<?, ?it/s]\u001b[A\n",
      "Validation DataLoader 0:   0%|          | 0/3 [00:00<?, ?it/s]\u001b[A\n",
      "Validation DataLoader 0:  33%|███▎      | 1/3 [00:00<00:00, 15.04it/s]\u001b[A\n",
      "Validation DataLoader 0:  67%|██████▋   | 2/3 [00:00<00:00, 10.78it/s]\u001b[A\n",
      "Validation DataLoader 0: 100%|██████████| 3/3 [00:00<00:00, 10.38it/s]\u001b[A\n",
      "Epoch 54: 100%|██████████| 12/12 [00:02<00:00,  4.10it/s, v_num=201]  \u001b[A"
     ]
    },
    {
     "name": "stderr",
     "output_type": "stream",
     "text": [
      "Metric val_recon improved by 0.029 >= min_delta = 0.0. New best score: 3.084\n"
     ]
    },
    {
     "name": "stdout",
     "output_type": "stream",
     "text": [
      "Epoch 55:   0%|          | 0/12 [00:00<?, ?it/s, v_num=201]         Current epoch: 55 Current stage:  homology_loss\n",
      "Epoch 55: 100%|██████████| 12/12 [00:04<00:00,  2.75it/s, v_num=201]\n",
      "Validation: |          | 0/? [00:00<?, ?it/s]\u001b[A\n",
      "Validation:   0%|          | 0/3 [00:00<?, ?it/s]\u001b[A\n",
      "Validation DataLoader 0:   0%|          | 0/3 [00:00<?, ?it/s]\u001b[A\n",
      "Validation DataLoader 0:  33%|███▎      | 1/3 [00:00<00:00, 32.04it/s]\u001b[A\n",
      "Validation DataLoader 0:  67%|██████▋   | 2/3 [00:00<00:00, 17.21it/s]\u001b[A\n",
      "Validation DataLoader 0: 100%|██████████| 3/3 [00:00<00:00, 16.41it/s]\u001b[A\n",
      "Epoch 56:   0%|          | 0/12 [00:00<?, ?it/s, v_num=201]           \u001b[ACurrent epoch: 56 Current stage:  transform_recon\n",
      "Epoch 56: 100%|██████████| 12/12 [00:02<00:00,  4.65it/s, v_num=201]\n",
      "Validation: |          | 0/? [00:00<?, ?it/s]\u001b[A\n",
      "Validation:   0%|          | 0/3 [00:00<?, ?it/s]\u001b[A\n",
      "Validation DataLoader 0:   0%|          | 0/3 [00:00<?, ?it/s]\u001b[A\n",
      "Validation DataLoader 0:  33%|███▎      | 1/3 [00:00<00:00, 15.00it/s]\u001b[A\n",
      "Validation DataLoader 0:  67%|██████▋   | 2/3 [00:00<00:00, 10.68it/s]\u001b[A\n",
      "Validation DataLoader 0: 100%|██████████| 3/3 [00:00<00:00, 11.00it/s]\u001b[A\n",
      "Epoch 56: 100%|██████████| 12/12 [00:02<00:00,  4.17it/s, v_num=201]  \u001b[A"
     ]
    },
    {
     "name": "stderr",
     "output_type": "stream",
     "text": [
      "Metric val_recon improved by 0.050 >= min_delta = 0.0. New best score: 3.034\n"
     ]
    },
    {
     "name": "stdout",
     "output_type": "stream",
     "text": [
      "Epoch 57:   0%|          | 0/12 [00:00<?, ?it/s, v_num=201]         Current epoch: 57 Current stage:  homology_loss\n",
      "Epoch 57: 100%|██████████| 12/12 [00:04<00:00,  2.74it/s, v_num=201]\n",
      "Validation: |          | 0/? [00:00<?, ?it/s]\u001b[A\n",
      "Validation:   0%|          | 0/3 [00:00<?, ?it/s]\u001b[A\n",
      "Validation DataLoader 0:   0%|          | 0/3 [00:00<?, ?it/s]\u001b[A\n",
      "Validation DataLoader 0:  33%|███▎      | 1/3 [00:00<00:00, 31.53it/s]\u001b[A\n",
      "Validation DataLoader 0:  67%|██████▋   | 2/3 [00:00<00:00, 17.00it/s]\u001b[A\n",
      "Validation DataLoader 0: 100%|██████████| 3/3 [00:00<00:00, 16.21it/s]\u001b[A\n",
      "Epoch 58:   0%|          | 0/12 [00:00<?, ?it/s, v_num=201]           \u001b[ACurrent epoch: 58 Current stage:  transform_recon\n",
      "Epoch 58: 100%|██████████| 12/12 [00:02<00:00,  4.66it/s, v_num=201]\n",
      "Validation: |          | 0/? [00:00<?, ?it/s]\u001b[A\n",
      "Validation:   0%|          | 0/3 [00:00<?, ?it/s]\u001b[A\n",
      "Validation DataLoader 0:   0%|          | 0/3 [00:00<?, ?it/s]\u001b[A\n",
      "Validation DataLoader 0:  33%|███▎      | 1/3 [00:00<00:00, 15.14it/s]\u001b[A\n",
      "Validation DataLoader 0:  67%|██████▋   | 2/3 [00:00<00:00, 11.73it/s]\u001b[A\n",
      "Validation DataLoader 0: 100%|██████████| 3/3 [00:00<00:00, 10.80it/s]\u001b[A\n",
      "Epoch 58: 100%|██████████| 12/12 [00:02<00:00,  4.15it/s, v_num=201]  \u001b[A"
     ]
    },
    {
     "name": "stderr",
     "output_type": "stream",
     "text": [
      "Metric val_recon improved by 0.038 >= min_delta = 0.0. New best score: 2.996\n"
     ]
    },
    {
     "name": "stdout",
     "output_type": "stream",
     "text": [
      "Epoch 59:   0%|          | 0/12 [00:00<?, ?it/s, v_num=201]         Current epoch: 59 Current stage:  homology_loss\n",
      "Epoch 59: 100%|██████████| 12/12 [00:04<00:00,  2.75it/s, v_num=201]\n",
      "Validation: |          | 0/? [00:00<?, ?it/s]\u001b[A\n",
      "Validation:   0%|          | 0/3 [00:00<?, ?it/s]\u001b[A\n",
      "Validation DataLoader 0:   0%|          | 0/3 [00:00<?, ?it/s]\u001b[A\n",
      "Validation DataLoader 0:  33%|███▎      | 1/3 [00:00<00:00, 32.08it/s]\u001b[A\n",
      "Validation DataLoader 0:  67%|██████▋   | 2/3 [00:00<00:00, 17.43it/s]\u001b[A\n",
      "Validation DataLoader 0: 100%|██████████| 3/3 [00:00<00:00, 16.59it/s]\u001b[A\n",
      "Epoch 60:   0%|          | 0/12 [00:00<?, ?it/s, v_num=201]           \u001b[ACurrent epoch: 60 Current stage:  transform_recon\n",
      "Epoch 60: 100%|██████████| 12/12 [00:02<00:00,  4.32it/s, v_num=201]\n",
      "Validation: |          | 0/? [00:00<?, ?it/s]\u001b[A\n",
      "Validation:   0%|          | 0/3 [00:00<?, ?it/s]\u001b[A\n",
      "Validation DataLoader 0:   0%|          | 0/3 [00:00<?, ?it/s]\u001b[A\n",
      "Validation DataLoader 0:  33%|███▎      | 1/3 [00:00<00:00, 15.03it/s]\u001b[A\n",
      "Validation DataLoader 0:  67%|██████▋   | 2/3 [00:00<00:00, 10.83it/s]\u001b[A\n",
      "Validation DataLoader 0: 100%|██████████| 3/3 [00:00<00:00, 10.29it/s]\u001b[A\n",
      "Epoch 60: 100%|██████████| 12/12 [00:03<00:00,  3.85it/s, v_num=201]  \u001b[A"
     ]
    },
    {
     "name": "stderr",
     "output_type": "stream",
     "text": [
      "Metric val_recon improved by 0.020 >= min_delta = 0.0. New best score: 2.976\n"
     ]
    },
    {
     "name": "stdout",
     "output_type": "stream",
     "text": [
      "Epoch 61:   0%|          | 0/12 [00:00<?, ?it/s, v_num=201]         Current epoch: 61 Current stage:  homology_loss\n",
      "Epoch 61: 100%|██████████| 12/12 [00:04<00:00,  2.74it/s, v_num=201]\n",
      "Validation: |          | 0/? [00:00<?, ?it/s]\u001b[A\n",
      "Validation:   0%|          | 0/3 [00:00<?, ?it/s]\u001b[A\n",
      "Validation DataLoader 0:   0%|          | 0/3 [00:00<?, ?it/s]\u001b[A\n",
      "Validation DataLoader 0:  33%|███▎      | 1/3 [00:00<00:00, 32.05it/s]\u001b[A\n",
      "Validation DataLoader 0:  67%|██████▋   | 2/3 [00:00<00:00, 18.29it/s]\u001b[A\n",
      "Validation DataLoader 0: 100%|██████████| 3/3 [00:00<00:00, 18.92it/s]\u001b[A\n",
      "Epoch 62:   0%|          | 0/12 [00:00<?, ?it/s, v_num=201]           \u001b[ACurrent epoch: 62 Current stage:  transform_recon\n",
      "Epoch 62: 100%|██████████| 12/12 [00:02<00:00,  4.65it/s, v_num=201]\n",
      "Validation: |          | 0/? [00:00<?, ?it/s]\u001b[A\n",
      "Validation:   0%|          | 0/3 [00:00<?, ?it/s]\u001b[A\n",
      "Validation DataLoader 0:   0%|          | 0/3 [00:00<?, ?it/s]\u001b[A\n",
      "Validation DataLoader 0:  33%|███▎      | 1/3 [00:00<00:00, 15.08it/s]\u001b[A\n",
      "Validation DataLoader 0:  67%|██████▋   | 2/3 [00:00<00:00, 11.68it/s]\u001b[A\n",
      "Validation DataLoader 0: 100%|██████████| 3/3 [00:00<00:00, 10.85it/s]\u001b[A\n",
      "Epoch 62: 100%|██████████| 12/12 [00:02<00:00,  4.16it/s, v_num=201]  \u001b[A"
     ]
    },
    {
     "name": "stderr",
     "output_type": "stream",
     "text": [
      "Metric val_recon improved by 0.036 >= min_delta = 0.0. New best score: 2.940\n"
     ]
    },
    {
     "name": "stdout",
     "output_type": "stream",
     "text": [
      "Epoch 63:   0%|          | 0/12 [00:00<?, ?it/s, v_num=201]         Current epoch: 63 Current stage:  homology_loss\n",
      "Epoch 63: 100%|██████████| 12/12 [00:04<00:00,  2.75it/s, v_num=201]\n",
      "Validation: |          | 0/? [00:00<?, ?it/s]\u001b[A\n",
      "Validation:   0%|          | 0/3 [00:00<?, ?it/s]\u001b[A\n",
      "Validation DataLoader 0:   0%|          | 0/3 [00:00<?, ?it/s]\u001b[A\n",
      "Validation DataLoader 0:  33%|███▎      | 1/3 [00:00<00:00, 32.06it/s]\u001b[A\n",
      "Validation DataLoader 0:  67%|██████▋   | 2/3 [00:00<00:00, 18.10it/s]\u001b[A\n",
      "Validation DataLoader 0: 100%|██████████| 3/3 [00:00<00:00, 16.86it/s]\u001b[A\n",
      "Epoch 64:   0%|          | 0/12 [00:00<?, ?it/s, v_num=201]           \u001b[ACurrent epoch: 64 Current stage:  transform_recon\n",
      "Epoch 64: 100%|██████████| 12/12 [00:02<00:00,  4.60it/s, v_num=201]\n",
      "Validation: |          | 0/? [00:00<?, ?it/s]\u001b[A\n",
      "Validation:   0%|          | 0/3 [00:00<?, ?it/s]\u001b[A\n",
      "Validation DataLoader 0:   0%|          | 0/3 [00:00<?, ?it/s]\u001b[A\n",
      "Validation DataLoader 0:  33%|███▎      | 1/3 [00:00<00:00, 15.10it/s]\u001b[A\n",
      "Validation DataLoader 0:  67%|██████▋   | 2/3 [00:00<00:00, 11.42it/s]\u001b[A\n",
      "Validation DataLoader 0: 100%|██████████| 3/3 [00:00<00:00, 10.80it/s]\u001b[A\n",
      "Epoch 64: 100%|██████████| 12/12 [00:02<00:00,  4.09it/s, v_num=201]  \u001b[A"
     ]
    },
    {
     "name": "stderr",
     "output_type": "stream",
     "text": [
      "Metric val_recon improved by 0.042 >= min_delta = 0.0. New best score: 2.899\n"
     ]
    },
    {
     "name": "stdout",
     "output_type": "stream",
     "text": [
      "Epoch 65:   0%|          | 0/12 [00:00<?, ?it/s, v_num=201]         Current epoch: 65 Current stage:  homology_loss\n",
      "Epoch 65: 100%|██████████| 12/12 [00:04<00:00,  2.75it/s, v_num=201]\n",
      "Validation: |          | 0/? [00:00<?, ?it/s]\u001b[A\n",
      "Validation:   0%|          | 0/3 [00:00<?, ?it/s]\u001b[A\n",
      "Validation DataLoader 0:   0%|          | 0/3 [00:00<?, ?it/s]\u001b[A\n",
      "Validation DataLoader 0:  33%|███▎      | 1/3 [00:00<00:00, 32.10it/s]\u001b[A\n",
      "Validation DataLoader 0:  67%|██████▋   | 2/3 [00:00<00:00, 17.60it/s]\u001b[A\n",
      "Validation DataLoader 0: 100%|██████████| 3/3 [00:00<00:00, 16.64it/s]\u001b[A\n",
      "Epoch 65: 100%|██████████| 12/12 [00:04<00:00,  2.61it/s, v_num=201]  \u001b[A"
     ]
    },
    {
     "name": "stderr",
     "output_type": "stream",
     "text": [
      "Metric val_recon improved by 0.015 >= min_delta = 0.0. New best score: 2.884\n"
     ]
    },
    {
     "name": "stdout",
     "output_type": "stream",
     "text": [
      "Epoch 66:   0%|          | 0/12 [00:00<?, ?it/s, v_num=201]         Current epoch: 66 Current stage:  transform_recon\n",
      "Epoch 66: 100%|██████████| 12/12 [00:02<00:00,  4.61it/s, v_num=201]\n",
      "Validation: |          | 0/? [00:00<?, ?it/s]\u001b[A\n",
      "Validation:   0%|          | 0/3 [00:00<?, ?it/s]\u001b[A\n",
      "Validation DataLoader 0:   0%|          | 0/3 [00:00<?, ?it/s]\u001b[A\n",
      "Validation DataLoader 0:  33%|███▎      | 1/3 [00:00<00:00, 15.07it/s]\u001b[A\n",
      "Validation DataLoader 0:  67%|██████▋   | 2/3 [00:00<00:00, 10.70it/s]\u001b[A\n",
      "Validation DataLoader 0: 100%|██████████| 3/3 [00:00<00:00, 11.05it/s]\u001b[A\n",
      "Epoch 67:   0%|          | 0/12 [00:00<?, ?it/s, v_num=201]           \u001b[ACurrent epoch: 67 Current stage:  homology_loss\n",
      "Epoch 67: 100%|██████████| 12/12 [00:04<00:00,  2.75it/s, v_num=201]\n",
      "Validation: |          | 0/? [00:00<?, ?it/s]\u001b[A\n",
      "Validation:   0%|          | 0/3 [00:00<?, ?it/s]\u001b[A\n",
      "Validation DataLoader 0:   0%|          | 0/3 [00:00<?, ?it/s]\u001b[A\n",
      "Validation DataLoader 0:  33%|███▎      | 1/3 [00:00<00:00, 31.48it/s]\u001b[A\n",
      "Validation DataLoader 0:  67%|██████▋   | 2/3 [00:00<00:00, 19.42it/s]\u001b[A\n",
      "Validation DataLoader 0: 100%|██████████| 3/3 [00:00<00:00, 19.65it/s]\u001b[A\n",
      "Epoch 68:   0%|          | 0/12 [00:00<?, ?it/s, v_num=201]           \u001b[ACurrent epoch: 68 Current stage:  transform_recon\n",
      "Epoch 68: 100%|██████████| 12/12 [00:02<00:00,  4.60it/s, v_num=201]\n",
      "Validation: |          | 0/? [00:00<?, ?it/s]\u001b[A\n",
      "Validation:   0%|          | 0/3 [00:00<?, ?it/s]\u001b[A\n",
      "Validation DataLoader 0:   0%|          | 0/3 [00:00<?, ?it/s]\u001b[A\n",
      "Validation DataLoader 0:  33%|███▎      | 1/3 [00:00<00:00, 15.08it/s]\u001b[A\n",
      "Validation DataLoader 0:  67%|██████▋   | 2/3 [00:00<00:00, 11.64it/s]\u001b[A\n",
      "Validation DataLoader 0: 100%|██████████| 3/3 [00:00<00:00, 11.66it/s]\u001b[A\n",
      "Epoch 68: 100%|██████████| 12/12 [00:02<00:00,  4.15it/s, v_num=201]  \u001b[A"
     ]
    },
    {
     "name": "stderr",
     "output_type": "stream",
     "text": [
      "Metric val_recon improved by 0.034 >= min_delta = 0.0. New best score: 2.850\n"
     ]
    },
    {
     "name": "stdout",
     "output_type": "stream",
     "text": [
      "Epoch 69:   0%|          | 0/12 [00:00<?, ?it/s, v_num=201]         Current epoch: 69 Current stage:  homology_loss\n",
      "Epoch 69: 100%|██████████| 12/12 [00:04<00:00,  2.75it/s, v_num=201]\n",
      "Validation: |          | 0/? [00:00<?, ?it/s]\u001b[A\n",
      "Validation:   0%|          | 0/3 [00:00<?, ?it/s]\u001b[A\n",
      "Validation DataLoader 0:   0%|          | 0/3 [00:00<?, ?it/s]\u001b[A\n",
      "Validation DataLoader 0:  33%|███▎      | 1/3 [00:00<00:00, 31.78it/s]\u001b[A\n",
      "Validation DataLoader 0:  67%|██████▋   | 2/3 [00:00<00:00, 20.00it/s]\u001b[A\n",
      "Validation DataLoader 0: 100%|██████████| 3/3 [00:00<00:00, 20.01it/s]\u001b[A\n",
      "Epoch 69: 100%|██████████| 12/12 [00:04<00:00,  2.64it/s, v_num=201]  \u001b[A"
     ]
    },
    {
     "name": "stderr",
     "output_type": "stream",
     "text": [
      "Metric val_recon improved by 0.024 >= min_delta = 0.0. New best score: 2.826\n"
     ]
    },
    {
     "name": "stdout",
     "output_type": "stream",
     "text": [
      "Epoch 70:   0%|          | 0/12 [00:00<?, ?it/s, v_num=201]         Current epoch: 70 Current stage:  transform_recon\n",
      "Epoch 70: 100%|██████████| 12/12 [00:02<00:00,  4.61it/s, v_num=201]\n",
      "Validation: |          | 0/? [00:00<?, ?it/s]\u001b[A\n",
      "Validation:   0%|          | 0/3 [00:00<?, ?it/s]\u001b[A\n",
      "Validation DataLoader 0:   0%|          | 0/3 [00:00<?, ?it/s]\u001b[A\n",
      "Validation DataLoader 0:  33%|███▎      | 1/3 [00:00<00:00, 15.06it/s]\u001b[A\n",
      "Validation DataLoader 0:  67%|██████▋   | 2/3 [00:00<00:00, 11.16it/s]\u001b[A\n",
      "Validation DataLoader 0: 100%|██████████| 3/3 [00:00<00:00, 11.33it/s]\u001b[A\n",
      "Epoch 71:   0%|          | 0/12 [00:00<?, ?it/s, v_num=201]           \u001b[ACurrent epoch: 71 Current stage:  homology_loss\n",
      "Epoch 71: 100%|██████████| 12/12 [00:04<00:00,  2.74it/s, v_num=201]\n",
      "Validation: |          | 0/? [00:00<?, ?it/s]\u001b[A\n",
      "Validation:   0%|          | 0/3 [00:00<?, ?it/s]\u001b[A\n",
      "Validation DataLoader 0:   0%|          | 0/3 [00:00<?, ?it/s]\u001b[A\n",
      "Validation DataLoader 0:  33%|███▎      | 1/3 [00:00<00:00, 31.89it/s]\u001b[A\n",
      "Validation DataLoader 0:  67%|██████▋   | 2/3 [00:00<00:00, 20.07it/s]\u001b[A\n",
      "Validation DataLoader 0: 100%|██████████| 3/3 [00:00<00:00, 20.05it/s]\u001b[A\n",
      "Epoch 72:   0%|          | 0/12 [00:00<?, ?it/s, v_num=201]           \u001b[ACurrent epoch: 72 Current stage:  transform_recon\n",
      "Epoch 72: 100%|██████████| 12/12 [00:02<00:00,  4.65it/s, v_num=201]\n",
      "Validation: |          | 0/? [00:00<?, ?it/s]\u001b[A\n",
      "Validation:   0%|          | 0/3 [00:00<?, ?it/s]\u001b[A\n",
      "Validation DataLoader 0:   0%|          | 0/3 [00:00<?, ?it/s]\u001b[A\n",
      "Validation DataLoader 0:  33%|███▎      | 1/3 [00:00<00:00, 14.92it/s]\u001b[A\n",
      "Validation DataLoader 0:  67%|██████▋   | 2/3 [00:00<00:00, 11.50it/s]\u001b[A\n",
      "Validation DataLoader 0: 100%|██████████| 3/3 [00:00<00:00, 11.54it/s]\u001b[A\n",
      "Epoch 72: 100%|██████████| 12/12 [00:02<00:00,  4.18it/s, v_num=201]  \u001b[A"
     ]
    },
    {
     "name": "stderr",
     "output_type": "stream",
     "text": [
      "Metric val_recon improved by 0.022 >= min_delta = 0.0. New best score: 2.804\n"
     ]
    },
    {
     "name": "stdout",
     "output_type": "stream",
     "text": [
      "Epoch 73:   0%|          | 0/12 [00:00<?, ?it/s, v_num=201]         Current epoch: 73 Current stage:  homology_loss\n",
      "Epoch 73: 100%|██████████| 12/12 [00:04<00:00,  2.74it/s, v_num=201]\n",
      "Validation: |          | 0/? [00:00<?, ?it/s]\u001b[A\n",
      "Validation:   0%|          | 0/3 [00:00<?, ?it/s]\u001b[A\n",
      "Validation DataLoader 0:   0%|          | 0/3 [00:00<?, ?it/s]\u001b[A\n",
      "Validation DataLoader 0:  33%|███▎      | 1/3 [00:00<00:00, 31.72it/s]\u001b[A\n",
      "Validation DataLoader 0:  67%|██████▋   | 2/3 [00:00<00:00, 20.17it/s]\u001b[A\n",
      "Validation DataLoader 0: 100%|██████████| 3/3 [00:00<00:00, 20.11it/s]\u001b[A\n",
      "Epoch 73: 100%|██████████| 12/12 [00:04<00:00,  2.64it/s, v_num=201]  \u001b[A"
     ]
    },
    {
     "name": "stderr",
     "output_type": "stream",
     "text": [
      "Metric val_recon improved by 0.008 >= min_delta = 0.0. New best score: 2.796\n"
     ]
    },
    {
     "name": "stdout",
     "output_type": "stream",
     "text": [
      "Epoch 74:   0%|          | 0/12 [00:00<?, ?it/s, v_num=201]         Current epoch: 74 Current stage:  transform_recon\n",
      "Epoch 74: 100%|██████████| 12/12 [00:02<00:00,  4.62it/s, v_num=201]\n",
      "Validation: |          | 0/? [00:00<?, ?it/s]\u001b[A\n",
      "Validation:   0%|          | 0/3 [00:00<?, ?it/s]\u001b[A\n",
      "Validation DataLoader 0:   0%|          | 0/3 [00:00<?, ?it/s]\u001b[A\n",
      "Validation DataLoader 0:  33%|███▎      | 1/3 [00:00<00:00, 15.08it/s]\u001b[A\n",
      "Validation DataLoader 0:  67%|██████▋   | 2/3 [00:00<00:00, 11.79it/s]\u001b[A\n",
      "Validation DataLoader 0: 100%|██████████| 3/3 [00:00<00:00, 11.79it/s]\u001b[A\n",
      "Epoch 74: 100%|██████████| 12/12 [00:02<00:00,  4.16it/s, v_num=201]  \u001b[A"
     ]
    },
    {
     "name": "stderr",
     "output_type": "stream",
     "text": [
      "Metric val_recon improved by 0.023 >= min_delta = 0.0. New best score: 2.773\n"
     ]
    },
    {
     "name": "stdout",
     "output_type": "stream",
     "text": [
      "Epoch 75:   0%|          | 0/12 [00:00<?, ?it/s, v_num=201]         Current epoch: 75 Current stage:  homology_loss\n",
      "Epoch 75: 100%|██████████| 12/12 [00:04<00:00,  2.74it/s, v_num=201]\n",
      "Validation: |          | 0/? [00:00<?, ?it/s]\u001b[A\n",
      "Validation:   0%|          | 0/3 [00:00<?, ?it/s]\u001b[A\n",
      "Validation DataLoader 0:   0%|          | 0/3 [00:00<?, ?it/s]\u001b[A\n",
      "Validation DataLoader 0:  33%|███▎      | 1/3 [00:00<00:00, 31.91it/s]\u001b[A\n",
      "Validation DataLoader 0:  67%|██████▋   | 2/3 [00:00<00:00, 20.15it/s]\u001b[A\n",
      "Validation DataLoader 0: 100%|██████████| 3/3 [00:00<00:00, 20.09it/s]\u001b[A\n",
      "Epoch 76:   0%|          | 0/12 [00:00<?, ?it/s, v_num=201]           \u001b[ACurrent epoch: 76 Current stage:  transform_recon\n",
      "Epoch 76: 100%|██████████| 12/12 [00:02<00:00,  4.63it/s, v_num=201]\n",
      "Validation: |          | 0/? [00:00<?, ?it/s]\u001b[A\n",
      "Validation:   0%|          | 0/3 [00:00<?, ?it/s]\u001b[A\n",
      "Validation DataLoader 0:   0%|          | 0/3 [00:00<?, ?it/s]\u001b[A\n",
      "Validation DataLoader 0:  33%|███▎      | 1/3 [00:00<00:00, 15.10it/s]\u001b[A\n",
      "Validation DataLoader 0:  67%|██████▋   | 2/3 [00:00<00:00, 11.79it/s]\u001b[A\n",
      "Validation DataLoader 0: 100%|██████████| 3/3 [00:00<00:00, 11.79it/s]\u001b[A\n",
      "Epoch 76: 100%|██████████| 12/12 [00:02<00:00,  4.17it/s, v_num=201]  \u001b[A"
     ]
    },
    {
     "name": "stderr",
     "output_type": "stream",
     "text": [
      "Metric val_recon improved by 0.031 >= min_delta = 0.0. New best score: 2.743\n"
     ]
    },
    {
     "name": "stdout",
     "output_type": "stream",
     "text": [
      "Epoch 77:   0%|          | 0/12 [00:00<?, ?it/s, v_num=201]         Current epoch: 77 Current stage:  homology_loss\n",
      "Epoch 77: 100%|██████████| 12/12 [00:04<00:00,  2.75it/s, v_num=201]\n",
      "Validation: |          | 0/? [00:00<?, ?it/s]\u001b[A\n",
      "Validation:   0%|          | 0/3 [00:00<?, ?it/s]\u001b[A\n",
      "Validation DataLoader 0:   0%|          | 0/3 [00:00<?, ?it/s]\u001b[A\n",
      "Validation DataLoader 0:  33%|███▎      | 1/3 [00:00<00:00, 32.07it/s]\u001b[A\n",
      "Validation DataLoader 0:  67%|██████▋   | 2/3 [00:00<00:00, 20.01it/s]\u001b[A\n",
      "Validation DataLoader 0: 100%|██████████| 3/3 [00:00<00:00, 20.03it/s]\u001b[A\n",
      "Epoch 77: 100%|██████████| 12/12 [00:04<00:00,  2.64it/s, v_num=201]  \u001b[A"
     ]
    },
    {
     "name": "stderr",
     "output_type": "stream",
     "text": [
      "Metric val_recon improved by 0.024 >= min_delta = 0.0. New best score: 2.719\n"
     ]
    },
    {
     "name": "stdout",
     "output_type": "stream",
     "text": [
      "Epoch 78:   0%|          | 0/12 [00:00<?, ?it/s, v_num=201]         Current epoch: 78 Current stage:  transform_recon\n",
      "Epoch 78: 100%|██████████| 12/12 [00:02<00:00,  4.59it/s, v_num=201]\n",
      "Validation: |          | 0/? [00:00<?, ?it/s]\u001b[A\n",
      "Validation:   0%|          | 0/3 [00:00<?, ?it/s]\u001b[A\n",
      "Validation DataLoader 0:   0%|          | 0/3 [00:00<?, ?it/s]\u001b[A\n",
      "Validation DataLoader 0:  33%|███▎      | 1/3 [00:00<00:00, 15.12it/s]\u001b[A\n",
      "Validation DataLoader 0:  67%|██████▋   | 2/3 [00:00<00:00, 10.87it/s]\u001b[A\n",
      "Validation DataLoader 0: 100%|██████████| 3/3 [00:00<00:00, 11.15it/s]\u001b[A\n",
      "Epoch 79:   0%|          | 0/12 [00:00<?, ?it/s, v_num=201]           \u001b[ACurrent epoch: 79 Current stage:  homology_loss\n",
      "Epoch 79: 100%|██████████| 12/12 [00:04<00:00,  2.64it/s, v_num=201]\n",
      "Validation: |          | 0/? [00:00<?, ?it/s]\u001b[A\n",
      "Validation:   0%|          | 0/3 [00:00<?, ?it/s]\u001b[A\n",
      "Validation DataLoader 0:   0%|          | 0/3 [00:00<?, ?it/s]\u001b[A\n",
      "Validation DataLoader 0:  33%|███▎      | 1/3 [00:00<00:00, 31.21it/s]\u001b[A\n",
      "Validation DataLoader 0:  67%|██████▋   | 2/3 [00:00<00:00, 19.79it/s]\u001b[A\n",
      "Validation DataLoader 0: 100%|██████████| 3/3 [00:00<00:00, 19.86it/s]\u001b[A\n",
      "Epoch 80:   0%|          | 0/12 [00:00<?, ?it/s, v_num=201]           \u001b[ACurrent epoch: 80 Current stage:  transform_recon\n",
      "Epoch 80: 100%|██████████| 12/12 [00:02<00:00,  4.63it/s, v_num=201]\n",
      "Validation: |          | 0/? [00:00<?, ?it/s]\u001b[A\n",
      "Validation:   0%|          | 0/3 [00:00<?, ?it/s]\u001b[A\n",
      "Validation DataLoader 0:   0%|          | 0/3 [00:00<?, ?it/s]\u001b[A\n",
      "Validation DataLoader 0:  33%|███▎      | 1/3 [00:00<00:00, 15.10it/s]\u001b[A\n",
      "Validation DataLoader 0:  67%|██████▋   | 2/3 [00:00<00:00, 11.31it/s]\u001b[A\n",
      "Validation DataLoader 0: 100%|██████████| 3/3 [00:00<00:00, 11.45it/s]\u001b[A\n",
      "Epoch 81:   0%|          | 0/12 [00:00<?, ?it/s, v_num=201]           \u001b[ACurrent epoch: 81 Current stage:  homology_loss\n",
      "Epoch 81: 100%|██████████| 12/12 [00:04<00:00,  2.74it/s, v_num=201]\n",
      "Validation: |          | 0/? [00:00<?, ?it/s]\u001b[A\n",
      "Validation:   0%|          | 0/3 [00:00<?, ?it/s]\u001b[A\n",
      "Validation DataLoader 0:   0%|          | 0/3 [00:00<?, ?it/s]\u001b[A\n",
      "Validation DataLoader 0:  33%|███▎      | 1/3 [00:00<00:00, 31.78it/s]\u001b[A\n",
      "Validation DataLoader 0:  67%|██████▋   | 2/3 [00:00<00:00, 20.12it/s]\u001b[A\n",
      "Validation DataLoader 0: 100%|██████████| 3/3 [00:00<00:00, 20.04it/s]\u001b[A\n",
      "Epoch 82:   0%|          | 0/12 [00:00<?, ?it/s, v_num=201]           \u001b[ACurrent epoch: 82 Current stage:  transform_recon\n",
      "Epoch 82: 100%|██████████| 12/12 [00:02<00:00,  4.61it/s, v_num=201]\n",
      "Validation: |          | 0/? [00:00<?, ?it/s]\u001b[A\n",
      "Validation:   0%|          | 0/3 [00:00<?, ?it/s]\u001b[A\n",
      "Validation DataLoader 0:   0%|          | 0/3 [00:00<?, ?it/s]\u001b[A\n",
      "Validation DataLoader 0:  33%|███▎      | 1/3 [00:00<00:00, 15.02it/s]\u001b[A\n",
      "Validation DataLoader 0:  67%|██████▋   | 2/3 [00:00<00:00, 11.23it/s]\u001b[A\n",
      "Validation DataLoader 0: 100%|██████████| 3/3 [00:00<00:00, 11.36it/s]\u001b[A\n",
      "Epoch 82: 100%|██████████| 12/12 [00:02<00:00,  4.15it/s, v_num=201]  \u001b[A"
     ]
    },
    {
     "name": "stderr",
     "output_type": "stream",
     "text": [
      "Metric val_recon improved by 0.021 >= min_delta = 0.0. New best score: 2.698\n"
     ]
    },
    {
     "name": "stdout",
     "output_type": "stream",
     "text": [
      "Epoch 83:   0%|          | 0/12 [00:00<?, ?it/s, v_num=201]         Current epoch: 83 Current stage:  homology_loss\n",
      "Epoch 83: 100%|██████████| 12/12 [00:04<00:00,  2.63it/s, v_num=201]\n",
      "Validation: |          | 0/? [00:00<?, ?it/s]\u001b[A\n",
      "Validation:   0%|          | 0/3 [00:00<?, ?it/s]\u001b[A\n",
      "Validation DataLoader 0:   0%|          | 0/3 [00:00<?, ?it/s]\u001b[A\n",
      "Validation DataLoader 0:  33%|███▎      | 1/3 [00:00<00:00, 31.75it/s]\u001b[A\n",
      "Validation DataLoader 0:  67%|██████▋   | 2/3 [00:00<00:00, 19.53it/s]\u001b[A\n",
      "Validation DataLoader 0: 100%|██████████| 3/3 [00:00<00:00, 17.61it/s]\u001b[A\n",
      "Epoch 84:   0%|          | 0/12 [00:00<?, ?it/s, v_num=201]           \u001b[ACurrent epoch: 84 Current stage:  transform_recon\n",
      "Epoch 84: 100%|██████████| 12/12 [00:02<00:00,  4.29it/s, v_num=201]\n",
      "Validation: |          | 0/? [00:00<?, ?it/s]\u001b[A\n",
      "Validation:   0%|          | 0/3 [00:00<?, ?it/s]\u001b[A\n",
      "Validation DataLoader 0:   0%|          | 0/3 [00:00<?, ?it/s]\u001b[A\n",
      "Validation DataLoader 0:  33%|███▎      | 1/3 [00:00<00:00, 15.06it/s]\u001b[A\n",
      "Validation DataLoader 0:  67%|██████▋   | 2/3 [00:00<00:00, 11.76it/s]\u001b[A\n",
      "Validation DataLoader 0: 100%|██████████| 3/3 [00:00<00:00, 10.98it/s]\u001b[A\n",
      "Epoch 84: 100%|██████████| 12/12 [00:03<00:00,  3.85it/s, v_num=201]  \u001b[A"
     ]
    },
    {
     "name": "stderr",
     "output_type": "stream",
     "text": [
      "Metric val_recon improved by 0.019 >= min_delta = 0.0. New best score: 2.678\n"
     ]
    },
    {
     "name": "stdout",
     "output_type": "stream",
     "text": [
      "Epoch 85:   0%|          | 0/12 [00:00<?, ?it/s, v_num=201]         Current epoch: 85 Current stage:  homology_loss\n",
      "Epoch 85: 100%|██████████| 12/12 [00:04<00:00,  2.64it/s, v_num=201]\n",
      "Validation: |          | 0/? [00:00<?, ?it/s]\u001b[A\n",
      "Validation:   0%|          | 0/3 [00:00<?, ?it/s]\u001b[A\n",
      "Validation DataLoader 0:   0%|          | 0/3 [00:00<?, ?it/s]\u001b[A\n",
      "Validation DataLoader 0:  33%|███▎      | 1/3 [00:00<00:00, 31.92it/s]\u001b[A\n",
      "Validation DataLoader 0:  67%|██████▋   | 2/3 [00:00<00:00, 19.40it/s]\u001b[A\n",
      "Validation DataLoader 0: 100%|██████████| 3/3 [00:00<00:00, 17.65it/s]\u001b[A\n",
      "Epoch 86:   0%|          | 0/12 [00:00<?, ?it/s, v_num=201]           \u001b[ACurrent epoch: 86 Current stage:  transform_recon\n",
      "Epoch 86: 100%|██████████| 12/12 [00:02<00:00,  4.29it/s, v_num=201]\n",
      "Validation: |          | 0/? [00:00<?, ?it/s]\u001b[A\n",
      "Validation:   0%|          | 0/3 [00:00<?, ?it/s]\u001b[A\n",
      "Validation DataLoader 0:   0%|          | 0/3 [00:00<?, ?it/s]\u001b[A\n",
      "Validation DataLoader 0:  33%|███▎      | 1/3 [00:00<00:00, 15.04it/s]\u001b[A\n",
      "Validation DataLoader 0:  67%|██████▋   | 2/3 [00:00<00:00, 11.75it/s]\u001b[A\n",
      "Validation DataLoader 0: 100%|██████████| 3/3 [00:00<00:00, 11.00it/s]\u001b[A\n",
      "Epoch 86: 100%|██████████| 12/12 [00:03<00:00,  3.85it/s, v_num=201]  \u001b[A"
     ]
    },
    {
     "name": "stderr",
     "output_type": "stream",
     "text": [
      "Metric val_recon improved by 0.026 >= min_delta = 0.0. New best score: 2.653\n"
     ]
    },
    {
     "name": "stdout",
     "output_type": "stream",
     "text": [
      "Epoch 87:   0%|          | 0/12 [00:00<?, ?it/s, v_num=201]         Current epoch: 87 Current stage:  homology_loss\n",
      "Epoch 87: 100%|██████████| 12/12 [00:04<00:00,  2.64it/s, v_num=201]\n",
      "Validation: |          | 0/? [00:00<?, ?it/s]\u001b[A\n",
      "Validation:   0%|          | 0/3 [00:00<?, ?it/s]\u001b[A\n",
      "Validation DataLoader 0:   0%|          | 0/3 [00:00<?, ?it/s]\u001b[A\n",
      "Validation DataLoader 0:  33%|███▎      | 1/3 [00:00<00:00, 31.79it/s]\u001b[A\n",
      "Validation DataLoader 0:  67%|██████▋   | 2/3 [00:00<00:00, 19.70it/s]\u001b[A\n",
      "Validation DataLoader 0: 100%|██████████| 3/3 [00:00<00:00, 17.62it/s]\u001b[A\n",
      "Epoch 88:   0%|          | 0/12 [00:00<?, ?it/s, v_num=201]           \u001b[ACurrent epoch: 88 Current stage:  transform_recon\n",
      "Epoch 88: 100%|██████████| 12/12 [00:02<00:00,  4.33it/s, v_num=201]\n",
      "Validation: |          | 0/? [00:00<?, ?it/s]\u001b[A\n",
      "Validation:   0%|          | 0/3 [00:00<?, ?it/s]\u001b[A\n",
      "Validation DataLoader 0:   0%|          | 0/3 [00:00<?, ?it/s]\u001b[A\n",
      "Validation DataLoader 0:  33%|███▎      | 1/3 [00:00<00:00, 15.11it/s]\u001b[A\n",
      "Validation DataLoader 0:  67%|██████▋   | 2/3 [00:00<00:00, 11.82it/s]\u001b[A\n",
      "Validation DataLoader 0: 100%|██████████| 3/3 [00:00<00:00, 11.04it/s]\u001b[A\n",
      "Epoch 88: 100%|██████████| 12/12 [00:03<00:00,  3.89it/s, v_num=201]  \u001b[A"
     ]
    },
    {
     "name": "stderr",
     "output_type": "stream",
     "text": [
      "Metric val_recon improved by 0.012 >= min_delta = 0.0. New best score: 2.641\n"
     ]
    },
    {
     "name": "stdout",
     "output_type": "stream",
     "text": [
      "Epoch 89:   0%|          | 0/12 [00:00<?, ?it/s, v_num=201]         Current epoch: 89 Current stage:  homology_loss\n",
      "Epoch 89: 100%|██████████| 12/12 [00:04<00:00,  2.63it/s, v_num=201]\n",
      "Validation: |          | 0/? [00:00<?, ?it/s]\u001b[A\n",
      "Validation:   0%|          | 0/3 [00:00<?, ?it/s]\u001b[A\n",
      "Validation DataLoader 0:   0%|          | 0/3 [00:00<?, ?it/s]\u001b[A\n",
      "Validation DataLoader 0:  33%|███▎      | 1/3 [00:00<00:00, 31.64it/s]\u001b[A\n",
      "Validation DataLoader 0:  67%|██████▋   | 2/3 [00:00<00:00, 20.02it/s]\u001b[A\n",
      "Validation DataLoader 0: 100%|██████████| 3/3 [00:00<00:00, 17.90it/s]\u001b[A\n",
      "Epoch 89: 100%|██████████| 12/12 [00:04<00:00,  2.51it/s, v_num=201]  \u001b[A"
     ]
    },
    {
     "name": "stderr",
     "output_type": "stream",
     "text": [
      "Metric val_recon improved by 0.002 >= min_delta = 0.0. New best score: 2.639\n"
     ]
    },
    {
     "name": "stdout",
     "output_type": "stream",
     "text": [
      "Epoch 90:   0%|          | 0/12 [00:00<?, ?it/s, v_num=201]         Current epoch: 90 Current stage:  transform_recon\n",
      "Epoch 90: 100%|██████████| 12/12 [00:02<00:00,  4.61it/s, v_num=201]\n",
      "Validation: |          | 0/? [00:00<?, ?it/s]\u001b[A\n",
      "Validation:   0%|          | 0/3 [00:00<?, ?it/s]\u001b[A\n",
      "Validation DataLoader 0:   0%|          | 0/3 [00:00<?, ?it/s]\u001b[A\n",
      "Validation DataLoader 0:  33%|███▎      | 1/3 [00:00<00:00, 14.99it/s]\u001b[A\n",
      "Validation DataLoader 0:  67%|██████▋   | 2/3 [00:00<00:00, 11.17it/s]\u001b[A\n",
      "Validation DataLoader 0: 100%|██████████| 3/3 [00:00<00:00, 10.64it/s]\u001b[A\n",
      "Epoch 90: 100%|██████████| 12/12 [00:02<00:00,  4.10it/s, v_num=201]  \u001b[A"
     ]
    },
    {
     "name": "stderr",
     "output_type": "stream",
     "text": [
      "Metric val_recon improved by 0.020 >= min_delta = 0.0. New best score: 2.619\n"
     ]
    },
    {
     "name": "stdout",
     "output_type": "stream",
     "text": [
      "Epoch 91:   0%|          | 0/12 [00:00<?, ?it/s, v_num=201]         Current epoch: 91 Current stage:  homology_loss\n",
      "Epoch 91: 100%|██████████| 12/12 [00:04<00:00,  2.75it/s, v_num=201]\n",
      "Validation: |          | 0/? [00:00<?, ?it/s]\u001b[A\n",
      "Validation:   0%|          | 0/3 [00:00<?, ?it/s]\u001b[A\n",
      "Validation DataLoader 0:   0%|          | 0/3 [00:00<?, ?it/s]\u001b[A\n",
      "Validation DataLoader 0:  33%|███▎      | 1/3 [00:00<00:00, 32.14it/s]\u001b[A\n",
      "Validation DataLoader 0:  67%|██████▋   | 2/3 [00:00<00:00, 20.13it/s]\u001b[A\n",
      "Validation DataLoader 0: 100%|██████████| 3/3 [00:00<00:00, 17.97it/s]\u001b[A\n",
      "Epoch 91: 100%|██████████| 12/12 [00:04<00:00,  2.62it/s, v_num=201]  \u001b[A"
     ]
    },
    {
     "name": "stderr",
     "output_type": "stream",
     "text": [
      "Metric val_recon improved by 0.009 >= min_delta = 0.0. New best score: 2.610\n"
     ]
    },
    {
     "name": "stdout",
     "output_type": "stream",
     "text": [
      "Epoch 92:   0%|          | 0/12 [00:00<?, ?it/s, v_num=201]         Current epoch: 92 Current stage:  transform_recon\n",
      "Epoch 92: 100%|██████████| 12/12 [00:02<00:00,  4.64it/s, v_num=201]\n",
      "Validation: |          | 0/? [00:00<?, ?it/s]\u001b[A\n",
      "Validation:   0%|          | 0/3 [00:00<?, ?it/s]\u001b[A\n",
      "Validation DataLoader 0:   0%|          | 0/3 [00:00<?, ?it/s]\u001b[A\n",
      "Validation DataLoader 0:  33%|███▎      | 1/3 [00:00<00:00, 15.14it/s]\u001b[A\n",
      "Validation DataLoader 0:  67%|██████▋   | 2/3 [00:00<00:00, 11.81it/s]\u001b[A\n",
      "Validation DataLoader 0: 100%|██████████| 3/3 [00:00<00:00, 11.02it/s]\u001b[A\n",
      "Epoch 93:   0%|          | 0/12 [00:00<?, ?it/s, v_num=201]           \u001b[ACurrent epoch: 93 Current stage:  homology_loss\n",
      "Epoch 93: 100%|██████████| 12/12 [00:04<00:00,  2.75it/s, v_num=201]\n",
      "Validation: |          | 0/? [00:00<?, ?it/s]\u001b[A\n",
      "Validation:   0%|          | 0/3 [00:00<?, ?it/s]\u001b[A\n",
      "Validation DataLoader 0:   0%|          | 0/3 [00:00<?, ?it/s]\u001b[A\n",
      "Validation DataLoader 0:  33%|███▎      | 1/3 [00:00<00:00, 31.87it/s]\u001b[A\n",
      "Validation DataLoader 0:  67%|██████▋   | 2/3 [00:00<00:00, 20.00it/s]\u001b[A\n",
      "Validation DataLoader 0: 100%|██████████| 3/3 [00:00<00:00, 17.85it/s]\u001b[A\n",
      "Epoch 93: 100%|██████████| 12/12 [00:04<00:00,  2.62it/s, v_num=201]  \u001b[A"
     ]
    },
    {
     "name": "stderr",
     "output_type": "stream",
     "text": [
      "Metric val_recon improved by 0.006 >= min_delta = 0.0. New best score: 2.604\n"
     ]
    },
    {
     "name": "stdout",
     "output_type": "stream",
     "text": [
      "Epoch 94:   0%|          | 0/12 [00:00<?, ?it/s, v_num=201]         Current epoch: 94 Current stage:  transform_recon\n",
      "Epoch 94: 100%|██████████| 12/12 [00:02<00:00,  4.67it/s, v_num=201]\n",
      "Validation: |          | 0/? [00:00<?, ?it/s]\u001b[A\n",
      "Validation:   0%|          | 0/3 [00:00<?, ?it/s]\u001b[A\n",
      "Validation DataLoader 0:   0%|          | 0/3 [00:00<?, ?it/s]\u001b[A\n",
      "Validation DataLoader 0:  33%|███▎      | 1/3 [00:00<00:00, 15.14it/s]\u001b[A\n",
      "Validation DataLoader 0:  67%|██████▋   | 2/3 [00:00<00:00, 11.78it/s]\u001b[A\n",
      "Validation DataLoader 0: 100%|██████████| 3/3 [00:00<00:00, 10.97it/s]\u001b[A\n",
      "Epoch 94: 100%|██████████| 12/12 [00:02<00:00,  4.16it/s, v_num=201]  \u001b[A"
     ]
    },
    {
     "name": "stderr",
     "output_type": "stream",
     "text": [
      "Metric val_recon improved by 0.031 >= min_delta = 0.0. New best score: 2.573\n"
     ]
    },
    {
     "name": "stdout",
     "output_type": "stream",
     "text": [
      "Epoch 95:   0%|          | 0/12 [00:00<?, ?it/s, v_num=201]         Current epoch: 95 Current stage:  homology_loss\n",
      "Epoch 95: 100%|██████████| 12/12 [00:04<00:00,  2.64it/s, v_num=201]\n",
      "Validation: |          | 0/? [00:00<?, ?it/s]\u001b[A\n",
      "Validation:   0%|          | 0/3 [00:00<?, ?it/s]\u001b[A\n",
      "Validation DataLoader 0:   0%|          | 0/3 [00:00<?, ?it/s]\u001b[A\n",
      "Validation DataLoader 0:  33%|███▎      | 1/3 [00:00<00:00, 32.06it/s]\u001b[A\n",
      "Validation DataLoader 0:  67%|██████▋   | 2/3 [00:00<00:00, 17.93it/s]\u001b[A\n",
      "Validation DataLoader 0: 100%|██████████| 3/3 [00:00<00:00, 16.68it/s]\u001b[A\n",
      "Epoch 96:   0%|          | 0/12 [00:00<?, ?it/s, v_num=201]           \u001b[ACurrent epoch: 96 Current stage:  transform_recon\n",
      "Epoch 96: 100%|██████████| 12/12 [00:02<00:00,  4.32it/s, v_num=201]\n",
      "Validation: |          | 0/? [00:00<?, ?it/s]\u001b[A\n",
      "Validation:   0%|          | 0/3 [00:00<?, ?it/s]\u001b[A\n",
      "Validation DataLoader 0:   0%|          | 0/3 [00:00<?, ?it/s]\u001b[A\n",
      "Validation DataLoader 0:  33%|███▎      | 1/3 [00:00<00:00, 15.09it/s]\u001b[A\n",
      "Validation DataLoader 0:  67%|██████▋   | 2/3 [00:00<00:00, 11.79it/s]\u001b[A\n",
      "Validation DataLoader 0: 100%|██████████| 3/3 [00:00<00:00, 11.01it/s]\u001b[A\n",
      "Epoch 97:   0%|          | 0/12 [00:00<?, ?it/s, v_num=201]           \u001b[ACurrent epoch: 97 Current stage:  homology_loss\n",
      "Epoch 97: 100%|██████████| 12/12 [00:04<00:00,  2.60it/s, v_num=201]\n",
      "Validation: |          | 0/? [00:00<?, ?it/s]\u001b[A\n",
      "Validation:   0%|          | 0/3 [00:00<?, ?it/s]\u001b[A\n",
      "Validation DataLoader 0:   0%|          | 0/3 [00:00<?, ?it/s]\u001b[A\n",
      "Validation DataLoader 0:  33%|███▎      | 1/3 [00:00<00:00, 31.70it/s]\u001b[A\n",
      "Validation DataLoader 0:  67%|██████▋   | 2/3 [00:00<00:00, 20.06it/s]\u001b[A\n",
      "Validation DataLoader 0: 100%|██████████| 3/3 [00:00<00:00, 18.02it/s]\u001b[A\n",
      "Epoch 98:   0%|          | 0/12 [00:00<?, ?it/s, v_num=201]           \u001b[ACurrent epoch: 98 Current stage:  transform_recon\n",
      "Epoch 98: 100%|██████████| 12/12 [00:02<00:00,  4.31it/s, v_num=201]\n",
      "Validation: |          | 0/? [00:00<?, ?it/s]\u001b[A\n",
      "Validation:   0%|          | 0/3 [00:00<?, ?it/s]\u001b[A\n",
      "Validation DataLoader 0:   0%|          | 0/3 [00:00<?, ?it/s]\u001b[A\n",
      "Validation DataLoader 0:  33%|███▎      | 1/3 [00:00<00:00, 15.02it/s]\u001b[A\n",
      "Validation DataLoader 0:  67%|██████▋   | 2/3 [00:00<00:00, 11.78it/s]\u001b[A\n",
      "Validation DataLoader 0: 100%|██████████| 3/3 [00:00<00:00, 11.00it/s]\u001b[A\n",
      "Epoch 98: 100%|██████████| 12/12 [00:03<00:00,  3.87it/s, v_num=201]  \u001b[A"
     ]
    },
    {
     "name": "stderr",
     "output_type": "stream",
     "text": [
      "Metric val_recon improved by 0.005 >= min_delta = 0.0. New best score: 2.567\n"
     ]
    },
    {
     "name": "stdout",
     "output_type": "stream",
     "text": [
      "Epoch 99:   0%|          | 0/12 [00:00<?, ?it/s, v_num=201]         Current epoch: 99 Current stage:  homology_loss\n",
      "Epoch 99: 100%|██████████| 12/12 [00:04<00:00,  2.64it/s, v_num=201]\n",
      "Validation: |          | 0/? [00:00<?, ?it/s]\u001b[A\n",
      "Validation:   0%|          | 0/3 [00:00<?, ?it/s]\u001b[A\n",
      "Validation DataLoader 0:   0%|          | 0/3 [00:00<?, ?it/s]\u001b[A\n",
      "Validation DataLoader 0:  33%|███▎      | 1/3 [00:00<00:00, 31.86it/s]\u001b[A\n",
      "Validation DataLoader 0:  67%|██████▋   | 2/3 [00:00<00:00, 19.89it/s]\u001b[A\n",
      "Validation DataLoader 0: 100%|██████████| 3/3 [00:00<00:00, 17.84it/s]\u001b[A\n",
      "Epoch 100:   0%|          | 0/12 [00:00<?, ?it/s, v_num=201]          \u001b[ACurrent epoch: 100 Current stage:  transform_recon\n",
      "Epoch 100: 100%|██████████| 12/12 [00:02<00:00,  4.31it/s, v_num=201]\n",
      "Validation: |          | 0/? [00:00<?, ?it/s]\u001b[A\n",
      "Validation:   0%|          | 0/3 [00:00<?, ?it/s]\u001b[A\n",
      "Validation DataLoader 0:   0%|          | 0/3 [00:00<?, ?it/s]\u001b[A\n",
      "Validation DataLoader 0:  33%|███▎      | 1/3 [00:00<00:00, 15.14it/s]\u001b[A\n",
      "Validation DataLoader 0:  67%|██████▋   | 2/3 [00:00<00:00, 11.77it/s]\u001b[A\n",
      "Validation DataLoader 0: 100%|██████████| 3/3 [00:00<00:00, 10.98it/s]\u001b[A\n",
      "Epoch 101:   0%|          | 0/12 [00:00<?, ?it/s, v_num=201]          \u001b[ACurrent epoch: 101 Current stage:  homology_loss\n",
      "Epoch 101: 100%|██████████| 12/12 [00:04<00:00,  2.64it/s, v_num=201]\n",
      "Validation: |          | 0/? [00:00<?, ?it/s]\u001b[A\n",
      "Validation:   0%|          | 0/3 [00:00<?, ?it/s]\u001b[A\n",
      "Validation DataLoader 0:   0%|          | 0/3 [00:00<?, ?it/s]\u001b[A\n",
      "Validation DataLoader 0:  33%|███▎      | 1/3 [00:00<00:00, 31.53it/s]\u001b[A\n",
      "Validation DataLoader 0:  67%|██████▋   | 2/3 [00:00<00:00, 19.89it/s]\u001b[A\n",
      "Validation DataLoader 0: 100%|██████████| 3/3 [00:00<00:00, 17.88it/s]\u001b[A\n",
      "Epoch 101: 100%|██████████| 12/12 [00:04<00:00,  2.53it/s, v_num=201] \u001b[A"
     ]
    },
    {
     "name": "stderr",
     "output_type": "stream",
     "text": [
      "Metric val_recon improved by 0.025 >= min_delta = 0.0. New best score: 2.543\n"
     ]
    },
    {
     "name": "stdout",
     "output_type": "stream",
     "text": [
      "Epoch 102:   0%|          | 0/12 [00:00<?, ?it/s, v_num=201]         Current epoch: 102 Current stage:  transform_recon\n",
      "Epoch 102: 100%|██████████| 12/12 [00:02<00:00,  4.29it/s, v_num=201]\n",
      "Validation: |          | 0/? [00:00<?, ?it/s]\u001b[A\n",
      "Validation:   0%|          | 0/3 [00:00<?, ?it/s]\u001b[A\n",
      "Validation DataLoader 0:   0%|          | 0/3 [00:00<?, ?it/s]\u001b[A\n",
      "Validation DataLoader 0:  33%|███▎      | 1/3 [00:00<00:00, 15.11it/s]\u001b[A\n",
      "Validation DataLoader 0:  67%|██████▋   | 2/3 [00:00<00:00, 11.79it/s]\u001b[A\n",
      "Validation DataLoader 0: 100%|██████████| 3/3 [00:00<00:00, 11.00it/s]\u001b[A\n",
      "Epoch 102: 100%|██████████| 12/12 [00:03<00:00,  3.86it/s, v_num=201] \u001b[A"
     ]
    },
    {
     "name": "stderr",
     "output_type": "stream",
     "text": [
      "Metric val_recon improved by 0.001 >= min_delta = 0.0. New best score: 2.541\n"
     ]
    },
    {
     "name": "stdout",
     "output_type": "stream",
     "text": [
      "Epoch 103:   0%|          | 0/12 [00:00<?, ?it/s, v_num=201]         Current epoch: 103 Current stage:  homology_loss\n",
      "Epoch 103: 100%|██████████| 12/12 [00:04<00:00,  2.64it/s, v_num=201]\n",
      "Validation: |          | 0/? [00:00<?, ?it/s]\u001b[A\n",
      "Validation:   0%|          | 0/3 [00:00<?, ?it/s]\u001b[A\n",
      "Validation DataLoader 0:   0%|          | 0/3 [00:00<?, ?it/s]\u001b[A\n",
      "Validation DataLoader 0:  33%|███▎      | 1/3 [00:00<00:00, 32.03it/s]\u001b[A\n",
      "Validation DataLoader 0:  67%|██████▋   | 2/3 [00:00<00:00, 20.10it/s]\u001b[A\n",
      "Validation DataLoader 0: 100%|██████████| 3/3 [00:00<00:00, 17.94it/s]\u001b[A\n",
      "Epoch 103: 100%|██████████| 12/12 [00:04<00:00,  2.53it/s, v_num=201] \u001b[A"
     ]
    },
    {
     "name": "stderr",
     "output_type": "stream",
     "text": [
      "Metric val_recon improved by 0.024 >= min_delta = 0.0. New best score: 2.517\n"
     ]
    },
    {
     "name": "stdout",
     "output_type": "stream",
     "text": [
      "Epoch 104:   0%|          | 0/12 [00:00<?, ?it/s, v_num=201]         Current epoch: 104 Current stage:  transform_recon\n",
      "Epoch 104: 100%|██████████| 12/12 [00:02<00:00,  4.36it/s, v_num=201]\n",
      "Validation: |          | 0/? [00:00<?, ?it/s]\u001b[A\n",
      "Validation:   0%|          | 0/3 [00:00<?, ?it/s]\u001b[A\n",
      "Validation DataLoader 0:   0%|          | 0/3 [00:00<?, ?it/s]\u001b[A\n",
      "Validation DataLoader 0:  33%|███▎      | 1/3 [00:00<00:00, 15.10it/s]\u001b[A\n",
      "Validation DataLoader 0:  67%|██████▋   | 2/3 [00:00<00:00, 11.76it/s]\u001b[A\n",
      "Validation DataLoader 0: 100%|██████████| 3/3 [00:00<00:00, 10.97it/s]\u001b[A\n",
      "Epoch 105:   0%|          | 0/12 [00:00<?, ?it/s, v_num=201]          \u001b[ACurrent epoch: 105 Current stage:  homology_loss\n",
      "Epoch 105: 100%|██████████| 12/12 [00:04<00:00,  2.73it/s, v_num=201]\n",
      "Validation: |          | 0/? [00:00<?, ?it/s]\u001b[A\n",
      "Validation:   0%|          | 0/3 [00:00<?, ?it/s]\u001b[A\n",
      "Validation DataLoader 0:   0%|          | 0/3 [00:00<?, ?it/s]\u001b[A\n",
      "Validation DataLoader 0:  33%|███▎      | 1/3 [00:00<00:00, 31.60it/s]\u001b[A\n",
      "Validation DataLoader 0:  67%|██████▋   | 2/3 [00:00<00:00, 19.55it/s]\u001b[A\n",
      "Validation DataLoader 0: 100%|██████████| 3/3 [00:00<00:00, 17.67it/s]\u001b[A\n",
      "Epoch 106:   0%|          | 0/12 [00:00<?, ?it/s, v_num=201]          \u001b[ACurrent epoch: 106 Current stage:  transform_recon\n",
      "Epoch 106: 100%|██████████| 12/12 [00:02<00:00,  4.67it/s, v_num=201]\n",
      "Validation: |          | 0/? [00:00<?, ?it/s]\u001b[A\n",
      "Validation:   0%|          | 0/3 [00:00<?, ?it/s]\u001b[A\n",
      "Validation DataLoader 0:   0%|          | 0/3 [00:00<?, ?it/s]\u001b[A\n",
      "Validation DataLoader 0:  33%|███▎      | 1/3 [00:00<00:00, 15.10it/s]\u001b[A\n",
      "Validation DataLoader 0:  67%|██████▋   | 2/3 [00:00<00:00, 11.82it/s]\u001b[A\n",
      "Validation DataLoader 0: 100%|██████████| 3/3 [00:00<00:00, 11.01it/s]\u001b[A\n",
      "Epoch 106: 100%|██████████| 12/12 [00:02<00:00,  4.16it/s, v_num=201] \u001b[A"
     ]
    },
    {
     "name": "stderr",
     "output_type": "stream",
     "text": [
      "Metric val_recon improved by 0.003 >= min_delta = 0.0. New best score: 2.514\n"
     ]
    },
    {
     "name": "stdout",
     "output_type": "stream",
     "text": [
      "Epoch 107:   0%|          | 0/12 [00:00<?, ?it/s, v_num=201]         Current epoch: 107 Current stage:  homology_loss\n",
      "Epoch 107: 100%|██████████| 12/12 [00:04<00:00,  2.75it/s, v_num=201]\n",
      "Validation: |          | 0/? [00:00<?, ?it/s]\u001b[A\n",
      "Validation:   0%|          | 0/3 [00:00<?, ?it/s]\u001b[A\n",
      "Validation DataLoader 0:   0%|          | 0/3 [00:00<?, ?it/s]\u001b[A\n",
      "Validation DataLoader 0:  33%|███▎      | 1/3 [00:00<00:00, 31.87it/s]\u001b[A\n",
      "Validation DataLoader 0:  67%|██████▋   | 2/3 [00:00<00:00, 20.15it/s]\u001b[A\n",
      "Validation DataLoader 0: 100%|██████████| 3/3 [00:00<00:00, 18.01it/s]\u001b[A\n",
      "Epoch 107: 100%|██████████| 12/12 [00:04<00:00,  2.62it/s, v_num=201] \u001b[A"
     ]
    },
    {
     "name": "stderr",
     "output_type": "stream",
     "text": [
      "Metric val_recon improved by 0.001 >= min_delta = 0.0. New best score: 2.513\n"
     ]
    },
    {
     "name": "stdout",
     "output_type": "stream",
     "text": [
      "Epoch 108:   0%|          | 0/12 [00:00<?, ?it/s, v_num=201]         Current epoch: 108 Current stage:  transform_recon\n",
      "Epoch 108: 100%|██████████| 12/12 [00:02<00:00,  4.60it/s, v_num=201]\n",
      "Validation: |          | 0/? [00:00<?, ?it/s]\u001b[A\n",
      "Validation:   0%|          | 0/3 [00:00<?, ?it/s]\u001b[A\n",
      "Validation DataLoader 0:   0%|          | 0/3 [00:00<?, ?it/s]\u001b[A\n",
      "Validation DataLoader 0:  33%|███▎      | 1/3 [00:00<00:00, 15.13it/s]\u001b[A\n",
      "Validation DataLoader 0:  67%|██████▋   | 2/3 [00:00<00:00, 11.79it/s]\u001b[A\n",
      "Validation DataLoader 0: 100%|██████████| 3/3 [00:00<00:00, 11.03it/s]\u001b[A\n",
      "Epoch 109:   0%|          | 0/12 [00:00<?, ?it/s, v_num=201]          \u001b[ACurrent epoch: 109 Current stage:  homology_loss\n",
      "Epoch 109: 100%|██████████| 12/12 [00:04<00:00,  2.75it/s, v_num=201]\n",
      "Validation: |          | 0/? [00:00<?, ?it/s]\u001b[A\n",
      "Validation:   0%|          | 0/3 [00:00<?, ?it/s]\u001b[A\n",
      "Validation DataLoader 0:   0%|          | 0/3 [00:00<?, ?it/s]\u001b[A\n",
      "Validation DataLoader 0:  33%|███▎      | 1/3 [00:00<00:00, 31.99it/s]\u001b[A\n",
      "Validation DataLoader 0:  67%|██████▋   | 2/3 [00:00<00:00, 20.21it/s]\u001b[A\n",
      "Validation DataLoader 0: 100%|██████████| 3/3 [00:00<00:00, 18.02it/s]\u001b[A\n",
      "Epoch 110:   0%|          | 0/12 [00:00<?, ?it/s, v_num=201]          \u001b[ACurrent epoch: 110 Current stage:  transform_recon\n",
      "Epoch 110: 100%|██████████| 12/12 [00:02<00:00,  4.59it/s, v_num=201]\n",
      "Validation: |          | 0/? [00:00<?, ?it/s]\u001b[A\n",
      "Validation:   0%|          | 0/3 [00:00<?, ?it/s]\u001b[A\n",
      "Validation DataLoader 0:   0%|          | 0/3 [00:00<?, ?it/s]\u001b[A\n",
      "Validation DataLoader 0:  33%|███▎      | 1/3 [00:00<00:00, 15.13it/s]\u001b[A\n",
      "Validation DataLoader 0:  67%|██████▋   | 2/3 [00:00<00:00, 11.84it/s]\u001b[A\n",
      "Validation DataLoader 0: 100%|██████████| 3/3 [00:00<00:00, 11.04it/s]\u001b[A\n",
      "Epoch 110: 100%|██████████| 12/12 [00:02<00:00,  4.10it/s, v_num=201] \u001b[A"
     ]
    },
    {
     "name": "stderr",
     "output_type": "stream",
     "text": [
      "Metric val_recon improved by 0.019 >= min_delta = 0.0. New best score: 2.495\n"
     ]
    },
    {
     "name": "stdout",
     "output_type": "stream",
     "text": [
      "Epoch 111:   0%|          | 0/12 [00:00<?, ?it/s, v_num=201]         Current epoch: 111 Current stage:  homology_loss\n",
      "Epoch 111: 100%|██████████| 12/12 [00:04<00:00,  2.75it/s, v_num=201]\n",
      "Validation: |          | 0/? [00:00<?, ?it/s]\u001b[A\n",
      "Validation:   0%|          | 0/3 [00:00<?, ?it/s]\u001b[A\n",
      "Validation DataLoader 0:   0%|          | 0/3 [00:00<?, ?it/s]\u001b[A\n",
      "Validation DataLoader 0:  33%|███▎      | 1/3 [00:00<00:00, 31.91it/s]\u001b[A\n",
      "Validation DataLoader 0:  67%|██████▋   | 2/3 [00:00<00:00, 20.26it/s]\u001b[A\n",
      "Validation DataLoader 0: 100%|██████████| 3/3 [00:00<00:00, 18.03it/s]\u001b[A\n",
      "Epoch 111: 100%|██████████| 12/12 [00:04<00:00,  2.62it/s, v_num=201] \u001b[A"
     ]
    },
    {
     "name": "stderr",
     "output_type": "stream",
     "text": [
      "Metric val_recon improved by 0.017 >= min_delta = 0.0. New best score: 2.478\n"
     ]
    },
    {
     "name": "stdout",
     "output_type": "stream",
     "text": [
      "Epoch 112:   0%|          | 0/12 [00:00<?, ?it/s, v_num=201]         Current epoch: 112 Current stage:  transform_recon\n",
      "Epoch 112: 100%|██████████| 12/12 [00:02<00:00,  4.61it/s, v_num=201]\n",
      "Validation: |          | 0/? [00:00<?, ?it/s]\u001b[A\n",
      "Validation:   0%|          | 0/3 [00:00<?, ?it/s]\u001b[A\n",
      "Validation DataLoader 0:   0%|          | 0/3 [00:00<?, ?it/s]\u001b[A\n",
      "Validation DataLoader 0:  33%|███▎      | 1/3 [00:00<00:00, 15.11it/s]\u001b[A\n",
      "Validation DataLoader 0:  67%|██████▋   | 2/3 [00:00<00:00, 11.74it/s]\u001b[A\n",
      "Validation DataLoader 0: 100%|██████████| 3/3 [00:00<00:00, 10.93it/s]\u001b[A\n",
      "Epoch 113:   0%|          | 0/12 [00:00<?, ?it/s, v_num=201]          \u001b[ACurrent epoch: 113 Current stage:  homology_loss\n",
      "Epoch 113: 100%|██████████| 12/12 [00:04<00:00,  2.75it/s, v_num=201]\n",
      "Validation: |          | 0/? [00:00<?, ?it/s]\u001b[A\n",
      "Validation:   0%|          | 0/3 [00:00<?, ?it/s]\u001b[A\n",
      "Validation DataLoader 0:   0%|          | 0/3 [00:00<?, ?it/s]\u001b[A\n",
      "Validation DataLoader 0:  33%|███▎      | 1/3 [00:00<00:00, 32.09it/s]\u001b[A\n",
      "Validation DataLoader 0:  67%|██████▋   | 2/3 [00:00<00:00, 20.00it/s]\u001b[A\n",
      "Validation DataLoader 0: 100%|██████████| 3/3 [00:00<00:00, 17.91it/s]\u001b[A\n",
      "Epoch 113: 100%|██████████| 12/12 [00:04<00:00,  2.62it/s, v_num=201] \u001b[A"
     ]
    },
    {
     "name": "stderr",
     "output_type": "stream",
     "text": [
      "Metric val_recon improved by 0.002 >= min_delta = 0.0. New best score: 2.476\n"
     ]
    },
    {
     "name": "stdout",
     "output_type": "stream",
     "text": [
      "Epoch 114:   0%|          | 0/12 [00:00<?, ?it/s, v_num=201]         Current epoch: 114 Current stage:  transform_recon\n",
      "Epoch 114: 100%|██████████| 12/12 [00:02<00:00,  4.58it/s, v_num=201]\n",
      "Validation: |          | 0/? [00:00<?, ?it/s]\u001b[A\n",
      "Validation:   0%|          | 0/3 [00:00<?, ?it/s]\u001b[A\n",
      "Validation DataLoader 0:   0%|          | 0/3 [00:00<?, ?it/s]\u001b[A\n",
      "Validation DataLoader 0:  33%|███▎      | 1/3 [00:00<00:00, 14.97it/s]\u001b[A\n",
      "Validation DataLoader 0:  67%|██████▋   | 2/3 [00:00<00:00, 11.72it/s]\u001b[A\n",
      "Validation DataLoader 0: 100%|██████████| 3/3 [00:00<00:00, 10.95it/s]\u001b[A\n",
      "Epoch 114: 100%|██████████| 12/12 [00:02<00:00,  4.08it/s, v_num=201] \u001b[A"
     ]
    },
    {
     "name": "stderr",
     "output_type": "stream",
     "text": [
      "Metric val_recon improved by 0.023 >= min_delta = 0.0. New best score: 2.453\n"
     ]
    },
    {
     "name": "stdout",
     "output_type": "stream",
     "text": [
      "Epoch 115:   0%|          | 0/12 [00:00<?, ?it/s, v_num=201]         Current epoch: 115 Current stage:  homology_loss\n",
      "Epoch 115: 100%|██████████| 12/12 [00:04<00:00,  2.64it/s, v_num=201]\n",
      "Validation: |          | 0/? [00:00<?, ?it/s]\u001b[A\n",
      "Validation:   0%|          | 0/3 [00:00<?, ?it/s]\u001b[A\n",
      "Validation DataLoader 0:   0%|          | 0/3 [00:00<?, ?it/s]\u001b[A\n",
      "Validation DataLoader 0:  33%|███▎      | 1/3 [00:00<00:00, 32.08it/s]\u001b[A\n",
      "Validation DataLoader 0:  67%|██████▋   | 2/3 [00:00<00:00, 19.24it/s]\u001b[A\n",
      "Validation DataLoader 0: 100%|██████████| 3/3 [00:00<00:00, 17.54it/s]\u001b[A\n",
      "Epoch 116:   0%|          | 0/12 [00:00<?, ?it/s, v_num=201]          \u001b[ACurrent epoch: 116 Current stage:  transform_recon\n",
      "Epoch 116: 100%|██████████| 12/12 [00:02<00:00,  4.35it/s, v_num=201]\n",
      "Validation: |          | 0/? [00:00<?, ?it/s]\u001b[A\n",
      "Validation:   0%|          | 0/3 [00:00<?, ?it/s]\u001b[A\n",
      "Validation DataLoader 0:   0%|          | 0/3 [00:00<?, ?it/s]\u001b[A\n",
      "Validation DataLoader 0:  33%|███▎      | 1/3 [00:00<00:00, 14.98it/s]\u001b[A\n",
      "Validation DataLoader 0:  67%|██████▋   | 2/3 [00:00<00:00, 10.94it/s]\u001b[A\n",
      "Validation DataLoader 0: 100%|██████████| 3/3 [00:00<00:00, 10.48it/s]\u001b[A\n",
      "Epoch 117:   0%|          | 0/12 [00:00<?, ?it/s, v_num=201]          \u001b[ACurrent epoch: 117 Current stage:  homology_loss\n",
      "Epoch 117: 100%|██████████| 12/12 [00:04<00:00,  2.74it/s, v_num=201]\n",
      "Validation: |          | 0/? [00:00<?, ?it/s]\u001b[A\n",
      "Validation:   0%|          | 0/3 [00:00<?, ?it/s]\u001b[A\n",
      "Validation DataLoader 0:   0%|          | 0/3 [00:00<?, ?it/s]\u001b[A\n",
      "Validation DataLoader 0:  33%|███▎      | 1/3 [00:00<00:00, 31.84it/s]\u001b[A\n",
      "Validation DataLoader 0:  67%|██████▋   | 2/3 [00:00<00:00, 17.65it/s]\u001b[A\n",
      "Validation DataLoader 0: 100%|██████████| 3/3 [00:00<00:00, 16.51it/s]\u001b[A\n",
      "Epoch 118:   0%|          | 0/12 [00:00<?, ?it/s, v_num=201]          \u001b[ACurrent epoch: 118 Current stage:  transform_recon\n",
      "Epoch 118: 100%|██████████| 12/12 [00:02<00:00,  4.62it/s, v_num=201]\n",
      "Validation: |          | 0/? [00:00<?, ?it/s]\u001b[A\n",
      "Validation:   0%|          | 0/3 [00:00<?, ?it/s]\u001b[A\n",
      "Validation DataLoader 0:   0%|          | 0/3 [00:00<?, ?it/s]\u001b[A\n",
      "Validation DataLoader 0:  33%|███▎      | 1/3 [00:00<00:00, 15.12it/s]\u001b[A\n",
      "Validation DataLoader 0:  67%|██████▋   | 2/3 [00:00<00:00, 11.75it/s]\u001b[A\n",
      "Validation DataLoader 0: 100%|██████████| 3/3 [00:00<00:00, 11.01it/s]\u001b[A\n",
      "Epoch 119:   0%|          | 0/12 [00:00<?, ?it/s, v_num=201]          \u001b[ACurrent epoch: 119 Current stage:  homology_loss\n",
      "Epoch 119:  25%|██▌       | 3/12 [00:01<00:03,  2.65it/s, v_num=201]"
     ]
    },
    {
     "name": "stderr",
     "output_type": "stream",
     "text": [
      "\n",
      "Detected KeyboardInterrupt, attempting graceful shutdown ...\n"
     ]
    },
    {
     "ename": "NameError",
     "evalue": "name 'exit' is not defined",
     "output_type": "error",
     "traceback": [
      "\u001b[0;31m---------------------------------------------------------------------------\u001b[0m",
      "\u001b[0;31mKeyboardInterrupt\u001b[0m                         Traceback (most recent call last)",
      "File \u001b[0;32m/opt/jupyter-envs/generate-cross-species/atar-vscode/conda/lib/python3.11/site-packages/pytorch_lightning/trainer/call.py:47\u001b[0m, in \u001b[0;36m_call_and_handle_interrupt\u001b[0;34m(trainer, trainer_fn, *args, **kwargs)\u001b[0m\n\u001b[1;32m     46\u001b[0m         \u001b[38;5;28;01mreturn\u001b[39;00m trainer\u001b[38;5;241m.\u001b[39mstrategy\u001b[38;5;241m.\u001b[39mlauncher\u001b[38;5;241m.\u001b[39mlaunch(trainer_fn, \u001b[38;5;241m*\u001b[39margs, trainer\u001b[38;5;241m=\u001b[39mtrainer, \u001b[38;5;241m*\u001b[39m\u001b[38;5;241m*\u001b[39mkwargs)\n\u001b[0;32m---> 47\u001b[0m     \u001b[38;5;28;01mreturn\u001b[39;00m trainer_fn(\u001b[38;5;241m*\u001b[39margs, \u001b[38;5;241m*\u001b[39m\u001b[38;5;241m*\u001b[39mkwargs)\n\u001b[1;32m     49\u001b[0m \u001b[38;5;28;01mexcept\u001b[39;00m _TunerExitException:\n",
      "File \u001b[0;32m/opt/jupyter-envs/generate-cross-species/atar-vscode/conda/lib/python3.11/site-packages/pytorch_lightning/trainer/trainer.py:574\u001b[0m, in \u001b[0;36mTrainer._fit_impl\u001b[0;34m(self, model, train_dataloaders, val_dataloaders, datamodule, ckpt_path)\u001b[0m\n\u001b[1;32m    568\u001b[0m ckpt_path \u001b[38;5;241m=\u001b[39m \u001b[38;5;28mself\u001b[39m\u001b[38;5;241m.\u001b[39m_checkpoint_connector\u001b[38;5;241m.\u001b[39m_select_ckpt_path(\n\u001b[1;32m    569\u001b[0m     \u001b[38;5;28mself\u001b[39m\u001b[38;5;241m.\u001b[39mstate\u001b[38;5;241m.\u001b[39mfn,\n\u001b[1;32m    570\u001b[0m     ckpt_path,\n\u001b[1;32m    571\u001b[0m     model_provided\u001b[38;5;241m=\u001b[39m\u001b[38;5;28;01mTrue\u001b[39;00m,\n\u001b[1;32m    572\u001b[0m     model_connected\u001b[38;5;241m=\u001b[39m\u001b[38;5;28mself\u001b[39m\u001b[38;5;241m.\u001b[39mlightning_module \u001b[38;5;129;01mis\u001b[39;00m \u001b[38;5;129;01mnot\u001b[39;00m \u001b[38;5;28;01mNone\u001b[39;00m,\n\u001b[1;32m    573\u001b[0m )\n\u001b[0;32m--> 574\u001b[0m \u001b[38;5;28mself\u001b[39m\u001b[38;5;241m.\u001b[39m_run(model, ckpt_path\u001b[38;5;241m=\u001b[39mckpt_path)\n\u001b[1;32m    576\u001b[0m \u001b[38;5;28;01massert\u001b[39;00m \u001b[38;5;28mself\u001b[39m\u001b[38;5;241m.\u001b[39mstate\u001b[38;5;241m.\u001b[39mstopped\n",
      "File \u001b[0;32m/opt/jupyter-envs/generate-cross-species/atar-vscode/conda/lib/python3.11/site-packages/pytorch_lightning/trainer/trainer.py:981\u001b[0m, in \u001b[0;36mTrainer._run\u001b[0;34m(self, model, ckpt_path)\u001b[0m\n\u001b[1;32m    978\u001b[0m \u001b[38;5;66;03m# ----------------------------\u001b[39;00m\n\u001b[1;32m    979\u001b[0m \u001b[38;5;66;03m# RUN THE TRAINER\u001b[39;00m\n\u001b[1;32m    980\u001b[0m \u001b[38;5;66;03m# ----------------------------\u001b[39;00m\n\u001b[0;32m--> 981\u001b[0m results \u001b[38;5;241m=\u001b[39m \u001b[38;5;28mself\u001b[39m\u001b[38;5;241m.\u001b[39m_run_stage()\n\u001b[1;32m    983\u001b[0m \u001b[38;5;66;03m# ----------------------------\u001b[39;00m\n\u001b[1;32m    984\u001b[0m \u001b[38;5;66;03m# POST-Training CLEAN UP\u001b[39;00m\n\u001b[1;32m    985\u001b[0m \u001b[38;5;66;03m# ----------------------------\u001b[39;00m\n",
      "File \u001b[0;32m/opt/jupyter-envs/generate-cross-species/atar-vscode/conda/lib/python3.11/site-packages/pytorch_lightning/trainer/trainer.py:1025\u001b[0m, in \u001b[0;36mTrainer._run_stage\u001b[0;34m(self)\u001b[0m\n\u001b[1;32m   1024\u001b[0m \u001b[38;5;28;01mwith\u001b[39;00m torch\u001b[38;5;241m.\u001b[39mautograd\u001b[38;5;241m.\u001b[39mset_detect_anomaly(\u001b[38;5;28mself\u001b[39m\u001b[38;5;241m.\u001b[39m_detect_anomaly):\n\u001b[0;32m-> 1025\u001b[0m     \u001b[38;5;28mself\u001b[39m\u001b[38;5;241m.\u001b[39mfit_loop\u001b[38;5;241m.\u001b[39mrun()\n\u001b[1;32m   1026\u001b[0m \u001b[38;5;28;01mreturn\u001b[39;00m \u001b[38;5;28;01mNone\u001b[39;00m\n",
      "File \u001b[0;32m/opt/jupyter-envs/generate-cross-species/atar-vscode/conda/lib/python3.11/site-packages/pytorch_lightning/loops/fit_loop.py:205\u001b[0m, in \u001b[0;36m_FitLoop.run\u001b[0;34m(self)\u001b[0m\n\u001b[1;32m    204\u001b[0m \u001b[38;5;28mself\u001b[39m\u001b[38;5;241m.\u001b[39mon_advance_start()\n\u001b[0;32m--> 205\u001b[0m \u001b[38;5;28mself\u001b[39m\u001b[38;5;241m.\u001b[39madvance()\n\u001b[1;32m    206\u001b[0m \u001b[38;5;28mself\u001b[39m\u001b[38;5;241m.\u001b[39mon_advance_end()\n",
      "File \u001b[0;32m/opt/jupyter-envs/generate-cross-species/atar-vscode/conda/lib/python3.11/site-packages/pytorch_lightning/loops/fit_loop.py:363\u001b[0m, in \u001b[0;36m_FitLoop.advance\u001b[0;34m(self)\u001b[0m\n\u001b[1;32m    362\u001b[0m \u001b[38;5;28;01massert\u001b[39;00m \u001b[38;5;28mself\u001b[39m\u001b[38;5;241m.\u001b[39m_data_fetcher \u001b[38;5;129;01mis\u001b[39;00m \u001b[38;5;129;01mnot\u001b[39;00m \u001b[38;5;28;01mNone\u001b[39;00m\n\u001b[0;32m--> 363\u001b[0m \u001b[38;5;28mself\u001b[39m\u001b[38;5;241m.\u001b[39mepoch_loop\u001b[38;5;241m.\u001b[39mrun(\u001b[38;5;28mself\u001b[39m\u001b[38;5;241m.\u001b[39m_data_fetcher)\n",
      "File \u001b[0;32m/opt/jupyter-envs/generate-cross-species/atar-vscode/conda/lib/python3.11/site-packages/pytorch_lightning/loops/training_epoch_loop.py:140\u001b[0m, in \u001b[0;36m_TrainingEpochLoop.run\u001b[0;34m(self, data_fetcher)\u001b[0m\n\u001b[1;32m    139\u001b[0m \u001b[38;5;28;01mtry\u001b[39;00m:\n\u001b[0;32m--> 140\u001b[0m     \u001b[38;5;28mself\u001b[39m\u001b[38;5;241m.\u001b[39madvance(data_fetcher)\n\u001b[1;32m    141\u001b[0m     \u001b[38;5;28mself\u001b[39m\u001b[38;5;241m.\u001b[39mon_advance_end(data_fetcher)\n",
      "File \u001b[0;32m/opt/jupyter-envs/generate-cross-species/atar-vscode/conda/lib/python3.11/site-packages/pytorch_lightning/loops/training_epoch_loop.py:250\u001b[0m, in \u001b[0;36m_TrainingEpochLoop.advance\u001b[0;34m(self, data_fetcher)\u001b[0m\n\u001b[1;32m    248\u001b[0m \u001b[38;5;28;01mif\u001b[39;00m trainer\u001b[38;5;241m.\u001b[39mlightning_module\u001b[38;5;241m.\u001b[39mautomatic_optimization:\n\u001b[1;32m    249\u001b[0m     \u001b[38;5;66;03m# in automatic optimization, there can only be one optimizer\u001b[39;00m\n\u001b[0;32m--> 250\u001b[0m     batch_output \u001b[38;5;241m=\u001b[39m \u001b[38;5;28mself\u001b[39m\u001b[38;5;241m.\u001b[39mautomatic_optimization\u001b[38;5;241m.\u001b[39mrun(trainer\u001b[38;5;241m.\u001b[39moptimizers[\u001b[38;5;241m0\u001b[39m], batch_idx, kwargs)\n\u001b[1;32m    251\u001b[0m \u001b[38;5;28;01melse\u001b[39;00m:\n",
      "File \u001b[0;32m/opt/jupyter-envs/generate-cross-species/atar-vscode/conda/lib/python3.11/site-packages/pytorch_lightning/loops/optimization/automatic.py:190\u001b[0m, in \u001b[0;36m_AutomaticOptimization.run\u001b[0;34m(self, optimizer, batch_idx, kwargs)\u001b[0m\n\u001b[1;32m    185\u001b[0m \u001b[38;5;66;03m# ------------------------------\u001b[39;00m\n\u001b[1;32m    186\u001b[0m \u001b[38;5;66;03m# BACKWARD PASS\u001b[39;00m\n\u001b[1;32m    187\u001b[0m \u001b[38;5;66;03m# ------------------------------\u001b[39;00m\n\u001b[1;32m    188\u001b[0m \u001b[38;5;66;03m# gradient update with accumulated gradients\u001b[39;00m\n\u001b[1;32m    189\u001b[0m \u001b[38;5;28;01melse\u001b[39;00m:\n\u001b[0;32m--> 190\u001b[0m     \u001b[38;5;28mself\u001b[39m\u001b[38;5;241m.\u001b[39m_optimizer_step(batch_idx, closure)\n\u001b[1;32m    192\u001b[0m result \u001b[38;5;241m=\u001b[39m closure\u001b[38;5;241m.\u001b[39mconsume_result()\n",
      "File \u001b[0;32m/opt/jupyter-envs/generate-cross-species/atar-vscode/conda/lib/python3.11/site-packages/pytorch_lightning/loops/optimization/automatic.py:268\u001b[0m, in \u001b[0;36m_AutomaticOptimization._optimizer_step\u001b[0;34m(self, batch_idx, train_step_and_backward_closure)\u001b[0m\n\u001b[1;32m    267\u001b[0m \u001b[38;5;66;03m# model hook\u001b[39;00m\n\u001b[0;32m--> 268\u001b[0m call\u001b[38;5;241m.\u001b[39m_call_lightning_module_hook(\n\u001b[1;32m    269\u001b[0m     trainer,\n\u001b[1;32m    270\u001b[0m     \u001b[38;5;124m\"\u001b[39m\u001b[38;5;124moptimizer_step\u001b[39m\u001b[38;5;124m\"\u001b[39m,\n\u001b[1;32m    271\u001b[0m     trainer\u001b[38;5;241m.\u001b[39mcurrent_epoch,\n\u001b[1;32m    272\u001b[0m     batch_idx,\n\u001b[1;32m    273\u001b[0m     optimizer,\n\u001b[1;32m    274\u001b[0m     train_step_and_backward_closure,\n\u001b[1;32m    275\u001b[0m )\n\u001b[1;32m    277\u001b[0m \u001b[38;5;28;01mif\u001b[39;00m \u001b[38;5;129;01mnot\u001b[39;00m should_accumulate:\n",
      "File \u001b[0;32m/opt/jupyter-envs/generate-cross-species/atar-vscode/conda/lib/python3.11/site-packages/pytorch_lightning/trainer/call.py:167\u001b[0m, in \u001b[0;36m_call_lightning_module_hook\u001b[0;34m(trainer, hook_name, pl_module, *args, **kwargs)\u001b[0m\n\u001b[1;32m    166\u001b[0m \u001b[38;5;28;01mwith\u001b[39;00m trainer\u001b[38;5;241m.\u001b[39mprofiler\u001b[38;5;241m.\u001b[39mprofile(\u001b[38;5;124mf\u001b[39m\u001b[38;5;124m\"\u001b[39m\u001b[38;5;124m[LightningModule]\u001b[39m\u001b[38;5;132;01m{\u001b[39;00mpl_module\u001b[38;5;241m.\u001b[39m\u001b[38;5;18m__class__\u001b[39m\u001b[38;5;241m.\u001b[39m\u001b[38;5;18m__name__\u001b[39m\u001b[38;5;132;01m}\u001b[39;00m\u001b[38;5;124m.\u001b[39m\u001b[38;5;132;01m{\u001b[39;00mhook_name\u001b[38;5;132;01m}\u001b[39;00m\u001b[38;5;124m\"\u001b[39m):\n\u001b[0;32m--> 167\u001b[0m     output \u001b[38;5;241m=\u001b[39m fn(\u001b[38;5;241m*\u001b[39margs, \u001b[38;5;241m*\u001b[39m\u001b[38;5;241m*\u001b[39mkwargs)\n\u001b[1;32m    169\u001b[0m \u001b[38;5;66;03m# restore current_fx when nested context\u001b[39;00m\n",
      "File \u001b[0;32m/opt/jupyter-envs/generate-cross-species/atar-vscode/conda/lib/python3.11/site-packages/pytorch_lightning/core/module.py:1306\u001b[0m, in \u001b[0;36mLightningModule.optimizer_step\u001b[0;34m(self, epoch, batch_idx, optimizer, optimizer_closure)\u001b[0m\n\u001b[1;32m   1282\u001b[0m \u001b[38;5;250m\u001b[39m\u001b[38;5;124mr\u001b[39m\u001b[38;5;124;03m\"\"\"Override this method to adjust the default way the :class:`~pytorch_lightning.trainer.trainer.Trainer` calls\u001b[39;00m\n\u001b[1;32m   1283\u001b[0m \u001b[38;5;124;03mthe optimizer.\u001b[39;00m\n\u001b[1;32m   1284\u001b[0m \n\u001b[0;32m   (...)\u001b[0m\n\u001b[1;32m   1304\u001b[0m \n\u001b[1;32m   1305\u001b[0m \u001b[38;5;124;03m\"\"\"\u001b[39;00m\n\u001b[0;32m-> 1306\u001b[0m optimizer\u001b[38;5;241m.\u001b[39mstep(closure\u001b[38;5;241m=\u001b[39moptimizer_closure)\n",
      "File \u001b[0;32m/opt/jupyter-envs/generate-cross-species/atar-vscode/conda/lib/python3.11/site-packages/pytorch_lightning/core/optimizer.py:153\u001b[0m, in \u001b[0;36mLightningOptimizer.step\u001b[0;34m(self, closure, **kwargs)\u001b[0m\n\u001b[1;32m    152\u001b[0m \u001b[38;5;28;01massert\u001b[39;00m \u001b[38;5;28mself\u001b[39m\u001b[38;5;241m.\u001b[39m_strategy \u001b[38;5;129;01mis\u001b[39;00m \u001b[38;5;129;01mnot\u001b[39;00m \u001b[38;5;28;01mNone\u001b[39;00m\n\u001b[0;32m--> 153\u001b[0m step_output \u001b[38;5;241m=\u001b[39m \u001b[38;5;28mself\u001b[39m\u001b[38;5;241m.\u001b[39m_strategy\u001b[38;5;241m.\u001b[39moptimizer_step(\u001b[38;5;28mself\u001b[39m\u001b[38;5;241m.\u001b[39m_optimizer, closure, \u001b[38;5;241m*\u001b[39m\u001b[38;5;241m*\u001b[39mkwargs)\n\u001b[1;32m    155\u001b[0m \u001b[38;5;28mself\u001b[39m\u001b[38;5;241m.\u001b[39m_on_after_step()\n",
      "File \u001b[0;32m/opt/jupyter-envs/generate-cross-species/atar-vscode/conda/lib/python3.11/site-packages/pytorch_lightning/strategies/strategy.py:238\u001b[0m, in \u001b[0;36mStrategy.optimizer_step\u001b[0;34m(self, optimizer, closure, model, **kwargs)\u001b[0m\n\u001b[1;32m    237\u001b[0m \u001b[38;5;28;01massert\u001b[39;00m \u001b[38;5;28misinstance\u001b[39m(model, pl\u001b[38;5;241m.\u001b[39mLightningModule)\n\u001b[0;32m--> 238\u001b[0m \u001b[38;5;28;01mreturn\u001b[39;00m \u001b[38;5;28mself\u001b[39m\u001b[38;5;241m.\u001b[39mprecision_plugin\u001b[38;5;241m.\u001b[39moptimizer_step(optimizer, model\u001b[38;5;241m=\u001b[39mmodel, closure\u001b[38;5;241m=\u001b[39mclosure, \u001b[38;5;241m*\u001b[39m\u001b[38;5;241m*\u001b[39mkwargs)\n",
      "File \u001b[0;32m/opt/jupyter-envs/generate-cross-species/atar-vscode/conda/lib/python3.11/site-packages/pytorch_lightning/plugins/precision/amp.py:78\u001b[0m, in \u001b[0;36mMixedPrecision.optimizer_step\u001b[0;34m(self, optimizer, model, closure, **kwargs)\u001b[0m\n\u001b[1;32m     77\u001b[0m     \u001b[38;5;28;01mraise\u001b[39;00m MisconfigurationException(\u001b[38;5;124m\"\u001b[39m\u001b[38;5;124mAMP and the LBFGS optimizer are not compatible.\u001b[39m\u001b[38;5;124m\"\u001b[39m)\n\u001b[0;32m---> 78\u001b[0m closure_result \u001b[38;5;241m=\u001b[39m closure()\n\u001b[1;32m     80\u001b[0m \u001b[38;5;66;03m# If backward was skipped in automatic optimization (return None), unscaling is not needed\u001b[39;00m\n",
      "File \u001b[0;32m/opt/jupyter-envs/generate-cross-species/atar-vscode/conda/lib/python3.11/site-packages/pytorch_lightning/loops/optimization/automatic.py:144\u001b[0m, in \u001b[0;36mClosure.__call__\u001b[0;34m(self, *args, **kwargs)\u001b[0m\n\u001b[1;32m    142\u001b[0m \u001b[38;5;129m@override\u001b[39m\n\u001b[1;32m    143\u001b[0m \u001b[38;5;28;01mdef\u001b[39;00m \u001b[38;5;21m__call__\u001b[39m(\u001b[38;5;28mself\u001b[39m, \u001b[38;5;241m*\u001b[39margs: Any, \u001b[38;5;241m*\u001b[39m\u001b[38;5;241m*\u001b[39mkwargs: Any) \u001b[38;5;241m-\u001b[39m\u001b[38;5;241m>\u001b[39m Optional[Tensor]:\n\u001b[0;32m--> 144\u001b[0m     \u001b[38;5;28mself\u001b[39m\u001b[38;5;241m.\u001b[39m_result \u001b[38;5;241m=\u001b[39m \u001b[38;5;28mself\u001b[39m\u001b[38;5;241m.\u001b[39mclosure(\u001b[38;5;241m*\u001b[39margs, \u001b[38;5;241m*\u001b[39m\u001b[38;5;241m*\u001b[39mkwargs)\n\u001b[1;32m    145\u001b[0m     \u001b[38;5;28;01mreturn\u001b[39;00m \u001b[38;5;28mself\u001b[39m\u001b[38;5;241m.\u001b[39m_result\u001b[38;5;241m.\u001b[39mloss\n",
      "File \u001b[0;32m/opt/jupyter-envs/generate-cross-species/atar-vscode/conda/lib/python3.11/site-packages/torch/utils/_contextlib.py:116\u001b[0m, in \u001b[0;36mcontext_decorator.<locals>.decorate_context\u001b[0;34m(*args, **kwargs)\u001b[0m\n\u001b[1;32m    115\u001b[0m \u001b[38;5;28;01mwith\u001b[39;00m ctx_factory():\n\u001b[0;32m--> 116\u001b[0m     \u001b[38;5;28;01mreturn\u001b[39;00m func(\u001b[38;5;241m*\u001b[39margs, \u001b[38;5;241m*\u001b[39m\u001b[38;5;241m*\u001b[39mkwargs)\n",
      "File \u001b[0;32m/opt/jupyter-envs/generate-cross-species/atar-vscode/conda/lib/python3.11/site-packages/pytorch_lightning/loops/optimization/automatic.py:138\u001b[0m, in \u001b[0;36mClosure.closure\u001b[0;34m(self, *args, **kwargs)\u001b[0m\n\u001b[1;32m    137\u001b[0m \u001b[38;5;28;01mif\u001b[39;00m \u001b[38;5;28mself\u001b[39m\u001b[38;5;241m.\u001b[39m_backward_fn \u001b[38;5;129;01mis\u001b[39;00m \u001b[38;5;129;01mnot\u001b[39;00m \u001b[38;5;28;01mNone\u001b[39;00m \u001b[38;5;129;01mand\u001b[39;00m step_output\u001b[38;5;241m.\u001b[39mclosure_loss \u001b[38;5;129;01mis\u001b[39;00m \u001b[38;5;129;01mnot\u001b[39;00m \u001b[38;5;28;01mNone\u001b[39;00m:\n\u001b[0;32m--> 138\u001b[0m     \u001b[38;5;28mself\u001b[39m\u001b[38;5;241m.\u001b[39m_backward_fn(step_output\u001b[38;5;241m.\u001b[39mclosure_loss)\n\u001b[1;32m    140\u001b[0m \u001b[38;5;28;01mreturn\u001b[39;00m step_output\n",
      "File \u001b[0;32m/opt/jupyter-envs/generate-cross-species/atar-vscode/conda/lib/python3.11/site-packages/pytorch_lightning/loops/optimization/automatic.py:239\u001b[0m, in \u001b[0;36m_AutomaticOptimization._make_backward_fn.<locals>.backward_fn\u001b[0;34m(loss)\u001b[0m\n\u001b[1;32m    238\u001b[0m \u001b[38;5;28;01mdef\u001b[39;00m \u001b[38;5;21mbackward_fn\u001b[39m(loss: Tensor) \u001b[38;5;241m-\u001b[39m\u001b[38;5;241m>\u001b[39m \u001b[38;5;28;01mNone\u001b[39;00m:\n\u001b[0;32m--> 239\u001b[0m     call\u001b[38;5;241m.\u001b[39m_call_strategy_hook(\u001b[38;5;28mself\u001b[39m\u001b[38;5;241m.\u001b[39mtrainer, \u001b[38;5;124m\"\u001b[39m\u001b[38;5;124mbackward\u001b[39m\u001b[38;5;124m\"\u001b[39m, loss, optimizer)\n",
      "File \u001b[0;32m/opt/jupyter-envs/generate-cross-species/atar-vscode/conda/lib/python3.11/site-packages/pytorch_lightning/trainer/call.py:319\u001b[0m, in \u001b[0;36m_call_strategy_hook\u001b[0;34m(trainer, hook_name, *args, **kwargs)\u001b[0m\n\u001b[1;32m    318\u001b[0m \u001b[38;5;28;01mwith\u001b[39;00m trainer\u001b[38;5;241m.\u001b[39mprofiler\u001b[38;5;241m.\u001b[39mprofile(\u001b[38;5;124mf\u001b[39m\u001b[38;5;124m\"\u001b[39m\u001b[38;5;124m[Strategy]\u001b[39m\u001b[38;5;132;01m{\u001b[39;00mtrainer\u001b[38;5;241m.\u001b[39mstrategy\u001b[38;5;241m.\u001b[39m\u001b[38;5;18m__class__\u001b[39m\u001b[38;5;241m.\u001b[39m\u001b[38;5;18m__name__\u001b[39m\u001b[38;5;132;01m}\u001b[39;00m\u001b[38;5;124m.\u001b[39m\u001b[38;5;132;01m{\u001b[39;00mhook_name\u001b[38;5;132;01m}\u001b[39;00m\u001b[38;5;124m\"\u001b[39m):\n\u001b[0;32m--> 319\u001b[0m     output \u001b[38;5;241m=\u001b[39m fn(\u001b[38;5;241m*\u001b[39margs, \u001b[38;5;241m*\u001b[39m\u001b[38;5;241m*\u001b[39mkwargs)\n\u001b[1;32m    321\u001b[0m \u001b[38;5;66;03m# restore current_fx when nested context\u001b[39;00m\n",
      "File \u001b[0;32m/opt/jupyter-envs/generate-cross-species/atar-vscode/conda/lib/python3.11/site-packages/pytorch_lightning/strategies/strategy.py:212\u001b[0m, in \u001b[0;36mStrategy.backward\u001b[0;34m(self, closure_loss, optimizer, *args, **kwargs)\u001b[0m\n\u001b[1;32m    210\u001b[0m closure_loss \u001b[38;5;241m=\u001b[39m \u001b[38;5;28mself\u001b[39m\u001b[38;5;241m.\u001b[39mprecision_plugin\u001b[38;5;241m.\u001b[39mpre_backward(closure_loss, \u001b[38;5;28mself\u001b[39m\u001b[38;5;241m.\u001b[39mlightning_module)\n\u001b[0;32m--> 212\u001b[0m \u001b[38;5;28mself\u001b[39m\u001b[38;5;241m.\u001b[39mprecision_plugin\u001b[38;5;241m.\u001b[39mbackward(closure_loss, \u001b[38;5;28mself\u001b[39m\u001b[38;5;241m.\u001b[39mlightning_module, optimizer, \u001b[38;5;241m*\u001b[39margs, \u001b[38;5;241m*\u001b[39m\u001b[38;5;241m*\u001b[39mkwargs)\n\u001b[1;32m    214\u001b[0m closure_loss \u001b[38;5;241m=\u001b[39m \u001b[38;5;28mself\u001b[39m\u001b[38;5;241m.\u001b[39mprecision_plugin\u001b[38;5;241m.\u001b[39mpost_backward(closure_loss, \u001b[38;5;28mself\u001b[39m\u001b[38;5;241m.\u001b[39mlightning_module)\n",
      "File \u001b[0;32m/opt/jupyter-envs/generate-cross-species/atar-vscode/conda/lib/python3.11/site-packages/pytorch_lightning/plugins/precision/precision.py:72\u001b[0m, in \u001b[0;36mPrecision.backward\u001b[0;34m(self, tensor, model, optimizer, *args, **kwargs)\u001b[0m\n\u001b[1;32m     61\u001b[0m \u001b[38;5;250m\u001b[39m\u001b[38;5;124mr\u001b[39m\u001b[38;5;124;03m\"\"\"Performs the actual backpropagation.\u001b[39;00m\n\u001b[1;32m     62\u001b[0m \n\u001b[1;32m     63\u001b[0m \u001b[38;5;124;03mArgs:\u001b[39;00m\n\u001b[0;32m   (...)\u001b[0m\n\u001b[1;32m     70\u001b[0m \n\u001b[1;32m     71\u001b[0m \u001b[38;5;124;03m\"\"\"\u001b[39;00m\n\u001b[0;32m---> 72\u001b[0m model\u001b[38;5;241m.\u001b[39mbackward(tensor, \u001b[38;5;241m*\u001b[39margs, \u001b[38;5;241m*\u001b[39m\u001b[38;5;241m*\u001b[39mkwargs)\n",
      "File \u001b[0;32m/opt/jupyter-envs/generate-cross-species/atar-vscode/conda/lib/python3.11/site-packages/pytorch_lightning/core/module.py:1101\u001b[0m, in \u001b[0;36mLightningModule.backward\u001b[0;34m(self, loss, *args, **kwargs)\u001b[0m\n\u001b[1;32m   1100\u001b[0m \u001b[38;5;28;01melse\u001b[39;00m:\n\u001b[0;32m-> 1101\u001b[0m     loss\u001b[38;5;241m.\u001b[39mbackward(\u001b[38;5;241m*\u001b[39margs, \u001b[38;5;241m*\u001b[39m\u001b[38;5;241m*\u001b[39mkwargs)\n",
      "File \u001b[0;32m/opt/jupyter-envs/generate-cross-species/atar-vscode/conda/lib/python3.11/site-packages/torch/_tensor.py:581\u001b[0m, in \u001b[0;36mTensor.backward\u001b[0;34m(self, gradient, retain_graph, create_graph, inputs)\u001b[0m\n\u001b[1;32m    572\u001b[0m     \u001b[38;5;28;01mreturn\u001b[39;00m handle_torch_function(\n\u001b[1;32m    573\u001b[0m         Tensor\u001b[38;5;241m.\u001b[39mbackward,\n\u001b[1;32m    574\u001b[0m         (\u001b[38;5;28mself\u001b[39m,),\n\u001b[0;32m   (...)\u001b[0m\n\u001b[1;32m    579\u001b[0m         inputs\u001b[38;5;241m=\u001b[39minputs,\n\u001b[1;32m    580\u001b[0m     )\n\u001b[0;32m--> 581\u001b[0m torch\u001b[38;5;241m.\u001b[39mautograd\u001b[38;5;241m.\u001b[39mbackward(\n\u001b[1;32m    582\u001b[0m     \u001b[38;5;28mself\u001b[39m, gradient, retain_graph, create_graph, inputs\u001b[38;5;241m=\u001b[39minputs\n\u001b[1;32m    583\u001b[0m )\n",
      "File \u001b[0;32m/opt/jupyter-envs/generate-cross-species/atar-vscode/conda/lib/python3.11/site-packages/torch/autograd/__init__.py:347\u001b[0m, in \u001b[0;36mbackward\u001b[0;34m(tensors, grad_tensors, retain_graph, create_graph, grad_variables, inputs)\u001b[0m\n\u001b[1;32m    344\u001b[0m \u001b[38;5;66;03m# The reason we repeat the same comment below is that\u001b[39;00m\n\u001b[1;32m    345\u001b[0m \u001b[38;5;66;03m# some Python versions print out the first line of a multi-line function\u001b[39;00m\n\u001b[1;32m    346\u001b[0m \u001b[38;5;66;03m# calls in the traceback and some print out the last line\u001b[39;00m\n\u001b[0;32m--> 347\u001b[0m _engine_run_backward(\n\u001b[1;32m    348\u001b[0m     tensors,\n\u001b[1;32m    349\u001b[0m     grad_tensors_,\n\u001b[1;32m    350\u001b[0m     retain_graph,\n\u001b[1;32m    351\u001b[0m     create_graph,\n\u001b[1;32m    352\u001b[0m     inputs,\n\u001b[1;32m    353\u001b[0m     allow_unreachable\u001b[38;5;241m=\u001b[39m\u001b[38;5;28;01mTrue\u001b[39;00m,\n\u001b[1;32m    354\u001b[0m     accumulate_grad\u001b[38;5;241m=\u001b[39m\u001b[38;5;28;01mTrue\u001b[39;00m,\n\u001b[1;32m    355\u001b[0m )\n",
      "File \u001b[0;32m/opt/jupyter-envs/generate-cross-species/atar-vscode/conda/lib/python3.11/site-packages/torch/autograd/graph.py:825\u001b[0m, in \u001b[0;36m_engine_run_backward\u001b[0;34m(t_outputs, *args, **kwargs)\u001b[0m\n\u001b[1;32m    824\u001b[0m \u001b[38;5;28;01mtry\u001b[39;00m:\n\u001b[0;32m--> 825\u001b[0m     \u001b[38;5;28;01mreturn\u001b[39;00m Variable\u001b[38;5;241m.\u001b[39m_execution_engine\u001b[38;5;241m.\u001b[39mrun_backward(  \u001b[38;5;66;03m# Calls into the C++ engine to run the backward pass\u001b[39;00m\n\u001b[1;32m    826\u001b[0m         t_outputs, \u001b[38;5;241m*\u001b[39margs, \u001b[38;5;241m*\u001b[39m\u001b[38;5;241m*\u001b[39mkwargs\n\u001b[1;32m    827\u001b[0m     )  \u001b[38;5;66;03m# Calls into the C++ engine to run the backward pass\u001b[39;00m\n\u001b[1;32m    828\u001b[0m \u001b[38;5;28;01mfinally\u001b[39;00m:\n",
      "\u001b[0;31mKeyboardInterrupt\u001b[0m: ",
      "\nDuring handling of the above exception, another exception occurred:\n",
      "\u001b[0;31mNameError\u001b[0m                                 Traceback (most recent call last)",
      "Cell \u001b[0;32mIn[3], line 1\u001b[0m\n\u001b[0;32m----> 1\u001b[0m trainer\u001b[38;5;241m.\u001b[39mfit(model, data_module)\n",
      "File \u001b[0;32m/opt/jupyter-envs/generate-cross-species/atar-vscode/conda/lib/python3.11/site-packages/pytorch_lightning/trainer/trainer.py:538\u001b[0m, in \u001b[0;36mTrainer.fit\u001b[0;34m(self, model, train_dataloaders, val_dataloaders, datamodule, ckpt_path)\u001b[0m\n\u001b[1;32m    536\u001b[0m \u001b[38;5;28mself\u001b[39m\u001b[38;5;241m.\u001b[39mstate\u001b[38;5;241m.\u001b[39mstatus \u001b[38;5;241m=\u001b[39m TrainerStatus\u001b[38;5;241m.\u001b[39mRUNNING\n\u001b[1;32m    537\u001b[0m \u001b[38;5;28mself\u001b[39m\u001b[38;5;241m.\u001b[39mtraining \u001b[38;5;241m=\u001b[39m \u001b[38;5;28;01mTrue\u001b[39;00m\n\u001b[0;32m--> 538\u001b[0m call\u001b[38;5;241m.\u001b[39m_call_and_handle_interrupt(\n\u001b[1;32m    539\u001b[0m     \u001b[38;5;28mself\u001b[39m, \u001b[38;5;28mself\u001b[39m\u001b[38;5;241m.\u001b[39m_fit_impl, model, train_dataloaders, val_dataloaders, datamodule, ckpt_path\n\u001b[1;32m    540\u001b[0m )\n",
      "File \u001b[0;32m/opt/jupyter-envs/generate-cross-species/atar-vscode/conda/lib/python3.11/site-packages/pytorch_lightning/trainer/call.py:64\u001b[0m, in \u001b[0;36m_call_and_handle_interrupt\u001b[0;34m(trainer, trainer_fn, *args, **kwargs)\u001b[0m\n\u001b[1;32m     62\u001b[0m     \u001b[38;5;28;01mif\u001b[39;00m \u001b[38;5;28misinstance\u001b[39m(launcher, _SubprocessScriptLauncher):\n\u001b[1;32m     63\u001b[0m         launcher\u001b[38;5;241m.\u001b[39mkill(_get_sigkill_signal())\n\u001b[0;32m---> 64\u001b[0m     exit(\u001b[38;5;241m1\u001b[39m)\n\u001b[1;32m     66\u001b[0m \u001b[38;5;28;01mexcept\u001b[39;00m \u001b[38;5;167;01mBaseException\u001b[39;00m \u001b[38;5;28;01mas\u001b[39;00m exception:\n\u001b[1;32m     67\u001b[0m     _interrupt(trainer, exception)\n",
      "\u001b[0;31mNameError\u001b[0m: name 'exit' is not defined"
     ]
    }
   ],
   "source": [
    "trainer.fit(model, data_module)"
   ]
  },
  {
   "cell_type": "markdown",
   "id": "9acdb879-ce61-4f4b-ab1e-bb4ccd816f02",
   "metadata": {},
   "source": [
    "<!-- I got rid of fusion, but noticed that the signal in homology weights got much weaker. It makes sense I think, no?\n",
    "The learning signal is A-->Encoder-->A vs A-->Linear Transform --> Encoder --> A\n",
    "Alternatively, it is A-->Encoder-->A vs A-->Linear Transform --> Encoder --> B (B vs Linear Transform) -->\n",
    "\n",
    "// Doing this next. I think I'm going to switch gears and implement the multi-species batches, though, and fix the homology loss.\n",
    " \n",
    "// I can also try adding fusion by default, but still using decoder_A for species_A\n",
    "\n",
    "Also, sigmoid compresses really strong. i think it needs to be centered around 0.5 so sigmoid(0) == 0\n",
    "\n",
    "!!!!!!!PRIORITY!!!!!!\n",
    "there's a bug. after i did some refactoring, the embeddings are degenerating. or it's because of the fusion.\n",
    "\n",
    "i think i need to check what outcome looks like when i just do direct reconstruction with no homology stuff. if still degenerating, then it's a product of the fusion/conditioning.\n",
    "\n",
    "without homology loss, but using the cross species reconstruction, it is still degenerating. trying now with only direct reconstruction. it's likely the fusion.\n",
    "\n",
    "DIRECT RECONSTRUCTION ALONE DOES NOT DEGENERATE.\n",
    "\n",
    "\n",
    "ok, so, homology loss was also weird. previously, we didn't do fusion for homology loss. we probably shouldn't even do fusion for it."
   ]
  },
  {
   "cell_type": "code",
   "execution_count": 4,
   "id": "cd439ce2-78ae-45af-a256-f2ff41d20082",
   "metadata": {},
   "outputs": [
    {
     "name": "stdout",
     "output_type": "stream",
     "text": [
      "Best model path: /opt/jupyter-envs/generate-cross-species/atar-vscode/work/cross-species-vae/checkpoints/crossspecies_vae-epoch=114.ckpt\n"
     ]
    },
    {
     "data": {
      "image/png": "[encoded data removed]",
      "text/plain": [
       "<Figure size 600x300 with 1 Axes>"
      ]
     },
     "metadata": {},
     "output_type": "display_data"
    },
    {
     "data": {
      "image/png": "[encoded data removed]",
      "text/plain": [
       "<Figure size 600x300 with 1 Axes>"
      ]
     },
     "metadata": {},
     "output_type": "display_data"
    },
    {
     "data": {
      "image/png": "[encoded data removed]",
      "text/plain": [
       "<Figure size 600x300 with 1 Axes>"
      ]
     },
     "metadata": {},
     "output_type": "display_data"
    }
   ],
   "source": [
    "# Load the latest version\n",
    "version = max([int(d.split('_')[-1]) for d in glob('logs/metrics/version_*')])\n",
    "df = pd.read_csv(f'logs/metrics/version_{version}/metrics.csv')\n",
    "\n",
    "\n",
    "for loss_type in [\"kl\", \"recon\", \"homology\"]:\n",
    "    # Get specific metrics\n",
    "    train_loss = df[f'train_{loss_type}'][df[f'train_{loss_type}'] != 0.0]\n",
    "    train_step = df['step'][df[f'train_{loss_type}'] != 0.0]\n",
    "    f1 = ~train_loss.isna()\n",
    "    val_loss =  df[f'val_{loss_type}'][df[f'val_{loss_type}'] != 0.0]\n",
    "    val_step = df['step'][df[f'val_{loss_type}'] != 0.0]    \n",
    "    f2 = ~val_loss.isna()\n",
    "\n",
    "    # Plot\n",
    "    import matplotlib.pyplot as plt\n",
    "    plt.figure(figsize=(6, 3))\n",
    "    plt.plot(train_step[f1], train_loss[f1], label='Training Loss')\n",
    "    plt.plot(val_step[f2], val_loss[f2], label='Validation Loss')\n",
    "\n",
    "    plt.xlabel('Step')\n",
    "    plt.ylabel('Loss')\n",
    "    plt.title(loss_type)\n",
    "    plt.legend()\n",
    "\n",
    "    \n",
    "best_model_path = trainer.callbacks[-1].best_model_path\n",
    "print(\"Best model path:\", best_model_path)\n",
    "# # Load the checkpoint\n",
    "# checkpoint = torch.load(best_model_path)\n",
    "\n",
    "# # Create a new model with the same hyperparameters and homology information\n",
    "# model = CrossSpeciesVAE(\n",
    "#     homology_edges=homology_edges,  # Need to pass these again\n",
    "#     **checkpoint['hyper_parameters']  # This loads all other hyperparameters\n",
    "# )\n",
    "\n",
    "# # Load the state dict\n",
    "# model.load_state_dict(checkpoint['state_dict'])"
   ]
  },
  {
   "cell_type": "code",
   "execution_count": 5,
   "id": "aa1ca1e1-0245-49c1-8fba-764dddd28bdb",
   "metadata": {},
   "outputs": [
    {
     "name": "stdout",
     "output_type": "stream",
     "text": [
      "0.5319059572289244\n",
      "0.42909534080596184\n",
      "0.6171161321133338\n"
     ]
    },
    {
     "data": {
      "image/png": "[encoded data removed]",
      "text/plain": [
       "<Figure size 640x480 with 2 Axes>"
      ]
     },
     "metadata": {},
     "output_type": "display_data"
    },
    {
     "data": {
      "image/png": "[encoded data removed]",
      "text/plain": [
       "<Figure size 640x480 with 2 Axes>"
      ]
     },
     "metadata": {},
     "output_type": "display_data"
    },
    {
     "data": {
      "image/png": "[encoded data removed]",
      "text/plain": [
       "<Figure size 640x480 with 2 Axes>"
      ]
     },
     "metadata": {},
     "output_type": "display_data"
    },
    {
     "data": {
      "image/png": "[encoded data removed]",
      "text/plain": [
       "<Figure size 640x480 with 2 Axes>"
      ]
     },
     "metadata": {},
     "output_type": "display_data"
    }
   ],
   "source": [
    "\n",
    "output, s = model.get_latent_embeddings(species_data)\n",
    "s=s.cpu().numpy()\n",
    "\n",
    "plt.figure();\n",
    "dt_full = umap.UMAP(n_components=2).fit_transform(output.cpu().numpy())\n",
    "plt.scatter(dt_full[:,0],dt_full[:,1], c = s,s=5, cmap='rainbow'); plt.colorbar()\n",
    "\n",
    "for i, adata, key in zip([0, 1, 2], [adata1, adata2, adata3], ['cluster', 'cluster_t', 'Cluster']):\n",
    "    dt = umap.UMAP(n_components=2).fit_transform(output[s==i])\n",
    "\n",
    "    adata.obsm['emb'] = dt\n",
    "    sc.pp.neighbors(adata, use_rep='emb')\n",
    "    sc.tl.leiden(adata, flavor=\"igraph\", n_iterations=2, resolution=2)\n",
    "    print(adjusted_mutual_info_score(adata.obs[key], adata.obs['leiden']))\n",
    "    \n",
    "    plt.figure();\n",
    "    plt.scatter(dt[:,0],dt[:,1], c = adata.obs[key].cat.codes,s=5, cmap='rainbow'); plt.colorbar()\n",
    "    "
   ]
  },
  {
   "cell_type": "code",
   "execution_count": 5,
   "id": "59e93add-d7af-4062-a107-a47c5ada2f0b",
   "metadata": {},
   "outputs": [
    {
     "name": "stdout",
     "output_type": "stream",
     "text": [
      "0.5457992849445081\n",
      "0.40048333671547787\n",
      "0.5709017220110051\n"
     ]
    },
    {
     "data": {
      "image/png": "[encoded data removed]",
      "text/plain": [
       "<Figure size 640x480 with 2 Axes>"
      ]
     },
     "metadata": {},
     "output_type": "display_data"
    },
    {
     "data": {
      "image/png": "[encoded data removed]",
      "text/plain": [
       "<Figure size 640x480 with 2 Axes>"
      ]
     },
     "metadata": {},
     "output_type": "display_data"
    },
    {
     "data": {
      "image/png": "[encoded data removed]",
      "text/plain": [
       "<Figure size 640x480 with 2 Axes>"
      ]
     },
     "metadata": {},
     "output_type": "display_data"
    },
    {
     "data": {
      "image/png": "[encoded data removed]",
      "text/plain": [
       "<Figure size 640x480 with 2 Axes>"
      ]
     },
     "metadata": {},
     "output_type": "display_data"
    }
   ],
   "source": [
    "\n",
    "output, s = model.get_latent_embeddings(species_data)\n",
    "s=s.cpu().numpy()\n",
    "\n",
    "plt.figure();\n",
    "dt_full = umap.UMAP(n_components=2).fit_transform(output.cpu().numpy())\n",
    "plt.scatter(dt_full[:,0],dt_full[:,1], c = s,s=5, cmap='rainbow'); plt.colorbar()\n",
    "\n",
    "for i, adata, key in zip([0, 1, 2], [adata1, adata2, adata3], ['cluster', 'cluster_t', 'Cluster']):\n",
    "    dt = umap.UMAP(n_components=2).fit_transform(output[s==i])\n",
    "\n",
    "    adata.obsm['emb'] = dt\n",
    "    sc.pp.neighbors(adata, use_rep='emb')\n",
    "    sc.tl.leiden(adata, flavor=\"igraph\", n_iterations=2, resolution=2)\n",
    "    print(adjusted_mutual_info_score(adata.obs[key], adata.obs['leiden']))\n",
    "    \n",
    "    plt.figure();\n",
    "    plt.scatter(dt[:,0],dt[:,1], c = adata.obs[key].cat.codes,s=5, cmap='rainbow'); plt.colorbar()\n",
    "    "
   ]
  },
  {
   "cell_type": "code",
   "execution_count": null,
   "id": "a6ac5417-7888-4438-a76a-d55a8595fbb6",
   "metadata": {},
   "outputs": [],
   "source": []
  },
  {
   "cell_type": "code",
   "execution_count": 6,
   "id": "d6242385-9b8e-473a-9488-f2f3c5f27e5c",
   "metadata": {},
   "outputs": [
    {
     "name": "stdout",
     "output_type": "stream",
     "text": [
      "0\n",
      "pearson 0.2832592560446882\n",
      "spearman 0.2979231431460105\n",
      "1\n",
      "pearson 0.19587512479229294\n",
      "spearman 0.13099577450453478\n",
      "2\n",
      "pearson 0.539236023300385\n",
      "spearman 0.8300971246394523\n"
     ]
    }
   ],
   "source": [
    "from scipy.stats import spearmanr\n",
    "\n",
    "for i, adata in enumerate([adata1, adata2, adata3]):\n",
    "    x = model.encoders[str(i)].gene_importance(torch.tensor(adata.X.toarray()).to('cuda')).detach().cpu().numpy()\n",
    "    mu = x.mean(0)\n",
    "    mu[mu==0]=1\n",
    "    a = x.var(0)/mu\n",
    "    b = adata.var['weights'].values\n",
    "\n",
    "    # plt.figure(); plt.scatter(a,b,s=1);\n",
    "    # plt.figure(); plt.scatter(x.var(0),adata.X.toarray().var(0),s=1);    \n",
    "    print(i)\n",
    "    print('pearson',np.corrcoef(a,b)[0,1])\n",
    "    print('spearman',spearmanr(a,b).statistic)\n"
   ]
  },
  {
   "cell_type": "code",
   "execution_count": 6,
   "id": "9dc7c771-de48-4a0f-a400-354a94369219",
   "metadata": {},
   "outputs": [
    {
     "data": {
      "image/png": "[encoded data removed]",
      "text/plain": [
       "<Figure size 640x480 with 1 Axes>"
      ]
     },
     "metadata": {},
     "output_type": "display_data"
    }
   ],
   "source": [
    "def sigmoid(z):\n",
    "    return 1/(1 + np.exp(-z))\n",
    "\n",
    "x=[]\n",
    "y=[]\n",
    "for i in range(len(set(s))):\n",
    "    for j in range(i+1,len(set(s))):\n",
    "        x.extend(homology_scores[i][j]/homology_scores[i][j].max())\n",
    "        x.extend(homology_scores[j][i]/homology_scores[j][i].max())        \n",
    "        y.extend(list(sigmoid(model.homology_scores[str(i)][str(j)].detach().cpu().numpy())))\n",
    "        y.extend(list(sigmoid(model.homology_scores[str(j)][str(i)].detach().cpu().numpy())))\n",
    "x=np.array(x)\n",
    "y=np.array(y)\n",
    "plt.figure(); plt.scatter(x,y,s=0.5);"
   ]
  },
  {
   "cell_type": "code",
   "execution_count": 7,
   "id": "e5f82ff9-efe7-4b88-a054-fb99c084a039",
   "metadata": {},
   "outputs": [],
   "source": [
    "latent = output.cpu().numpy()\n",
    "adatas = []\n",
    "for i, k in enumerate(species_data):\n",
    "    adata = species_data[k]\n",
    "    adata.obsm['emb'] = latent[s==i]\n",
    "    adata.obs['species'] = k\n",
    "    adatas.append(adata)\n",
    "\n",
    "adata = anndata.concat(adatas,join='outer')\n",
    "adata.obsm['X_umap'] = dt_full\n",
    "\n",
    "# adata.write_h5ad('test.h5ad')"
   ]
  },
  {
   "cell_type": "code",
   "execution_count": 10,
   "id": "b5d17ea2-2888-4a71-884c-2f29530b462d",
   "metadata": {},
   "outputs": [
    {
     "name": "stderr",
     "output_type": "stream",
     "text": [
      "2024-12-02 05:29:33,194 - harmonypy - INFO - Computing initial centroids with sklearn.KMeans...\n",
      "2024-12-02 05:29:33,554 - harmonypy - INFO - sklearn.KMeans initialization complete.\n",
      "2024-12-02 05:29:33,568 - harmonypy - INFO - Iteration 1 of 10\n",
      "2024-12-02 05:29:33,866 - harmonypy - INFO - Iteration 2 of 10\n",
      "2024-12-02 05:29:34,153 - harmonypy - INFO - Iteration 3 of 10\n",
      "2024-12-02 05:29:34,442 - harmonypy - INFO - Iteration 4 of 10\n",
      "2024-12-02 05:29:34,728 - harmonypy - INFO - Iteration 5 of 10\n",
      "2024-12-02 05:29:35,013 - harmonypy - INFO - Iteration 6 of 10\n",
      "2024-12-02 05:29:35,299 - harmonypy - INFO - Iteration 7 of 10\n",
      "2024-12-02 05:29:35,593 - harmonypy - INFO - Iteration 8 of 10\n",
      "2024-12-02 05:29:35,866 - harmonypy - INFO - Iteration 9 of 10\n",
      "2024-12-02 05:29:36,162 - harmonypy - INFO - Iteration 10 of 10\n",
      "2024-12-02 05:29:36,462 - harmonypy - INFO - Stopped before convergence\n"
     ]
    }
   ],
   "source": [
    "import scanpy as sc\n",
    "\n",
    "sc.external.pp.harmony_integrate(adata, \"species\", basis='emb', adjusted_basis='X_pca_harmony')"
   ]
  },
  {
   "cell_type": "code",
   "execution_count": 13,
   "id": "221f6670-5283-475b-88ff-fa7914a5ee72",
   "metadata": {},
   "outputs": [],
   "source": [
    "adata.obsm['X_umap'] = umap.UMAP().fit_transform(adata.obsm['X_pca_harmony'])"
   ]
  },
  {
   "cell_type": "code",
   "execution_count": 14,
   "id": "ccbe0e9d-b4d9-48a9-8d5c-b6e52c742d2d",
   "metadata": {},
   "outputs": [],
   "source": [
    "adata.write_h5ad('test.h5ad')"
   ]
  },
  {
   "cell_type": "code",
   "execution_count": null,
   "id": "88e291f1-cacf-4778-bab7-e12acd64867c",
   "metadata": {},
   "outputs": [],
   "source": []
  },
  {
   "cell_type": "code",
   "execution_count": null,
   "id": "fb1d404d-275e-4bf8-b89c-b9efa0f93226",
   "metadata": {},
   "outputs": [],
   "source": []
  },
  {
   "cell_type": "code",
   "execution_count": null,
   "id": "018f2d64-9ba6-4264-948a-df11b214296f",
   "metadata": {},
   "outputs": [],
   "source": []
  },
  {
   "cell_type": "code",
   "execution_count": 10,
   "id": "22ae2452-5599-4160-a5da-7801d6666812",
   "metadata": {},
   "outputs": [],
   "source": [
    "import numpy as np\n",
    "from pynndescent import NNDescent\n",
    "\n",
    "def find_nearest_neighbors(L1, L2, n_neighbors=5, metric='euclidean'):\n",
    "    \"\"\"\n",
    "    Finds the nearest neighbors from L1 (query) to L2 (index) using pynndescent.\n",
    "\n",
    "    Parameters:\n",
    "        L1 (np.ndarray): Query embeddings of shape (num_queries, embedding_dim).\n",
    "        L2 (np.ndarray): Index embeddings of shape (num_index, embedding_dim).\n",
    "        n_neighbors (int): Number of neighbors to find. Default is 5.\n",
    "        metric (str): Distance metric to use. Default is 'euclidean'.\n",
    "\n",
    "    Returns:\n",
    "        indices (np.ndarray): Indices of nearest neighbors in L2 for each query in L1.\n",
    "        distances (np.ndarray): Distances to nearest neighbors for each query in L1.\n",
    "    \"\"\"\n",
    "    # Validate inputs\n",
    "    if not isinstance(L1, np.ndarray) or not isinstance(L2, np.ndarray):\n",
    "        raise ValueError(\"L1 and L2 must be numpy arrays.\")\n",
    "    \n",
    "    if L1.shape[1] != L2.shape[1]:\n",
    "        raise ValueError(\"L1 and L2 must have the same embedding dimension.\")\n",
    "\n",
    "    # Build the index on L2\n",
    "    index = NNDescent(L2, metric=metric, n_neighbors=n_neighbors)\n",
    "    \n",
    "    # Query the nearest neighbors for L1\n",
    "    indices, distances = index.query(L1, k=n_neighbors)\n",
    "    \n",
    "    return indices, distances\n",
    "\n",
    "latent = output.cpu().numpy()"
   ]
  },
  {
   "cell_type": "code",
   "execution_count": 11,
   "id": "1f17bb1f-fe26-4c3d-9c0a-ef5bf49f5f30",
   "metadata": {},
   "outputs": [],
   "source": [
    "indices,distances = find_nearest_neighbors(latent[s==0],latent[s==1])"
   ]
  },
  {
   "cell_type": "code",
   "execution_count": 19,
   "id": "2add3f4c-b4f8-494a-aef1-2422ea18c7f8",
   "metadata": {},
   "outputs": [],
   "source": [
    "c1 = np.array(list(adata1.obs['tissue']))\n",
    "c2 = np.array(list(adata2.obs['tissue']))\n",
    "\n",
    "A = c1[np.tile(np.arange(c1.size)[:,None],(1,5))]\n",
    "B = c2[indices]"
   ]
  },
  {
   "cell_type": "code",
   "execution_count": 26,
   "id": "32b40967-31b8-44cd-9451-32091d90ba66",
   "metadata": {},
   "outputs": [
    {
     "data": {
      "text/plain": [
       "array(['Neural--Neural', 'Neoblast--Cathepsin',\n",
       "       'Epidermal--Tegument_prog', 'Epidermal--Cathepsin',\n",
       "       'Epidermal--Neoblast', 'Cathepsin+ cells--Cathepsin',\n",
       "       'Neoblast--Intestine', 'Neural--Parenchymal',\n",
       "       'Cathepsin+ cells--Neural_KK7', 'Cathepsin+ cells--Neural',\n",
       "       'Intestine--Cathepsin', 'Muscle--Parenchymal', 'Neural--Neoblast',\n",
       "       'Muscle--Neural_KK7', 'Cathepsin+ cells--Parenchymal',\n",
       "       'Neoblast--Muscle', 'Muscle--Neoblast', 'Neural--Muscle',\n",
       "       'Pharynx--Neural', 'Muscle--Intestine', 'Neural--Flame cells',\n",
       "       'Cathepsin+ cells--Intestine', 'Parapharyngeal--Muscle',\n",
       "       'Intestine--Intestine', 'Neoblast--Neoblast', 'Neural--Cathepsin',\n",
       "       'Protonephridia--Neural', 'Parapharyngeal--Neoblast',\n",
       "       'Epidermal--Tegument', 'Muscle--Neural', 'Epidermal--Muscle',\n",
       "       'Epidermal--Neural', 'Protonephridia--Cathepsin', 'Muscle--Gland',\n",
       "       'Epidermal--Intestine', 'Intestine--Muscle',\n",
       "       'Intestine--Tegument_prog', 'Neural--Intestine',\n",
       "       'Parapharyngeal--Intestine', 'Neural--Tegument_prog',\n",
       "       'Muscle--Cathepsin', 'Pharynx--Tegument_prog',\n",
       "       'Intestine--Neural_KK7', 'Protonephridia--Parenchymal',\n",
       "       'Neural--Gland', 'Muscle--Muscle', 'Parapharyngeal--Tegument_prog',\n",
       "       'Epidermal--Gland', 'Cathepsin+ cells--Gland',\n",
       "       'Neoblast--Parenchymal', 'Parapharyngeal--Cathepsin',\n",
       "       'Intestine--Neoblast', 'Neoblast--Neural',\n",
       "       'Protonephridia--Intestine', 'Intestine--Parenchymal',\n",
       "       'Protonephridia--Muscle', 'Pharynx--Muscle',\n",
       "       'Epidermal--Flame cells', 'Cathepsin+ cells--Flame cells',\n",
       "       'Protonephridia--Neural_KK7', 'Neural--Tegument',\n",
       "       'Intestine--Neural', 'Parapharyngeal--Neural',\n",
       "       'Cathepsin+ cells--Tegument_prog', 'Cathepsin+ cells--Neoblast',\n",
       "       'Pharynx--Intestine', 'Parapharyngeal--Tegument',\n",
       "       'Cathepsin+ cells--Muscle', 'Neural--Neural_KK7',\n",
       "       'Pharynx--Tegument', 'Parapharyngeal--Parenchymal',\n",
       "       'Protonephridia--Neoblast', 'Muscle--Tegument',\n",
       "       'Pharynx--Neoblast', 'Parapharyngeal--Gland',\n",
       "       'Intestine--Flame cells', 'Intestine--Tegument',\n",
       "       'Pharynx--Cathepsin', 'Neoblast--Gland', 'Neoblast--Tegument_prog',\n",
       "       'Protonephridia--Gland', 'Pharynx--Parenchymal',\n",
       "       'Parapharyngeal--Flame cells', 'Pharynx--Flame cells',\n",
       "       'Intestine--Gland', 'Epidermal--Neural_KK7',\n",
       "       'Cathepsin+ cells--Tegument', 'Epidermal--Parenchymal',\n",
       "       'Neoblast--Neural_KK7', 'Muscle--Flame cells',\n",
       "       'Pharynx--Neural_KK7', 'Protonephridia--Tegument',\n",
       "       'Protonephridia--Tegument_prog'], dtype='<U31')"
      ]
     },
     "execution_count": 26,
     "metadata": {},
     "output_type": "execute_result"
    }
   ],
   "source": [
    "a,c = np.unique(A + '--' + B,return_counts=True)\n",
    "a[np.argsort(-c)]"
   ]
  },
  {
   "cell_type": "code",
   "execution_count": 23,
   "id": "5614a60e-b465-49b9-b22f-f1e852fe5882",
   "metadata": {},
   "outputs": [
    {
     "data": {
      "text/html": [
       "<div>\n",
       "<style scoped>\n",
       "    .dataframe tbody tr th:only-of-type {\n",
       "        vertical-align: middle;\n",
       "    }\n",
       "\n",
       "    .dataframe tbody tr th {\n",
       "        vertical-align: top;\n",
       "    }\n",
       "\n",
       "    .dataframe thead th {\n",
       "        text-align: right;\n",
       "    }\n",
       "</style>\n",
       "<table border=\"1\" class=\"dataframe\">\n",
       "  <thead>\n",
       "    <tr style=\"text-align: right;\">\n",
       "      <th></th>\n",
       "      <th>0</th>\n",
       "      <th>1</th>\n",
       "      <th>2</th>\n",
       "      <th>3</th>\n",
       "      <th>4</th>\n",
       "    </tr>\n",
       "  </thead>\n",
       "  <tbody>\n",
       "    <tr>\n",
       "      <th>0</th>\n",
       "      <td>Intestine</td>\n",
       "      <td>Cathepsin</td>\n",
       "      <td>Cathepsin</td>\n",
       "      <td>Neural_KK7</td>\n",
       "      <td>Cathepsin</td>\n",
       "    </tr>\n",
       "    <tr>\n",
       "      <th>1</th>\n",
       "      <td>Intestine</td>\n",
       "      <td>Cathepsin</td>\n",
       "      <td>Cathepsin</td>\n",
       "      <td>Neural_KK7</td>\n",
       "      <td>Cathepsin</td>\n",
       "    </tr>\n",
       "    <tr>\n",
       "      <th>2</th>\n",
       "      <td>Muscle</td>\n",
       "      <td>Intestine</td>\n",
       "      <td>Cathepsin</td>\n",
       "      <td>Cathepsin</td>\n",
       "      <td>Cathepsin</td>\n",
       "    </tr>\n",
       "    <tr>\n",
       "      <th>3</th>\n",
       "      <td>Cathepsin</td>\n",
       "      <td>Neoblast</td>\n",
       "      <td>Tegument_prog</td>\n",
       "      <td>Neoblast</td>\n",
       "      <td>Tegument_prog</td>\n",
       "    </tr>\n",
       "    <tr>\n",
       "      <th>4</th>\n",
       "      <td>Muscle</td>\n",
       "      <td>Cathepsin</td>\n",
       "      <td>Intestine</td>\n",
       "      <td>Cathepsin</td>\n",
       "      <td>Intestine</td>\n",
       "    </tr>\n",
       "    <tr>\n",
       "      <th>5</th>\n",
       "      <td>Muscle</td>\n",
       "      <td>Intestine</td>\n",
       "      <td>Muscle</td>\n",
       "      <td>Neural</td>\n",
       "      <td>Cathepsin</td>\n",
       "    </tr>\n",
       "    <tr>\n",
       "      <th>6</th>\n",
       "      <td>Cathepsin</td>\n",
       "      <td>Intestine</td>\n",
       "      <td>Cathepsin</td>\n",
       "      <td>Cathepsin</td>\n",
       "      <td>Parenchymal</td>\n",
       "    </tr>\n",
       "    <tr>\n",
       "      <th>7</th>\n",
       "      <td>Muscle</td>\n",
       "      <td>Neoblast</td>\n",
       "      <td>Parenchymal</td>\n",
       "      <td>Cathepsin</td>\n",
       "      <td>Neural</td>\n",
       "    </tr>\n",
       "    <tr>\n",
       "      <th>8</th>\n",
       "      <td>Cathepsin</td>\n",
       "      <td>Cathepsin</td>\n",
       "      <td>Intestine</td>\n",
       "      <td>Cathepsin</td>\n",
       "      <td>Cathepsin</td>\n",
       "    </tr>\n",
       "    <tr>\n",
       "      <th>9</th>\n",
       "      <td>Neural_KK7</td>\n",
       "      <td>Cathepsin</td>\n",
       "      <td>Gland</td>\n",
       "      <td>Neural_KK7</td>\n",
       "      <td>Parenchymal</td>\n",
       "    </tr>\n",
       "    <tr>\n",
       "      <th>10</th>\n",
       "      <td>Intestine</td>\n",
       "      <td>Intestine</td>\n",
       "      <td>Parenchymal</td>\n",
       "      <td>Neural_KK7</td>\n",
       "      <td>Neural_KK7</td>\n",
       "    </tr>\n",
       "    <tr>\n",
       "      <th>11</th>\n",
       "      <td>Cathepsin</td>\n",
       "      <td>Cathepsin</td>\n",
       "      <td>Intestine</td>\n",
       "      <td>Cathepsin</td>\n",
       "      <td>Gland</td>\n",
       "    </tr>\n",
       "    <tr>\n",
       "      <th>12</th>\n",
       "      <td>Cathepsin</td>\n",
       "      <td>Cathepsin</td>\n",
       "      <td>Intestine</td>\n",
       "      <td>Intestine</td>\n",
       "      <td>Cathepsin</td>\n",
       "    </tr>\n",
       "    <tr>\n",
       "      <th>13</th>\n",
       "      <td>Cathepsin</td>\n",
       "      <td>Tegument_prog</td>\n",
       "      <td>Neoblast</td>\n",
       "      <td>Neoblast</td>\n",
       "      <td>Tegument_prog</td>\n",
       "    </tr>\n",
       "    <tr>\n",
       "      <th>14</th>\n",
       "      <td>Cathepsin</td>\n",
       "      <td>Neoblast</td>\n",
       "      <td>Tegument_prog</td>\n",
       "      <td>Tegument_prog</td>\n",
       "      <td>Tegument_prog</td>\n",
       "    </tr>\n",
       "    <tr>\n",
       "      <th>15</th>\n",
       "      <td>Muscle</td>\n",
       "      <td>Intestine</td>\n",
       "      <td>Neural</td>\n",
       "      <td>Muscle</td>\n",
       "      <td>Cathepsin</td>\n",
       "    </tr>\n",
       "    <tr>\n",
       "      <th>16</th>\n",
       "      <td>Muscle</td>\n",
       "      <td>Neoblast</td>\n",
       "      <td>Parenchymal</td>\n",
       "      <td>Parenchymal</td>\n",
       "      <td>Intestine</td>\n",
       "    </tr>\n",
       "    <tr>\n",
       "      <th>17</th>\n",
       "      <td>Cathepsin</td>\n",
       "      <td>Neoblast</td>\n",
       "      <td>Tegument_prog</td>\n",
       "      <td>Tegument_prog</td>\n",
       "      <td>Tegument_prog</td>\n",
       "    </tr>\n",
       "    <tr>\n",
       "      <th>18</th>\n",
       "      <td>Neural</td>\n",
       "      <td>Neural</td>\n",
       "      <td>Parenchymal</td>\n",
       "      <td>Neural</td>\n",
       "      <td>Intestine</td>\n",
       "    </tr>\n",
       "    <tr>\n",
       "      <th>19</th>\n",
       "      <td>Cathepsin</td>\n",
       "      <td>Neoblast</td>\n",
       "      <td>Tegument_prog</td>\n",
       "      <td>Neoblast</td>\n",
       "      <td>Neoblast</td>\n",
       "    </tr>\n",
       "  </tbody>\n",
       "</table>\n",
       "</div>"
      ],
      "text/plain": [
       "             0              1              2              3              4\n",
       "0    Intestine      Cathepsin      Cathepsin     Neural_KK7      Cathepsin\n",
       "1    Intestine      Cathepsin      Cathepsin     Neural_KK7      Cathepsin\n",
       "2       Muscle      Intestine      Cathepsin      Cathepsin      Cathepsin\n",
       "3    Cathepsin       Neoblast  Tegument_prog       Neoblast  Tegument_prog\n",
       "4       Muscle      Cathepsin      Intestine      Cathepsin      Intestine\n",
       "5       Muscle      Intestine         Muscle         Neural      Cathepsin\n",
       "6    Cathepsin      Intestine      Cathepsin      Cathepsin    Parenchymal\n",
       "7       Muscle       Neoblast    Parenchymal      Cathepsin         Neural\n",
       "8    Cathepsin      Cathepsin      Intestine      Cathepsin      Cathepsin\n",
       "9   Neural_KK7      Cathepsin          Gland     Neural_KK7    Parenchymal\n",
       "10   Intestine      Intestine    Parenchymal     Neural_KK7     Neural_KK7\n",
       "11   Cathepsin      Cathepsin      Intestine      Cathepsin          Gland\n",
       "12   Cathepsin      Cathepsin      Intestine      Intestine      Cathepsin\n",
       "13   Cathepsin  Tegument_prog       Neoblast       Neoblast  Tegument_prog\n",
       "14   Cathepsin       Neoblast  Tegument_prog  Tegument_prog  Tegument_prog\n",
       "15      Muscle      Intestine         Neural         Muscle      Cathepsin\n",
       "16      Muscle       Neoblast    Parenchymal    Parenchymal      Intestine\n",
       "17   Cathepsin       Neoblast  Tegument_prog  Tegument_prog  Tegument_prog\n",
       "18      Neural         Neural    Parenchymal         Neural      Intestine\n",
       "19   Cathepsin       Neoblast  Tegument_prog       Neoblast       Neoblast"
      ]
     },
     "execution_count": 23,
     "metadata": {},
     "output_type": "execute_result"
    }
   ],
   "source": [
    "pd.DataFrame(B[:20])"
   ]
  },
  {
   "cell_type": "code",
   "execution_count": 15,
   "id": "673f940d-e079-41ac-8825-b8af71187160",
   "metadata": {},
   "outputs": [
    {
     "data": {
      "text/plain": [
       "(1049, 5)"
      ]
     },
     "execution_count": 15,
     "metadata": {},
     "output_type": "execute_result"
    }
   ],
   "source": [
    "B.shape"
   ]
  },
  {
   "cell_type": "code",
   "execution_count": 41,
   "id": "f0a40699-bd3b-40b8-897c-23ba94c01b29",
   "metadata": {},
   "outputs": [],
   "source": [
    "A1 = A[:1049].copy()\n",
    "A1[i1 < 1049] = \"nan\"\n",
    "\n",
    "B1 = B[:1049].copy()\n",
    "B1[i1 < 1049] = \"nan\"\n",
    "\n",
    "B1[:,0] = B[:1049,0]"
   ]
  },
  {
   "cell_type": "code",
   "execution_count": 46,
   "id": "0896c0ab-6945-4ca8-9e86-64b434f10a58",
   "metadata": {},
   "outputs": [
    {
     "data": {
      "text/plain": [
       "array([[   0,  293,  544,  531,  306],\n",
       "       [   1,  449,  760,  329,  104],\n",
       "       [   2,    5,  678,  840,  669],\n",
       "       ...,\n",
       "       [1046, 1509, 1841, 1347, 1924],\n",
       "       [1047,  234,  412,  984,  479],\n",
       "       [1048, 1001,  286,  966,  806]], dtype=int32)"
      ]
     },
     "execution_count": 46,
     "metadata": {},
     "output_type": "execute_result"
    }
   ],
   "source": [
    "i1"
   ]
  },
  {
   "cell_type": "code",
   "execution_count": 43,
   "id": "a707c4bd-b2a6-4811-a90f-da983ba627bd",
   "metadata": {},
   "outputs": [
    {
     "data": {
      "text/html": [
       "<div>\n",
       "<style scoped>\n",
       "    .dataframe tbody tr th:only-of-type {\n",
       "        vertical-align: middle;\n",
       "    }\n",
       "\n",
       "    .dataframe tbody tr th {\n",
       "        vertical-align: top;\n",
       "    }\n",
       "\n",
       "    .dataframe thead th {\n",
       "        text-align: right;\n",
       "    }\n",
       "</style>\n",
       "<table border=\"1\" class=\"dataframe\">\n",
       "  <thead>\n",
       "    <tr style=\"text-align: right;\">\n",
       "      <th></th>\n",
       "      <th>0</th>\n",
       "      <th>1</th>\n",
       "      <th>2</th>\n",
       "      <th>3</th>\n",
       "      <th>4</th>\n",
       "    </tr>\n",
       "  </thead>\n",
       "  <tbody>\n",
       "    <tr>\n",
       "      <th>0</th>\n",
       "      <td>Neural: 1</td>\n",
       "      <td>nan</td>\n",
       "      <td>nan</td>\n",
       "      <td>nan</td>\n",
       "      <td>Neural: 23</td>\n",
       "    </tr>\n",
       "    <tr>\n",
       "      <th>1</th>\n",
       "      <td>Pharynx: 25</td>\n",
       "      <td>nan</td>\n",
       "      <td>nan</td>\n",
       "      <td>nan</td>\n",
       "      <td>Parapharyngeal: 12</td>\n",
       "    </tr>\n",
       "    <tr>\n",
       "      <th>2</th>\n",
       "      <td>Parapharyngeal: 12</td>\n",
       "      <td>nan</td>\n",
       "      <td>Parapharyngeal: 12</td>\n",
       "      <td>Parapharyngeal: 12</td>\n",
       "      <td>Neoblast: 0</td>\n",
       "    </tr>\n",
       "    <tr>\n",
       "      <th>3</th>\n",
       "      <td>Neural: 1</td>\n",
       "      <td>nan</td>\n",
       "      <td>Parapharyngeal: 12</td>\n",
       "      <td>i_smgc1</td>\n",
       "      <td>nan</td>\n",
       "    </tr>\n",
       "    <tr>\n",
       "      <th>4</th>\n",
       "      <td>Protonephridia: 26</td>\n",
       "      <td>Neoblast: 0</td>\n",
       "      <td>Neoblast: 0</td>\n",
       "      <td>Neoblast: 0</td>\n",
       "      <td>nan</td>\n",
       "    </tr>\n",
       "    <tr>\n",
       "      <th>5</th>\n",
       "      <td>Neural: 9</td>\n",
       "      <td>nan</td>\n",
       "      <td>nan</td>\n",
       "      <td>nan</td>\n",
       "      <td>Neural: 20</td>\n",
       "    </tr>\n",
       "    <tr>\n",
       "      <th>6</th>\n",
       "      <td>Neural: 9</td>\n",
       "      <td>nan</td>\n",
       "      <td>nan</td>\n",
       "      <td>nan</td>\n",
       "      <td>Neural: 23</td>\n",
       "    </tr>\n",
       "    <tr>\n",
       "      <th>7</th>\n",
       "      <td>Neoblast: 5</td>\n",
       "      <td>Muscle: 14</td>\n",
       "      <td>Muscle: 14</td>\n",
       "      <td>Muscle: 14</td>\n",
       "      <td>Muscle: 14</td>\n",
       "    </tr>\n",
       "    <tr>\n",
       "      <th>8</th>\n",
       "      <td>Parapharyngeal: 12</td>\n",
       "      <td>nan</td>\n",
       "      <td>nan</td>\n",
       "      <td>Parapharyngeal: 12</td>\n",
       "      <td>Muscle: 14</td>\n",
       "    </tr>\n",
       "    <tr>\n",
       "      <th>9</th>\n",
       "      <td>Neural: 36</td>\n",
       "      <td>nan</td>\n",
       "      <td>nan</td>\n",
       "      <td>enEp_head</td>\n",
       "      <td>nan</td>\n",
       "    </tr>\n",
       "    <tr>\n",
       "      <th>10</th>\n",
       "      <td>Cathepsin+ cells: 4</td>\n",
       "      <td>i_mgl</td>\n",
       "      <td>i_nc_gc_prog</td>\n",
       "      <td>i_SC</td>\n",
       "      <td>i_nb1</td>\n",
       "    </tr>\n",
       "    <tr>\n",
       "      <th>11</th>\n",
       "      <td>Epidermal: 3</td>\n",
       "      <td>nan</td>\n",
       "      <td>Muscle: 7</td>\n",
       "      <td>i_nc1</td>\n",
       "      <td>i_nc1</td>\n",
       "    </tr>\n",
       "    <tr>\n",
       "      <th>12</th>\n",
       "      <td>Cathepsin+ cells: 4</td>\n",
       "      <td>Muscle: 14</td>\n",
       "      <td>Muscle: 14</td>\n",
       "      <td>Muscle: 14</td>\n",
       "      <td>Muscle: 14</td>\n",
       "    </tr>\n",
       "    <tr>\n",
       "      <th>13</th>\n",
       "      <td>Pharynx: 25</td>\n",
       "      <td>nan</td>\n",
       "      <td>nan</td>\n",
       "      <td>nan</td>\n",
       "      <td>Parapharyngeal: 12</td>\n",
       "    </tr>\n",
       "    <tr>\n",
       "      <th>14</th>\n",
       "      <td>Epidermal: 35</td>\n",
       "      <td>Neoblast: 0</td>\n",
       "      <td>Parapharyngeal: 12</td>\n",
       "      <td>Neoblast: 0</td>\n",
       "      <td>Neoblast: 0</td>\n",
       "    </tr>\n",
       "    <tr>\n",
       "      <th>15</th>\n",
       "      <td>Neural: 1</td>\n",
       "      <td>Epidermal: 2</td>\n",
       "      <td>Muscle: 14</td>\n",
       "      <td>Parapharyngeal: 12</td>\n",
       "      <td>Muscle: 14</td>\n",
       "    </tr>\n",
       "    <tr>\n",
       "      <th>16</th>\n",
       "      <td>Muscle: 7</td>\n",
       "      <td>i_nc_prog</td>\n",
       "      <td>i_nc_prog</td>\n",
       "      <td>i_nc_gc_prog</td>\n",
       "      <td>i_nc_gc_prog</td>\n",
       "    </tr>\n",
       "    <tr>\n",
       "      <th>17</th>\n",
       "      <td>Cathepsin+ cells: 4</td>\n",
       "      <td>nan</td>\n",
       "      <td>i_nb4</td>\n",
       "      <td>i_nb4</td>\n",
       "      <td>i_nb4</td>\n",
       "    </tr>\n",
       "    <tr>\n",
       "      <th>18</th>\n",
       "      <td>Muscle: 7</td>\n",
       "      <td>nan</td>\n",
       "      <td>i_nc_gc_prog</td>\n",
       "      <td>i_nc_gc_prog</td>\n",
       "      <td>i_smgc2</td>\n",
       "    </tr>\n",
       "    <tr>\n",
       "      <th>19</th>\n",
       "      <td>Neural: 9</td>\n",
       "      <td>nan</td>\n",
       "      <td>nan</td>\n",
       "      <td>nan</td>\n",
       "      <td>Neural: 23</td>\n",
       "    </tr>\n",
       "    <tr>\n",
       "      <th>20</th>\n",
       "      <td>Neural: 9</td>\n",
       "      <td>nan</td>\n",
       "      <td>Neural: 23</td>\n",
       "      <td>nan</td>\n",
       "      <td>Neural: 23</td>\n",
       "    </tr>\n",
       "    <tr>\n",
       "      <th>21</th>\n",
       "      <td>Neural: 32</td>\n",
       "      <td>Neural: 8</td>\n",
       "      <td>i_zmg2</td>\n",
       "      <td>i_gmgc</td>\n",
       "      <td>i_gmgc</td>\n",
       "    </tr>\n",
       "    <tr>\n",
       "      <th>22</th>\n",
       "      <td>Pharynx: 25</td>\n",
       "      <td>nan</td>\n",
       "      <td>nan</td>\n",
       "      <td>nan</td>\n",
       "      <td>Parapharyngeal: 12</td>\n",
       "    </tr>\n",
       "    <tr>\n",
       "      <th>23</th>\n",
       "      <td>Intestine: 6</td>\n",
       "      <td>Neural: 32</td>\n",
       "      <td>Cathepsin+ cells: 10</td>\n",
       "      <td>Neural: 32</td>\n",
       "      <td>Neural: 1</td>\n",
       "    </tr>\n",
       "    <tr>\n",
       "      <th>24</th>\n",
       "      <td>Neural: 1</td>\n",
       "      <td>ecEp_nem1(pd)</td>\n",
       "      <td>ecEp_SC2</td>\n",
       "      <td>ecEp_nem1(pd)</td>\n",
       "      <td>ecEp_head</td>\n",
       "    </tr>\n",
       "    <tr>\n",
       "      <th>25</th>\n",
       "      <td>Neural: 1</td>\n",
       "      <td>nan</td>\n",
       "      <td>Intestine: 30</td>\n",
       "      <td>nan</td>\n",
       "      <td>nan</td>\n",
       "    </tr>\n",
       "    <tr>\n",
       "      <th>26</th>\n",
       "      <td>Parapharyngeal: 12</td>\n",
       "      <td>nan</td>\n",
       "      <td>nan</td>\n",
       "      <td>Intestine: 30</td>\n",
       "      <td>nan</td>\n",
       "    </tr>\n",
       "    <tr>\n",
       "      <th>27</th>\n",
       "      <td>Epidermal: 3</td>\n",
       "      <td>nan</td>\n",
       "      <td>i_nc_gc_prog</td>\n",
       "      <td>nan</td>\n",
       "      <td>i_smgc2</td>\n",
       "    </tr>\n",
       "    <tr>\n",
       "      <th>28</th>\n",
       "      <td>Protonephridia: 26</td>\n",
       "      <td>nan</td>\n",
       "      <td>Neoblast: 0</td>\n",
       "      <td>Parapharyngeal: 12</td>\n",
       "      <td>Neoblast: 0</td>\n",
       "    </tr>\n",
       "    <tr>\n",
       "      <th>29</th>\n",
       "      <td>Neural: 1</td>\n",
       "      <td>Protonephridia: 29</td>\n",
       "      <td>Protonephridia: 29</td>\n",
       "      <td>Protonephridia: 29</td>\n",
       "      <td>Protonephridia: 29</td>\n",
       "    </tr>\n",
       "    <tr>\n",
       "      <th>30</th>\n",
       "      <td>Muscle: 7</td>\n",
       "      <td>enEp_SC3</td>\n",
       "      <td>enEp_SC3</td>\n",
       "      <td>enEp_SC3</td>\n",
       "      <td>enEp_SC3</td>\n",
       "    </tr>\n",
       "    <tr>\n",
       "      <th>31</th>\n",
       "      <td>Epidermal: 24</td>\n",
       "      <td>nan</td>\n",
       "      <td>Neoblast: 0</td>\n",
       "      <td>Neoblast: 0</td>\n",
       "      <td>Neoblast: 0</td>\n",
       "    </tr>\n",
       "    <tr>\n",
       "      <th>32</th>\n",
       "      <td>Protonephridia: 26</td>\n",
       "      <td>Neoblast: 0</td>\n",
       "      <td>nan</td>\n",
       "      <td>Parapharyngeal: 12</td>\n",
       "      <td>Epidermal: 3</td>\n",
       "    </tr>\n",
       "    <tr>\n",
       "      <th>33</th>\n",
       "      <td>Epidermal: 24</td>\n",
       "      <td>nan</td>\n",
       "      <td>i_nc_prog</td>\n",
       "      <td>i_nc_prog</td>\n",
       "      <td>i_nc_prog</td>\n",
       "    </tr>\n",
       "    <tr>\n",
       "      <th>34</th>\n",
       "      <td>Parapharyngeal: 12</td>\n",
       "      <td>nan</td>\n",
       "      <td>Parapharyngeal: 12</td>\n",
       "      <td>Muscle: 14</td>\n",
       "      <td>Muscle: 14</td>\n",
       "    </tr>\n",
       "    <tr>\n",
       "      <th>35</th>\n",
       "      <td>Neural: 1</td>\n",
       "      <td>enEp_SC2</td>\n",
       "      <td>nan</td>\n",
       "      <td>enEp_foot</td>\n",
       "      <td>enEp_head</td>\n",
       "    </tr>\n",
       "    <tr>\n",
       "      <th>36</th>\n",
       "      <td>Intestine: 19</td>\n",
       "      <td>i_nc6</td>\n",
       "      <td>i_nc6</td>\n",
       "      <td>i_nc6</td>\n",
       "      <td>i_nc2</td>\n",
       "    </tr>\n",
       "    <tr>\n",
       "      <th>37</th>\n",
       "      <td>Pharynx: 25</td>\n",
       "      <td>nan</td>\n",
       "      <td>nan</td>\n",
       "      <td>Parapharyngeal: 12</td>\n",
       "      <td>nan</td>\n",
       "    </tr>\n",
       "    <tr>\n",
       "      <th>38</th>\n",
       "      <td>Protonephridia: 26</td>\n",
       "      <td>Neoblast: 0</td>\n",
       "      <td>Neoblast: 0</td>\n",
       "      <td>Neoblast: 0</td>\n",
       "      <td>Neoblast: 0</td>\n",
       "    </tr>\n",
       "    <tr>\n",
       "      <th>39</th>\n",
       "      <td>Neural: 1</td>\n",
       "      <td>Neural: 20</td>\n",
       "      <td>Neural: 8</td>\n",
       "      <td>Neural: 8</td>\n",
       "      <td>Neural: 8</td>\n",
       "    </tr>\n",
       "    <tr>\n",
       "      <th>40</th>\n",
       "      <td>Neural: 8</td>\n",
       "      <td>Neural: 20</td>\n",
       "      <td>Intestine: 30</td>\n",
       "      <td>Protonephridia: 29</td>\n",
       "      <td>Neural: 8</td>\n",
       "    </tr>\n",
       "    <tr>\n",
       "      <th>41</th>\n",
       "      <td>Muscle: 7</td>\n",
       "      <td>nan</td>\n",
       "      <td>i_smgc2</td>\n",
       "      <td>i_nc_gc_prog</td>\n",
       "      <td>i_nc_gc_prog</td>\n",
       "    </tr>\n",
       "    <tr>\n",
       "      <th>42</th>\n",
       "      <td>Neural: 8</td>\n",
       "      <td>nan</td>\n",
       "      <td>nan</td>\n",
       "      <td>Intestine: 30</td>\n",
       "      <td>Intestine: 30</td>\n",
       "    </tr>\n",
       "    <tr>\n",
       "      <th>43</th>\n",
       "      <td>Muscle: 7</td>\n",
       "      <td>enEp_nem2(pd)</td>\n",
       "      <td>i_fmgl2_nurse</td>\n",
       "      <td>enEp_SC3</td>\n",
       "      <td>nan</td>\n",
       "    </tr>\n",
       "    <tr>\n",
       "      <th>44</th>\n",
       "      <td>Parapharyngeal: 12</td>\n",
       "      <td>nan</td>\n",
       "      <td>nan</td>\n",
       "      <td>ecEp_nem2(id)</td>\n",
       "      <td>ecEp_bat2(mp)</td>\n",
       "    </tr>\n",
       "    <tr>\n",
       "      <th>45</th>\n",
       "      <td>Parapharyngeal: 12</td>\n",
       "      <td>nan</td>\n",
       "      <td>Intestine: 30</td>\n",
       "      <td>nan</td>\n",
       "      <td>Neural: 18</td>\n",
       "    </tr>\n",
       "    <tr>\n",
       "      <th>46</th>\n",
       "      <td>Epidermal: 24</td>\n",
       "      <td>nan</td>\n",
       "      <td>i_nc_prog</td>\n",
       "      <td>i_nc3</td>\n",
       "      <td>i_nc_prog</td>\n",
       "    </tr>\n",
       "    <tr>\n",
       "      <th>47</th>\n",
       "      <td>Parapharyngeal: 12</td>\n",
       "      <td>nan</td>\n",
       "      <td>nan</td>\n",
       "      <td>Intestine: 30</td>\n",
       "      <td>Neural: 18</td>\n",
       "    </tr>\n",
       "    <tr>\n",
       "      <th>48</th>\n",
       "      <td>Neural: 1</td>\n",
       "      <td>i_zmg1</td>\n",
       "      <td>Parapharyngeal: 12</td>\n",
       "      <td>Muscle: 14</td>\n",
       "      <td>Muscle: 14</td>\n",
       "    </tr>\n",
       "    <tr>\n",
       "      <th>49</th>\n",
       "      <td>Epidermal: 3</td>\n",
       "      <td>Parapharyngeal: 12</td>\n",
       "      <td>Parapharyngeal: 12</td>\n",
       "      <td>Parapharyngeal: 12</td>\n",
       "      <td>Parapharyngeal: 12</td>\n",
       "    </tr>\n",
       "    <tr>\n",
       "      <th>50</th>\n",
       "      <td>Protonephridia: 26</td>\n",
       "      <td>Parapharyngeal: 12</td>\n",
       "      <td>Parapharyngeal: 12</td>\n",
       "      <td>Parapharyngeal: 12</td>\n",
       "      <td>Parapharyngeal: 12</td>\n",
       "    </tr>\n",
       "    <tr>\n",
       "      <th>51</th>\n",
       "      <td>Neural: 23</td>\n",
       "      <td>nan</td>\n",
       "      <td>nan</td>\n",
       "      <td>Neural: 23</td>\n",
       "      <td>nan</td>\n",
       "    </tr>\n",
       "    <tr>\n",
       "      <th>52</th>\n",
       "      <td>Epidermal: 2</td>\n",
       "      <td>nan</td>\n",
       "      <td>nan</td>\n",
       "      <td>nan</td>\n",
       "      <td>i_nc7</td>\n",
       "    </tr>\n",
       "    <tr>\n",
       "      <th>53</th>\n",
       "      <td>Parapharyngeal: 12</td>\n",
       "      <td>nan</td>\n",
       "      <td>enEp_SC3</td>\n",
       "      <td>nan</td>\n",
       "      <td>enEp_SC3</td>\n",
       "    </tr>\n",
       "    <tr>\n",
       "      <th>54</th>\n",
       "      <td>Muscle: 14</td>\n",
       "      <td>enEp_head</td>\n",
       "      <td>enEp_head</td>\n",
       "      <td>enEp_head</td>\n",
       "      <td>enEp_head</td>\n",
       "    </tr>\n",
       "    <tr>\n",
       "      <th>55</th>\n",
       "      <td>Neural: 18</td>\n",
       "      <td>Intestine: 30</td>\n",
       "      <td>Parapharyngeal: 12</td>\n",
       "      <td>Parapharyngeal: 12</td>\n",
       "      <td>Neural: 20</td>\n",
       "    </tr>\n",
       "    <tr>\n",
       "      <th>56</th>\n",
       "      <td>Muscle: 7</td>\n",
       "      <td>nan</td>\n",
       "      <td>enEp_head</td>\n",
       "      <td>enEp_foot</td>\n",
       "      <td>enEp_head</td>\n",
       "    </tr>\n",
       "    <tr>\n",
       "      <th>57</th>\n",
       "      <td>Epidermal: 3</td>\n",
       "      <td>Parapharyngeal: 12</td>\n",
       "      <td>Parapharyngeal: 12</td>\n",
       "      <td>Parapharyngeal: 12</td>\n",
       "      <td>Parapharyngeal: 12</td>\n",
       "    </tr>\n",
       "  </tbody>\n",
       "</table>\n",
       "</div>"
      ],
      "text/plain": [
       "                      0                   1                     2  \\\n",
       "0             Neural: 1                 nan                   nan   \n",
       "1           Pharynx: 25                 nan                   nan   \n",
       "2    Parapharyngeal: 12                 nan    Parapharyngeal: 12   \n",
       "3             Neural: 1                 nan    Parapharyngeal: 12   \n",
       "4    Protonephridia: 26         Neoblast: 0           Neoblast: 0   \n",
       "5             Neural: 9                 nan                   nan   \n",
       "6             Neural: 9                 nan                   nan   \n",
       "7           Neoblast: 5          Muscle: 14            Muscle: 14   \n",
       "8    Parapharyngeal: 12                 nan                   nan   \n",
       "9            Neural: 36                 nan                   nan   \n",
       "10  Cathepsin+ cells: 4               i_mgl          i_nc_gc_prog   \n",
       "11         Epidermal: 3                 nan             Muscle: 7   \n",
       "12  Cathepsin+ cells: 4          Muscle: 14            Muscle: 14   \n",
       "13          Pharynx: 25                 nan                   nan   \n",
       "14        Epidermal: 35         Neoblast: 0    Parapharyngeal: 12   \n",
       "15            Neural: 1        Epidermal: 2            Muscle: 14   \n",
       "16            Muscle: 7           i_nc_prog             i_nc_prog   \n",
       "17  Cathepsin+ cells: 4                 nan                 i_nb4   \n",
       "18            Muscle: 7                 nan          i_nc_gc_prog   \n",
       "19            Neural: 9                 nan                   nan   \n",
       "20            Neural: 9                 nan            Neural: 23   \n",
       "21           Neural: 32           Neural: 8                i_zmg2   \n",
       "22          Pharynx: 25                 nan                   nan   \n",
       "23         Intestine: 6          Neural: 32  Cathepsin+ cells: 10   \n",
       "24            Neural: 1       ecEp_nem1(pd)              ecEp_SC2   \n",
       "25            Neural: 1                 nan         Intestine: 30   \n",
       "26   Parapharyngeal: 12                 nan                   nan   \n",
       "27         Epidermal: 3                 nan          i_nc_gc_prog   \n",
       "28   Protonephridia: 26                 nan           Neoblast: 0   \n",
       "29            Neural: 1  Protonephridia: 29    Protonephridia: 29   \n",
       "30            Muscle: 7            enEp_SC3              enEp_SC3   \n",
       "31        Epidermal: 24                 nan           Neoblast: 0   \n",
       "32   Protonephridia: 26         Neoblast: 0                   nan   \n",
       "33        Epidermal: 24                 nan             i_nc_prog   \n",
       "34   Parapharyngeal: 12                 nan    Parapharyngeal: 12   \n",
       "35            Neural: 1            enEp_SC2                   nan   \n",
       "36        Intestine: 19               i_nc6                 i_nc6   \n",
       "37          Pharynx: 25                 nan                   nan   \n",
       "38   Protonephridia: 26         Neoblast: 0           Neoblast: 0   \n",
       "39            Neural: 1          Neural: 20             Neural: 8   \n",
       "40            Neural: 8          Neural: 20         Intestine: 30   \n",
       "41            Muscle: 7                 nan               i_smgc2   \n",
       "42            Neural: 8                 nan                   nan   \n",
       "43            Muscle: 7       enEp_nem2(pd)         i_fmgl2_nurse   \n",
       "44   Parapharyngeal: 12                 nan                   nan   \n",
       "45   Parapharyngeal: 12                 nan         Intestine: 30   \n",
       "46        Epidermal: 24                 nan             i_nc_prog   \n",
       "47   Parapharyngeal: 12                 nan                   nan   \n",
       "48            Neural: 1              i_zmg1    Parapharyngeal: 12   \n",
       "49         Epidermal: 3  Parapharyngeal: 12    Parapharyngeal: 12   \n",
       "50   Protonephridia: 26  Parapharyngeal: 12    Parapharyngeal: 12   \n",
       "51           Neural: 23                 nan                   nan   \n",
       "52         Epidermal: 2                 nan                   nan   \n",
       "53   Parapharyngeal: 12                 nan              enEp_SC3   \n",
       "54           Muscle: 14           enEp_head             enEp_head   \n",
       "55           Neural: 18       Intestine: 30    Parapharyngeal: 12   \n",
       "56            Muscle: 7                 nan             enEp_head   \n",
       "57         Epidermal: 3  Parapharyngeal: 12    Parapharyngeal: 12   \n",
       "\n",
       "                     3                   4  \n",
       "0                  nan          Neural: 23  \n",
       "1                  nan  Parapharyngeal: 12  \n",
       "2   Parapharyngeal: 12         Neoblast: 0  \n",
       "3              i_smgc1                 nan  \n",
       "4          Neoblast: 0                 nan  \n",
       "5                  nan          Neural: 20  \n",
       "6                  nan          Neural: 23  \n",
       "7           Muscle: 14          Muscle: 14  \n",
       "8   Parapharyngeal: 12          Muscle: 14  \n",
       "9            enEp_head                 nan  \n",
       "10                i_SC               i_nb1  \n",
       "11               i_nc1               i_nc1  \n",
       "12          Muscle: 14          Muscle: 14  \n",
       "13                 nan  Parapharyngeal: 12  \n",
       "14         Neoblast: 0         Neoblast: 0  \n",
       "15  Parapharyngeal: 12          Muscle: 14  \n",
       "16        i_nc_gc_prog        i_nc_gc_prog  \n",
       "17               i_nb4               i_nb4  \n",
       "18        i_nc_gc_prog             i_smgc2  \n",
       "19                 nan          Neural: 23  \n",
       "20                 nan          Neural: 23  \n",
       "21              i_gmgc              i_gmgc  \n",
       "22                 nan  Parapharyngeal: 12  \n",
       "23          Neural: 32           Neural: 1  \n",
       "24       ecEp_nem1(pd)           ecEp_head  \n",
       "25                 nan                 nan  \n",
       "26       Intestine: 30                 nan  \n",
       "27                 nan             i_smgc2  \n",
       "28  Parapharyngeal: 12         Neoblast: 0  \n",
       "29  Protonephridia: 29  Protonephridia: 29  \n",
       "30            enEp_SC3            enEp_SC3  \n",
       "31         Neoblast: 0         Neoblast: 0  \n",
       "32  Parapharyngeal: 12        Epidermal: 3  \n",
       "33           i_nc_prog           i_nc_prog  \n",
       "34          Muscle: 14          Muscle: 14  \n",
       "35           enEp_foot           enEp_head  \n",
       "36               i_nc6               i_nc2  \n",
       "37  Parapharyngeal: 12                 nan  \n",
       "38         Neoblast: 0         Neoblast: 0  \n",
       "39           Neural: 8           Neural: 8  \n",
       "40  Protonephridia: 29           Neural: 8  \n",
       "41        i_nc_gc_prog        i_nc_gc_prog  \n",
       "42       Intestine: 30       Intestine: 30  \n",
       "43            enEp_SC3                 nan  \n",
       "44       ecEp_nem2(id)       ecEp_bat2(mp)  \n",
       "45                 nan          Neural: 18  \n",
       "46               i_nc3           i_nc_prog  \n",
       "47       Intestine: 30          Neural: 18  \n",
       "48          Muscle: 14          Muscle: 14  \n",
       "49  Parapharyngeal: 12  Parapharyngeal: 12  \n",
       "50  Parapharyngeal: 12  Parapharyngeal: 12  \n",
       "51          Neural: 23                 nan  \n",
       "52                 nan               i_nc7  \n",
       "53                 nan            enEp_SC3  \n",
       "54           enEp_head           enEp_head  \n",
       "55  Parapharyngeal: 12          Neural: 20  \n",
       "56           enEp_foot           enEp_head  \n",
       "57  Parapharyngeal: 12  Parapharyngeal: 12  "
      ]
     },
     "execution_count": 43,
     "metadata": {},
     "output_type": "execute_result"
    }
   ],
   "source": [
    "pd.DataFrame(B1[(B1[:,1:]=='nan').sum(1) < 4])"
   ]
  },
  {
   "cell_type": "code",
   "execution_count": null,
   "id": "2c83302b-fa47-4c6b-9cd5-9e8f612adefc",
   "metadata": {},
   "outputs": [],
   "source": [
    "A1"
   ]
  },
  {
   "cell_type": "code",
   "execution_count": 34,
   "id": "f48acf68-ef4e-4132-9b34-f13502bb9b7e",
   "metadata": {},
   "outputs": [
    {
     "data": {
      "text/plain": [
       "array([['Intestine', 'nan', 'nan', 'nan', 'nan'],\n",
       "       ['Intestine', 'nan', 'nan', 'nan', 'nan'],\n",
       "       ['Neoblast', 'nan', 'nan', 'nan', 'nan'],\n",
       "       ...,\n",
       "       ['Epidermal', 'Neural', 'Neural', 'Parenchymal', 'Neural'],\n",
       "       ['Neural', 'nan', 'nan', 'nan', 'nan'],\n",
       "       ['Neural', 'nan', 'nan', 'nan', 'nan']], dtype='<U16')"
      ]
     },
     "execution_count": 34,
     "metadata": {},
     "output_type": "execute_result"
    }
   ],
   "source": [
    "B1"
   ]
  },
  {
   "cell_type": "code",
   "execution_count": 28,
   "id": "d9896a3b-d433-4e32-b590-ea45ad91624f",
   "metadata": {},
   "outputs": [
    {
     "data": {
      "text/plain": [
       "array([[   0,  293,  544,  531,  306],\n",
       "       [   1,  449,  760,  329,  104],\n",
       "       [   2,    5,  678,  840,  669],\n",
       "       ...,\n",
       "       [1046, 1509, 1841, 1347, 1924],\n",
       "       [1047,  234,  412,  984,  479],\n",
       "       [1048, 1001,  286,  966,  806]], dtype=int32)"
      ]
     },
     "execution_count": 28,
     "metadata": {},
     "output_type": "execute_result"
    }
   ],
   "source": [
    "i1"
   ]
  },
  {
   "cell_type": "code",
   "execution_count": 27,
   "id": "3703464e-dbf2-445f-8402-2d1fe45cac6f",
   "metadata": {},
   "outputs": [
    {
     "data": {
      "text/plain": [
       "array([['nan', 'nan', 'nan', 'nan', 'nan'],\n",
       "       ['nan', 'nan', 'nan', 'nan', 'nan'],\n",
       "       ['nan', 'nan', 'nan', 'nan', 'nan'],\n",
       "       ...,\n",
       "       ['nan', 'Epidermal', 'Epidermal', 'Epidermal', 'Epidermal'],\n",
       "       ['nan', 'nan', 'nan', 'nan', 'nan'],\n",
       "       ['nan', 'nan', 'nan', 'nan', 'nan']], dtype='<U16')"
      ]
     },
     "execution_count": 27,
     "metadata": {},
     "output_type": "execute_result"
    }
   ],
   "source": [
    "A1"
   ]
  },
  {
   "cell_type": "code",
   "execution_count": 37,
   "id": "aa13a08f-1fb7-43b1-a209-c1d9139828b2",
   "metadata": {},
   "outputs": [
    {
     "data": {
      "text/plain": [
       "array([['Intestine', 'Intestine', 'Intestine', 'Intestine', 'Intestine'],\n",
       "       ['Intestine', 'Intestine', 'Intestine', 'Intestine', 'Intestine'],\n",
       "       ['Neoblast', 'Neoblast', 'Neoblast', 'Neoblast', 'Neoblast'],\n",
       "       ['Epidermal', 'Epidermal', 'Epidermal', 'Epidermal', 'Epidermal'],\n",
       "       ['Neoblast', 'Neoblast', 'Neoblast', 'Neoblast', 'Neoblast'],\n",
       "       ['Epidermal', 'Epidermal', 'Epidermal', 'Epidermal', 'Epidermal'],\n",
       "       ['Cathepsin+ cells', 'Cathepsin+ cells', 'Cathepsin+ cells',\n",
       "        'Cathepsin+ cells', 'Cathepsin+ cells'],\n",
       "       ['Neural', 'Neural', 'Neural', 'Neural', 'Neural'],\n",
       "       ['Neural', 'Neural', 'Neural', 'Neural', 'Neural'],\n",
       "       ['Cathepsin+ cells', 'Cathepsin+ cells', 'Cathepsin+ cells',\n",
       "        'Cathepsin+ cells', 'Cathepsin+ cells'],\n",
       "       ['Muscle', 'Muscle', 'Muscle', 'Muscle', 'Muscle'],\n",
       "       ['Epidermal', 'Epidermal', 'Epidermal', 'Epidermal', 'Epidermal'],\n",
       "       ['Neoblast', 'Neoblast', 'Neoblast', 'Neoblast', 'Neoblast'],\n",
       "       ['Epidermal', 'Epidermal', 'Epidermal', 'Epidermal', 'Epidermal'],\n",
       "       ['Epidermal', 'Epidermal', 'Epidermal', 'Epidermal', 'Epidermal'],\n",
       "       ['Epidermal', 'Epidermal', 'Epidermal', 'Epidermal', 'Epidermal'],\n",
       "       ['Neural', 'Neural', 'Neural', 'Neural', 'Neural'],\n",
       "       ['Epidermal', 'Epidermal', 'Epidermal', 'Epidermal', 'Epidermal'],\n",
       "       ['Neural', 'Neural', 'Neural', 'Neural', 'Neural'],\n",
       "       ['Cathepsin+ cells', 'Cathepsin+ cells', 'Cathepsin+ cells',\n",
       "        'Cathepsin+ cells', 'Cathepsin+ cells']], dtype='<U16')"
      ]
     },
     "execution_count": 37,
     "metadata": {},
     "output_type": "execute_result"
    }
   ],
   "source": [
    "c1[:20]"
   ]
  },
  {
   "cell_type": "code",
   "execution_count": 38,
   "id": "6c693dcb-971c-4a5f-9cad-e9a3a5a7019f",
   "metadata": {},
   "outputs": [
    {
     "data": {
      "text/plain": [
       "array([['Parenchymal', 'Neoblast', 'Neoblast', 'Neural', 'Intestine'],\n",
       "       ['Parenchymal', 'Neoblast', 'Neural', 'Neoblast', 'Intestine'],\n",
       "       ['Neoblast', 'Parenchymal', 'Neoblast', 'Neoblast', 'Neural'],\n",
       "       ['Parenchymal', 'Neoblast', 'Neoblast', 'Neural', 'Intestine'],\n",
       "       ['Neoblast', 'Parenchymal', 'Neoblast', 'Neoblast', 'Neural'],\n",
       "       ['Parenchymal', 'Neoblast', 'Neural', 'Neoblast', 'Intestine'],\n",
       "       ['Neoblast', 'Parenchymal', 'Neoblast', 'Neoblast', 'Neural'],\n",
       "       ['Neural', 'Muscle', 'Parenchymal', 'Neoblast', 'Neural'],\n",
       "       ['Neoblast', 'Parenchymal', 'Neoblast', 'Neural', 'Neoblast'],\n",
       "       ['Parenchymal', 'Neoblast', 'Tegument_prog', 'Neural', 'Neoblast'],\n",
       "       ['Parenchymal', 'Neoblast', 'Neural', 'Neoblast', 'Intestine'],\n",
       "       ['Neoblast', 'Parenchymal', 'Neoblast', 'Neural', 'Neoblast'],\n",
       "       ['Neoblast', 'Parenchymal', 'Neoblast', 'Neoblast', 'Neoblast'],\n",
       "       ['Parenchymal', 'Neural', 'Neoblast', 'Neoblast', 'Intestine'],\n",
       "       ['Neoblast', 'Parenchymal', 'Neural', 'Neoblast', 'Neoblast'],\n",
       "       ['Parenchymal', 'Neoblast', 'Neural', 'Neoblast', 'Intestine'],\n",
       "       ['Parenchymal', 'Neoblast', 'Neoblast', 'Neural', 'Intestine'],\n",
       "       ['Parenchymal', 'Neural', 'Neoblast', 'Neoblast', 'Intestine'],\n",
       "       ['Parenchymal', 'Neoblast', 'Neural', 'Neoblast', 'Intestine'],\n",
       "       ['Parenchymal', 'Neoblast', 'Tegument_prog', 'Neoblast', 'Neural']],\n",
       "      dtype='<U13')"
      ]
     },
     "execution_count": 38,
     "metadata": {},
     "output_type": "execute_result"
    }
   ],
   "source": [
    "c2[:20]"
   ]
  },
  {
   "cell_type": "code",
   "execution_count": null,
   "id": "69236d82-529f-4162-b6cd-ce1c88e7f8af",
   "metadata": {},
   "outputs": [],
   "source": []
  }
 ],
 "metadata": {
  "kernelspec": {
   "display_name": "Python 3 (ipykernel)",
   "language": "python",
   "name": "python3"
  },
  "language_info": {
   "codemirror_mode": {
    "name": "ipython",
    "version": 3
   },
   "file_extension": ".py",
   "mimetype": "text/x-python",
   "name": "python",
   "nbconvert_exporter": "python",
   "pygments_lexer": "ipython3",
   "version": "3.11.5"
  }
 },
 "nbformat": 4,
 "nbformat_minor": 5
}
